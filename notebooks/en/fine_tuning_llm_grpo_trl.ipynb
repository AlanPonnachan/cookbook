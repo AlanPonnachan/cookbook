{
  "cells": [
    {
      "cell_type": "markdown",
      "metadata": {
        "id": "vKadZFQ2IdJb"
      },
      "source": [
        "# Post-training an LLM using GRPO with TRL\n",
        "\n",
        "_Authored by: [Sergio Paniego](https://github.com/sergiopaniego)_\n",
        "\n",
        "In this notebook, we'll walk you though how to post-training an LLM using Group Relative Policy Optimization (GRPO). GRPO is an RL post-training technique which was part of the training procedure of DeepSeek-R1. This technique seems to be in line of OpenAI-o1 model. In this case, instead of using search-heuristics procedures as in previous ideas, they relied on pure RL for this post-training part.\n",
        "\n",
        "This training technique is already available as part of the [TRL library](https://huggingface.co/docs/trl/main/en/grpo_trainer#quick-start) and while I write this words, the HF Science team is trying to reproduce the whole DeepSeek-R1 training process in [here](https://github.com/huggingface/open-r1) so go check it out to understand more about the process.\n",
        "\n",
        "In this case, we focus solely on post-training with GRPO.\n",
        "\n",
        "Below, you can find a diagram of how this training procedure works.\n",
        "\n",
        "\n",
        "\n",
        "\n"
      ]
    },
    {
      "cell_type": "markdown",
      "source": [
        "![Image](https://huggingface.co/datasets/trl-lib/documentation-images/resolve/main/grpo_visual.png)"
      ],
      "metadata": {
        "id": "RGLPwWtxsKQ-"
      }
    },
    {
      "cell_type": "markdown",
      "metadata": {
        "id": "gSHmDKNFoqjC"
      },
      "source": [
        "## 1. Install Dependencies\n",
        "\n",
        "Let’s start by installing the essential libraries we’ll need for fine-tuning! 🚀\n"
      ]
    },
    {
      "cell_type": "code",
      "execution_count": 1,
      "metadata": {
        "id": "GCMhPmFdIGSb",
        "colab": {
          "base_uri": "https://localhost:8080/"
        },
        "outputId": "f8bcfa78-695b-4068-e116-6aec16534611"
      },
      "outputs": [
        {
          "output_type": "stream",
          "name": "stdout",
          "text": [
            "\u001b[2K     \u001b[90m━━━━━━━━━━━━━━━━━━━━━━━━━━━━━━━━━━━━━━━━\u001b[0m \u001b[32m44.4/44.4 kB\u001b[0m \u001b[31m1.1 MB/s\u001b[0m eta \u001b[36m0:00:00\u001b[0m\n",
            "\u001b[2K   \u001b[90m━━━━━━━━━━━━━━━━━━━━━━━━━━━━━━━━━━━━━━━━\u001b[0m \u001b[32m9.7/9.7 MB\u001b[0m \u001b[31m66.3 MB/s\u001b[0m eta \u001b[36m0:00:00\u001b[0m\n",
            "\u001b[2K   \u001b[90m━━━━━━━━━━━━━━━━━━━━━━━━━━━━━━━━━━━━━━━━\u001b[0m \u001b[32m293.4/293.4 kB\u001b[0m \u001b[31m20.3 MB/s\u001b[0m eta \u001b[36m0:00:00\u001b[0m\n",
            "\u001b[2K   \u001b[90m━━━━━━━━━━━━━━━━━━━━━━━━━━━━━━━━━━━━━━━━\u001b[0m \u001b[32m480.6/480.6 kB\u001b[0m \u001b[31m29.1 MB/s\u001b[0m eta \u001b[36m0:00:00\u001b[0m\n",
            "\u001b[2K   \u001b[90m━━━━━━━━━━━━━━━━━━━━━━━━━━━━━━━━━━━━━━━━\u001b[0m \u001b[32m336.6/336.6 kB\u001b[0m \u001b[31m21.1 MB/s\u001b[0m eta \u001b[36m0:00:00\u001b[0m\n",
            "\u001b[2K   \u001b[90m━━━━━━━━━━━━━━━━━━━━━━━━━━━━━━━━━━━━━━━━\u001b[0m \u001b[32m116.3/116.3 kB\u001b[0m \u001b[31m9.7 MB/s\u001b[0m eta \u001b[36m0:00:00\u001b[0m\n",
            "\u001b[2K   \u001b[90m━━━━━━━━━━━━━━━━━━━━━━━━━━━━━━━━━━━━━━━━\u001b[0m \u001b[32m179.3/179.3 kB\u001b[0m \u001b[31m16.3 MB/s\u001b[0m eta \u001b[36m0:00:00\u001b[0m\n",
            "\u001b[2K   \u001b[90m━━━━━━━━━━━━━━━━━━━━━━━━━━━━━━━━━━━━━━━━\u001b[0m \u001b[32m143.5/143.5 kB\u001b[0m \u001b[31m11.0 MB/s\u001b[0m eta \u001b[36m0:00:00\u001b[0m\n",
            "\u001b[2K   \u001b[90m━━━━━━━━━━━━━━━━━━━━━━━━━━━━━━━━━━━━━━━━\u001b[0m \u001b[32m194.8/194.8 kB\u001b[0m \u001b[31m14.7 MB/s\u001b[0m eta \u001b[36m0:00:00\u001b[0m\n",
            "\u001b[?25h\u001b[31mERROR: pip's dependency resolver does not currently take into account all the packages that are installed. This behaviour is the source of the following dependency conflicts.\n",
            "gcsfs 2024.10.0 requires fsspec==2024.10.0, but you have fsspec 2024.9.0 which is incompatible.\u001b[0m\u001b[31m\n",
            "\u001b[0m"
          ]
        }
      ],
      "source": [
        "!pip install  -U -q transformers trl datasets peft accelerate\n",
        "# Tested with transformers==4.48.1, trl==0.14.0.dev0, datasets==3.2.0, peft==0.14.0, accelerate==1.3.0"
      ]
    },
    {
      "cell_type": "markdown",
      "source": [
        "We need the latest code from TRL, so we download from the main branch."
      ],
      "metadata": {
        "id": "LvUm1YdTmTrQ"
      }
    },
    {
      "cell_type": "code",
      "source": [
        "!pip install git+https://github.com/huggingface/trl.git@main"
      ],
      "metadata": {
        "id": "jnCQwtmhkE4M",
        "colab": {
          "base_uri": "https://localhost:8080/"
        },
        "outputId": "ecf52658-62bb-4f62-f67c-c48e764533d9"
      },
      "execution_count": 2,
      "outputs": [
        {
          "output_type": "stream",
          "name": "stdout",
          "text": [
            "Collecting git+https://github.com/huggingface/trl.git@main\n",
            "  Cloning https://github.com/huggingface/trl.git (to revision main) to /tmp/pip-req-build-t9vdy4y0\n",
            "  Running command git clone --filter=blob:none --quiet https://github.com/huggingface/trl.git /tmp/pip-req-build-t9vdy4y0\n",
            "  Resolved https://github.com/huggingface/trl.git to commit 4659ad916fe3e05fd81bf1297db7a6767d2c69bc\n",
            "  Installing build dependencies ... \u001b[?25l\u001b[?25hdone\n",
            "  Getting requirements to build wheel ... \u001b[?25l\u001b[?25hdone\n",
            "  Preparing metadata (pyproject.toml) ... \u001b[?25l\u001b[?25hdone\n",
            "Requirement already satisfied: accelerate>=0.34.0 in /usr/local/lib/python3.11/dist-packages (from trl==0.14.0.dev0) (1.3.0)\n",
            "Requirement already satisfied: datasets>=2.21.0 in /usr/local/lib/python3.11/dist-packages (from trl==0.14.0.dev0) (3.2.0)\n",
            "Requirement already satisfied: rich in /usr/local/lib/python3.11/dist-packages (from trl==0.14.0.dev0) (13.9.4)\n",
            "Requirement already satisfied: transformers>=4.46.0 in /usr/local/lib/python3.11/dist-packages (from trl==0.14.0.dev0) (4.48.1)\n",
            "Requirement already satisfied: numpy<3.0.0,>=1.17 in /usr/local/lib/python3.11/dist-packages (from accelerate>=0.34.0->trl==0.14.0.dev0) (1.26.4)\n",
            "Requirement already satisfied: packaging>=20.0 in /usr/local/lib/python3.11/dist-packages (from accelerate>=0.34.0->trl==0.14.0.dev0) (24.2)\n",
            "Requirement already satisfied: psutil in /usr/local/lib/python3.11/dist-packages (from accelerate>=0.34.0->trl==0.14.0.dev0) (5.9.5)\n",
            "Requirement already satisfied: pyyaml in /usr/local/lib/python3.11/dist-packages (from accelerate>=0.34.0->trl==0.14.0.dev0) (6.0.2)\n",
            "Requirement already satisfied: torch>=2.0.0 in /usr/local/lib/python3.11/dist-packages (from accelerate>=0.34.0->trl==0.14.0.dev0) (2.5.1+cu121)\n",
            "Requirement already satisfied: huggingface-hub>=0.21.0 in /usr/local/lib/python3.11/dist-packages (from accelerate>=0.34.0->trl==0.14.0.dev0) (0.27.1)\n",
            "Requirement already satisfied: safetensors>=0.4.3 in /usr/local/lib/python3.11/dist-packages (from accelerate>=0.34.0->trl==0.14.0.dev0) (0.5.2)\n",
            "Requirement already satisfied: filelock in /usr/local/lib/python3.11/dist-packages (from datasets>=2.21.0->trl==0.14.0.dev0) (3.17.0)\n",
            "Requirement already satisfied: pyarrow>=15.0.0 in /usr/local/lib/python3.11/dist-packages (from datasets>=2.21.0->trl==0.14.0.dev0) (17.0.0)\n",
            "Requirement already satisfied: dill<0.3.9,>=0.3.0 in /usr/local/lib/python3.11/dist-packages (from datasets>=2.21.0->trl==0.14.0.dev0) (0.3.8)\n",
            "Requirement already satisfied: pandas in /usr/local/lib/python3.11/dist-packages (from datasets>=2.21.0->trl==0.14.0.dev0) (2.2.2)\n",
            "Requirement already satisfied: requests>=2.32.2 in /usr/local/lib/python3.11/dist-packages (from datasets>=2.21.0->trl==0.14.0.dev0) (2.32.3)\n",
            "Requirement already satisfied: tqdm>=4.66.3 in /usr/local/lib/python3.11/dist-packages (from datasets>=2.21.0->trl==0.14.0.dev0) (4.67.1)\n",
            "Requirement already satisfied: xxhash in /usr/local/lib/python3.11/dist-packages (from datasets>=2.21.0->trl==0.14.0.dev0) (3.5.0)\n",
            "Requirement already satisfied: multiprocess<0.70.17 in /usr/local/lib/python3.11/dist-packages (from datasets>=2.21.0->trl==0.14.0.dev0) (0.70.16)\n",
            "Requirement already satisfied: fsspec<=2024.9.0,>=2023.1.0 in /usr/local/lib/python3.11/dist-packages (from fsspec[http]<=2024.9.0,>=2023.1.0->datasets>=2.21.0->trl==0.14.0.dev0) (2024.9.0)\n",
            "Requirement already satisfied: aiohttp in /usr/local/lib/python3.11/dist-packages (from datasets>=2.21.0->trl==0.14.0.dev0) (3.11.11)\n",
            "Requirement already satisfied: regex!=2019.12.17 in /usr/local/lib/python3.11/dist-packages (from transformers>=4.46.0->trl==0.14.0.dev0) (2024.11.6)\n",
            "Requirement already satisfied: tokenizers<0.22,>=0.21 in /usr/local/lib/python3.11/dist-packages (from transformers>=4.46.0->trl==0.14.0.dev0) (0.21.0)\n",
            "Requirement already satisfied: markdown-it-py>=2.2.0 in /usr/local/lib/python3.11/dist-packages (from rich->trl==0.14.0.dev0) (3.0.0)\n",
            "Requirement already satisfied: pygments<3.0.0,>=2.13.0 in /usr/local/lib/python3.11/dist-packages (from rich->trl==0.14.0.dev0) (2.18.0)\n",
            "Requirement already satisfied: aiohappyeyeballs>=2.3.0 in /usr/local/lib/python3.11/dist-packages (from aiohttp->datasets>=2.21.0->trl==0.14.0.dev0) (2.4.4)\n",
            "Requirement already satisfied: aiosignal>=1.1.2 in /usr/local/lib/python3.11/dist-packages (from aiohttp->datasets>=2.21.0->trl==0.14.0.dev0) (1.3.2)\n",
            "Requirement already satisfied: attrs>=17.3.0 in /usr/local/lib/python3.11/dist-packages (from aiohttp->datasets>=2.21.0->trl==0.14.0.dev0) (24.3.0)\n",
            "Requirement already satisfied: frozenlist>=1.1.1 in /usr/local/lib/python3.11/dist-packages (from aiohttp->datasets>=2.21.0->trl==0.14.0.dev0) (1.5.0)\n",
            "Requirement already satisfied: multidict<7.0,>=4.5 in /usr/local/lib/python3.11/dist-packages (from aiohttp->datasets>=2.21.0->trl==0.14.0.dev0) (6.1.0)\n",
            "Requirement already satisfied: propcache>=0.2.0 in /usr/local/lib/python3.11/dist-packages (from aiohttp->datasets>=2.21.0->trl==0.14.0.dev0) (0.2.1)\n",
            "Requirement already satisfied: yarl<2.0,>=1.17.0 in /usr/local/lib/python3.11/dist-packages (from aiohttp->datasets>=2.21.0->trl==0.14.0.dev0) (1.18.3)\n",
            "Requirement already satisfied: typing-extensions>=3.7.4.3 in /usr/local/lib/python3.11/dist-packages (from huggingface-hub>=0.21.0->accelerate>=0.34.0->trl==0.14.0.dev0) (4.12.2)\n",
            "Requirement already satisfied: mdurl~=0.1 in /usr/local/lib/python3.11/dist-packages (from markdown-it-py>=2.2.0->rich->trl==0.14.0.dev0) (0.1.2)\n",
            "Requirement already satisfied: charset-normalizer<4,>=2 in /usr/local/lib/python3.11/dist-packages (from requests>=2.32.2->datasets>=2.21.0->trl==0.14.0.dev0) (3.4.1)\n",
            "Requirement already satisfied: idna<4,>=2.5 in /usr/local/lib/python3.11/dist-packages (from requests>=2.32.2->datasets>=2.21.0->trl==0.14.0.dev0) (3.10)\n",
            "Requirement already satisfied: urllib3<3,>=1.21.1 in /usr/local/lib/python3.11/dist-packages (from requests>=2.32.2->datasets>=2.21.0->trl==0.14.0.dev0) (2.3.0)\n",
            "Requirement already satisfied: certifi>=2017.4.17 in /usr/local/lib/python3.11/dist-packages (from requests>=2.32.2->datasets>=2.21.0->trl==0.14.0.dev0) (2024.12.14)\n",
            "Requirement already satisfied: networkx in /usr/local/lib/python3.11/dist-packages (from torch>=2.0.0->accelerate>=0.34.0->trl==0.14.0.dev0) (3.4.2)\n",
            "Requirement already satisfied: jinja2 in /usr/local/lib/python3.11/dist-packages (from torch>=2.0.0->accelerate>=0.34.0->trl==0.14.0.dev0) (3.1.5)\n",
            "Requirement already satisfied: nvidia-cuda-nvrtc-cu12==12.1.105 in /usr/local/lib/python3.11/dist-packages (from torch>=2.0.0->accelerate>=0.34.0->trl==0.14.0.dev0) (12.1.105)\n",
            "Requirement already satisfied: nvidia-cuda-runtime-cu12==12.1.105 in /usr/local/lib/python3.11/dist-packages (from torch>=2.0.0->accelerate>=0.34.0->trl==0.14.0.dev0) (12.1.105)\n",
            "Requirement already satisfied: nvidia-cuda-cupti-cu12==12.1.105 in /usr/local/lib/python3.11/dist-packages (from torch>=2.0.0->accelerate>=0.34.0->trl==0.14.0.dev0) (12.1.105)\n",
            "Requirement already satisfied: nvidia-cudnn-cu12==9.1.0.70 in /usr/local/lib/python3.11/dist-packages (from torch>=2.0.0->accelerate>=0.34.0->trl==0.14.0.dev0) (9.1.0.70)\n",
            "Requirement already satisfied: nvidia-cublas-cu12==12.1.3.1 in /usr/local/lib/python3.11/dist-packages (from torch>=2.0.0->accelerate>=0.34.0->trl==0.14.0.dev0) (12.1.3.1)\n",
            "Requirement already satisfied: nvidia-cufft-cu12==11.0.2.54 in /usr/local/lib/python3.11/dist-packages (from torch>=2.0.0->accelerate>=0.34.0->trl==0.14.0.dev0) (11.0.2.54)\n",
            "Requirement already satisfied: nvidia-curand-cu12==10.3.2.106 in /usr/local/lib/python3.11/dist-packages (from torch>=2.0.0->accelerate>=0.34.0->trl==0.14.0.dev0) (10.3.2.106)\n",
            "Requirement already satisfied: nvidia-cusolver-cu12==11.4.5.107 in /usr/local/lib/python3.11/dist-packages (from torch>=2.0.0->accelerate>=0.34.0->trl==0.14.0.dev0) (11.4.5.107)\n",
            "Requirement already satisfied: nvidia-cusparse-cu12==12.1.0.106 in /usr/local/lib/python3.11/dist-packages (from torch>=2.0.0->accelerate>=0.34.0->trl==0.14.0.dev0) (12.1.0.106)\n",
            "Requirement already satisfied: nvidia-nccl-cu12==2.21.5 in /usr/local/lib/python3.11/dist-packages (from torch>=2.0.0->accelerate>=0.34.0->trl==0.14.0.dev0) (2.21.5)\n",
            "Requirement already satisfied: nvidia-nvtx-cu12==12.1.105 in /usr/local/lib/python3.11/dist-packages (from torch>=2.0.0->accelerate>=0.34.0->trl==0.14.0.dev0) (12.1.105)\n",
            "Requirement already satisfied: triton==3.1.0 in /usr/local/lib/python3.11/dist-packages (from torch>=2.0.0->accelerate>=0.34.0->trl==0.14.0.dev0) (3.1.0)\n",
            "Requirement already satisfied: sympy==1.13.1 in /usr/local/lib/python3.11/dist-packages (from torch>=2.0.0->accelerate>=0.34.0->trl==0.14.0.dev0) (1.13.1)\n",
            "Requirement already satisfied: nvidia-nvjitlink-cu12 in /usr/local/lib/python3.11/dist-packages (from nvidia-cusolver-cu12==11.4.5.107->torch>=2.0.0->accelerate>=0.34.0->trl==0.14.0.dev0) (12.6.85)\n",
            "Requirement already satisfied: mpmath<1.4,>=1.1.0 in /usr/local/lib/python3.11/dist-packages (from sympy==1.13.1->torch>=2.0.0->accelerate>=0.34.0->trl==0.14.0.dev0) (1.3.0)\n",
            "Requirement already satisfied: python-dateutil>=2.8.2 in /usr/local/lib/python3.11/dist-packages (from pandas->datasets>=2.21.0->trl==0.14.0.dev0) (2.8.2)\n",
            "Requirement already satisfied: pytz>=2020.1 in /usr/local/lib/python3.11/dist-packages (from pandas->datasets>=2.21.0->trl==0.14.0.dev0) (2024.2)\n",
            "Requirement already satisfied: tzdata>=2022.7 in /usr/local/lib/python3.11/dist-packages (from pandas->datasets>=2.21.0->trl==0.14.0.dev0) (2025.1)\n",
            "Requirement already satisfied: six>=1.5 in /usr/local/lib/python3.11/dist-packages (from python-dateutil>=2.8.2->pandas->datasets>=2.21.0->trl==0.14.0.dev0) (1.17.0)\n",
            "Requirement already satisfied: MarkupSafe>=2.0 in /usr/local/lib/python3.11/dist-packages (from jinja2->torch>=2.0.0->accelerate>=0.34.0->trl==0.14.0.dev0) (3.0.2)\n",
            "Building wheels for collected packages: trl\n",
            "  Building wheel for trl (pyproject.toml) ... \u001b[?25l\u001b[?25hdone\n",
            "  Created wheel for trl: filename=trl-0.14.0.dev0-py3-none-any.whl size=310635 sha256=961b01cb374bf50befab9999f2a4e780c2367ded9cd6e2e39ad839139d790cbe\n",
            "  Stored in directory: /tmp/pip-ephem-wheel-cache-gfnwpz2j/wheels/86/55/e9/4fb51fd8f4973abd44ac9118a3cf4610b1271263c00f8f85c9\n",
            "Successfully built trl\n",
            "Installing collected packages: trl\n",
            "  Attempting uninstall: trl\n",
            "    Found existing installation: trl 0.13.0\n",
            "    Uninstalling trl-0.13.0:\n",
            "      Successfully uninstalled trl-0.13.0\n",
            "Successfully installed trl-0.14.0.dev0\n"
          ]
        }
      ]
    },
    {
      "cell_type": "code",
      "execution_count": 4,
      "metadata": {
        "id": "x6fAqSnKDtKg",
        "colab": {
          "base_uri": "https://localhost:8080/"
        },
        "outputId": "76286803-b635-4ef2-efae-539ef8389a53"
      },
      "outputs": [
        {
          "output_type": "stream",
          "name": "stdout",
          "text": [
            "\u001b[?25l     \u001b[90m━━━━━━━━━━━━━━━━━━━━━━━━━━━━━━━━━━━━━━━━\u001b[0m \u001b[32m0.0/3.2 MB\u001b[0m \u001b[31m?\u001b[0m eta \u001b[36m-:--:--\u001b[0m\r\u001b[2K     \u001b[91m━━\u001b[0m\u001b[91m╸\u001b[0m\u001b[90m━━━━━━━━━━━━━━━━━━━━━━━━━━━━━━━━━━━━━\u001b[0m \u001b[32m0.2/3.2 MB\u001b[0m \u001b[31m6.9 MB/s\u001b[0m eta \u001b[36m0:00:01\u001b[0m\r\u001b[2K     \u001b[91m━━━━━━━━━━━━━━━━━━━━━━━━━━━━\u001b[0m\u001b[91m╸\u001b[0m\u001b[90m━━━━━━━━━━━\u001b[0m \u001b[32m2.3/3.2 MB\u001b[0m \u001b[31m34.3 MB/s\u001b[0m eta \u001b[36m0:00:01\u001b[0m\r\u001b[2K     \u001b[90m━━━━━━━━━━━━━━━━━━━━━━━━━━━━━━━━━━━━━━━━\u001b[0m \u001b[32m3.2/3.2 MB\u001b[0m \u001b[31m33.4 MB/s\u001b[0m eta \u001b[36m0:00:00\u001b[0m\n",
            "\u001b[?25h  Preparing metadata (setup.py) ... \u001b[?25l\u001b[?25hdone\n",
            "  Building wheel for flash-attn (setup.py) ... \u001b[?25l\u001b[?25hdone\n"
          ]
        }
      ],
      "source": [
        "!pip install -q flash-attn --no-build-isolation"
      ]
    },
    {
      "cell_type": "markdown",
      "metadata": {
        "id": "V0-2Lso6wkIh"
      },
      "source": [
        "Authenticate with your Hugging Face account to save and share your model directly from this notebook 🗝️."
      ]
    },
    {
      "cell_type": "code",
      "execution_count": 5,
      "metadata": {
        "id": "xcL4-bwGIoaR",
        "colab": {
          "base_uri": "https://localhost:8080/",
          "height": 17,
          "referenced_widgets": [
            "5ee58ecdafe4436387910282e0fb0206",
            "4cb32a08f40b4f2a81aabc951ccd702e",
            "1bd6e8c2bcc34d87a1078768e4c90341",
            "5d6e6af09b5b417289a280d28e887179",
            "580134670c744ac68b2ab27ea6ed1166",
            "5bb19febcfc041078bf8586e28a9ffdd",
            "1deb7e28b257409f8c796ea39d6303e3",
            "92f9a824927343f3918bfb5bc3db5012",
            "188348209c564fdb91d710ab5422cf0c",
            "68e68c95e0e744d199890ea61a878a69",
            "8bf6761385cd43088f3337f93218cf6d",
            "0223ba3e5235405a81f28b70e22d0e59",
            "744dd10249b941a8ac9e0a04adcc0c15",
            "87d0406439424f2f841b7dd982b4f597",
            "f305d87e269a4f4faf86a4eb93949e0b",
            "d5792f71ea984ddba7605de0a28f8f26",
            "25dfeb2166fc4fbcb6c9e6145fed8223",
            "5a9298a96fce40b29f6f5ca8e63053fa",
            "b9702b7f6d5145bcb6039e3f63acf6b7",
            "0efd4ea5eccc47489471b55615607416"
          ]
        },
        "outputId": "2e64a88a-d69b-4c7f-d82e-44ed9cca0b19"
      },
      "outputs": [
        {
          "output_type": "display_data",
          "data": {
            "text/plain": [
              "VBox(children=(HTML(value='<center> <img\\nsrc=https://huggingface.co/front/assets/huggingface_logo-noborder.sv…"
            ],
            "application/vnd.jupyter.widget-view+json": {
              "version_major": 2,
              "version_minor": 0,
              "model_id": "5ee58ecdafe4436387910282e0fb0206"
            }
          },
          "metadata": {}
        }
      ],
      "source": [
        "from huggingface_hub import notebook_login\n",
        "\n",
        "notebook_login()"
      ]
    },
    {
      "cell_type": "markdown",
      "metadata": {
        "id": "g9QXwbJ7ovM5"
      },
      "source": [
        "## 2. Load Dataset 📁\n",
        "\n",
        "These models are specially good in tasks that involve some reasoning to be completed. A good example would be mathematical problems, so we'll use one such dataset for this project.\n",
        "\n",
        "The dataset is [AI-MO/NuminaMath-TIR](https://huggingface.co/datasets/AI-MO/NuminaMath-TIR), a reasoning dataset consisting of math problemas with their solution and reasoning steps to go from the problem statement to the final solution."
      ]
    },
    {
      "cell_type": "code",
      "execution_count": 1,
      "metadata": {
        "id": "QFe_A78aIwK8",
        "colab": {
          "base_uri": "https://localhost:8080/"
        },
        "outputId": "e513143c-6aa0-4def-c591-a15dc53d059d"
      },
      "outputs": [
        {
          "output_type": "stream",
          "name": "stderr",
          "text": [
            "/usr/local/lib/python3.11/dist-packages/huggingface_hub/utils/_auth.py:94: UserWarning: \n",
            "The secret `HF_TOKEN` does not exist in your Colab secrets.\n",
            "To authenticate with the Hugging Face Hub, create a token in your settings tab (https://huggingface.co/settings/tokens), set it as secret in your Google Colab and restart your session.\n",
            "You will be able to reuse this secret in all of your notebooks.\n",
            "Please note that authentication is recommended but still optional to access public models or datasets.\n",
            "  warnings.warn(\n"
          ]
        }
      ],
      "source": [
        "from datasets import load_dataset\n",
        "\n",
        "dataset_id = 'AI-MO/NuminaMath-TIR'\n",
        "train_dataset = load_dataset(dataset_id, split='train[:10%]')\n",
        "#train_dataset, test_dataset = load_dataset(dataset_id, split=['train[:10%]', 'test[:10%]'])"
      ]
    },
    {
      "cell_type": "code",
      "execution_count": 2,
      "metadata": {
        "colab": {
          "base_uri": "https://localhost:8080/"
        },
        "id": "o2UKZj15jGwv",
        "outputId": "cbec5d0c-8ce8-48a9-ec7b-c3ee7f88ba2a"
      },
      "outputs": [
        {
          "output_type": "execute_result",
          "data": {
            "text/plain": [
              "Dataset({\n",
              "    features: ['problem', 'solution', 'messages'],\n",
              "    num_rows: 7244\n",
              "})"
            ]
          },
          "metadata": {},
          "execution_count": 2
        }
      ],
      "source": [
        "train_dataset"
      ]
    },
    {
      "cell_type": "code",
      "source": [
        "train_dataset[0]"
      ],
      "metadata": {
        "id": "5BglCVLLzY0S"
      },
      "execution_count": null,
      "outputs": []
    },
    {
      "cell_type": "markdown",
      "source": [
        "In the case of the DeepSeek-R1 training procedure, they specically used the following system prompt in order to generate a conversational pipeline during the training procedure that includes thinking steps. We'll modify the dataset we'll use in order to make it conversational and to ask the LLM to generate the thinking process.\n",
        "\n",
        "```\n",
        "A conversation between User and Assistant. The user asks a question, and the Assistant solves it.\n",
        "The assistant first thinks about the reasoning process in the mind and then provides the user\n",
        "with the answer. The reasoning process and answer are enclosed within <think> </think> and\n",
        "<answer> </answer> tags, respectively, i.e., <think> reasoning process here </think>\n",
        "<answer> answer here </answer>. User: prompt. Assistant:\n",
        "```"
      ],
      "metadata": {
        "id": "6isapXWue91d"
      }
    },
    {
      "cell_type": "code",
      "source": [
        "SYSTEM_PROMPT = (\n",
        "    \"A conversation between User and Assistant. The user asks a question, and the Assistant solves it. The assistant \"\n",
        "    \"first thinks about the reasoning process in the mind and then provides the user with the answer. The reasoning \"\n",
        "    \"process and answer are enclosed within <think> </think> and <answer> </answer> tags, respectively, i.e., \"\n",
        "    \"<think> reasoning process here </think><answer> answer here </answer>\"\n",
        ")\n",
        "\n",
        "def make_conversation(example):\n",
        "    return {\n",
        "        \"prompt\": [\n",
        "            {\"role\": \"system\", \"content\": SYSTEM_PROMPT},\n",
        "            {\"role\": \"user\", \"content\": example[\"problem\"]},\n",
        "        ],\n",
        "    }\n",
        "\n",
        "train_dataset = train_dataset.map(make_conversation)"
      ],
      "metadata": {
        "id": "iXsh50jY_hQM"
      },
      "execution_count": 3,
      "outputs": []
    },
    {
      "cell_type": "markdown",
      "source": [
        "Let's see how and example looks like:"
      ],
      "metadata": {
        "id": "T7gpvXeF0AUh"
      }
    },
    {
      "cell_type": "code",
      "source": [
        "train_dataset[0]"
      ],
      "metadata": {
        "colab": {
          "base_uri": "https://localhost:8080/"
        },
        "id": "89zUUxTOnNHT",
        "outputId": "ea3162b0-cfd6-4857-f35a-20403403fe1c"
      },
      "execution_count": 4,
      "outputs": [
        {
          "output_type": "execute_result",
          "data": {
            "text/plain": [
              "{'problem': 'What is the coefficient of $x^2y^6$ in the expansion of $\\\\left(\\\\frac{3}{5}x-\\\\frac{y}{2}\\\\right)^8$?  Express your answer as a common fraction.',\n",
              " 'solution': \"To determine the coefficient of \\\\(x^2y^6\\\\) in the expansion of \\\\(\\\\left(\\\\frac{3}{5}x - \\\\frac{y}{2}\\\\right)^8\\\\), we can use the binomial theorem.\\n\\nThe binomial theorem states:\\n\\\\[\\n(a + b)^n = \\\\sum_{k=0}^{n} \\\\binom{n}{k} a^{n-k} b^k\\n\\\\]\\n\\nIn this case, \\\\(a = \\\\frac{3}{5}x\\\\), \\\\(b = -\\\\frac{y}{2}\\\\), and \\\\(n = 8\\\\).\\n\\nWe are interested in the term that contains \\\\(x^2y^6\\\\). In the general term of the binomial expansion:\\n\\\\[\\n\\\\binom{8}{k} \\\\left(\\\\frac{3}{5}x\\\\right)^{8-k} \\\\left(-\\\\frac{y}{2}\\\\right)^k\\n\\\\]\\n\\nTo get \\\\(x^2\\\\), we need \\\\(8 - k = 2\\\\), thus \\\\(k = 6\\\\).\\n\\nSubstituting \\\\(k = 6\\\\) into the expression:\\n\\\\[\\n\\\\binom{8}{6} \\\\left(\\\\frac{3}{5}x\\\\right)^{8-6} \\\\left(-\\\\frac{y}{2}\\\\right)^6 = \\\\binom{8}{6} \\\\left(\\\\frac{3}{5}x\\\\right)^2 \\\\left(-\\\\frac{y}{2}\\\\right)^6\\n\\\\]\\n\\nNow, we will compute each part of this expression.\\n\\n1. Calculate the binomial coefficient \\\\(\\\\binom{8}{6}\\\\).\\n2. Compute \\\\(\\\\left(\\\\frac{3}{5}\\\\right)^2\\\\).\\n3. Compute \\\\(\\\\left(-\\\\frac{y}{2}\\\\right)^6\\\\).\\n4. Combine everything together to get the coefficient of \\\\(x^2y^6\\\\).\\n\\nLet's compute these in Python.\\n```python\\nfrom math import comb\\n\\n# Given values\\nn = 8\\nk = 6\\n\\n# Calculate the binomial coefficient\\nbinom_coeff = comb(n, k)\\n\\n# Compute (3/5)^2\\na_term = (3/5)**2\\n\\n# Compute (-1/2)^6\\nb_term = (-1/2)**6\\n\\n# Combine terms to get the coefficient of x^2y^6\\ncoefficient = binom_coeff * a_term * b_term\\nprint(coefficient)\\n```\\n```output\\n0.1575\\n```\\nThe coefficient of \\\\(x^2y^6\\\\) in the expansion of \\\\(\\\\left(\\\\frac{3}{5}x - \\\\frac{y}{2}\\\\right)^8\\\\) is \\\\(0.1575\\\\). To express this as a common fraction, we recognize that:\\n\\n\\\\[ 0.1575 = \\\\frac{1575}{10000} = \\\\frac{63}{400} \\\\]\\n\\nThus, the coefficient can be expressed as:\\n\\n\\\\[\\n\\\\boxed{\\\\frac{63}{400}}\\n\\\\]\",\n",
              " 'messages': [{'content': 'What is the coefficient of $x^2y^6$ in the expansion of $\\\\left(\\\\frac{3}{5}x-\\\\frac{y}{2}\\\\right)^8$?  Express your answer as a common fraction.',\n",
              "   'role': 'user'},\n",
              "  {'content': \"To determine the coefficient of \\\\(x^2y^6\\\\) in the expansion of \\\\(\\\\left(\\\\frac{3}{5}x - \\\\frac{y}{2}\\\\right)^8\\\\), we can use the binomial theorem.\\n\\nThe binomial theorem states:\\n\\\\[\\n(a + b)^n = \\\\sum_{k=0}^{n} \\\\binom{n}{k} a^{n-k} b^k\\n\\\\]\\n\\nIn this case, \\\\(a = \\\\frac{3}{5}x\\\\), \\\\(b = -\\\\frac{y}{2}\\\\), and \\\\(n = 8\\\\).\\n\\nWe are interested in the term that contains \\\\(x^2y^6\\\\). In the general term of the binomial expansion:\\n\\\\[\\n\\\\binom{8}{k} \\\\left(\\\\frac{3}{5}x\\\\right)^{8-k} \\\\left(-\\\\frac{y}{2}\\\\right)^k\\n\\\\]\\n\\nTo get \\\\(x^2\\\\), we need \\\\(8 - k = 2\\\\), thus \\\\(k = 6\\\\).\\n\\nSubstituting \\\\(k = 6\\\\) into the expression:\\n\\\\[\\n\\\\binom{8}{6} \\\\left(\\\\frac{3}{5}x\\\\right)^{8-6} \\\\left(-\\\\frac{y}{2}\\\\right)^6 = \\\\binom{8}{6} \\\\left(\\\\frac{3}{5}x\\\\right)^2 \\\\left(-\\\\frac{y}{2}\\\\right)^6\\n\\\\]\\n\\nNow, we will compute each part of this expression.\\n\\n1. Calculate the binomial coefficient \\\\(\\\\binom{8}{6}\\\\).\\n2. Compute \\\\(\\\\left(\\\\frac{3}{5}\\\\right)^2\\\\).\\n3. Compute \\\\(\\\\left(-\\\\frac{y}{2}\\\\right)^6\\\\).\\n4. Combine everything together to get the coefficient of \\\\(x^2y^6\\\\).\\n\\nLet's compute these in Python.\\n```python\\nfrom math import comb\\n\\n# Given values\\nn = 8\\nk = 6\\n\\n# Calculate the binomial coefficient\\nbinom_coeff = comb(n, k)\\n\\n# Compute (3/5)^2\\na_term = (3/5)**2\\n\\n# Compute (-1/2)^6\\nb_term = (-1/2)**6\\n\\n# Combine terms to get the coefficient of x^2y^6\\ncoefficient = binom_coeff * a_term * b_term\\nprint(coefficient)\\n```\\n```output\\n0.1575\\n```\\nThe coefficient of \\\\(x^2y^6\\\\) in the expansion of \\\\(\\\\left(\\\\frac{3}{5}x - \\\\frac{y}{2}\\\\right)^8\\\\) is \\\\(0.1575\\\\). To express this as a common fraction, we recognize that:\\n\\n\\\\[ 0.1575 = \\\\frac{1575}{10000} = \\\\frac{63}{400} \\\\]\\n\\nThus, the coefficient can be expressed as:\\n\\n\\\\[\\n\\\\boxed{\\\\frac{63}{400}}\\n\\\\]\",\n",
              "   'role': 'assistant'}],\n",
              " 'prompt': [{'content': 'A conversation between User and Assistant. The user asks a question, and the Assistant solves it. The assistant first thinks about the reasoning process in the mind and then provides the user with the answer. The reasoning process and answer are enclosed within <think> </think> and <answer> </answer> tags, respectively, i.e., <think> reasoning process here </think><answer> answer here </answer>',\n",
              "   'role': 'system'},\n",
              "  {'content': 'What is the coefficient of $x^2y^6$ in the expansion of $\\\\left(\\\\frac{3}{5}x-\\\\frac{y}{2}\\\\right)^8$?  Express your answer as a common fraction.',\n",
              "   'role': 'user'}]}"
            ]
          },
          "metadata": {},
          "execution_count": 4
        }
      ]
    },
    {
      "cell_type": "markdown",
      "metadata": {
        "id": "YIZOIVEzQqNg"
      },
      "source": [
        "## 3. Post-Training Base Model Using GRPO\n",
        "\n",
        "In the diagram below, we may see the main differences between the PPO and the GRPO."
      ]
    },
    {
      "cell_type": "markdown",
      "source": [
        "![ppo_grpo.jpeg](data:image/jpeg;base64,/9j/4AAQSkZJRgABAQAAAQABAAD/2wBDAAUDBAQEAwUEBAQFBQUGBwwIBwcHBw8LCwkMEQ8SEhEPERETFhwXExQaFRERGCEYGh0dHx8fExciJCIeJBweHx7/2wBDAQUFBQcGBw4ICA4eFBEUHh4eHh4eHh4eHh4eHh4eHh4eHh4eHh4eHh4eHh4eHh4eHh4eHh4eHh4eHh4eHh4eHh7/wgARCAQcCQIDASIAAhEBAxEB/8QAHAABAAIDAQEBAAAAAAAAAAAAAAYHAwQFAgEI/8QAGQEBAQEBAQEAAAAAAAAAAAAAAAECAwQF/9oADAMBAAIQAxAAAAG5QAAAAAAAAAAAAAAAAAAAAAAAAAAAAAAAAAAAAAAAAAAAAAAAAAAAAAAAAAAAAAAAAAAAAAAAAAAAAAAAAAAAAAAAAAAAAAAAAAAAAAAAAAAAAAAAAAAAAAAAAAAAAAAAAAAAAAAAAAAAAAAAAAAAAAAAAAAAAAAAAAAAAAAAAAAAAAAAAAAAAAAAAAAAAAAAAAAAAAAAAAAAAAAAAAAAAAAAAAAAAAAAAAAAAAAAAAAAAAAAAAAAAAAAAAAAAAAAAAAAAAAAAAAAAAAAAAAAAAAAAAAAAAAAAAAAAAAAAAAAAAAAAAAAAAAAAAAAAAAAAAAAAAAAAAAAAAAAAAAAAAAAAAAAAAAAAAAAAAAAAAAAAAAAAAAAAAAAAAAAAAAAAAAAAAAAAAAAAAAAAAAAAAAAAAAAAAAAAAAAAAAAAAAAAAAAAAAAAAAAAAAAAAAAAAAAAAAAAAAAAAAAAAAAAAAAAAAAAAAAAAAAAAAAAAAAAAAAAAAAAAAAAAAAAAAAAAAAAAAAAAAAAAAAAAAAAAAAAAAAAAAAAAAAAAAAAAAAAAAAAAAAAAAAAAAAAAAAAAAAAAAAAAAAAAAAAAAAAAAAAAAAAAAAAAAAAAAAAAAAAAAAAAAAAAAAAAAAAAAAAAAAAAAAAAAAAAAAAAAAAAAAAAAAAAAAAAAAAAAAAAAAAAAAAAAAAAAAAAAAAAAAAAAAAAAAAAAAAAAAAAAAAAAAAAAAAAAAAAAAAAAAAAAAAAAAAAAAAAAAAAAAAAAAAAAAAAAAAAAAAAAAAAAAAAAAAAAAAAAAAAAAAAAAAAAAAAAAAAAAAAAAAAAAAAAAAAAAAAAAAAAAAAAAAAAAAAAAAAAAAAAAAAAAAAAAAAAAAAAAAAAAAAAAAAAAAAAAAAAAAAAAAAAAAAAAAAAAAAAAAAAAAAAAAAAAAAAAAAAAAAAAAAAAAAAAAAAAAAAAAAAAAAAAAAAAAAAAAAAAAAAAAAAAAAAAAAAAAAAAAAAAAAAAAAAAAAAAAAAAAAAAAAAAAAAAAAAAAAAAAAAAAAAAAAAAAAAAAAAAAAAAAAAAADGZHE5RMELE0QsTRCxNNaKbR0Of0OiRRNBC00ELTQQtNBC00ELTQQtNBC00ELTQQtNBC00ELTQQtNBC00ELTQRPodXnm3uRjTJmhYmiFiaIWJohnRJE1tkAAAAAAAAAAAAAAAAAAAAAAAAAAAAAAAAAAAAAAAAAAAAAAAAAAAAAAAAAAAAAAAAAAAAAAAAAAAAAAAAAAAAAAAAAAAAAAAAAAAAAAAAAAAAAAHHOwhnkmqF/CY8Tnds4CaCFpoIXkzwvebE61TtS21SC21SC21SC21SC21SC21SC21SC21SC21SC21SC21SC21SC21SC21R+otpzelz2AAAAAAAAAB853SEU1poIWmghaaCK971wSUIWJohfwmqLyIzAAAAAAAAAAAAAAAAAAAAAAAAAAAAAAAAAAAAAAAAAAAAAAAAAAAAAAAAAAAAAAAAAAAAAAAAAAAAAAAAAAAAAAAAAAAAAAAAAAAHk9IvpE1Qod3h9fukKTUQvsdwfPoAAAOF3as1nFY+LL1wGR5ipLERkZtgAIX2TtgAAAAAAAYcwqi5YH2rZKOPQAAAAAAAAAAAAAAADTjsuEKTUQralese80Qwk1Qr6TRzOmAAAAAAAAAAAAAAAAAAAAAAAAAAAAAAAAAAAAAAAAAAAAAAAAAAAAAAAAAAAAAAAAAAAAAAAAAAAAAAAAAAAAAAAAAAAGlGCaIT9OlzJJ0iFepmNLdAAAAAAAABVFr1R0zYwuAFLXTTEtrUt3JDLPdTYp/UtTh1pPY1pPFuYthdOmJUks3KVkZOOlWeoWdgpvtLb2jHeMk92q4xE27FQTAl4sAjO1q7VstKP49LwcKtC6HikC8nz6AAAAAAAAAAAAAAAAAPn0R3mTUQr7NPhodCNc4myE7ZK3j2AAAAAAAAAAAAAAAAAAAAAAAAAAAAAAAAAAAAAAAAAAAAAAAAAAAAAAAAAAAAAAAAAAAAAAAAAAAAAAAAAAAAHLjhN+RH+wchNhFpR9AAAAAAAAAAAACqLXqjpmxhcAKXuaES9qurP5RI6btLjm5gx7pz4PYm0ZNPgy0hGTtSoi27F5oVtKPPQXhcueR87VfWFvJi8xKxDILAIztau1bLfz7d1TcenStelLvMNOTvmFgtDfAAAAAAAAAAAAAAAAAAAAAGrtCGeJsIZK8sUJchGUmTFlAAAAAAAAAAAAAAAAAAAAAAAAAAAAAAAAAAAAAAAAAAAAAAAAAAAAAAAAAAAAAAAAAAAAAAAAAAAAAABxDt4YbmPmOZ5COSMAAAAAAAAAAAAAAHM6cINivapsnpm7RcAAAAAAAAAAAAAAARngd/athMmlMW49IVb/nqlS7Noio7cAAAAAAcA76E+iaIWJohYmiFiaIWJohYmiFiaIWJoiMuAAAAAAAAAGPIIdhm4jEn58XJwhEtNoAAAAAAAAAAAAAAAAAAAAAAAAAAAAAAAAAAAAAAAAAAAAAAAAB4h5M0L9kxcjqHtDPhNEO7R1wGnDieoDLzfAAAAAAAAAAAAAAAAAImSyLc6VkV7ndAAAAAAAAAAAAAAAAAHyBbspI1FbXqjpmxhcAAAK1sqAS96Q0jdhBd+q7alk6P8DUn7R4CcCf05b8vRQ7FWlLIrJI7osAAAjO1q7VstHHpBJv8AIqS8AAAAAACFTWFk0AAAAAAABCprC5oAAAAAAAAAAAAfIjLxBpH1o4SNBZEdgAAAAAAAAAAAAAAAAAAAAAAAAAAAAAAAAAAAAAAAAAAAAAACt7IgJ+cf0p+a/wBgn5LvGpZYTT89/o784n6U/PH60/MRbUmquPHH/RVN/o8j/wCbP1n+fyzpl+Vv1SAAAAAAAAAAAAAADnHRjfGk5GpdugAAAAAAAAAAAAAAAAAAckjs44HfFUWvVHTNjC4AAAQib1XLrb8yrqXpSiH9sjNo1dJiL7negJKZFX0/I7vQaamaSQ6RWSwWAAARna1N22Vjj0QSd8o6qB8Mthxe0GjUha+9REhLaQecAA4B34XMoaTQAAAAAAAELmkLmgAAAAAAAAAAAAAAjsiEElm/EiWoTNT6AAAAAAAAAAAAAAAAAAAAAAAAAAAAAAAAAAAAAAAAAAAABAZ9AT843NTP7BPz3efcEB/OP6O/OJc0W/Qm2cP8t/sD8tEqvv8AOv6KFH3hQBWf7K/KP6vAAAAAAAAAAAAADXg5vZu/ugAAAAAAAAAAAAAAAAAAACFTWFE1Ags6+WQyR1vm78rCQ1EyQ0TJDRMkNEyQ0TJDRMcEVEyxxESzNDRLvUPEyQ0TJDRMkNEyQ0TJDOLWSzIjPOew57A8fkv9MUiRH9W1xapU9m1F3jWtGg5oce4vz3+hDi8WaCF1J+j4IUpcMv4JNAAAR2n/ANBUAdex5CAAAIR1uZskrc3pAAAAAAAAAAAAAAAGCEz0cjrxb4SoAAAAAAAAAAAAAAAAAAAAAAAAAAAAAAAAAAAAAAAAAAACvZ/Aj85/r2BdwmB4IB+df0Zpk934fMBB5wPyJ+ptaEliflm4ZmcGwAAAAAAAAAAAAAcrzxDXnQAAAAAAAAAAAAAAAAAAAAAIXNIWTQADnxKOdMWCgDcn6ACfoAJ+gAn6ACfoAJ+gAn6ACfoAJ+gAn6ACfoAJ+gAn6ACwOtVOOLiR+QcthK0d6DGxKdgARWL2lHiHTKEdg4VufPoAAhc0hZNAAAaNSXSAAAAIXNIXNCDziEzYAAAAAAAAAAAAAAAAcbsiFzTmxwmoAAAAAAAAAAAAAAAAAAAAAAAAAAAAAAAAAAAAAAAAAAAAAAAAAAAAAAAAAAAAAAGluwA2JuAAAAAAAAAAAAAAAAAAAAAAHiJSbgEpAi8oqnedyc+fW8BAA550EO2iTvn0AAAAAGmbiLSkAAfPoqu34V07ZQOPRCprDCZgAAAAAAQuaRMliE+iaIWJohYmiFiaIWJohYmiFiaIWE0gk7Iv3PcdJWAAAAAAAAAAAAAAAABx+wIrKobKDaAAAAAAAAAAAAAAAAAAAAAAAAAAAAAAAAAAAAAAAAAAAAAAAAAAAAAAAAAAAAAIQbvapy4DpgAAAAAAAAAAAAAAAAAAAAAA5/Lz5jrgVRa9UdM2MLgAACkZPDMuNzaf82Oaz396t9Is7zUuctvxwdepL4g8Ui7+dGYsXDyoHLiC3BTNzAWAARna1dq2Wjj05Wpx5wAAAAAAAAAAAAAAAAAIXNIWTQAAAAAAAAAAAAAAAAACDziEk2AAAAAAAAAAAAAAAAAAAAAAAAAAAAAAAAAAAAAAAAAAAAAAAAAAAAAAQ6L7zbKpxbCpxbCpxbCpxbCpxbCpxbEJjuIrP9RUp2othU6rYVOLYVOLYVOLYVOLYVOLYVN3SeDGgAAAAAAAAAAAAAAIbMIZNQfD7VFr1R0zYwuAABoFR9bszbOo3wN6YWRzdi83IB7n4o+/uH3SnsMs9S7evverIFaf2FHCuGCzoCwACM7WrtWy3RxRbj03JgAAAAAAAAAAAAAAAAACFzSFk0IcbGpJd8haaCFpoIWmghaaCFpoIWmghaaCFpoIXll+AzfYNOQABjyV8dnz3vRH0gEfSAR+LWSI+kAj6QCPpAI/sdjVOohE3AAAAAAAAAAAAAAAAAAAAAAAAAAAAAAAAAAAAEX3cZyk0ELTQQtNBC00ELTQQtNBC00ELyy/nnQRSVgACCTuo9Z7k2PB3DNAAPPHO05PVPoD5wCQMXOOsAAAAABF5Qsr+yqit36HAM6AAAETJYhYmiFiaIWJohYmiFiaIWJohYmiF+CbtDfAIVNYVLjPVXXwlQ92TZ+mbHFwAAAAAAAAefp9AfPh6AAABGY/INq3LKDj0AAAAAAAAAAAAAAAAAAQqawwmcLl8QJoAAAAAAAAACFzSFzQAAQuaQsmgAAAAAAAIXNIXNAAAAAAAAAAAAAAAAAAAAAAAAAAAAAAAAAAAACGTKGzI+gAAAAAAAhc0hc0AAFS21UtloD5/cAABRd6Un0zOoHMeTpaeOss2LZFMTGL6luc3SiuLZ3isNOreQbkxZ6rrPj0JQAAKutupLb9/AFAAAxxGVRslgAAAAAAAITNoXNBGJPBiVQ+bxslf0FUWvVHTNjC4AAAVFbsGl+ziirrKtkteWnLJ0J5tlkI/HK4lm09b2XUQHmV8msbkh3RYAABGdrV2rZaOPQAAAAAAAAAAAAAAAAABq7UePz9aMHzH6DAIsQfvx64yir0hciOnSM8r4vOJ72YqKc11LCRTPDmAAIXNIRMDOw+z2UeXhC97RJoAABiy1gY7ToC/wAAAAhc0hc0AAAAAAAAAAAAAAAAAAAAAAAAAAAAAAAAAAAAIZMobMj6AAA04OWIhsyAAAIXNIXNAAa5sVLbVS2WgPn9wAAFJ3VXG5Y3vkdfFo66I5y+meD4tGEVNYFMuNmwW34pp6lg0teFc5vRmuPJmhAAAFXW3Ult+/gCgADnmxG5JGyWAAAAAAAAhc0hcuOVi4e2eJZxJGAKoteqembFfPtwAAAhE3rmXHwbWiMuHvx/q2Qm34DmWK9GdV5HX7cPnxC5PApafJJHuzZJRYAABGdrS6FsqHHoAAAAAAAAAAAAAAAAAA5PW5pVXOgNuFtARmTCkrtqzokWtmsZ+Qjo5Z+UfbdQT8idl1dKiYdCAT8AArzr680IljmIhdFfqnCU9MZtCyaAAA5lW/bAKkv/APPX6FAAAIXNIXNAAAAAAAA+YDL5xDIxjIxjIxjIxjIxjIxjIxjIxjIxjIxjIxjIxjIxjNk1fpsvPoAAAAAAAAAAAAhkyhsyPoAAKKuWlpaRi866sUAAAquQJoQtNBC6i/SNTEY7ctjtloD5/cAAAAAAAACHeJo1AzQAAAKslMYtv38IWmhYWmghaaCF/nb9e0ya9hdTlksAABx4DwbrKwtihL7AAAKridmSQi0th0oOqABEJesr6YQjjd+doK3JZCtxZCtxZCtxZCtxZCtxZCtxZCtxZCtxZCtxZCtxZCtxZCtxZCtxZCttU9WzHZXz6Bz0AAAAAAAAAAAAAAAAAAiEvhRI47NIWTQAAAAAAAAAELmkLmgAAhc0hZNAAOd0RVNqehUtm7oAAAhc0hc0AAAAAAAMHgAAAAAAAAAAAAAAAPuzq5z2AAAAAAAAAAACGTKGzI+gAArGJX3ThZnX0t0AAAhc0hc0AAFS21UtloD5/cAADUruz/z10z+hUTz41F7CoD9FbyRbFiy7z6h68Cz6Ju3ednHCJbjUAs2nrh1AxQAAKutupLb9/AFAAA143JI2SwAAFHT6W8ori4gAAAhc0hc0EJmw0N+CTsAAfIDwdZtdVSW1VVC1VVC1VVC1VVC1VVC1VVC1VVC1VVC1VVC1VVC1VVC1VVC1VVC1stSY7Lfcbs5oKAAAAAAAAAAAAAAAAAAhc0hZNIRN/A9wr6TRCxNELE0QsTRC9YnquOmTRCxNELE0QsTRC/J4nOrtAACDzjgHfQsTRCxNELE0QsTRCxNELE0QsTRC/J5nHP6AAAAAAA+ffhrAAAAAAAAAAAAAAAAZ8Gc9gAAAAAAAAAAAhkyh8uPYAAAAAAAIXNIXNAABUttVLZaA+f3AAAV/Pa61IlMuLMOkr606fuaIZyNbo6nW3vMVzcHSjEh1JJ448nxYRcNJ3WfRz0AABV1t1Jbfv4AoAAGvG5ZXRYrg/TuuEO64Q7rhDuuEO64Q7rhDuuFpGrNIpKwCISnS0SQgRKW1PvPXm/z78/uGaAAOQddAJ9X1D++dEQQuR10RAAAAADz6FSXFA+/9DhIBKAAAAAAAAOWdRCPZNELE0QsTRCxNELE0QsTRCxNELE0Q6YiFzSFk0AAAAAjsihJJOkAAAAAAAAAAAAAAAAAAAAAAAD59+GsA+VVqTPh7Uj52IJglh6YCHpgIemAh6YCHpgIemAh6YCHpgIemAh6YCKSjzDdSyEDnmoz4M8vsAAAAAAAAAAAGvBbC8nD+5/hhZhhZhhZhhZhhZhhZhh4Uk6Jz+qAACord4mpv+qlmvk6SVwXPXecEd5wR1ufhWdn5xy5uhySbWXQHe42Iu10+EPvb4YzdTijvOCjvOCO84I7yOQ7pnzcEXlHr5hmgAAPPocr51hyXWHJdYcl1hyXWHJdYcl1hydndAAHiITKDE5Aqi16o3mzR830AAAAUJfdbbvXOCw4TLMXgdWFR7Uk3X5MkNnRgXyrijHmO5s56VRW7AZoAAEQ6vK6vt4yQaAAAAAAAAITNoWTQAAAAAAAERk3A7ZkjfySmwAAAABBtuQG8AAAAAAAAAAAAAAAAAAAAAAAB8+/DWBBuvD7SxQ8fUAAAAAAAAAAACtJ3o8n3cZpnwZ69gAAAAAAAAAAAAAAAAAAAAAAAA14vMFkITdZCE3EITcQhNxCE3EITcQhNxCE3EITcQhNxCE3EITcQhNxCE3EMk+4lCUAAAAAAAAAAAAAABxe0IzJozGiy6o5vR3mzh830AAAAYfzn+kuZub/I7fjFqbjWTudcxmT/AHYzap1bLy7mjGLUjGL5mHP6GaEAAARDq8rq+3jJBoAAAAAAAOSdaFzKGk0AAAAAAABGO3xOgR+bw+YAAAADS2oCb8yAAAAAAAAAAAAAAAAAAAAAAAAB8+/DWBV1o1daPKh5eoEG5U/qzpmQyTo8bNkqAduJIgctWMzWFdazvoJ04lDWhqzto8kj06pm4N56I56A4vB73B9nGcZ8Gfb2AAAAAAAAAAAAAAAAAAAAAAAAAAAAAAAAAAAAAAAAAAAAAAAAAAAAAAAAABVtpD8xd39AVRvNmj5voAAAAAAAAAAAAAAAiHL6nV9vHnpo0haaCFpoIWmghaaCFpoIWmghaaCF1rf0HKMtmU6hNAAAR+or9ownsZm2mTIAAEY4Xd7ZuAAAAecMFPlgfMgAAAAAAAAAAAAAAAAAAAAAAAAA+ffhrAq60autHlQ8vUBTtxUp0zb+sx41XUxim30z42NPUrFNoFNzRjsniKdfvcP7L0eLKq0qTWJU9i5SQc9AcXg97g+zjOM+DPt7AAAAAAAAAAAAAAAAAAAAAAAAAAAAAAAAAAAAAAAAAAAAAAAAAAAAAAAAAAAqi16o3mzR830AAAeaauet9yW9ulLZKwn9I3/qdFDOPi2W04jLwLJpm3t57CBM2MW/VNq1mGKAABEOryur7eMkGgAAAAAAACFzSFk0AAA/OH6P8lbWWAAAEY7fE7ZuAAHw+8Xh9E5c5AAAAAAAAAAAAAAAAAAAAAAAAAAB8+/DWBV1o1daPKh5eoDj9gaPvbHL3sw52TdHI9dUcvH2B54ndDndEcbrewABxeD3uD7OM4z4M+3sAAAAAAAAAAAAAAAAAAAAAAAAAAAAAAAAAAAAAAAAAAAAAAAAAAAAAAAAAACqLXqfebOHzfQAAAg03q7U5HWmUd3OJZ1U2HFdWJAuvpq4J/VBJM0bmxqb1cz+OBatT2THVHPQAAEQ6vH7Xu4yIUAAAAAAAAhc0i5KEM2SVIqJUiolSKiVIqJUiolSKiVIr8Pfcg9iABxI+driSHtmvsAAAAAAAAAAAAAAAAAAAAAAAAAAAA+ffhrAq60autHlQ8vUAj1Tbl9EfxZAom9NT0M0aZs+6YufUHPzd33Tlx6gZoAHF4Pe4Ps4zjPgz7ewAAAAAAAAAAAAAAAAAAAAAAAAAAAAAAAAAAAAAAAAAAAAAAAAAAAAAAAAAAINOVkNlFc6nLVoq4c9WOrhFjq4Fjq4Fjq4Fjq4Fjq4Fjq0+FmK29Fjq4Fjq4Fjq4Fjq4Fjq4Fjq25+p6tuOyj04DNAAAAAAAAAx4tkazZGs2RrNkazZGs2RrNkazZ1jZQnydXkyTqnB7wAAAAAAAAAAAAAAAAAAAAAAAAAAAAAPn34awKutGrrR5UPL1A06Cv2IdM92MwSz6gNr1R2bOnrzOqpbK4MWuiWlpzD9TWerY/D6+NVnIo70t53rBpu5MaDFA4vB73B9nGcZ8Gfb2AAAAAAAAAAAAAAAAAAAAAAAAAAAAAAAAAAAAAAAAAAAAAAAAAAAAAAAAAAAB49jUbZNRtjUbY1G2NRtjUbY1G2IX+av2TA1jdoZoySVFfqSlFhKXA65sNr6ajbGtsigAAAAAAAAAAAAAAGpGyXoSJXFtqUEK2paPPoAAAAAAAAAAAAAAAAAAAAAAAAAAAAAAAHz78NYFXWjVtpcqHl6gcHjTdZXEz6gpiye8qq+tPhDY3awpvrWcqoLH7CKk6tjKrOzDNCAOLwe3x/bxmufBn09gAAAAAAAAAAAAAAAAAAAAAAAAAAAAAAAAAAAAAAAAAAAAAAAAAAAAAAAAAAAAAAAAAAAAAAA1uPIRDPk0ELTQQtNBC00EL+zMRTb7GoeNjQ1iQ5YjhJohYmiFiaIWJohYmiFiaIWJpjh+Q7fL2+mRZNBC/k1EVkuUAAAAAAAAAAAAAAAAAAAAAAAAAAAAAAAAAAAPn34awIJ2+9VNlsIfIvF23mmzdxpjcaY3GmNxpjcaY3GmNxpjcaY3GmNxpjcc2Gbzjm8Tn3t5M+DPm+wAAAAAAAAAAADCZmoNtiyh51jbano2QGt5NtqbJ6MRlag22HMHzVNtqfTaAa/g22psHsxmRqDbYM4NQ22oNsBgxm21M5kPB7ag22vsA1Taag23z6GHEbbUzGU8npqDba2yDWNlqDbefQYsJttTKZj4fWoNtq7QNc2GoNt49hjwG21MhnAag22ptgwGdqDbY8geNc22p7NgBq/Dbam0fTCZmoNtiyh51jbano2QGt5NtqbJ6MRlag22HMHzVNtqfTaAa/g22psHsxmRqDbYM4NQ22oNsBgxm21M5kPB7ag22vsA1Taag23z6GHEbbUzGU8npqDba2yDWNlqDbefQYsJttTKZj4fWoNtq7QNc2GoNt49hjwG21MhnAag22ptgwGdqDbY8gAA+ffhrAAi/DsRrNdLFVXSxRXSxRXSxRXSxRXSxRXSxRXSxRXSxRXSxRXSxRX0p7CUM1nwZz2AAAAAAAAAAABGpKK8WGI7Ig0oTYYrzZnQAg+pYYryab4cDvivFhiLygMEDsMV56sEAQ3nWGK8lvWDjdkV4sMRGXB8r2wxXiwx49hE+RYYryT9wOZ0xXiwxC5oCAz4V4sMa2yEa4NhivJDIg0t0V4sMQSdgg84FeLDGhvhHo7YYrzuyYNbZFeLDEAn4IXNBXiwxy+oHEi9hivOvLA8+hXiwxXlhfQiUtFeLDHF7QcqI2GK86MyAFf+LDFeTzOEYk4rxYYj8gDQhdhivNqcgCC61hivJrvBHpCK8WGIzJg1oLYYrzJPwBC9CwxXkv6gcTtivFhiJywPNfWGK8WGPn0IlybDFeSntByuqK8WGIZMwV/YArxYY19gIxw7DFeSOQBob4rxYYg05BBZ0K8WGNHeCPR2wxXndkwa+wK8WGIFPQQmbCvFhjm9IOFGbDFedmVBjyCvFhivLDBEJeK8WGOP2AAAfPvw1gAAAAAAAAAAAAAAAM+DOewAAAAAAAAAAAAAAAAAAAAAAAAAAAAAAAAAAAAAAAAAAAAAAAAAAAAAAAAAAAAAGhyCTIWJohYmiFiaIWJp4h3skWpq7Zqa3d2SJJoIWmghaaCFpoIWmghaaCFpoIWmghaaCFpoIWmghnuYeCLZ+7hOfm94DbzcjASXJEMRNELE0QsTRCxNELE0QsTRCxNELE0RLdJA5u8ZAAAAAAAAAAAAAAAAAAAAAAAAAAAAAAAAPn34awESjnc644Xyyvus1ossVossVossVossVossVossVossVossVossVossVosv4ROZxWIS20+fePRnwZz2AAAAAAAAAAAAAAAAAAAAAAAAAAAAAAAAAAAAAAAAAAAAAAAAAAAAAAA0I+S9CxNELEr4WLukZTQQtNBC00Ea6+8AAAAAAAAAAAAAAAAAAAAAAAAAAAAAAMOj1BHdKXiFpoIWmghaaCFpoIXsyvWNDp8jmEvQsTRCxNELE0Q3qHeYcwAAAAAAAAAAAAAAAAAAAAA+ffhrR6Q15rOWb6G/1wGQAAAAAAAAAACNSX5UUmdXWjjbPgz417AAAAAAAAAAAAARiFltqskxLXA4BPlZCzVdzE6bxASwVZeiy0Ql4OGdxV/wBLPR+QAAAAAAAAAAAAAAAAAAAAAAAAAABrRkl6FCa8fhdg5HyafSFJqI1IMoAAAAAAAqec1T3zh3NrdUo+6aXu8AAAAAAAAAAAAAAAAAAAAAAAAAAAAAAAAAAAAAA+crrCI4ZoIWmghaaCM9/BwCWoWJohYmjjdkAAAAAAAAAAAAAAAfPvw1q6sWut5mW5p7m8BAHD5e5G5evL+B162nK6KZHG7B9aOI6bDpHTYMJuub0D0AACtLSq20ptnwZ+evYAAAAAAAAAAAFVWV+RTr/p2r7hPFH3niIDv9PQPzH+rfyl+ryuKovz85n7AhEqjJ+cf1Z+U/2Cfk+3axmpYH586vbLy2d8fku8oLCj9YgAAAAAAAAAAAAAAAAAAAAAPkXJShIlkYzSchyaiJybMAAAAAAAAAAABxyo9fp9os/lxzSORZlYYC5QAAAAAAAAAAAAAAAAAAAAAAAAAAAAAAAAAAAAAAAAAAAAcTizUQpNRGpLz40TVCOiSYAAAAAAAAAAAD59+GtXVi11vMy3NPc3gIAjtc2LGZrLszeNJBPcrhUtiQ606lsmlZTLqy/Iz2MZH+dacDOh1+zHrJ+LAAK0tKrbSm2fBn569gAAAAAAAAAAAjf5X/YX5FL4synbiOPr4fyyfq3nRaUn5jtGrv04fnW56Xnhf8Bn0BPzjc1M/sEpW5OiPx/Ykf3T9Hgo+pLIjZ+pvoAAAAAAAAAAAAAAAAAAGpFSa6sG45KPHn2fZPFRM+dwuiYdOR7pDkyENTIQ1MhDUyENTIQ1MhDUy+kMTQQz3MPBFskhxnGy7+Mw5tOK2TvPWOGra9U74LlU0LlU0LlU0LlU17LiVN1IsVDlTFDhMUOExQ4TFDhMUOExQ4TFE5JGwJQAAAADyPTyPTyPTyPTyPTyPTyPTyPTyPTyPQAAAAAAAAAAAAAAAAAAB8Pr4Pr4PvO6Agvd7sNJmw5T6+D6+D6+D6+fQAAAAAB8+/DWrqxa63mZbmnubwEAR7QmAcHvCM9PpiBy/dEG2peXlRGwxw+JNyRvzJgAABWlpVbaU2z4M/PXsAAAAAAAAAAACtbKH5S/Ru1DyVfk/wDQsjOHlncNPzL+pNTMc385/suJnD+db6fmX9bcLbJQCLfnH9b6Jxc8f8lG/oWQdAAAAAAAAAAAAAAAAAHAO/jrvTOxELEkxT8qm4i0jzDzgfAAAAAAAAAAD3n1cxkAA43ZqHedaWyf105x1Iix1IhHUiEdSIR1IhHUiEdSJEdSJUdSIR1IhHUiEdSIR1IhHUiEYidp/E50jp24ufQMaAAAYPeEAAAAAAAAAA+59f0bAAAAAAAAAAAAAAAAAGD7jAAAAAAAAAAPefVymUAAAAD59+GtXVi11vMy3NPc3gIGoban7fX6VCW81NtADBWa2mEMdWrawQAACtLSq20ptnwZ+evYAAAAAAAAAAAAAAAAAAAAAAAAAAAAAAAAAAAAADkV6WhBNWwyDSOQgAAADVAi0piQTcQhNxCE3EITcQhNxCE3EITcQjzORGe5EJeMmPIZgAKit2ouuLMDIGrV1t0rLIpXoxMtdrQ2ydxz7WUshnOnrEqQLcqYqulkSVXkkrvq32onzXhlk7Rr6SRXtgn0AFZW9UNvNBy2AABhx5MY5nThx8yzcQhNxCE3EITcQhNxCE3EITcQhNxBJjxNs6ANoAAAAAAAAAAAAAAAAGv59eRy+pDh7nAg6cCDpwIOnAg6cCDpwIOnAg/yciKyCIS8evPo2AAAAAPn34a1dWLXW8zLc09zeAgCiLCxQXOrIqyfRYuqG9ONWbUzq/WWTQu2K2izojypLZ2K4mEQlsCOo0XH98e9ZAArS0qttKbZ8Gfnr2AAAAAAAAAAAAAAAAAAAAAAAAAAAAAAAAAAAAw1WWLV+xaZW9mZgAAAAABqgRSVxQmoAAAAAAAIRLYlLRkx5DMABUVu1F1xZgZAUXdVEZ19vbkViSTvacJJtHpPBS4qpsaniaZ+f9JZBJfCSVdOJSGzi8/3yJZNYEVhRZ9cTWuyYzetrLs2RYBWVvVDbzQctgAAYceTGIhL4gTkAAAAAAAHB+ffh1QbQAAAAAAAAAAAAAAAANfz68iJS2JE3AAAaEFLJAAABCpXFJWPXn0bAAAAAHz78NaurFrveZjuaW7vAQ1doVTmtBLFqn/QI49W3ViKt7k49lRcS8/pXnCuTCRqt7zEA4ds4zn9YsAArS0qttKbZ8Gfnr2AAAAAAAAAAAAAAAAAAAAAAAAAAAAAAAAAABFIpnI7a3bAAAAAAAAGqBFJXFCagAEKNbUcot37xe0AAAQiWxKWjJjyGYAiJLqi5nnri4QyAAAw5gA8ex49g+fRiygAw5g8+hjyAABWVvVDbzQctgAAYceTGIhL4gTkAAHIhFh0ITea/ekZwAAcH59+HVBtAAAAAAAAAAAAAAAAA1/PryIlLYkTcAAjZC+F3Y2X4AAACFSuKSsevPo2AAAAAPn34a0WlPyyGyyqp935dcYoAAAAAAAAAADibdbakknmLLx6s+DPL7AAAAAAAAAAAAAAAAAAAAAAAAAAAAAAAAAPJ8pr1aBzpOAAAAAAAAAGqBFJXFCagAVRa+mcqpJtKzBAbgqUtoAAEIlsSloyY8hmArix4OUZZtoVh1xZgZAAA+fNf86S/pVqe7M781/ouXaFg8mnvUjd0ox2au9Sl1yhYAABWVvVDbzQctgAAYceTGIhL4gTkAAGOkLp45IqeuGBkg7nB7wABwfn34dUG0AAAAAAAAAAAAAAAADX8+vIiUtiRNwAKWsuJknqG+arLOqm36qLaAABCpXFJWPXn0bAAAAAHz6NV9+GOv7EalV/bTazVi0xVi0xVi0xVi0xVi0xVi0xVi0xVi0xVi0xVi0xVi0xWthbDOgzWfBsn0AAAAAAAAAAAAAAAAAAAAAAAAAAAAAAAACqJNuHR6gAAAAAAAAAAaoEUlcUJqAAADl1bcw09wAAIRLYjLhkx5DMDWjfmVGWordqLrizAyAAAqa2YRLwezCZnLD7opyx6ivM7GGJ3BsEksreyoelzd7u+rK8t2ordAsAAArK3qht5oOWwAAMOPJjEQl8QJyAAABWFniETcAAOD8fTqA2gAAAAAAAAAAAAAAAAa/n15ESlsSJuAAADBS14DjdkAAIVK4pKx68+jYAAAAABjw7WMwvvwAAAAAAAAAAAAAGQZgAAAAAAAAAAAAAAAAAAAAAAAAAAAAAAAAMNFEysmrrRAAAAAAAAAAANUCEzYRb7J/hGUmEZSYRlJhGUmEZSYRlJhGccq+kWlQMmPIZgQuaQuaCober/pmXolLdYCAANWEWCIv1emKms3cLV/TnqNOsrZVUk0k6KbsjuCr7LyqBAABHKilv1nZmdBz2AABhx5MYj0hERzSf4RlJhGUmEZSYRlJhGUmEZSYRlJhBJ59AG0AAAAAAAAAAAAAAAADX8+vIhsyHN2efgOu5A67kDruQOu5A67kDruQOv55Xo4c68+h68+jYAAAAAAA+fR8fR8fR8fR8fR8fR8fR8fR8fR8fR8fR8fR8fR8fQAAAAAAAAAAAAAAAAAAAAAAAAAANE3lWYt5thU4thU4thU4thU4thU4thU4tj8uWXHol1l1Oq2FTi2FTi2FTi2FTi2FTi2FTi2FU2HL0xmgAAaoBCzpYe/skXSgRdKBF0oEXSgRdKBF0oEX9SbwfMkFnQyY8hmBC5pC5oDXIfHc+v6OX18WfXwfXwfXwfXwfXwfXwfXwfXwfXwfXwfXwfXwfXwfe1xOlLZLz68/UAAADDjyYwcYz8nLIyLpQIulAi6UCLpQIulAi6UCLpQOZ049lO4DaAAR3V1JYiglaKCVooJWiglaKCVooJWiglaKCVooJWiglaKCVol0DujNA1/PryDgHbwx3dOq5Q6rlDquUOq5Q6rlDquUOq5Q732BTo9+vPo2AAAAAAAAAAAAAAAAAAAAAAAAAAAAAAAAAAAIzuYDmJoIWmghaaCFpoIWmghaaCFpoIXnlvOOiisqAAMVOzXIna2jwdwAADQ1DtNXaADnfToOH3AAAAAADDVVt8ntjq7dfWD6+YZoAGqBEpbEibgAAAAAAAhUrikrGTHkMwIXNIXNBT1qVx1xNd4uQgAco6rjdIzgAAAAAHEO2xZQABxO2qv7RqC386DnsAADDjyYxDpjDidgAAAAAAAQSdwQmINoCPyCJ6nX6pkCgAEV0ScI9IQAAAAABw+4TjdmJyygl1/PryIfMIgTkAAAAAAAHF1trUO168+jYAAAAAAAAAAAAAAAAAAAAAAAAAAAAAAAAAABDJlDZkfQAAAAAAAQuaQuaAAEC7fE7eHYHj7AAAcyn7opHrn1cNV2GST1WUfzZw29Czv8AbpCw5ZT7rzFFkKAt2pEhkzzQgABq7WqQezKzsz6XnDGgANUCJS2JE3AAMJm80jmLqR+QAAAEKlcUlYyY8hm1NuHGeVYspyoRN4R25zsSAAK/sCDy8+D93HnVy+lR7zbPv8/T2LEVrEi91fd2pBkq7HFpqInZPam9ciW3ujzujrIAAFZW9UNvNBy2AABhx5MYh0xhxOwAAPPKoY/R/wAqGXEyAAAgk7ghMQbQEUlcU1JWM0ABFJXWRjtCGyYjHiD7JPtSFW2a+pW3ZJJqxfESeeVdOjrgAAikrikr1Azdfz68iIS+IE5AABxaQlnGL2AAABxtTb1DtevPo2AAAAAAAAAAAAAAAAAAAAAAAAAAAAAAAAAAAQyZQ2ZH0AABjh5NEfkAAABC5pC5oAGH6Qft8Tt4dgePsAABqVNZMU6ZsaCznxjUMiXc7XTLX6Wrmwzf25tqaeWubEzePX9313ZY456AAAau1qkHsys7M+l5wxoYjK1do1QIlLYkTcACDTmOke5+jjJD4sKJHU70OmIABCpXFJWMmPIZoP2/J3zlCETeEduc7EgACDziHLpQyxNiWR0zOtVJX7r6y6otZPYzYl39n1ZEuJ1vsvJtGCWBZUnWz60s86XF7WsgAAVlb1Q280HLYABz+gYceTGIdMYcTsAAChb5pkueBzzAQOw6euEAAQSdwQmINo0jdikrimpKxmgANLdFNS2cCpdW5BXW3OhBYZdoprUu2lTt2d69AAAEUlcUleoYc2br+fXkRCXxAnIAFfy+gyZw79E/mg/TEPkGqfe1TtxAAHG1NvUO168+jYAAAAAAAAAAAAAAAAAAAAAAAAAAAAAAAAAABDJlDZkfQAAUjaNRzsgt8VrZQAABVcgTQhaaCtKW/TtZnEtyMSfDsDx9gAAAAAAAAKitXYagZoAADV2tUqib8ezPpeeFpoxqF6NhaJ+ULr0rVAESlsSJuAAADjVPdHPNKTau0AAQqVxSVjjdnIVLLJoIX+eP13UhF5vKYt15zsIAAAAAAAAAAAAAABVsvitvNQtNHLcLTQQtNB+YunN5ib+zkxiHTGHE7AAAApy4+SQizeR1wABBJ3BCYgitVfomtCuLR3NrUlZHc2RKp3SyUWlIAAAAOMdkBxuibCNSUAArzf2ZXqfleyOXZOb3/XryIhL4gTkAAACrLNrkl/dhkzAAONqbeodr159GwAAAAAAAAAAAAAAAAAAAAAAAAAAAAAAAAAACGTKGzI+gAAqGP39Rxand0t0AAAhc0hc0AAIF2+J28OwPH2AAAhXQ5UD65vaOSOkcWcTavpkb6CS6XdjW9CLJFLK975I4njymaSwmbQEoADV2tUg9mVnZn0vOGNAAaoENmXPO0gnonKDCcoMJygwnKDCcoMJygwnKDfBMOL2hkx5DMADlQibwjtznYkAAA51Q3f8AnrOv0LrR/l6kNumlrpjMgOMsLBihlkft+kLPlkGtAZlVb27UVuwFgAAFZW9UNvNBy2AABhx5MYi8oGPeg/wnKDCcoMJygwnKDCcoMJygwnKDCXRXHLwDaAikrimpK6Evum824Mke7xCfMQuArvibXs0/e3nPPvWs0qWY11YJxI52PZ3OVsx0WTCLSIFj43SMOnseDBclZ2GcGVxSV6gZuv59eRDZlqHVQHOTdCBN0IE3QgTdCBN0IE3QgTdCB1M3Dl49efRsAAAAAAAAAAAAAAAAAAAAAAAAAAAAAAAAAAAhkyiEtPYAAAAAAAIXNIXNAACBdvidvDsDx9gAAINwulM+mYboROyNTUj3Y4pblO2NEM3RntXy7TzxNuMWSaXcHsYuKbQKe5oZoADV2tUg9mVnZn0vOGNAAaoAAAAAAAAAAGTHkMwAOVCJxBu3OeCQAABAZdBpYrNebOparmMEtk50D2eiY59yYVZ9c2Ry97o15YFkDt2l7nPosAAArK3qht5oOWwAAMOPJjAAAAAAAAAAANoCKSuKakr8e2bX29MxqRSbDhc2XiD7ctFOSbc7xmhVhCJ680EHxzwQzblAimOXiOcybCJd3oCKSuKSvUDN1/PryAAAAAAAAAAPXn0bAAAAAAAAAAAAAAAAAAAAAAAAAAAAAAAAAAANeC2F5OF92RrNkazZGs2RrNkazZGs2RrcOS9E53VAACPxuxKussdX3c8nWSo2ykiNiSI2OhscdXf0uaOh0Y8Mnfjg7nN1R2sXKHV+8kdToRtEkRsSRGxJEb+ElifP5ffErl52yEoAGqAAAfCvrCpi5j7Xtg0yXO+Cv7Bpi5j6AABkx5DMADzTtyRPpntqt73TnNENRMkNEyQ0TJDRMkNEyQ0TJDRMkNEyQ0TJDRMkNEyQ0TJDRMkNEy8wuP1muHi9rl0DGgAAMOPJjAAACufpYpXJYyurFCufpYoAAANoCIy7Ss3UNl57EoAAAAAAAAABih1mzLcGcCXX8+vIAAAVLKCZFSltIbMgqWUEyAAA9efRsAAAAAAAAAAAAAAAAAAAAAAAAAAAAAAAAAAAAAAAAAAAAAAAA4/Il6yHpgqHpgIemAh6YCHpgIemAh6YCHpgIemAh6YCHpgIemAh6YCH/ZeOH3DIFAAA1QDUNtDhMUOExQ4TFDhMUOExQ4TFDhMUO9kuefQyY8hmAABi4/dWcB3xwHfHAd8cB3xwHfHAd8cB3xwHfHAd8cB3xwHfHAd8cB3xwHfHE7PpAKAAABhx5MYAABz3QDn9Ac/oBz3QAAAAG0ADFG5SsiiVqiiViKJWIolYiiViKJWIolYiiViKJWIolYiiViMSX0gJQNfz68gAAHJ3NoOT1hq7Qcnc2gAAA9efRsAAAAAAAAAAAAAAAAAAAAAAAAAAAAAAAAAAAAAAAAAAAAAAAAAAAAAAAAAAAAAAAAAAAA1QIPOIoTUAAAAAADDmEAmsSloyY8hmAAAAAAAAAAAAAAAAAAAAAAABhx5MYx5IYffc39EGTkQZORBk5EGTkQZORBk5EGTkRORRrtm0DaAAAAAAAAAAAAAAAABr+fXkePcKM3mb5CCJ2IInYgidiCJ2IInYgidiCfJ4OTuQibj159GwAAAAAAAAAAAAAAAAAAAAAAAAAAAAAAAAAAAAAAAAAAAAAAAAAAAAAAAAAAAAAAAAAAADVAikrihNQAAHj2AAAAQiWxKWjJjyGYAAAAAAAAAAAAAAAAAAAAAAAGHHkxiIS+IE5AAAAAAABwfn34dUG0AAAAAAAAAAAAAAAADX8+vIiUtiRNwAAHD7gAAABCpXFJWPXn0bAAAAAAAAAAAAAAAAAAAAAAAAAAAAAAAAAAAAAAAAAAAAAAAAAAAAAAAAAAAAAAAAAAAANUCKSuKE1AAp22qTJHklsCLdQXllnOd0QACES2JS0ZMeQzAAAAAAAAAAAAAAAAAAAAAAAAw48mMRCXxAnIAB4NDcpDYLZ6lf2AAAAcH59+HVBtAAAAAAAAAAAAAAAAA1/PryIlLYkTcADR3qmKs/VdIXKbYAAAIVK4pKx68+jYAAAAAAAAAAAAAAAAAAAAAAAAAAAAAAAAAAAAAAAAAAAAAAAAAAAAAAAAAAAAAAAAAAABqgRSVxQmoAMdKXeKaszs6pVk0guqXTkAACES2JS0ZMeQzAAAAAAAAAAAAAAAAAAAAAAAAw48mMRCXxAnIAAKXtitrZOTCOZZZErCi8oAAOD8+/Dqg2gAAAAAAAAAAAAAAAAa/n15ESlsSJuAeSP1xxb3KIuuspib3EjlkHJmXO6IABCpXFJWPXn0bAAAAAAAAAAAAAAAAAAAAAAAAAAAAAAAAAAAAAAAAAAAAAAAAAAAAAAAAAAAAAAAAAAAANUCKSuGk8AAAB49fQAABCJbC5oMmPIZgAAAAAAAAAAAAAAAAAAAAAAAYceTGIhL4gTkAAAFb4LPEQl4AAcH59+HVBtAAAAAAAAAAAAAAAAA1/PryIlLYkTcAAAFO6N3+TDsgABCpXFJWPXn0bAAAAAAAAAAAAAAAAAAAAAAAAAAAAAAAAAAAAAAAAAAAAAAAAAAAAAAAAAAAAAAAAAAAANUDj9gQ9MBD0wEPTAQ9MBD0wEPTAQ9MBD/MyGrtAyY8plAAAAAAAAAAAAAAAAAAAAAAABhx5MYiMuGHoQ/UJ2ggnaCCdoIJ2ggnaCCdoIJ2gnwSzU6IBtAAAAAAAAAAAAAAAAA1/PryIXNNY6aB+idIKJ0gonSCidIKJ0gonSCidIL8Pky5XVHrz6NgAAAAAAAAAAAAAAAAAAAAAAAAAAAAAAAAAAAAAAAAAAAAAAAAAAAAAAAAAAAAAAAAAAAGHHtYjE9Dy9Dy9Dy9Dy9Dy9Dy9Dy9Dy9Dy9fTxs/PQAAAAAAAAAAAAAAAAAAAAAAAB519rya738PL0PL0PL0PL0PL0PL0PL0PL0PL19PGX7kAAAAAAAAAAAAAAAAAMWLaxGJ9Hx9Hx9Hx9Hx9Hx9Hx9Hx9Hx9Hx9HzN8ygAAAAAAAAAAAAAAAAAAAAAAAAAAAAAAAAAAAAAAAAAAAAAAAAAAAAAAAAAAAAAAAAAAAAAAAAAAAAAAAAAAAAAAAAAAAAAAAAAAAAAAAAAAAAAAAAAAAAAAAAAAAAAAAAAAAAAAAAAAAAAAAAAAAAAAAAAAAAAAAAAAAAAAAAAAAAAAAAAAAAAAAAAAAAAAAAAAAAAAAAAAAAAAAAAAAAAAAAAAAAAAAAAAAAAAAAAAAAAAAAAAAAAAAAAAAAAAAAAAAAAAAAAAAAAAAAAAAAAAAAAAAAAAAAAAAAAAAAAAAAAAAAAAAAAAAAAAAAAAH/xAA4EAAABQIDBQgCAgIDAQEAAwAAAgMEBQEGFBUWECAwMTUHERITNDZAUCFgJnAjJCIlNzMyF6DA/9oACAEBAAEFAv8A/AiqOG6YUlosgPcUKQanh6jUbaoz1UwzaTqMwnqjFXHUeZc9R3XTUeVc1RhrjqMFcNRl8+MunRls2MsmRlkyMtmxl06MvnxgrhoMNcdB5VzUHhumg8y56DFXHQZhPUGaylBnixRqJvQaniKAlyQhwSYijgjpqp/ehzkJRWXi0ge5oaldQEOMzmFB5tzHGHuQ4yqWONP0MNMRVQnbsKQJxMWQEbtyfPOiicHi404Pb8McaYh6DTyZRlEkQYW4iDxXOQZhOJjPjkFLmiaBKciFQk4QW/uNQ5EyrzUSiNSxxhm8kqPHcyowE8qMgqcEtqGLVKKjEgQhCU+yr+QqwYqhW3IVQadbkGVyyY8FzJDMJtIahTIEbihlQg6bL/2u5lI1uK3LHmrmUwsPLuZYZK8VCdtRNDIRsehuzU22jRR/cj8eVdI8q6R5V0jyrpHlXSPKukeVdI8q6R5V0jyrpHlXSPKukeVdI8q6R5V0jyrpHlXSPKukeVdI8q6R5V0jyrpHlXSPKukeVdI8q6R5V0jyrpHl3VQEnZePPHPm79D5qzdusF7ehlhp8iYwU+iMTcaIz+qQb3BDLBJZJYv9lupSOajUbNQY2fcDATq402zUDaIi24pSlKcCdfZfHW5Gef8APVTIqmuRS3ZchinJ9E4atXAWtuHObJXiI/kzcZ07RCFxRCpklUli/wBgnMUhXU/EoVzh8uPKuRyNPEWDWHi2vHvw1THSIVNPaavhKpcUSkctyQtatXKDpLcdXC2TERJtZND4V2p0PDWupVSB+ncN27gqtuRRjZVKoDE3E2FLjap1aSDF3/XXIPJyKa1zh85GFuB0CW4wMZq0atafCvf1+72h0pjFWjZw1tc52d0hy5btitXjV0LmepoRFnrNKQTJiwik0JFgurWtKUzBj5KCqS6S8lHoqJnIoQzpsVwaQYlXDp21a0bOW7ota0pQspHGV3bo6FaHQPq60pWjuDiXQyNdAeZcjUUuJslVo+Zu6f1k6dtWpTXE3Vr/ACR2NPIrBmwZM6fGvf1+72ieqnpuYaJ2vCN2ZTVoUsO7SeOHyThGau9o2ND2gwZKQ0o7K7ua40EnaajY0ja9pxCUmzmaaet0icZSPstJ+kdxHlTvG6YNgyiI58ZK1LUZpvWzSDdM7luh35sxOpNHbC0jPKxG5dHQrQ6AH7yaJc0garSFts1xywUpUybJ3Nurip+KfUVpStHcFEua5RItRj5tqG1wxapyGKcv9VvpNgxGduXQwE28DW34pAxaULT5N7+v3e0T1ctHpScbaskpHPHBPNQs6STj15SWRbI3d7csv266c1hrzUlI8jWi6rq3ez3pt/oGPGQM01esmkkV3KOf/Qr29vtEDObFsaUQI2dSZMfdCikddCMpHqtod4Z+huXR0K0OgCLftNXoUXut2kQiSa6hUUeztMyz761y2buSHt1smb+RswS4mpDILouE/wCpX0gyYlzp07GWSrwMYaMZfOvf1+5X80eWy1eKxzPBpzECyk1o1hgSy9vMZFWGt9lGqy0SnJCMhk44S8U0k0mdpR6K8kxo+Qi4FvHLKpkVSVs9gZViwbsWZrabGeSMMm/SiY0kanJWswdrw0O0iyyTBtIN0rPYFWTIRNPcujoVodAl3GFi7IiWz6Lshc8fNC8HGHt2wG/lQCrxsk7+vOQpyr28wMp4LiZBO4WxDoqprJ/0+sqkimpcCKh8JOvwxhI1ob5z6QZMQe5oMouOTZyb36C6OhW7MYWIumfbP4+x/MSiLrbPKXLGOjPGl+HeO6R0u5ZRtupyL65vslEyKkWt5rRTzbgYhlOx7lT+m5GWYMBjZqQCNvtzKJkImT6C9UGq0GRM5lZKLpFE+gujoVodAfx7J8QzSThxGP20i3+BMyNGBCtLiWGXToy6dGXToy6dGXToy6dGXToy6dGXToy6dGXToy6dGXToy6dGXz9BHSLkr7471i0ekyd6yFJtZpVs4Qcpf0s9nWSCvkTkkI6JYMPo6/ikaTOZJOCakn739fwbhlZiJNb8jmcaLqnFIsW+5knzbcu9/LsaMDmUY7LufSrFGFUOtE8C6OhWh0DZOIGjXCRyKpcdKnm3n8C76eFp8mtKVo5gGtVcZMxwjpFlIE/XzmoQlbog6DVMEC3PB1DOTj3lTmoQlbog6DVMEC3PB1DOTj3ldjt02aJK3bDEqld0MerN41eJ/RvJ1smrl0nJhkyaskvpLoWUMi1RTbNxe/r+DdyRF1rWWPFXAY1ClmaGfM7V9vy8qjHB3NyLErF0i9bP5ny394vnaqMZ008wu4Uh58jx5fvRLf6HwLo6FaHQNiyZVUbOPU0Bx2nvD4F49K+ZIwrJ4fzZyLEbJspEn692goJHhQpbsU8j3aCjN7Y0yq+S7QUEjwoUt2KeR7tBRm9saZVfJXJMJxDJwu8lX8HBs4xvLQ7GSQPjIiTtabJLtfoJKZaM1MBJyoZtGzNL6aJ/35/Ze/r+Dcvrb8ZVIpJSpn8DeLcjS2bV9vtlcR2gSaBXMfYro6TSwP8AKftDLTL3ipkbTtZs/UhdOLGlr96Hb/Q+BdHQrQ6BtYmyqd3jv2JDJqJqF32nvD4F49K+dJQ7N6fFy8UGLxs+Q/XL99uhn6O51Cqz/ZykY0vfvt0M/R3OoVWf7OUjGl7vemeTthoUWuHZ2iI0JM229MxmfnSD5qwQ8UtNCNjWcen9PMusFF260wUNsvn8PODc0qyq/WwkxGWRGHI+vt+1UZWe/aqRVytHEbNubjYHj7ViTMouPWXtiXu6WRkmcYbM4GNkHttumb9xPu7+doYC1njdxEcC6a90HaNO6A2yjBCRaISbmLPc1xKMJaHk2so2D90iyaIkl7qUm4FkwlHlsOWIteczMu49mGLJ8UxTFae8PgXj0r6B9CJmXQmVWitK0rT9av326FZa5FmTC1JZyeFjG8Uzv326FZa5FmTC1JZyeFjG8Uze9+M7N+r7O0r1dOdOXzHswdRxHwqaS31N1f5qbb0Z1cRlvvivY/jERRJUHIU9Kpp1oDkIelKUpThXY689SPb0astxQhFCS9KElI525ZOo9Rwqyv0513DZNFu3u2tNQ+IouItI27BJqyKQxdxDGXCL1WeLSMJKSjJaCVcrXJvTykkRss6fQVxySVyyLG3EnCMLvXrWtIeKlUXx/oF0Ul0qs5CFrFyLWRR/Wb99uhn6PZfvt0M/R7LpaVZztgLUSuDZ2irUPMQLSr2X+W5XRbId76fDJo3ZN/qjf7F47a0pWklEPIx21udHu1JGjUkaNSRo1JGjUkaNSRo1JGjUkaNSRo1JGjUkaNSRo1JGjUkaNSRo1JGjUkaNSRo1JGjUkaNSRo1JGjUkaNSRo1JGjUkaNSRo1JGityRwc3A4d1tyEq0PuzMmSPTuyLeNhZtvYagv5FOszouKE7AMmMrouKE/DM4+W3J23qS8pGxrKOTae8N9ukWZvngXj0q4WJ1kot4m/YfQysVVZaLlvOW/WO0A5SwAjjlUj9naAcpYARxyqR+y7YTNWqCi8e/in7eSaSDxuwayLlaSk7Og6xiHypR+3jmrWOcya31kJ/lnd1wxZuK5LFjJYsZLFjJYsZLFjJYsZLFjJYsZLFjJYsZLFjJYsZLFjJYsZLFjJYsZLFjJYsZLFjJYsZLFjJYsZLFjJYsZLFjJYsZLFjJYsUhosIIIoF3ZB0kyZwDNU510El9t0Reaxls3CShLsrStwTEwxjErYaupSX3mnvDekF8Mx7NkPEtwLx6UIf8A0Jz6KWjm8ihHSK7Z1+rKF8ZHNqNHRtFRYjYBGPUChfGRzajR0bRUWI2ARj1NsrEMJKmjiJKVs7zjxULHRny5aQRjmsXHLrOvrbP/AObDcnLgK1VoxuB+NOvxp18NOvhp18NOvhp18NOvhp18NOvhp18NOvhp18NOvhp18NOvhp18NOvhp18NOvhp18NOvhp18NOvhp18NOvhp18NOvhp18NPSFBVS4IcQsq3k0dyW/7Gd3ZaGj5MGspDxR9pxbY9PxTeae8PgXj0oXF/rSH0ckybyDWJeLtHX78+dIsmkQ0Xeu/rVK+FOzC91tbbmf1YRlrRpUW/z5huaFk0FSrIbbb/AM7zjtvxePwLx6YLrR8+32K2JZfRy8ejItIF+qt+/E/72X+ueV7mlpU7rc233WpnBaUKXeeu0WaepoUIT8Qsfiu3KDRCJm2sm737rJQ0JahqngNlfwLL/MDx5tm5xJbmjijVMINUwg1TCDVMINUwg1TCDVMINUwg1TCDVMINUwg1TCDVMINUwg1RDBAjqZkA7T85raKnm259JcbdRMNF03Tb97uZ0qizjmiTFl9dJV7o62Kd1v7b39fwLQIXU98MW1YuxXCq0MF5KPRUqujRFN6zUOZ8yKajhCqKLpssZ06bNaNXrR0FDkTJWRYUbkMU5DykaVWze6lw790dCtDoGyYXo2i7cQq3gvo7N/EP9Lb/APoyP71c80vDGSuZotPRj5vItvrrhP4IKFJ5cPtvf1/AgFHSdxKOXlxSUayRj2d4v1GMSROMpH2ag8IeNRTibz7QGzZMyDxppu048jOMQjFaXE6XaUvC82SK0Vb0EhJQ1zLZTENoSPTjrGT8mb37o6FaHQNly1xi/wBJaP4a/Szn+tNfvV7NcVb9vRaktIN0U26H115GrkJC0KXbe/r+BaFf5TecUalbbliSjK/0DHjIGaavWTSSK7lL8amonHo6gELVw4qIxSk7cM+dDV1zqJqW5ZPt/tATUI7YO0XrOzzlrcm/dHQrQ6AH7pFk0t5ssY30lr/8Vdjq4IlurqeKGp4oanihqeKGp4oanihqeKGp4oanihqeKGp4oanihqeKGp4oanihqeKGp4oaniglckOdSlaGpvKqJpJmuGGpXUUKNRQo1FCjUUKNRQo1FCi55mMcx2ooUaihRqKFGooUaihRqKFGooUITkSup+xy9wtGJs8nVxmlyjNLlGaXKM0uUZpcozS5RmlyjNLlGaXKM0uUZpcozS5RmlyhWRuNVKHrNxbbNLlGaXKM0uUZpcozS5RmlyjNLlGaXKM0uUZpcozS5RmlyjNLlGc3AkIu5mrk/wBBcn+V7s76d4vf1++9b1cptrXZtliE7kU7XYpOPIJVqrZ7Ayscxbx7aQakesmDVNkzaxiDeUDy12Dh46teMWDyEbOGsTDpRlXzRB62RtNomdpa8aivv3R0K0OgST9rHoNWriXd/SxP+O5hciiqh2LNsyQ+EuikulDUNHTG8ijSdkytWpaYduMO3GHbjDtxh24w7cYduMO3GHbjDtxh24w7cYduMO3DmOYuU4WqrCU/SZCZSQc4+fGOnxjp8Y6fGOnxjp8Y6fGOnxjp8Y6fGOnxjp8Y6fGOnxj58NpylHO/dsodojAwaTVP501DN36dpyCpVvn0/wBm8dnaJVKrBlcMu0D+ReyRvoLo6Fbyc6tEMIRq3X+mdf693iT91fEW96b1n9O+A495fpE87qxiIFgVhH8eQaIPmlrOFVozeLTG3twDVoUubRYJJxx689tfxQszHHfrKESSjJFpJJca4qYS4+E/lVaPP5SO66R3XSO66R3XSO66R3XSO66R3XSO66R3XSO66R3XSO66R3XSDubiaUj3iD9rttT/ADlXVSQRovJTdZW3mKcHbVp0IL2/D74Rq0LTbWvdSlaVpwLo6FaHQPp7uKYjAqhDJSfur4i3vTes/p3wHHvL9Ivb2xTl8C1ue9Ee8eD2hIpJv3tuxjlpYkg4I/FDkrU5SnJVBJv2gqkIqnGMWTBIFMU3FvP13BUN4E7NT/6T4ETTD3LsuhyZtDxzYrNgcuey9PxTZe/r+DeKS7AWbImfRgviUWTcWo3MaO3L9bmInGdN2X43NRnb/Q+BdHQrQ6B9O78jCyEs4M0ZusbI7kjOv5SSQtj/AI3Q2mYtCn5pX8UibgMrd4uZqZSPtFF3MBW3laktDF0jd1b3pvWf07fVUIklBXOvJTm+495fpF7e2KcvgWtz3oj3jwe0b1bucXo2s2DctF5h2rJXDO260Sj7OlVJJg5/9FuJuovG9nfTCqGuCem4RyyfXRFY+P7Pjtzsn7JvJXcWlCl4F5+u4Ln01oe2/gM/d+xT/srodKeU2tBPy7e23v6/g3PSlXjOtbfut2uRs2kkDmt21fb81KrkfypJ2NbQMmSUYnkXspLXilItk2BypxLVaTmiRcw/azd+9Dt/ofAujoVodA+nnYsks1krRk2wtE6xZzbdjgza3uzVEvhD+Yt9wjHPmj1K7nZ0Iq8ocrGPt99SRiZzolkSrOMpN3YzwCFa1Q3XBilvPzkR5qQoYtdi9zvo6biJ2Ok6Wf07fvF0q6cRiCbC/N9x7y/SL29sU5fAtbnvRHvHg9o3rCf/AIBTYG/3VS0bdnKJ6Ec/+iyvTOzrplqOSx9xyLxFizQMY6Dqum7qtFE+C4N5+u4Ln01oe2/gM/d4m35Y6PgGNWMfczgyhGyJG7fbe/r+Dcvrb8YecxJIKTTC+ylJA2r7fZqeG/3RaHa2RVUjTs6MXwdoXTZDxaQtOOi30SeHhGit+9Dt/ofAujoVodA+nk5FnGpSV7C23b5/ce26GxncD2buiFWHaWWnmxZaFjHhXsxcz+NuF60sB4ZrIznROzPlMx6cnHpLoFX3ZRm2fXbpuEGmoQVtiDqNMQ4fR6p5yGs03fZtPDGb0o8Sj2FouGVFll0VO0Dfce8vg+Kg8Q8Q8Q8Q8Q8Q8Q8Q8Q8Q8Q8Q8Q8Q8Q8Q8Q8Q8Q8Q8Q8Q8Q8Q8Q8Q8Q8Xy729sU5bzx03Zt9WtDUj7jYP5DftbnueejiBEe8eAbv8MrbTqTXjUHbdMXBBt5YuUTC7Zo0SZs1LcdnlZBo8dMICEcRJ7gttGTWirY8lwLxRTfOEyFTT4N5+u4DJ61eFc+mtD238Bn7vXVTQRjSKS8g+mqVVhozB7t9f8XVPzTgTpJd27T8TtpasIeNWutCUkkbapINmVzQjhw7UeTjtlBRicZHqRErDys8hPyraJbvMtNDzkO9imcq7eXc3kH7e3sYnH8C6jUpB2mWpYD6eSatXjN6zOiWLa4N7uTFsq0eoSs6mWVjJu4V5Cr5rG2c2kGCB61oSRiJ1Wck1phzE24zuGGqs+uepbTYSCC26t703Ekkktln9O3rhXrN3DkMOJpFBjee+495ceorXv+eWvf8AJvb2xTlvTKh567DFQZx/Zs38T3fiJZBg41IzGpGQ1IxGpWAvCQI8mIe73jYW4uR1c/xLoj379G34ZRkpwr2r3PNTRo1LGjUseNSMBqNoNQkGoBn9RiFkXkNdL1Ytoe296YkUIxlHL3FOEjZmSZz++/kFY+6DST+akcnfPKM2rdmju3YxM9i7YkSumfz7hc1kn7VErdt9PdqpixNWLYzCT91fEW96b1n9O3ZJBw4aMLRXZPDd9Su7PXduWCSyDTece8uOav5+fT8fJvb2xTlvWN3Vue+pYjdj2fN/Kgt+1ue5dME9lp2HtiOYCI94/QXn67gR9nGVXSZNWLG0Pbe9f6qjmZaokbNpk2Kv3fZ+73rFo9IZlIw4i37eRbb01AKYgs9IMxqog1UQaqINVEGqiDVRBqog1UQaqINVEGqiDVRBqog1UQaqINVEGqiDVRBqog1UQaqINVEGqiDVRBqog1UQaqINVEFbqKDPJqYEBDJRhPqJH/YuoSfur4i3vTes/p3wHHvL7AnL497e2Kct6StTzZK7WLeJj4VvhYnftbnvRHvHgOjLkRSuyuZbHF11pKNTODpbTfiik9I0n9ilalTRnZBS5ODefruC59NaHtvevJM7O5n9yxbdlZMY4Ve77P3fsmGSrVxHu0XzTerSlR5SQ8pIeUkPKSHlJDykh5SQ8pIeUkPKSHlJDykh5SQ8pIeUkPKSHlJDykh5SQ8pIeUkPKSHlJDykh5SQ8pIeUkPKSHlJ0+rYf5btFyVq1fEMU5PhsD0kLn3rYNRuv8AAQNR5d3Gry+hJy+Pe3tinLfu+Ll5CYZKLqtt+1ue9Ee8eDPsqrO7UkMwiLlfYCJaM6sLrDubbpOo6fZu3QUn0KuHD5KQvFyui2QWuZBIjF2g9bOf/ReDefruC59NaHtveWSSWTSiItI/AZ+79rf/AKm4d2buGjZWjG43wyCWGQSwyCWGQSwyCWGQSwyCWGQSwyCWGQSwyCWGQSwyCWGQSwyCWGQSwyCWGQSwyCWGQSwyCWGQSwyCWGQSwyCWGQSwyCWGQSwyGYoKvJ+HrEyTeSQ+ot78yYUIVQmQ1QrlMmMpkxlMmMpkxlMmMpkxlMmMpkw6jpNBrFMpV5HZTJjKZMZTJjKZMZTJjKZMZTJjKZMGg3Cwat0WqG9KxSL42CuAowdwjB3CMHcIwdwjB3CMHcIwdwjB3CMHcIwdwjB3CMHcIwdwjB3CDRs0vSPZt2DbjV5fQk5fHvb2xTl8C1ue9Ee8eDDpEXlbbVPC3Kr/ANrdcl/6DOuTNIjs/IXKe0JvQhpmSVLaFloERt+YTKS/L2VOd88QnnTS04l5Ekc/+i8G8/XcFz6ez/bfwGfu/bdqRqxKChVkNt1SFWMba8WRs2+cYtDFfpGt+ZIahyfT2v8AlXh3Mt5EBFo4eN+wry3Hs3HNa1upkNVMxqpmNVMxqpmNVMxqpmNVMxqpmNVMxqpmNVMxqpmNVMxqpmNVMxqpmNVMxqpmNVMxqpmNVMxqpmCXSwrVlIM3u4Tl8e9KVrbKZqGT+Ban5LvRP4vHgGMUlLceNjTvaAxqLXZ4GJkXSGuZFAkhG2a/LGuLwVLJrXBGVVtuz51s3ZS8m0Vuy9UavWMdd7SrWBXcvA5cIf8A8gUrStOBefr+E0X08rSZia0zmJGcxIzmJGcxIzmJGcxIzmJGcxIzmJGcxIzmJGcxIzmJGcxIdXBFokt9o4JXbLF8cXbRvFAbby/yy/Bk32BSaXS0drU5S0+hGLR7rGN9k/PUixGuKu4/jXkShoe3D1PCfDlHyMc0JqR3TC3GMLcYwtxjC3GMLcYwtxjC3GMLcYwtxjC3GMLcYwtxjC3GMLcYw1xhpJu0Huy0f+TPh3N/sr/Y15bK1pSkhIO5l3H24xQLRgxpTAshgWQwLIYFkMCyGBZDAshgWQwLIYFkMCyGBZDAshgWQwLIYFkMCyGBZDAshgWQwLIYFkFI2PUpJW5Qot2YOufYTl8dyim4bspA8LSkzEjOIkZxEjOIkZxEjOIkZxEjOIkZxEjOIkZxEjOIkZxEjOIkZzEh5NYsRLIkfH70x3xd1FrQxd9dFFdPK4wKppqprJJrJ5VGBBBFuR5HsnlWbJozoF4uOXWy9j54yeL82tKVLlUYEyETJwFTZvdnCNShi5ZHDLI0ZZGjLI0ZZGjLI0ZZGjLI0ZZGjLI0ZZGjLI0ZZGjLI0ZZGhBo1QruKFoclnHrk226/cXCNTT93iRpSTukOZ+LQVjn7SQS7QOhxbtuzt2PkWUgDTsUVcPZ6LaKx75o/S4N39EtjoPw5KnnXV8C8E6Ht9seqjd0rRFtaCdUrd4cL/2Ez9jXlsvF5VBhb7ArCP8AlXez8o0a5o7YgnL5BilOXLI0ZZGjLI0ZZGjLI0ZZGjLI0ZZGjLI0ZZGjLI0ZZGjLI0ZZGjLI0JJppE35mOTkmbORewaiU7FqFziMGcRgziMGcRgziMGcRgziMGcRgziMGcRgziMGcRgziMGcRgziMGcRgziMGcRgziMGcRgziMGcRgziMGcRgziMGcRgziMGcRgUm4slJCacyRreiSxjb6AtctufbdfuLhX6w8+OtqWIpbloIHwTtMyrWHwtuM7Lr/J7/wChW/SlYHs4/wD1fNKZ1dTs7KDgjPG8Rb0XKMp/g3f0S2Og/Dde8fgXX7dY+iu5WqcE2Sog24VyulCosGqbJn9jXlsuf/JcXy7gLQ8LZpq1hgTl9iuii4TVtuKPXS8WNLxY0vFjS8WNLxY0vFjS8WNLxY0vFjS8WNLxY0vFjS8WNLxY0vFjS8WNLxY0vFjS8WNLxY0vFjS8WNLxY0vFjS8WNLxY0vFjS8WCWzFFq1at2pPoZlgWRYwUid0TZdfuLhLJkWRQZu0pdMhU051dVtD2W4jUGFvSDRK57+NSsFble+CsRwi0eXfINXMtcyZZO37UuJqmxby1JCX4N39EtjoPw3XvH4F1+3WPopL/AHbl4T50iyaQDZZZb7KvLZcHuvdkJxyjLyFyvmAPNS5EIKQzOO3Jp9Kt5XfuibkI0MlDKs9yc6PZXSATl+5zEXijv7hO3jbSubwi6/cXDwLbMgYpTlRtyHSXyaNx7+Ij36kfHNI+j23ot46cQUYvVFJJBN5bkS6WYMmzFDg3f0S2Og/BfyLNioU1DFde8fgXX7dK4SaRFsIKVR4JzFIRAprge/Z15bLg917qDVNJ32kc2XolFo6CbarjsG0mmK8Ue5UyoMHaD5qtc0aV3Ky7GMBrojysYScZy1XK6LZBa5kEiMXaD1tJTDZk4vKUK8bRfTdyc6PZXSATl+6doFXCyDe2ppYKNX7J/wDQXf0SEXmyxeJuMYq4xirjGKuIYu4hi7iGMuEY24RjrgGYzlBmcyM0lxmssM1lRm0oM2kxm0mL4duXRYmYkI00c8cvrj3pxWRI2oeUY3dOJTD17YSzurzeuv26zZPpUvBOYpCGqpca6ZCpk+zry2XB7r3u0jmy9FLlKaL7P2bZVnMw7RxEO5FI8H2edFu4pS3ReBS1t2xWyBIaNJRG/wC9lTnfPEJ500tuNdwbSw/9p32jJlwUX03cnOj2V0gE5fu11+4voLv6JbHQfg3TCqzJ4iBjo0OveO+z/wBvtEuWTLGRloxpo6K3rr9usfRcByui2QoVzcR0yETT+0ry2XB7r3u0RdJRaKXSXYTSqSUX2drpUadoZlqRhpqN03YT5JNteDhHUt3Lo6dsdZLIGjhDX9/M1VUI672lWsOdxJoW69rb8tfEoyeNbdet3kbuTnR7K6QCcv3a6/cXANTvLcz6ZiXkG+pIxgu6fdtpKDTeYTcvk8k2Tja1rHbL5PJNjI//AC4F39EtjoPw3XvHfaPlIm6IiKevn+/dft1j6LflZNtHJt451JLfbV5bLg9172VRgbtGjarls2c0Tjo9M6ySaybZizbUatGrUVi4ytTRseYpI6PIMqjBQtKFyeL80PGLN4KxUdVIhSkLuTnR7K6QCcv3a6/cXBuFqR7cdkujsZSTdkYsJtodGLjOmyUurSSkZSbhzMnKTxq6l3TiVvNWUKmzVIhDJvZyQb25PGfuO0f/AOKP/wAeBd/RLY6D8N17x3/CXxcC6/brH0W7WvdRzMKu1YqISaKfb15bLg91/LnOj2V0gE5fu11+4uDIe8L4anZyT12W4HPaP+E4zptlqVUuS6EiqwFkrKEtvs57ql7Rem3KYxbLhI2jiIZwDFlJ9o//AMUf/jwLv6JbHQfhu/eHwLs/FusfRbkpLtGJsBIy9W6KTdH7ivLZcHuvj+Ivi20MWpt+c6PZXSATl+7Xf/wnOAavcV88XPcsm3JLw1kRh2TK8zOZM8C6qsylY97ETsnKLSzCGjiR8Wm3kral7odvpVo3aupK3mDidt9SGJIv3180cvlItxiWnAvE1KQttUqWD+HPsl16I3JHd2ooUaihRqKFGooUaihRqKFGooUaihRqKFGooUaihRqKFGooUaihRW44ULqnuJTbJSrGPHimpYRkWzjqfdV5bLg917s4zxDS0ZhySWFwPsuirRxUnIFp4S7XiFXCFkFqSf2P21XTfs878VvznR7K6QCcv3a8mJnMdbkiV8x+fPr1lpRFMqKPxDkIcYdAYdAYdAYdAYdAYdAYdAYdAYdAYdAYdAYdAYdAYdAeQhtkJpgzN4Z2TEbEMWH3teWy4Pde699G/Y101APqSMU8/wC1ujs+6rLv0o1gzSnJJnATjqslcEoSKYItbgXZ2GY55uUkHJ5OaXnIOsa6I+Y9n3rHr507uCmbs5/dnOj2V0gE5fu8rAuG7lO5XTcarRGq0RqtEarRGq0RqtEarRGq0RqtEarRGq0RqtEarRGq0Qa7mxa6vail2t6jVaI1WiNVojVaI1WiNVojVaI1WiNVojVaI1WiK3Wl3HfTM0IGHSjE/pHLhBsmaeq5Nlcm+EfHMmBfvq8tlwe69176O3mxHln2/JmgnNptDt43s+6r2jePBwpyqRFxkrS9u0E//ZUrStLP9zETbOL4NbkOYRJWZGPZ96y44Mz17DzzxCQ3Zzo9ldIBOX7wcpT0wzYYZsMM2GGbDDNhhmwwzYYZsMM2GGbDDNhhmwwzYYZsLmhEZGOMWpTWipEMWiaTJUuGbDDNhhmwwzYYZsMM2GGbDDNhhmwwzYUbt6fSOXTZsU1woqm8m4Xob29HEULShS/oFeWy4Pde7MqPKNrXLItGU3b+Nn5BZyilbUfNRT6YYFlYyFNNw6UVFulpe6YfNWkUrdDZvARs82lbrgF3bhuW7XZKJ1jo21WMvGPD0mGdwumTuamN2c6PZXSATl/RD23EHFwOG7dyVS24qpsokkR/JkRmkskNRtiBK4oVUJSDBUUrStPo3Dlu3orckUU2ZTDoZbLug2t6KRMUpSF/Q68tlzf47j+XcBqEhbMLWkOCcv6PVboLBWDiFRW2Ijv0/QoyqVIMNcZB33QQYy4SDNpQoz5Qo1G0oNUQwLccIYFm4gwLJxpgV40MCqJm45zkJRSSjkwrcMKmNRtjjMplUeG5lhkrtYN7eh0apJJpF/R68tl5NKrMYF8V/H/KvB54xGNsGwBOX9NmQQMDR7AwNDRJgaAhqg1tQdRpeFGmY0acaDTyQ0/QZCYZEqMjcDJXQyZ6Mme1GRK1GnyjTjSoJbMKWqcNEphJs2S/Tq8thqUMV8yeQbyPuFg4LR40rTFNRimoxTUYpqMU1GKajFNRimoxTUYpqMU1GKajFNRimoxTUYpqMU1GKajFNRimoxTUYpqFH7JOknchBbsOokrsJy/v6vLcewMc5rW1Gw0o3GlG40o3GlG40o3GlG40o3GlG40o3GlG40o3GlG40o3GlG40o3GlG40o3GlG40o3GlG40o3GlG4JarSlWEYyZbhOXyFFUkxiWwxLYJqJqbDVoWmJbDEthRwhWuwy6Ba4lsMS2BTFMUKKJpjEthiWwTVSUqK1pSmJbDEthiW+066JDYlsMS2BDkPQHOROmJbDEtgRZE9dmJbDEthiW206yRK4lsMS2CahFKA5ikLiWwxLYFXQMbZVw3pXEthiWwpWlaBRVJMYlsMS2Caiamw1aFpiWwxLYUcIVrsMugWuJbDEtgUxTFCiiaYxLYYlsE1UlNla0pTEthiWwxDeu0y6JTYlsMS2BDFPQKHInTEthiWwIsieuzEthiWwxLbadZElcS2GJbAhyKUBzlJTEthiWwIuic2zEtxiWwxLYUrStAoqknXEthiWwTUTU2GMUpcS2GJbArhA1dlXCFK4lsMS2BTUMUKKJpjEthiWwTVSU2VrSlMS2GJbDEN67TLolNiWwxLYEMU9AocidMS2GJbAiyJ67MS2GJbDEttp1kSVxLYYlsCHIpQHOUlMS2GJbAi6JzbMS3GJbDEthStK0CiqSdcS2GJbBNRNTYYxSlxLYYlsCuEDV2VcIUriWwxLYFNQxQoommMS2GJbBNVJTZWtKUxLYYlsKOG9a7DLoFNiWwxLYEMU5QooRMYlsMS2BFklKjkMS2GJbDEt9p1kSGxLYYlsCHIem9Xl9CTl8iYYrO1MmdjJnYhmazTY+SMs0yZ2MmdhrFOk3Ox5FuVXWTOxkzsRyRkGYmWirsuTOxkzsQ7BdquHBanQyZ2MmdgkO7ofZJRrhw8yZ2MmdiKbnbNRLtlHTbJnYyZ2IuOcNnYryyZ2MmdjJnYTp3JiWj13TrJnYyZ2Idqo1REmgdwzyZ2MmdiPjHKDzYtEOjK5M7GTOw0JVJsJhis7UyZ2MmdiGZrNNj5IyzTJnYyZ2GsU6Tc7HkW5VdZM7GTOxHJGQZiZZquxkzsZM7EOxWaqh0SqjbJnYyZ2Eoh2VXZIRjld5kzsZM7EWgds0Ew1UdIZM7GTOxEx67Z0D07yZM7GTOxkzsF5CVjnDl1kzsZM7EQ2UatxKoHctMmdjJnYjY1w3e7FIh3U+TOxkzsNiVTbiYYrOlsmdjJnYhmarSgkEjLs8mdjJnYZxTlJ1sdRTpRzkzsZM7DBIyLQTLNV2MmdjJnYh2KzVUOiVUbZM7GTOwlEOyq7JCMcrvMmdjJnYi0DtmgmGqjpDJnYyZ2ImPXbOgeneTJnYyZ2Mmdgv4KJWOcOXWTOxkzsRDZRq3Eogdy0yZ2MmdiOjXDd7sUiHdT5M7GTOw2JVNuJhis6WyZ2MmdiGZqtKCQSMuzyZ2MmdhpFOUnWx1FOlHOTOxkzsMEjItBMs1XYyZ2MmdiHYrNVQ6JVRtkzsZM7CES6IvsfxblZ3kzsZM7EYiduzEw1VdpZM7GTOxEMF2rkK08SWTOxkzsZM72ykc4cu8mdjJnYiGyjVtvV5fQk5f39Xl9CTl/QxjFKDvWZAaXiig07DlBrkhCjVEKNSxo1G0GoUhn9RnqozxcZ25GdOxnTsZ25GeOBniwz1UZ8cZ/UagGoUxqNsNSMRqaMGp4gapgxS54MUuOEqKT8NUUmomopKxlRR+xqKOW1RQ5K/qteW2Qn2DQ2p3JxqN+NRvxqN+NRvxqN+NRvxqN+NRvxqN+NRvxqN+NRvxqN+NRvxqN+NRvxqN+NRvxqN+NRvxqN+NRvxqZ2QMbkYuK0rStNpOX72q9ZpBWfhkxqeKqM/qYZpLnHn3KceC5zjAz5xk78w0+Wo01HVBbYg6AkDDlBYmLKCsWRQVFIvyKlLUVQRqKs2dRWNjqisRFVFYOIqK29C1FbZg6jS8KNNR1Bp1CgyE1Bkz2gyuYoMFcBR5Fy0H8pKPPuUox0+UZrK0GeLlGokKDU8TQEuWEMCTUQcEfsTgihD/oVeWybkXD95GQTRoWlO6nx5GGZPCx7x1BvqV76bCcv3NZwgiF5+GRGo2hxm0ooPMuZUYK4FRkbg40zGGCUBDJhJmzS+9OkkcHjo84PBxBwe2YMw01HUGQeEZRJFGCuAg8N0EGJuMgzSXIM+OUamjShO44U4TlI1QEUTU+2ryFwu6s4q0WVEWPyrjZUdxtou6uIvYTl+2uHrRsFLkhymzxwqPPuVYYCdWGniKBG3IZIIM2iH6koggoFIiKUB7ahDjTjQoyZ6QYO4Ux4rnTGYzaYz+pBS5ojvRmYpUJqpK0+sryF81/0Y8tCsPl2R/xc7Ccv2hzKRzYVuRkeuPnVxhbiXGnyqhvAQ6ATTTSLxr4eyMavApuyRyTydfzbJJVFs/eTRLmbkMmj+mVpQ1FoyOWCltQp66eTIMtmkh/J0hmcwkNRtSBCfhlgisitT6WvIXz6Rl6PdfyrJifU0KNTQopWlafCsv12wnL5MrPRsbXWnmH1cZENbjh10oKSpKsXd0t2g1rFjWsWE7xiDVYP2b9M9fCR1dbVqbWsWC3pFVDG5Ih2bZKSzCNLrFBVQ14JIni5mOkvtnDhBuVW5Iops0lXAw1xOBp1uqG0PFthT8U+He6qa9yv5RWedxTBtGtBbX+/ev6quzaLha3IZSuQnTGHuNAZhOIjUjNMNpWNc/Q15C+fSMvR7tz0pWA7PukTTFtJNy1Kg2rIsKNynIZPNYzzAq8aJHzBgElUliOX7JsZFVJdNd02QOu/ZIK0rStN6y/XbCcvkXncBmlYSPUlZOPYtWCByFUJeNuFbE7Pvb97kKa2hAlKaBvuGbJNY54uwds1yumnaAQprfBo5k+jpJtVk/7PZRVal2zeVNUSOJKQiY5tGNH7Nu+bSTZaLlLOnayaP2Dhw3bFUuOP8WMn3IyqUcBvbsSkZJJJEvyIpNOWvh4Slu3hzEu4wsX2bN+5o7eNmhv1pzERjkadbpDD3E2GbyDcM56Kcmp+fmV5C+fSMvR7ty9BtAsxWPhiyVLlvNkitFW9BISUNNf8HL2Ej12FivlvMpDN1JWXI3k5h94IC24rA0jrWSfM525WCbW4Jq32KMNZKp1IHesv12wnL47xcrZo4VOuv2at6eVsVTIqlARuVMbz9si3+hX6uRK3+YhEDNoi/fboZ+juJcjmc7OGxzSN0O6vJ2wEaKXBs7RkqFloN1VlLfWGrQtHU/FIGzKYdDLZhyG9vRSRkyETL8uYdKM2NhpOmb/tAanctbSdu1GN7qujsLfkHUXFNszmLp/XnjJm8LW3yIjz7gZBjOR7pT5NeQvn0jL0e7c3Qez7pPgJ5l1+3rJ9v3ZQ7G5k1CKJWcj587eEvVuna8RSMZ3IfMrbtKZbKx2ZkVlbt9z3D0Ow+h71l+u2E5fHufv0+OzjuyQLysagrnUQM6iReftkGmLgjYqQfO361q24yTKL99uhVO73jJhZTs5o5k3j2r3vo87N+r7O0r1dOdOX1Dlwg2Ie4myhv5G8BbdbqVatGrUp1CECklHJhS4IYg1PDDUscNRtRqEg1AUahINQpjUKQ1CiNRIjUTcajajUjMalYDU0aNTxQ1RDDVMGKXPBilyQgpcMNUUnYeopNRNRSWi6iklHVFHrOoouhUUMWv7S+Ys3ydY+TixEyiEhT49eQvn0jL0e7KxRJGkdAIR5xLRhJIkTDpRlZJi2kG6VueWkyaoM26tstDvDQVDFjWKLBi7tKPWWiItrGIvLbbO3LuJo6aREOjGV3rL9dsJy+O8RK5aOUTt3HZq4p5Yn45k6jhYMczPGXn7ZDNkjI2pIs1mDyx5nBuRfvt0M/R7LwZ1Zz1iL0RuHZ2hr0Um7ZZVfTX0zpy3akNcBF6uKyylCGtZBUks9OXxXMqMBNKjIUjgluQZQnEQ5Am2ZpjvKPFQeKg8VB4qDxUHioPFQeKg8VB4qDxUHioPFQd9NypCVFUUairVtUVYsqisbHVC8dDJEWXtItarWhUVrZ1RUtmVHhtEfxoeODoPPjqDGo0GZqlGdPCjUckUUux6UJ3kErwjDDUsSNSxI1LEjUsSNSxI1LEjUsSNSxI1LEjUsSNSxI1LEjUsSNSxIJcUSarddFwnxO+g8VB4qDxUHioPFQeKg8VB4qDxUHioPFQeKg8VB4qDxUHioPFQeKg8VPqO+g76DvoO+g76DvoO+g76C5GdfLRU8xHvoO+g76DvoO+g76DvoO+nHryF8+kZej+XZfrthOXyLut3MBFu3MNKxszHP05h02RjxYJTFt++XCSVvi1nCS8DecNmLMWZOletu0FwkSFEQ4Scxuy5IdOXZLIvIt9CTbOTby8wyjW5sXLSVrwpIhp9GociZJC6otsKzkvJ1awsiocsG4Vo3t6HRqkkkkU1e74xa78xIJRrNsyfzqiUBFkLkkWMkixkkWMkixkkWMkixkkWMkixkkWMkixkkWMkixkkWMkixkkWMkixkkWMkixkkWMkixkkWMkixkkWMkixkkWMkixkkWMkiwpAxZqPIt5EHgZQkm14Va9/xi17/AKSpvi0Nxa8hfPpGXo/l2X67YTl8mQjWL8qtmxJqp2ZElqzgolpUVteDqNLwQRtuFSVC9uQq62l4IaXghpeCDW34hq42vGjV4mtZ8OpVKzoglWLFoyJ9FJTMbHg8tNyApa7x6djARLMU/FNyvP4xOW7Md8pdBS0KX55KZRdfBP8AHLz+iP8AHJxK8hfPpGXo9x1RxVKlzv28rsUuZ8tLtaOKJbV/N8qMkpRS6tinj8tKSltWcCy/XbCcv01wui2SXulFRUrCekhGwsbH8SQkHGMy+fqMunhl08Munhl08Munhl08Munhl08Munhl08Munhl08Munhl08DNLiRpESBXyewm9Efm79xzReqRZycNLyEnPxhIWTQlGu24JOkWwkU7iQZxK67mO+Fdv4lOCfnsknqLBomlcTymXTwy6eGXTwy6eGXTwy6eGXTwy6eGXTwy6eGXTwy6eGXTwy6eGXTwTfPmDr6U3PZJPkI9uVzcC9PHco8dyjx3KPHco8dyjx3KPHco8dyjx3KPHco8dyjx3KPHco8dyjzbkKIuTI8U2F58OvIXz6Rl6PdmWOJXs5/jYm6XhmsYk0oxu0HmlF3TS4P+wXVTQRRmX70sG5xd6SLxBg1dzUm3QiZBCSaOf/AEKYkSR6UhNSce3py3bL9dsJy/S5GSYx5FbkkZJRra6jlRq2btUuLaVPEl8BanlXlsJz3Yf3duo/+hXU6Qbw3Z4gqVFyuk2QVmZCraDlm8qhezl0tSMdvVzuZY9XjK4e+RnZ0kYHF2+BJ5LpoEc3A7YLyEqg0ZtbpKu3h7ixcg5WSboVmn6raCmEJZF/KeS71Eo1fbt3dS4J+eyVp5tx/AuhIqtvxpzKx30huewpaOrv+Bc5aIuNhefDryF8+kZej3YQpTzEWY0DdKH/AGl0SPv+4Vjt4WwKFybtDQL5N0PVTWxDkInEsy0L2g3ooY0ovHSqyNuw2UUc/wDoV4xzp2khcSbtAlaVLu2X67YTl+kyMizj0nNwSsqtGWkTxoJJIJ8ez+n/AAHnvDYTnuw/u7dUQo5vqXZ5RONDoqNu0FUxY1NnK1SgICsU77Rf/mofy2dnJPnDOQtty/cX50O3UkywKdXDq9ZKEfyCBWeAtrs9ITATFPDfXaCqYsezKnRjGRTKNNb2LeS8nb7ySDNKqDTcu7qXBPz2P/dXwLi6FD9J+kNz2MPd3wLv9HsLz4deQvn0jL0e45cItkoGXYlmb9Yea2hW6URCvpBse7z4WVjrfeGgHs6rS4HN0RJnMNb9yotmTV8bWF5Ry0gxjruOk3g6OalcSLSt6z0tRk9utaKkWcOgo2i92y/XbCcv0ddVNBKUulRZSMtZZyo1boNUfg2f0/4Dz3hsJz3Yf3duOXCLZJKQbUvGQbtJuLgJZSEdXC3JOQkPcyse3gzO37q+3zZypHP2cg3Id7a8rSVcXAL8dt8Baj5u5irpau4+ZSutZ0R0ZKKtywnrZJtLyDQ93XMzzeGhrmMwawWLduJRN5b89qJzKlao0btty7upcE/PY/8AdXwLi6FD9J+kNz2MPd29IOkmLK1Lgcy7zgXf6PYXnw68hfNP9NhXvY8JRMilCFKSg8tPx0IQph5afj2d1AVJIht6yvy72E5fo05ONIsqDSXuZaKi2can8Oz+n7z65kivNTqtXdK99N957w2E57sP7u4Jk0zG2mKU1CFKSm0iaZN2qSdTitKVoQhCU3bu6lwT89j/AN1b0rItoxqwusy8rK3ei3UhHh5CM3ri6FD9J+kNz2MPd29cChpudsqlEbr4F3+j2F58OvIXS2q5h7WdUcRfypt1RnG2W2qlH7Ccv0WduQ51YO1ykrT8U+JZ/T929HxmMJYDAqEV2l1Lh4HxZJvvPeGwnPbL3FHRqr29lzC0FVV5r6C7upcE/PY/91bzhs3cVnSHlbzLFsaRrdFNujvXF0KH6T9IbnsYe7t245IsXF2ctGMWNtKErfPAu/0ewvPh15bH7dxAyUdItX6fyHrxuzS/2bjkUiFST2E5foahypkk5N7cLuChWsUl8az+n7vaSU9Y+2zJ1gJ5Stw3PJqvWqVurSJrv3nnvDYTntvpq3cNIyMWcTkLShbs4PfTb303lXbZJfaZ21K54N3dS4J+ex/7q3lD0TTsItXc8Llez5o2361rB7txdCh+k/SG57GHu7dMaly3XkUOI0qbW/37ojNpIzU1WV3rv9HsLz4deWxQhVCPrZJU+CuZIeRdQ8i6h5F1DyLqHkXUPIuoeRdQ8i6h5F1DyLqHkXUPIuoeRdQ8i6h5F1DyLqHkXUPIuoeRdQ8i6h5F1DyLqGFuhQNbZMdRuik3S2k5foRjFKV+5d3O/io9tGtfj2f0/deNkHjalpNiliYplGJiI/8AQN557w2E57W/+/dWEb46H93cBy3QcpPS1i51ouR02cKkboI98lcTZug2S2mp30eNEGV6bFC0Omm1RZ33wbu6lwT89j/3VvO0SuWsHDtYggvz25bvQt24uhQ/SfpDc9jD3duTbJw/aQtsLRb5yVU6GjlsUiU5Uby9w713+j2F58Sv0NOX6FcDtxMyEWwQjmfyLP6fwJFZ2gkya3C3n2Si6rbdee8NhOex0sVu1tNEycOIf3dwTscwWsF94krpOdyo7TKlfS6pEUYrFXCZ84fW5Ju3qLeOiG7qbRUQXa3jcsmdghJNSEY2fKqyTNz/AOhcG7upcE/PY/8AdXBuYs5JNbePLoobtxdCh+k/SG57GHu7gOFPJQuFw9fysY/x29d/o9hefEPT6AtP0O6pI7FnbsUSKYfJs/0PwHf5vHYTnsvBQxYNFMqSIh/d3BgOtzhDQlz21Sr57I+/7mKY0D2fqlNFdoVKZfPkVTsqz1SKW/N++L5N5UoiwiVkmOBI7c/+hcG7upcE/PZIfi6vgXHXugYj8RX0huexj7u+Bd/pNhefFqX51C/okCXNpv5StHMPI0uiEGqIIaoghqiCGqIIaoghqiCGqIIaoghqiCGqIIaoghqiCGqIIaogge54utIdq5q62E57Lg/ySuxH/UvTgOcRRKNYTbN9ckXmrBJAzSPcQU0tMN/PMgSEkYqQrFPZJ68bpO2rOFnYty4gJheVk4mkhGNYK4moiY8scyVhpo84l5nl8Ce/2rk4J+eycZKO0U7kaJU1RBDVEENUQQ1RBDVEENUQQ1RBDVEENUQQ1RBDVEENUQQ1RBDVEENUQQdLrXAKUpSn0hueyWKsxk28vFuE8wYDMGAzBgMwYDMGAzBgMwYDMGAzBgMwYDMGAzBgMwYDMGAPJRxSmWz2T2F58fuoO6g7qDuoO6g7qDuoO6g7qDuoO6g7qDuoO6g7qDuoO6g7qDuoO6g7qDuoO6g7qDuoO6g7qfoi/meS6vBw4j7Yn42jf5fdQd1B3UHdQd1B3UHdQd1B3UHdQd1B3UHdQd1B3U3Sc9jv/neGy741RckHMovU/nTEsgwTtJgqdbgn57ndQd1B3UHdQd1B3UHdQd1B3UHdQd1B3UHdQd1B3U+nNz2rRcasfJYkZLEjJYkZLEjJYkZLEjJYkZLEjJYkZLEjJYkZLEjJYkZLEgsPFFqWlCl2F5/t11tcHPWRCYJv8tabiUj6ghhqCGGoIYaghhqCGGoIYaghhqCGGoIYaghhqCGGoIYaghhqCGBZ+HNVM5FCbCc9nO99stbjV4fKbjQGBugYG6BgboGBugYG6BgboGBugYG6BgboGBugYG6BgboGBugYG6BgboGBugYG6BgboGBugYG6BgboGBugYG6BgboGBugYG6BgboGBugZXcqoi7ZboH4R+e14+ZsxqCGGoIYaghhqCGGoIYaghhqCGGoIYaghhqCGGoIYaghhqCGGoIYaghgyfsnn0xue05yEpiG4xDcYhuMQ3GIbjENxiG4xDcYhuMQ3GIbjENxiG4xDcYhvuF5/rz123ZoLXO5XUzO5hmVzDMrmGZXMMyuYZlcwzK5hmVzDMrmGZXMMyuYZlcwzK5hmVzB8jMPZDMrmGZXMMyuYZlcwzK5hmVzDMrmGZXMMyuYZlcwzK5hmVzDMrmGZXME7lfNjxz9s/R4cp5klLN49i3Tw7cYduMO3GHbjDtxh24w7cYduMO3GHbjDtxh24w7cYduDtGpyqIUg5XYTnsb/m89jhZJui6uV04W8V2HH8sH8sH8sH8sH8sH8sH8sH8sH8sH8sH8sH8sH8sH8sH8sH8sH8sH8sH8sH8sH8sH8sH8sH8sH8sH8sH8sH8sHm3WiI65/8pa0MXgn57Jt5gIyIhUECYduMO3GHbjDtxh24w7cYduMO3GHbjDtxh24w7cYduMO3GHbiWhW7kkE9q/jN59KFSX8qeWGDmhg5oYOaGDmhg5oYOaGDmhg5oYOaGDmhg5oYOaGDmhg5oYOaGDmhg5oYOaGDmhg5oYOaGDmhUs8gI6TSdKbhueycenZNW9uNDU09CjT0KNPQo09CjT0KNPQo09CjT0KNPQo09CjT0KNPQo09CjT0KNOwofMzQFCGKcgLz/RpGZQbOMymxmU4MynBmU4MynBmU4MynBmU4MynBmU4MynBmU4MynBmU4MynA1nE6ud5ZQiSTdNe45Rs3RbJfNWSTWTk2i0C+ZuE3TXhR3uz4F3en2E57I3/ndWyUVVnZpk1QZo/Olo1CQRtN4s2ecE/PZd/Sfg2n6HdnHSiCEYxSYN/kS7Cj1GGeVestpueyZ658Cd/MJBdFBef6LOO6sImAYFYMOPJMkH7O13Ky8Zu3krVKEtlGiMNwHLxo2Nm0WEHDdxuPXzRkSPeIP2ppViWT40wjRxF2KrU8bwo73Z8C7vT7Cc9ls/5HAfqVRY2SlTDb6sjHpKZrGBFZJYvFkJVgwCRyqpb9w/69w8E/PZd/Sfg2n6HdP/AJbr4EpPx0erW400yREw0lVOPG/4p/abnsmOu/AneiQXRAXn+i3t7Ypy+Ba3Pdvro8L0jgSiKS7Cw2TR4a7GBYV9DuqvYsxilFPyLybN1ISyPbp41hWTBjFLxXfpbB9Pwo73ZvlMU3Bu70+wnMPFqN2lpo1RgBMdIsrpm/fSKVYW1I1g4gZYhreuAte8oKYpt4xyFqK1pStK0rWtaUpfqDbCRnTd+7upcE/PZd/Sd/xF8Va0pQpimpv2n6HdJ7s37rkTRsPYUcnRlWlK0jo9GEd6piPC0no5xGKXG0SKu/RIwjJZvJM2U+ydPNUw/ns7ri3Drfa+59pueyY67vTb8kZG2isua7OBO9EguiAvP9Fvb2xTl8C1ue7fXR4XpHAeeksh7RnWaJKXE9dqpwUBARSMoxOorbE/d3t2zC1NbCaJ29+XVJmjIxC3GriNtFrJpt5ZilE3FPmbJQdpR1GUbwHfpbB9Pwo73ZurKERRbKPbslLohG8Qytx6aQht+7vT7Ccxdqhqx6RCpJCY6RZXTN++OgRE3WMt6MjXE+8DqRZv5mWVYsX1wsyScHZ6bR5ARCLdvdl2oJu136SrKCj4VnWDsNdddk8bu07uirfy2UYfySWvOKQYFjOm793dS4J+ey7+k70xR8ZhcTHJZJeMk7hZ2hGrRkVv2n6HdJ7s3+0ZMxoayVKKW29bUdI2dinsrZzZCtxXKRGlyvmybtnYyymWdm/SIb3/AB6aZu0PtEaJGjIU51Yjea+59pueyY67vHrqidN/h7RuBO9EguiAvP8ARb29sU5fAtbnu310eF6RwHno+zf/APYvlI6kBZDgq0B2gE86QuqnhtmyPbrr/wBF7RUzVYQL1N/GIviLSd3x+PiI12pNpcF36WwfT8KO92bt8rVSt3s/QolA9o7mhI2NclgrPNMzeAgpNKWY7t3en2E5gv8A2F17JjpFldM3746BbDdJ3acYutbc1StK0tp2SPuB85SZtWx6rtWjqtuzE5Fqx8db6uaydwP6xsZBR6b5r2d83X/oT0pjs+z1wQqnaF02L6bv3d1Lgn57Lv6Tvy5aSt9U/Aczrg0shcDlCW3rT9Duk92b75sk8aMW8vbLrUiJiWmxexp7WM4azV4xDh4Cz9TsbYhjx8Vbi8lB1iUJdG66OVGt9y2KuNVMhU095r7n2m57Jjru7eskZqxiGNyxjRarwl61rSlFbliSGipRjJk3Z3okF0QF5/ot7e2Kct5Q5Ekz3RCFUbzUa4eb9rc9qypEUklE1U766PC9I4Eq1du0om3HcWrTkoQqiaVvO493Hw3lv52PcSTaEinUYgpbjs8q4akdMdHuEloeNbxjU5ikJZbROlOC79LYPp9xZQqSTVyg6S3I73Zu3GwrJREDJvYdijFSM/LnSTUJdUmmwjrQjFIyJ3bu9PsJznH9I9jAsasI4MpFm8PMdIsrpm/NxLuUpCRbuMJPxCUs3h4t9Hift1CTVjbW8pYSUMm8l5RoV9HwzKkfHSzFORYsLZUSLH2vRq4Vtx2pJIUUKlJ2zRV89tp28TiWFI9vv3d1LfxrXGg/PZd/Sd6vKz2Tw1wjwIp17q3HdG9afodqrtsk5BPdnwFDUTTYOfLvIpqGLvtfc4TVSVqDc9kx13cknrePaMJVJ3dpq0KW4JJFzcjVdCRYRkeziGtnkxFy7s70SC6IC8/0W9vbFOW9crleZuBOOj2cb2cN/HJb8RKosXGo2w1G2Go2wmZ1uvExsm9jlJG4s2i4XpHxC23MKOW6KbdDgu/S2nKJMUtRthqJuNRIjUFBIzlVI9k8dMlbZuVy/U2x3uzgTUgnGR0DJRNHMFLklt67vT7JR+qxTZu3Z5HPVBnbmodKqUkWFySarOyumfQXmapH2cvRnL0Zy8GdOxnbgZ6qM9UF2uqupqFumRaVbL4lDZd/SeDdcuk4kU7hhmLbetP0OzP6i932OdQ1zyDAQz4khP8AynEgkwuXUseHsisnOQt5EMKGKemyY67wZBwvcMg0PHMlN2d6JBdEBef6Le3tinLesf8AzXTe0mRlFdnbfy4bftbntmklF4iHsylBd7Zu0goXpHz3fpbB9PuSCZlWEPZiZQ3QRbI7Y73ZwHDdByTKYsNmzdsXdu70+wnPa3tDznzto2ZQVldM+gu7qW/N224lZ6JhY+Mofnsu/pPBUjI1Q5YuMKbetP0O26oN3LyURbUbHgnuwXBKpRLGJaS02lJxMoya2mqda3uFmKFZfZJyKDAOiGVbW6wcxzHda+5wa1n8hLxNvxscDc9kx13gLp+ahoqLEPbbGLebs70SC6IC8/0W9vbFOW87tqSbzF1sKsGNvt8LC79rc92+ujwvSOBOzDyKFvSxJdoLglSRLKCmHkrTcn37qPa2tILyUZsuOSdxra2nq0hEcB36WwfT8Lx0ZXb8C4j0cyOwnPcmOkWV0zgPkV1koi4ZAsuHKxG7eIl5iUl0SmIltXooZKLVfUvLY5KqdC3Vnlbr4N3dS4J+ey6UFF4Vg6SetOO8cJNGtqpKJxG6T3YO0M5lJpIhUkhcMglb8VWIkDsbdl38o2tlabl6NnE2yuCezaBVvl1JNEHcXPOGTWUdSNs2zVWQtmy3Dxw5iI/xXfMZpWSkl1YWfu5p3XMs1eNYyyn6y8VDqvLhMrIPoCbl3U03ui4KTEIZI9FEmvufabnsuGvkP/gXMuRCBikjIRgLz/Rb29sU5b98JPnc0xXxLXftbnu310eF6RwL5/MFCnNBXSLpMaTcWD0J+8bsW6lyJJEZOkHreUkWsahNzhTxVgdCfS7ds4jbhZvHd3e3bI9u8B36WwfT8J+zbvmxY2WRpgp4YKeGCnhgp4YKeGCnhgp4YKeGCnhgp4YKeGCnhgp4YKeFWE4YRka3YU2E57kx0iyumcF4w82Gtd/mETdBzOl4IhU72WUIik1kJaVpGTy+ZvXKTRqzeTskhBLKr3pMSWBpJv7gjU4p8lIsoL3vwbu6lwT89qsMZNfBTwwU8MFPDBTwwU8MFPDBTwwU8MFPDBTwwU8MFPDBTwwU8MFPAkKdZbeJ7sHaMwOatvyaUnHHOVMl9qFeM2i5HLW1U/Nu3s3/APkv/wCk9pHS+0HoyKhCMIZA1bcsY5NM2CYppOF/F/zcmu4n7oaM2MveNe65XlaYWzkjL2r2crlrH9oRMQ4nPxfnaR0dh6Fr7n2m57HbdJ02SQnmBfPuUefco8+5R59yjz7lHn3KPPuUefco8+5R59yjz7lHn3KPPuUefco8+5QjGu3LrYXn+i3t7Ypy+Ba3Pdvro8L0jgXv0PtAYeNBGeppN2xwFjWD0K5FcVdzhFNw3sVRRvMGUzG/bnTKrAWOfyrbtA0qqhKwMzIP7t9uWR7d4Dv0tg+n+cTnuTHSLK6ZwbWSIvF28vWEn7ZKZ67h/fd8HOSBtGpa272gE8t9f6p8uifDSKafjtBmv8t7LwRF0oVg2jm8F734N3dS4J+fyie7AchVCKWq0KuS30jmcNkHDZvAVbJoxaDaPiIBCKUNbTc0hLwSMpW+m+FhU7eSVaFaNys0LSjklo+345k7kLcZu5KRteMdhxakWq3f22wdsyQqKbKGg0Io7qBbnfMohFF45ttu4fysEjJ0j2uDatfc+03P4xef6LelKmtlM1DJ/AtT8l3b56PCdI4F9uESxCmGkGVuRS5p+9F0iQFgLpZRe7VdtIoTcaqwspmod1N0Whbrm56MXhLFdtjR0U+XtqUXnqSlbxUTTt6xlUzQPAefhpYPpvnE57kvTvirKr/13AeuqNU7TXWbp3jDqvHP+KMYRuNRuV+3TlYqCdO4Exmy89M3PGVk46DlZGOQa5rqq7Yhy9KznLgqSMbmjo2KM6Quan5pwLs/MrwT8/lE92cKcgqSykc2UaIcZp7n2m5/GLz/AEVyim4bsn54SlJqJGcxIzmJGcxIzmJGcxIzmJGcxIzmJGcxIzmJGcxIzmJGcxIzqJDyaxgiWRI+P3bia1eRFnPSrMOArHR6qjZq2bAqaZVFmDFdROOj0znKU5SwsSVSn4o4QRcJpRUakRs3QbJu2bV3RmzasyuGbRzVBiybn4F0vStYy0WtW0Px9WxuM2atjcbs1bGYzgE57hi0MWEUrEzXzzVoUrLvmbp4J+fypKuEnPlQP+w62m5/GLz/AEYxaGLlscMtjhlscMtjhlscMtjhlscMtjhlscMtjhlscMtjhlscMtjhlscE0yJl35yIctHjC525y57EjPYoZ7FDPYoZ7FDPYoZ7FDPYoZ7FDPYoZ7FDPYoZ7FDPYoZ7FDPYoZ7FDPYoZ7FDPYoZ7FDPYoZ7FDPYoZ7FDPYoZ7FDPYoZ7Eh7c7NMsXGO5Z5x6/mmjFcbT8CtO+mjFcaK076aMVxvAJz3bhhySaTeXfxZi3LHVpqSNGpI0akjRqSNGpI0akjRqSNGpI0akjRqSNGpI0akjRqSNGpI0akjRqSNGpI0akjRqSNGpI0akjRqSNGpI0akjRqSNGpI0akjRqSNClyx9KKOJSfNDxyMa04J+e/e0o7j0rJlHcgiL2lHcelZMo7kERe0o7j07JlHcgjw3zZJ41av1I8xDFOX4yqiaRHDlWYq3STQR2m5796zD5k9tCQcSMUL1mHzJ7aEg4kYoXrMvmT20JBxIxW+Xn+vvIxg7rpuJGm4kabiRpuJGm4kabiRpuJGm4kabiRpuJGm4kabiRpuJGm4kabiRpuJGm4kabiRpuJGm4kabiRpuJGm4kabiRpuJGm4kabiRpuJGm4kNIiOam+gJz3lU01SGh4utclixksWMlixksWMlixksWMlixksWMlixksWMlixksWMlixksWMlixksWMlixksWMlixksWMlixksWMlixksWMlixksWMlixksWCREYSpaULThH5775k1fIsWbViiHzJq+RYs2rFEPmTV8ixZtWKPEVTTVIaBYeLIkBkSAyJAZEgMiQGRIDIkBkSAyJAZEgMiQGRIDIkBkSAyJAZEgMiQGRIDIkBkSAyJAZEgE4KPochSkLuG578hHMpCjVui1QEhHMpCjVui1QEhHMpCjVui1Q3y8/6KdOUGqOpIuo1JGjUkaNSRo1JGjUkaNSRo1JGjUkaNSRo1JGjUkaNSRo1JGjUkaE7jijHLWhi7Cc/sD8/uTc/jF5/0VGoEl5TjrJJrJxhaxk3sJz+wPz2KHImnSbVcDMpYZlLDMpYZlLDMpYZlLDMpYZlLDMpYZlLDMpYZlLDMpYZlLDMpYR8sg6X+lNz2HOVMhrjjfFqJmNRMxqJmNRMxqJmNRMxqJmNRMxqJmNRMxqJmNRMxqJmNRMxqNhQNHTd2jsLz/oqz+n/AAHnvDYTn9gfnsn6YuQKUpS8e7G1FIpor57T6Q3PZIEzSeTIRMnHk0CRMtsLz/oqz+n/AAHnvDYTn9gfnsf+6vgXF0KH6T9IbnsYe7vgXf6PYXn/AEVZ/T97xF8XBee8NhOf2B+ex/7q+BcXQofpP0huexh7u3nsvHMnPBu/0ewvP+irP6fuz8q8kZh5aUenGWBIrvGnAee8NhOf2B+ex/7q3nb9k0NVVKiLWRYuld+4uhQ/SfpDc9jD3duv3STJnKGdLLU/NOBd/o9hef8ARVn9P3HKnlNuzpLzZK43NGsH2aoGK2m5xRF9K6lYMYxRZaP3XnvDYTn9gfnsf+6t09K1Jc0Mmwh7dj3E2wtq3zRMhv3F0KH6T9IbnsYe7t25FTzM32iokRDI3jZ8C7/R7C8/6Ks/p+4oSiicSSQtmRlc2uVVqghExPZ+jVwq8uCLaOUz0UT3XnvDYTn9gfnsf+6t7tJX71Y1tRnHy79GNYxqMxNJQjeYbT27cXQofpP0huexh7u3LikixcZAQkzh7zaSTdODN44W4JhGIbJp3Q5b2k9fv4/du/0ewvP+irP6fvu0vPaWrJN4RHzyTl7bzz3hsJz+wPz2P/dW9Kw8i+u0X3UzmUerkjo+Dmkpeu7cXQofpP0huexh7u2nr4S3IpLSz9ir57S+qvH61nrODRVKZrf8nKsY2se9bv2+7d/o9hef9FWf0/gGIU47qd+8894bCc/sD89j/wB1cC7mDozyXmXL2Ms9oZnA7txdCh+k/SG57GHu7geKkDd95S6Eog1RK3a7t3+j2F5/0VbqlGj/AOA2UpIXPsJz+wPz2P8A3V8C4uhQ/SfpDc9jD3dwK0pWlClpTeu/0ewvP+ipOOayBMpflGVyQyuSGVyQyuSGVyQyuSGVyQyuSGVyQyuSGVyQyuSGVyQyuSBoVdajVui1Q2E5/YH57LhTWTOwetXyHHuN6V0RBMqKP0huexypSOuf4E8pR7J7C8/6eJ9ifntdQMU5V01EDTUQNNRA01EDTUQNNRA01EDTUQNNRA01EDTUQNNRA01EDTUQNMxAYsWjFP6U3PY5QRcoFgzpDKHgyh4MoeDKHgyh4MoeDKHgyh4MoeDKHgyh4MoeDKHgyh4MmdGEbHtY9LYXn/Q56fHpTup9ganfT4xKfRnp8clP6JqUeGo7qjuqO6o7qjuqO6o7qjuqO6o7qjuqO6o7qjuqO6o7qjuqPDUeGopTu+zrTvHhqO6o7qjuqO6o7qjuqO6o7qjuqO6o7qjuqO6o7qjuqO6o7qjuqPDUUL9LUo7q/D7qihf/AOl//8QAKxEAAQMDAgQHAQEBAQAAAAAAAAECERIgMRBBIUBQURMiMDJgYXADQqCA/9oACAEDAQE/Af8Ai+V0FZWVlZWVlZWVlZWVlZWV/gLlhORb+AOxqmbYIII0ixufwB2NUunicL25/AHY5FufwB2LUFNrINrW5/AHYtTTa3a1ufwBUkxfJJJNsjU/AVcT9E/RP0T9E/RP0T9E/RP0T9E/RP0T9E/RV+AuxbHqNz+AOxfBGkarY3Px6SSSSSSSSSSSSSSSrk3YtnTgSKSbaLY3Px1REj11SROHDknY5Fufju6Wuwbkim5JN3+l5J2LUFFwRouCDa1ufju6Wrpgg3ElBbv9LyTsWpptbta3Px3dPTi7/S8kpgkkkkkkkkkkkkkkkanx3dLVJEJ0QkS3/S8nPY83Y83Y83Y83Y83Y83Y83Y83Y83Y83Y83Y83Y83Y83Y4plPj26WqJ2ENjfTgJb/AKXknYESE5CIdHVVUocUOKHFDihxQ4ocUOKHFDihxQ4pcgizzSiPRSpCpCpCUKkJQlCUJQlCUKkKkKkFeiCck65OAhJuTwJEtd7uqszPrO4O5uClClClClClClClClClClClClClClCOTdcqTpCm5C3u93Vf576rpJOk6pnV/u667kXe7qv899XY02NzudjfRM6v93XXWqIomSdEySJm13u6r/Pf1n+7rrrVI4iZ0xogmbXe7qv899Z0RZ1RZ0RZsf7uurxE/pGTxGniNPEaeI08Rp4jTxGlbTxGniNPEaeI08Rp4jTxEPteq/z31UyJjTJsIbCav934H/PeyCCCCCCLH+78DmlZEcikkkkkkkkkkkiuRDKz+CUoUoUoUoUoUoUoUoUoUoUoUoQn/hVXdiVJUlSVJUlSVJUlSVJUlRHd/wADXHrtx+BOx67cfgTsWbab27WNx16SUJQlCUJQlCSUJQlCUJQlCUJ6q7HoTe3HXXLHItWeqOx67cdddqhtoiaQQQRc3qjsWppGqWtx112qGdNxLNzbRdW9UdiySdJJJJtbjrruRb8DRI6661E0VLVtb1VUkoKCgoKCgoKCgoKCgRI6861D7FN7Ftb+AO9CdJJub8eqJJJJJJJJJJJJJJEXlFg4HA4HA4HA4HA4HA4HA4HASnlJJJJJJJJJJJJJ68iVLHIPbKCck7kW8kvrJ11nutXIhJuTpNzcck7NiawRpBAlreSX1k66z3WrnTaDcgSRc3NxyTs2ITrOq3N5JfWTrrPd6cXNxyTs8i3kl9ZOus91s8RRCRRMaJa3HJOzamikaLotreSX1k66z3W502N7Exa3HJOzcum5tqtreSX1k67hZEe0qQqQqQqaVNKmlTSppU0qaVIVIVIVIOfsgnJOQnkGpHJKT6kidehCEIQhCEIQhCEIQhCEIQhCEITloIIIIIIIIIIIII5WCEIQhCEIQhCEIQhCEIT/AJRv/8QAMxEAAgECAggEBgMAAwEAAAAAAAECERIDURATICExMkFhFCJAUDAzQlJicARggUNxoID/2gAIAQIBAT8B/wDF8sNs1Xc1Xc1Xc1Xc1Xc1Xc1Xc1Xc1Xc1Xc1Xc1Xc1Xc1Xc1T/QMFWQ3X0GJvVf0Bhc2mXA46K6KlSpUqVK6Zcn6AwubS9imim437cuT9AYXN6GXJ+gMLm2WIXEroXEqddmXJ+gMLm2Xo66eujrsy5P0BF0dSld6LWWstZay1lrLWWstZay1lrLWWstZOXRfoGMHxLfyLfyLfyLfyLfyLfyLfyLfyLfyLfyLfyLfyLfyLfyLK9Rqn6Aw1WQ3XYr8Se+Nf0Bhc2z0OCKldFSuiOxLk/r1jLO5Z3LO5Z3LO5Z3LO5b3LO5Z3LO5Z3LO5Z3LH6PC5tmmjeUEijOuhbEuT+ux3b30Jzc3V7FNNCm3GTi6obuSln6LC5vQy5P679EtnC5j6XcW5kVRtFPLUs6FvlqNU2Y/Lj6LC5tliFxKlRcSp12Zcn9d+iWzhtJ1ehtSoXJtsVLaDtlvIPeN1ezH5cfRYXNssoddHDQjrsy5P679Evh3OlNqPy4+iTo6lLuBYyxljLGWMsZYyxljLGWMsZYyxlj6k5V3L+u/RLZw0nxLd9DESXAtYlUmuA4tE+mzH5cfR203ydCuH9xXD+4rh/cVw/uK4f3FcP7iuH9xXD+4rh/cVw/uK4f3FcP7iuH9xXD+4VsuDGqf136JbMeDJPdcT6H/ACFKx3HVVHclQn02Y/Lj6KC3k5ubq9lpriUeijpX4EZX4ab91UajxsNHiMPI8Rh5HiMPI8Rh5HiMPI8Rh5HiMPI8Rh5HiMPI8Rh5HiMPIWLhy7DVPVRa6k8CcTVzyNXPI1c8iyeRq55Fk8iyeRZPIsnkWTyLJ5GrnkaueRq55EMCcuhKnBeiw+O1LzKpLIsVD6CxXUFHdUkknu2cL5X++6/yHSCj8bCd2F/16tSaL5Zl8sy+WZfLMvlmXyzL5Zl8sy+WZfLMvlmXyzL5Zl8sxyb9Hh8dqE7dF8d5VW0L41qKSpRjp02cL5X++6/yvp0wo3ShufQtY4tDTyLWKLZRklSK04Hy377h8fQ4Xyv991/lfTpwuY6jreNeVn2nWRR2qhxrmSTsWnA+W/fcPjs4fElGjoTooqhYxKpJeVFjJcq2cL5X++6/yvp2qlWVZXRXTgfLfvuHx2YF3lJciHvaaK3VOCRJNdSXKtnC+V/vuv8AK+nSoVVRKpKNu7TKNHokrXTYwPlv32Lo6mJ/Hq6wPDYuR4bFyPDYuR4bFyPDYuR4bFyPDYuRqMTI8PiZHhsXI8Ni5HhsXI8Ni5HhsXIX8WfXcOiVq91/lfTpg6Ko1bvJKs6C31RyxQ1WRJpodL95NU04Hy3+g/5P06a7qFw5tuo5iluoax1qOVS+rG66cD5b/Qco6yNvUlhyjxRRlGUZRlGUZRlGUZRlGQwpz4IooxtX6EU5I1kjWSNZI1kjWSNZI1kjWSNZI1kjWSHNv/4VUEt8jy5HlyPLkeXI8uR5cjy5HlyPLkeXI8uR5chwT5f0HBVkN1fxVuMRUl+gsPm+Pi836Cw+bY6nQ6bHQ67GLze/JNlksiyWRZLIslkWSyLJZFGWSyLJZFksiyWRZLIslkWSyGmvdcPm2KbFChTZxeb32EasuKsqyrKsqyrKsqyrKsqyrKsqxSZONHu90w+bYqV+Fi83vuH10s66G9FSpUrtYnBe6YfNsvRXSxvYxeb33D66WcDqPgPR0Nx0OuhacTgvdMPm2KFChQoUKFNjF5vfcPr6HE4L3ROjqNdV8VLqyTq6++4fXZbpoTrpWhbOJwXuqk48DWs1rNazWs1rNazWs1rNazWs1rNayUnLj79h9dlnYR02Fs4nBfoDDe8aptUKFChTZSqYj6f16x9S3uW9y3uW9y3uW9y3uW9y3uW9y3uW9y3uW9xwa9Ir1xN/Y39jf2N/Y39jf2N/Y39jf2N/Y39jf2N/Y39h39PSWlO5TuU7lO5TuU7lO5TuU7lO5TuW+/Slq4VXHZo9NPgYOI4S7ElR09Fh5+hxF19FH4qdCXH33H+WtmFbWS3pLqWdD6Bx4FqHHgPYXExOb0UOV7D01K6KlR8NnE4L0UfjS99x/lrZi1a0J0dSqUriqtoXJNMko9CMvLsriYnN6KHK9hlNNNKOmzicF6KPxpe+4/y18Nyb2VxMTm9FDlfocTgvRR+NL33H+WtlRTiQVWSXmohxaIxJLzbhKj3kuOwuJic3oocr2WVEV0LQtnE4L0UfjS99x/lrZTtox7pUQudi3RdRrhQpxN9VUnzbC4mJzeihyvaQjoddK2cTgvRR+NL321TjaPBxF0NVPI1U8jVTyNXiZGrnkaueRq8TI1eJkavEyNXiZGrnkaqeRqp5GqnkYWA07pjdXX0UJU3MtZay1lrLWWstZay1lrLWWstZay1luZOVX6JMap8RKo3V+/XMvlmXyzL5Zl8sy+WZfLMvlmXyzL5Zl8sy+WZfLMvlmXyzK19JVlzLmXMuZcy5lzLmXMuZcy5lzLmV9Im0XMuZcy5lzLmXMuZcy5lzG2//ACi//8QAXBAAAQIDAQUPDwoEBgEDBQEBAQIDAAQREgUTITE0FCAiMDIzNUFRYXGRkpOxECNAQ1BScnN0gZShssHRJDZCYGKCoqPh8BVTY4MGRHB1pPHCJYTSRVRkgOKgwP/aAAgBAQAGPwL/AP4EXRvtJ4VCNFdGV50Rhn2/MCY0D7jngsq+EdbkroueDLx1u4d1D4TVmNB/h+Y+86kRof8AD4HhTaYwXLlUeE/WMEvcxHhKUY1dyE8AXGV3OHA2qNk5QcDEbNMjglRHzgHoaY+cX/DRHziV6ImPnC56MmPnCv0ZMfOI+iJj5xf8NEfOAehpjZpk8MqI2TlDwsRldzjwtqjV3JVwhcYWLlq4FKjDcuVVwPxhuAFcE2mNH/h9/wC68kx1y4d0x4LVqOuSF0m/Cl4644834TKowT6POkj3RoboyvndAjQTLKuBY/10qtaUjfMaO6EsP7gMUTNFxW4htR90fJ7l3Te3wxgjrFwHOFx9KY0Mpc5nxjij0RoroSTPi2Srpjr3+IHv7bKUR16611HP79BHXUvveG8qMEg35yTGhudKj+0I0DDSeBI7P0bTauFMaO58qf7QjDc9rzYI62y414DyvjHWbp3TZ8GYjrN35oeMbC40N1pZ7xkvTojC1ct7wSoGOu3CtjdbmU9EdfuLdNG+lq0Io848wf6jKo0N0Zf7yrPTHWnm3PBVX/WO0taUjdJjR3Ql/Mu10R8mRNTXiWCY+TXAmT45YbjQs3Olh9tSlH1R127aWxuNS46Y+U3Xuk7vX6yItKlS6rdccUY63c+WH9oRRCQkbw7p4Y67JS6/CbBjDIoHgkp6I+TT10Zfxb8fJ7vvcDrKVxgeudMj7SVJPqjr9w7Y75l8H1R8quddGX31MYIwTyEn7YKemOsTDTvgLB/1X69PS6TuWxWKSrc1OH+iyTHya4S0jvn3gn1RopiQlR9hBWfXHyu7s6vxVGotOsrfV3zrhMdZkpdG+GxnbGuv94Nrhi3Lt3ls4qJA6Yyg8tMZQeWmMoPLTGUHlpjKDy0xlB5aYyg8tMZQeWmMoPLTGUHlpjKDy0xlB5aYyg8tMZQeWmMoPLTGUHlpjKDy0xlB5aYyg8tMZQeWmMoPLTGUHlpjKDy0xlB5aYyg8tMZQeWmMoPLTGUHlpit/J++mAm6UtbRu0oeMYIv0uuo2xtjs7rzDTnhJBjRSDafA0PRHyS6V0ZfeD1U8UdZuw0+Nx5inrEddubKTXiXrPtR8suVdCX+1e7SeOKJnm0n+poOmLTTqHBupVX/AFM6/OsIO5bw8UUkpecnT/SZNPXHye5LUuO+mHvcI+U3YQwO9l2feY+WTE7OeOfPujrUgwDulFTFBg0lb/09Sgb8fxKd64tZqgK6ezy26gLQcYMIfZJMs5tb22IC0mqVCoPcPr8uy74aAYtJlbyvvmllMfIruTje89R0euP8hOp86FfCPltxJ1vfao6PVFnNYaV3roKOmLTTiHE7qTX/AFCtLUEjdMWTOIcX3rWj6I+Q3EmljvnyGhGjmpORT/SRbV64+X3QnZv7KnLKeIR1mRYB3Smp4zp8mwMRqeiEtp1KRQZwk7UWHJhaFbimVj3Rln5avhF8l3kOo3UnOuKYl5mabaNFutp0A88F2WJ0OqSrGnsNajjbUFDjp74lidoFPEadyLL7Dbo3FprFtplcsvvmVlMfI7uPEd7MoC/XHXrnys4ndYcsn1xSelpuRP8AVaNOMR8mm2Xd5KsP+ndHJ1sq71GiPqj/ANOuNMKHfvm9iPlF0WJNPey7dTxmLc45Mzq9190mKS0u014CadhyXB789Kq272emLy8yhaCMVIMo0sqbK1tq3wK4fV1LUw+20PtqpBzNMNO0x2VVpE0hL7aX7FAm1osMMsLeZtrUqqCoVOHch1TCUspUarKlfGL0zOMLXuBYwxUmghb2a2b2g2VKt4KwHWXEuIOJSTURe3Z1hC9wrGCAtCgpJxEHAYTLqfbDysSLWGLwqcYDve2xXqfKZhprwlUi1Lvtuj7CqxUmgEXpM9Lle5fBnpj7vtCGOFXtHuZQ4Yq7ItV3UCyfVH/p92JxjcSs3xPEY0cvKT6P6ar2r14Is3QlZuRO643oeMR8mmmnfBVh/wBM7UzMNND7aqRZudKzU+rdbbonjMf5W5qOdX8IrdGdm547i3KI4hHyaVaa30pw9jyXB789KeAYSwuVblb4nAsKtQJ6/CYdcToVjEAdyCo4hhiYuhPSE1OLUuy2Es3xDadyET1yLmTzKRQlJYIFdvzRMzRYbv4CaLs6LGIl5hcq0p60TbKcOBUZlfYmJiVlU1vTKbVpW6R54bXc+488w+lWGktZBHmhK7ooeS+0yvASU4RtkeaHjNOOXpK6ISk0oqmOMzSbi7bzlLZOEbvRGZFXDugrQ4XMyaKu7WJiSmpeZallt1BUkpod4wJKVdWwlWJVakVThjNEs2pLiFCpKibUNzzmjU2xXDt0hd059KZl95ZwuCtBGa5YttyZJJAO1uU4YlbmKS8til8dQyKqXveqLEpcSdZfTSwRKWeOA3OtuocbVZF8TQlOdmPu+0IY4Ve0ep/CWLqLVaWkBVgYKisOlydUhTbev0FaxfV3RcZlh9OwKq4IUkKKSRgVuQu5abquWG3FBTlhOIQBWvcmhFRFpcm2lXfN6A+qP/TrsvU/lzIvg49qPllykzCf5kouv4Thi9rfMs53j6bBEBSFBSTiI/0s+VTbTZ72uHiily7lTD4/mu9bR+sfLrqCWR/LlE0/EYtmWv7nfvG2fXFEgAdlSXB789KeAemLwvAaVbV3phdx7oaAWqIr9FW5wGHG++SRD1z503m0vAVbSsRBgCXcbemXCEtNg1qT7omq7ifaEMcKvaMOvupN5dxn7J/WM0mbZLdK4FQ7MPNhtTjK1WdwYaeqJgf1vdDTyQSGnNFvAwi28hD6RRaVGnnhyXlrLjDSOuODvtoD1w35vYh3wk9MBlAqosmg3aGFSD7iW1BVpu0aViXkZRSHXnF6PbsI24lro2SUWR59ojijNCZtmxSpqqlIXMWLLRcIZ+0nd6c7Mfd9oQxwq9o9SaulNvBDaLakHd2h6ovrtWrlMLwN1wuHfhLbaQhCRQAbULdVqUJKjE9Pr1VKV4TU9Hc6xMMNup3FprBXc+YmZBf9Jeh4o/y102+ac+EBufYmJBf9ZGh44vjDqHUbqFV/0mrNTLbW8Th4opcm5bzw/mvdbR+sf+pXULaP5MoLI5WOKsSjdvv1aJXGezpLg9+dIrTfi+zM7POrxVK0/CL2JqYeTSgDpBs+qEvPF1CwKVbIFYspm5p5NMAeUDT1Rf1W2XdtSPpcMX5Nt17aUva4IsvzU0lv+WhQCeiAJednL3Wt7UpJSfVARMpNpOpWnVCA4446+BiSrFF5VMPsoxENEC1F8lpucHfJKhZVw4IU06kLQoUIO3FpD76E97gMZmlQW099t13YzWZ2ev8AWtu2mvRCWpidnChO0FJwndxRempmYcb2kOEED1QXkKXLqVjCMUG8AqWrVLVjMXiZRaG0dscEWlvvuIH0cEJbbSEpSKADazsx932hDHCr2jEzMbaGiRw7UTi5plK74q9pURhTgxjjiZuRMYLRNPCT+nUmjtrF7HngObbzhV7vdDUo46A+7qEbvdApWkKScYIi+yt9kXu/l12fVGgdl7pt7i+tufCA1dBh+57n9ZOhPAYDjTiXEHEpJqP9IC484htAxqUaCC1cyWfug5/TFEDhUY+VzqJBo9rlsK+VFtEuHHf5juiV6+z05rmEM2sVrbjDPJ8yFH3RLKk3CsIwHQkbfcGY+77Qhpty5t0FJFeuNtWk44/h9zw6668RaFg4N7hjMr0pMS7jaiVXxuyFVO1AnLnSU0pSAlRWlklJUP2IS8uWellYih1NDCJCVkJtxKFW1rS0Sk4MFOOGJVP+H7pKLTYTrRwnihy6d0ZV5iw31sLQQBtUFfP3TKHEJWk4woVEF2Qdeue7usq0J4RHXmGbpND6TWgc4ovJcMs/ttPiwr/RykzMJC9pAwqPmj5DJCSZPbpnVeZMB66T7t0Hv6p0I4EwENoShIxACncFwzDiW1I0TSj32554DSUkrJshO3WLnsY3VaJ079R3BmPu+0IY4Ve0Yszcs27vkYeOL5c5xU7KjHLOnRDwTF+l1byknGk7h7BbQ20X5l42WWh9I/CLbt12ZUntbUuFgecx84v+GiPnF/w0R84v+GiPnF/w0R84v+GiPnF/w0R84v8Ahoj5xf8ADRHzi/4aI+cX/DRHzi/4aI+cX/DRHzi/4aI+cX/DRFR/iAKO4ZRMC5t1WkNzChVpxGod/XsixNS7bo+0MUVuRdFaE/yJjRo+IizdmQclv6zejb/SL7LvIdRupNf9F7wzbnJn+UwLRj5S8LmS57WyauH721FWGBfNtxWFZ8/cOphV1X01lWTYlEHb3Vwu6u2RgRuL21RJcHv0pCvkbjThNk2FVHrhMwaBytlwDaPUZal0tqeXhNvaENzcyZZLS60ShBtdOdBZUy0wtVlKk4V+uGFrNVKbSSfN1b5LlltgqCbQwrxcUSrrqrS1NAk7ukzH3faEMcKvaPV/jkkNTgmmx2xG7wiEutm0hYqk7o7AeUvDeZQBG9U9gyswNcZmmyk+fsqhFRF/kVuXPmO+YNAeFMfL5QTzA7dLarzpi1KPpXup+kPN9YCtWAAVMYZw80v4Rlv5S/hGXcbavhFJacZcV3oVh4oK1YABUxhnDzS/hGW/lL+EZdxtq+EUlpxlxXehWHi6t8mXkNI3VGKB11zwW/jGFx1vwm/hFuVfbdT9k4u4mZpNC56Z/ls4acJ2ordWavDB/wAtLn2lRe5VhDSd4Y+4rNzJdVH51diveo+kYbYaFlDabKR1JLg9+lXMYc1DkzZMO3MfOhcNj720fPBUo0AwkxMXacrRyYDbPgAGJTwffCEFKnn3cDbSMZhLs9ciwwTqkPBVIRMS6rSFR/D5GWM3NfSFqiU8JhqUnZLM7gVbSoLtJUIlvEp6IcRcqRM2G8CnCuwmu4N2FSUxLqlZkfRJrWB45PQYkvEp6NJmPu+0IY4Ve0eqtpWpWkpMMIVqmiptXmPYE75MjsFHlDfT2bfrKmJgYnmTZVHX2/4pLD6bYo6PNtxWWeBUNUg4FJ4R9X7+UC+NuCitvqIGZktLKBo28BrSHGFmjjS6VELkppdt5oWkrONSYv5QL424KK2+ogZmS0soGjbwGtIcYWaONLpUQuSml23mhaSs41Ji+YFPLwNI3f0gF1annnVWUj3CEi9ocfpo3SMNd6FIeZSF/RcSNEmFoQ4pp9lVKiCF0TMt64kbe+O4N4TamZo4mGhVX6Rauq9mWWP+VYOE+EqL1KsoaRuJHceduicLbHyZnzao9WS4PfpVyPKxDN02cB1KyN3aMSrMtlM8b0Rud9EvLN6lt1I9RiU8H3wb79AqSgcCYfYWKhaDF0AalDSb4OI/CJ6ZcNp5Sk1O3txLKphDtPVBcQSFCVFCOCGlS100sIqrQZnCqYd2sIuk9dK26laVGjFK088DxyegxJeJT0aTMfd9oQxwq9o5x+RdwS84q/S6jit/STn7K52WSdwuiLTa0rG6k10id8mR2Cjyhvp7Pv1FMTI1L7RsrEUn2s3yo/zDI0afCTAelXkuo3tr6ur8YnqM+LHRE4tFKXymCHnsNlDNDwkiF+MT1GfFjoicWilL5TBDz2Gyhmh4SRD+GqGje0eb9YQo9qQpfu9/VbdHbWRXhH7ES71qiSqwvwT2ffpp5LadrdPBGgt3MkT9Ltzg/wDGLEqyE11SsalcJ7kTE1ttowcO1EsydXZtL8I4T1ZJRxUPSNKucG3gu8TFt2z9EQ8006lxtYs2htGH5mYTQy5LaR9rb/e/CZNp5K3kvVUkfRoDEvKB5N/QCCjbxwi7MugrbtBS6bR2+OFGWWpyYWmiGgk2rUOCZTR2Y1Y3BuQ41MtqUw5gqPpDaUIaTKtultLmFxSaCtMUZlWw+wLwGypaaVwYxDkrMsWmyalOLzgwzepdTEkysOLUTqyMQhMpfAXr4FWdwUMS7TTgLjTYC07Y0l/fs+0Il/ve0c4Zd+u6lQxpO6IErdoEt4m5xI0KvC3DErmNaHmb3aWkHAqp/SL9LL8JBxp6jkzMKstoFTBdW8ZO51aAJ+l8YuXKtl1SJhyy4VKw4x8YMzcKceQ4O1qVqvP8YXLzKQ1ONapPfb+dRKTTl6UtNpKjqYCkkEHERE75MjsFHlDfT3BM5c90yM33yNSvwhCZa7bGZlnAl9OtL8+1FQaj6tr8YnqJYlbkusCwBfLBJjrrYlkd84fdGZ2KnbWo41GF+MT1EsStyXWBYAvlgkx11sSyO+cPujM7FTtrUcajD9rHfFV44f8AEf8AkOrJ+ArpjBGHs0yNx2hNTP0l9ra4TGbJ5wzs5/MXiT4I2u5Ujc7/AO5mU2h9gYTnA8gVUwbX3duEYeutiyse/T7SGkJO6E9Si0hQ3xCQW06HU4MXUotCVDfEUAoNLauZL6NZVVQG7tCGZcdrSBnShxIWk4wRgMTKAltIQ4U0QMGDBCXpRakub23vQ05NMhl5SdEgHFFz7loNA85U8dB74QwzZShAoBFw8Pb/APyTGqESF0WKAPmjgHEfUeo3mCUbmK1t2nLNI2Il/SI2GZ9JEMmdkxKrDWBIcC6iphLcgta6nWaWgfNEy5Ny+Z3jKoqi1Xbz6W7lshTrirNs9r34QmZui9MpFC7hOEHapBuilxbKDrcq0TasxLomi4XqVVbOHHn0lKbRv6KDdwwthTa5eab1bLmPh3x3BU082lxCsaVCLdzLU3JfSlVHRI8A+6CuXXhTgWhWBSDvj6tL8YnqM+LHR1V+MT1GfFjo6sy3SiVKvieAwEHtrSke/wB3VaaHa2cPnMS0uBUFdVeCMfZinn3EttpxqMaAuSVzN3E4/wDAQGJZpLbY2h3LQPoykra+8o/DOUOEQZ65NpTe2gYSPiIpNS60L27GER23kR23kR23kR23kR23kR23kR23kR23kR23kR23kR23kR23kR23kR23kR23kR23kR23kR23kR23kR23kR23kR23kR23kR23kR23kR23kR23kR23kR27kxme5ksu0rbpVXFGbJw25k4hjs/rnkpSgvTTuBlkY1H4QzOzRZtPmiksospQdzfhN0J5HXzhbQfob/D1LnLfKgwsWFkbQtYemNem+WPhFzZVpb5RNOWV2lCuMDBg3416b5Y+ESEpJreWt5Witmu3g9+damHn72yhuyUpGiOExYlGEt7qts+eJ3yZGkO2xaaS4Sd9KcA92ko8ob6YTPSehnpXRNnvhtphqbbxODFuHbHcITsg7mWeT9MYl7yozDPNZlnk42ziXvp+rJSThU4mnUl1pNQW09HVKScKnE06kutJqC2no6oWzQTTWp+0NyEOWSh5hdbKt2EzEusEHVJ20ncMKmJldlCeM7whyYKSVvLwJGHgEGYmAM1OjF3g3Oyy/MK3kpGNR3BCZ67IogYWZP6KN9W6e5t2Jn+ohofdGeq/KtOHdKcMZE1GRNRkTUZE1GRNRkTUZE1GRNRkTUZE1GRNRkTUZE1GRNRkTUZE1GRNRkTUZE1GRNRkTUZE1GRNRkTUZE1GRNRkTUZE1GQtcUWWGW2xuJTTPOTT5ohsVMLuvPp+VzGpT/KRtJhF+bSuwq2mu0d3qlpGB5Btt8O5AubdU3iZa0IU5grw78XCINRfh7SYKph0FzaaTqjC7vzybKe0p/e0M/O+TIz78x/LbKuIROTatwIB9Z92ko8ob6epO3L7U58pY8+qHH3DvbwotOFtxOqQd0Qm5l16B46y/wDRe/X6rqTaKailRjEBUzP3SeIxW3QfdGvznLT/APGEFifuhYSa3ou6A+anUUm0U1FKjGICpmfuk8Ritug+6NfnOWn/AOMILE/dCwk1vRd0B81M58qYBUMSxgVBXJ3UmGDwYfVSAqcutMP+b4kxalmOufzFYVdl352qiTZQgY1q3BAupdaipntTX0WB8e50xMfz5pxz153MskkPTGInaSfeYvkzNqaB+iV09QjZDpjZDpjZDpjZDpjZDpjZDpjZDpjZDpjZDpjZDpjZDpjZDpjZDpjZDpjZDpjZDpjZDpjZDpjZDpjZDpjZDpjZDpjZDpjZDpjZDpjZDpjZDpjZDpjBdHDwmLa1mYYGOptj4iKo0DqdW2drOy1y+0MDND+/3oz1ZlnrmIOJwKgWLoPpAxVTWL46FzS/6hwcUUGfnfJkdgo8ob6epcy6Q+g9eXPBX3EVLzKLSTi3UndEfwe6aqu/5d7+cn4/X9czMKstoGGBdi6SLK/8swe1J3eHucpW4KxKb9o/iOcUps0dc0CN7fgTrwq85hTX6I7gNXQk8DajhTtcEIeRqVpChnLqT6sbkzeh4KMA7AnBuyqCOPsFobZmWwOPqTYGNKb4Pu4YYmP5jYVxjuJeXNCoaJtwY0K3YckZ7Qz0tgc+2NpQ+vxWcNzpJdEjadd3eAdz3j9g9ESfge/OSTW1h90BIxDP237YTupQVdEZX+Wr4QEonUVPfAp6dOL8w4G2xtmHGJZDmgTatK29IdJ+iUkccS1dqo9Zzjbv81xa/wAR7AZupc8BU0wLKmz21G5FJsTEo7tocaNYys80r4RlZ5pXwjKzzSvhGVnmlfCMrPNK+EZWeaV8Iys80r4RlZ5pXwjKzzSvhGVnmlfCMrPNK+EZWeaV8Iys80r4RlZ5pXwjQzC1ncDSvhDM3MS65aRlzbZbc1Tiu+I2uo6136CmJM7ibPEadxW7sSg+USuqH8xvbENzDJqhxNofXxErLZVNqvTe9umGpVnUtppw7/c+ZO40roiS8UM5JcHv0maTZFAldOUIVOWEoebUNEBqsOKClwk3pywk71B1L27OsIXuFYwRfy83eu/tYOOAhE2wpRxAOCClU5LgjGC4IvwebLXf2sHHFlmYacVjolYMAzMw01XFbVSsHM0y06RjCVQVuKSlIxkmEzBm2Q0o0CrWAwFoUFJOEEHHF6XPS4XuWxF0AmlKKpTwtImPu+0IY4Ve0erMvq+g0Yk2lYCGwT58PcQo719wevuNOXGOoQb/AC/gK2vMfr2woSyXmnKg6KhBhufm2HUNtM2G0p0VFE4TxRmiWKi3WmFNO588r+goeqJNG4wjozklwe/SZtUnLpfc0ehUuzgtQm5806iTSknrdNse+EyzA0Kds4yY6ybLjyrAUNqMyKuHdBWhwuZk0Vd2sTEjPSb2ZFotUeaNmtd/94IMstAva8DRO1XCPhEu+2EoeXUKA+kN2M2hpsM3mpbAwV3OOG3VNpEw8LazTDQ7UTd0bqBpUqAb0pxQpveqJR25i02FLQF2BQVJoYeml2r60kWNEaY9yA7NOu1qQ1ZOoFfjEtciTWurmC1XDZ/ZgSapdteh0SrOEndrE6zWthBT+LSJj7vtCGOFXtHqytxW8b6r49vNp7izqe9nXR3GuVPDbcMuvftYvr28QNEz10ebH6qwlhNQ2MLq9wQhhlIQ2gUSB3PcaTqnlobHKgJGICmckuD36TN76XPaEfxeTqlxGF2z7UAkgTCMDiffDTyQSGnNFvAwi28hD6RRaVGnnhyXlrLjDSOuODvtoD1xL3SawLaVZJ6PX0xNz8wiyhbV4ZB+junjgf4fWk2M0W3N4DGPV1HhPqtNM1LTBODHFzksluy0W0kJxJ0eKJxTa0qFKYDt2oa8JXTEpNCtmzZrv1rCJlpQsqHFvRdCigbVojf0ekTH3faEMcKvaPUcmn1UQgVh2606KTM1iT/Lb2k9xbrNbYn1q46dUsqmraxjDaSrojVv8yqNW/zKo1b/ADKo1b/MqjVv8yqNW/zKo1b/ADKo1b/MqjVv8yqNW/zKo1b/ADKo1b/MqjVv8yqNW/zKo1b/ADKo1b/MqjVv8yqNW/zKoCDMlsnFfEFIgEGoOfLjq0oQMalGgEU/iDXrjZBviMbIN8RjZBviMbIN8RjZBviMbIN8RhIl5tC3UPIWkCu0Y2Qb4jGyDfEY2Qb4jGyDfEY2Qb4jGyDfEY2Qb4jAQ3Ps2jiqadP1kLSOvvDGlJwDhMWpe54sbVGlGMh/JMZD+SYyH8kxkP5JjIfyTGQ/kmMh/JMZD+SYyH8kxkP5JjIfyTGQ/kmMh/JMKbXIVSoUIvJi8y1zzhNVKLJqYyH8kxkP5JjIfyTGQ/kmMh/JMZD+SYyH8kxkP5JjIfyTGQ/kmMh/JMZD+SYyH8kxadufVPiVQGplOZnDtk6HuDciU7+avlN5A6oFRU9SS4PfpFgTL7G+0QCfVAeYnJ5twfSC0/CA2pRcwUJV9KL/AC8zOMKrgvbgFPVGZ3iX02bKr59Lhi0h99Ce9wGBLyyLKdvdJ3YdlXNS4mnBDUq1qW004YmLoI1b4pTc3eoqZDj7JUaqCCMcNBIcZvYpoDquGESgemGJdApe2lAA8OCPk81NFH8tahZ6IVLzKLaD6oPyuaLRxotUrwwp1dt2pqlJNEjSJj7vtCGOFXtGL9NOBA2htq4ITP3SaLUs2ay8qr2ldxrrs9/enE8WHqSlymFltU6shaxjCBhVAZlWUtoG5t9hlp5tLiDjSoVh+49oqly3f5ep1IrQpz8w9NaKSlXL00ztKUMajFlMsyBuBAjWGuSI1hrkiNYa5IjWGuSI1hrkiNYa5IjWGuSI1hrkiNYa5IjWGuSI1hrkiNYa5IjWGuSI1hrkiC29KMrSfsw9cV1xTjQbv0spWOxis/UrMcsw7OzW2219HhO1GwCfS0xsCj0tMbAo9LTGwKPS0xsCj0tMbAo9LTGwKPS0xsCj0tMbAo9LTGwKPS0xsCj0tMbAo9LTGwKPS0xsCj0tMbAo9LTCZa6Uo7IOr1Fs1Qr72kJlJc9fe2xjSIS/MoDkwcOHEjs8qSkNzG0sbfDCrkzlb43rdd7a7gKP0ZKWp95X6dVgpeQH23cCbWipT/qKInFrT3rmi6Yk35uVSyPoKH08PcGY+77QhpEvMSktL4aLslTmPigTTy3Zua/mvGtODc7jybu1NS62vOnRdS5Hgvez2Kx5Efaz7/lTnT2DLeRq6fqTMzSdUhGh4TgEIRjeXo3lnGpXYC5aYTaQscW/BamFWnpZ1TC1btnPrK8KWTgHgj46SVKNAMZjZGU54RRE/Kk7zozlTCJJuZS48vvMI44U64qyhAtKO4IU5KOWwk0OCmnyk2jBaslXmPw0syFzJbNU0nV1NEN8JjHcgc5GquR+ZGquR+ZGquR+ZGquR+ZGquR+ZGquR+ZGquR+ZGquR+ZGquR+ZGquR+ZGquR+ZGquR+ZGquR+ZGquR+ZF9mZOTm2hqhLFQWOPHCZmWVaQr1b2cnbpf/dTBKPAGAQp55YQ2kVKjtQcxqVI3P8A51OuO+DuCJpMrLW5ixaCzolkjDCZq6iQpWNLG0PCiRA3Pf2HVRAGcqYqDUHSZj7vtCGOFXtHuQ1PtjRybyXfNtwHQoWCLVd6LkeC97PYrHkSvaz7/lTnT2DLeRq6fqTN/c9sdhXV/wBxd92fnOFzp0qXWhCUlbeioMeGChEshlyzoVowUMG5riiW1AlIP0SOpQKSTwwULSFJUKEHbhtthtLaKjQpFBqIU24m0hQoobohTUkgJBVVWirh6mhUDwabJfvb0pS9wVhEwcLswpTjit017BunKt4GlhD1ncUcfVdDevPdZaH2lQxKpxNoCYcaUf8A06SVQp/mufARQdWS4PfpTL0pPTib4ohSb+qL26sqeZNlRJwkbR6jcnKvONlGicKFU4BDM69NTLzqwdW6SkebOtzGan1Ba6Xsq0IwbQiW8Sno6oms0v0LgTerWgxbkSXiU9GkzH3faEMcKvaPch3NNm82TbtYqR/C2JhSpJtZsGlFKTtVj/D0xWqlMuhXCE0Od/hlwzZTtvbu/vCLU1dW6Dj22pLtI0N0piYklmlVK0STvxWKmHFKWczTBvSBtDvT+93qPzTU3NMOstFQvTpSDTDhETOaLrXRRerNLD526/CDeru3VSratPVh1udW4t1uYUiqyTi4c8x5Er2s+/5U506Qp1xVlCBVR3BAlLy0hhVqycNrBpEt5Grp+pM39z2x2FdX/cXfdn5zhc6dKlPAPTBRKXJugZgjQ22KAb8Kn51NhZTRCNvhMN3DZdU2wNfKDhVgrSFTFzW1MTDAtApWcMKQ+bT7Boo7o2jDfm9iHVNzb7F7bUqjZpawbcTHjvcIflXFqFz5XG2DS+HfhiauCytG0oIViPngzCQUzjSMFk4/sw9QfKUq0ZrjG1AYCTYZbtzJB1R2h0QEjENJkv3t6U54BiT8E9J7BnvJ2+qlGOXucLSt904uKHXe8QVRK7qwVqO7U5yS4PfpVyQRUGbEFlRpLrNn7hxHzQ5MOGiG02jCrpzA69OTQVwJoqkSng++GrlXPCTNO41KxIEZtbunmoI1xCmgMEB8CysaFadww5I3MdDDDOuv2bRPBDLUzN5ql1KtIUUgEHchhazZSlhJJ3MELmJeaEhK1KWqN2lL3zBuTdRaXaqspcA4oHjk9BiS8Sno0mY+77QhjhV7R7kXhx91oA10GI8MFTFmaR9jAriiRk3kLQplTpooUIqj9M5NuINFFNkec0icmKaKqUDqLlJuZSpCtUkpUIKpN2+ITgrQ++Mzs5RNqvLY4ccSMxL9pSGlkcdeOsMzP0yKL8IY4nvJ3PZMTea1KF8sWaJrirDjcgt3NChRKrFLO/DZOMpGeYKlBIzEcfhRrrfKjXEccYFA9SbZWBMS6XlAJOAjDtGAGXbLv8peBX6w/wCVOdOkMXBkz118gu7w/eGG5ZrUIVZHI0iW8jV0/Umb+57Y7Cur/uLvuz85wudOlSniz0wODqFT2BLjpw+EMEOlepCDWJuYOoJSgQ35vYia8SvoiY8d7hE1KTBs31RRVXfA4IcmXjRKRi3TuQha0WFKSCU7hgvBJzK+K0G4fgYcug/r06u+Hg2tKkv3t6U54BiT8E9J7BnvJ2+ot+lpw6FpHfKOIQEum1MOG+Pq3VmEXIlT8pm9CfsN7ZhthvUNpCU+bOSXB79KuR5WIROoGjZwK8ExIXISTfFKpMH7KYaQgUSl5IA8xiU8H3wu+7a1JHJwQ6hWJSCDF1Fo2mxThoqJxP0qpPTEv473GFWceZB0QFOtFTyFFK+uKHBtw1MKYsLviQhRcWdFXBtwPHJ6DEl4lPRpMx932hDHCr2j3IDk49ewdTgqTBTc+V++78IkpuceLlb6lGClKI/XOTTLYquzaA4DWJqTUqil0WgbtMfUkV0wkLFeKJVKRQBlPRC1yDrSE3O0IU4Ki2cf73ocln56SU2sYRe4euW/ob5iB2ljH+96J7ydz2TE/wD2/wDyhyVcom1qVUrZO7AkA6C+hu0U72LPMMzTQdbzGTQ+FGQI5R+MZAnlK+MZD+Yr4xgZcH95XxiZk5Fhxyw6pKQMOCsJduk9Z2702ekw8BtTLnTn3Zt3UoGLdO5Exda6M9Lpmn1EAKWKpEIeYcS42p5FFJNRqQNIlvI1dP1Jm/ue2NIL8y6ltsbZhS2pGecZTqnEt4BDcnKpdWVptWrNAnSLq/7i77s7me+ovtm1Yrhp1Jzhc6dJNDQ7UB6auqCQKACXoB+KL3MziZkAAJN6snp6iVKUWn0YEuAeoxmObuuDL4jYb0ShuVhMtKi9pSNDt+eP4kbrDNFa1zPg9qMzJnUNKUmy6u81tcGHBBCLoBxlRqpBZp66xmlt28P/AEjSoVDb90JtU1e9Qj6I6lz7nAdfcdrXvUbf73oS2gUSkUA0qS/e3pJVLPocpjpjEOeAYk/BPSewZ7yduFPPLCG0CqlHagXXmElMq1gk2zt/bMGSuSjNk3vahvfUYcmJh3NE49hddPQN7OyTm1h90VGkyi5e5hsyzt80TyNF64WialVM26pUhSgajzRMuvgWyqw2fsbvngSktc5VhLlq2XUaL1w1JTcgpuxXrl8SR0wi6VzqCZRSqcVaYjBlU3KLLy02VOqXoRvwJYG2o4XFbpgzVykX5o/R3u9MNXyRS2kLwNpNTwmMy3TDBF7DdlFcVKYYU5cy042dtNMI3xDc7dlQSGcLTI3d2EykpJFaQsLLl8SPfDctNyhYU0gJrbSQri0l4H6RSBxiJeu3aP4j3IWzNpBapU1+jvxmhCHDKLWQy6oUtUj/AA80RRRaeWrhKa53+I3FdDLwNq94hXe+EWJq4K3HB9JtwUMNKmZZqQZbrS0u0cPBCGbnS2aXgiwDaCbODHhhctOSCmytZcL18Sa+uCUptEDAN2F3TlLmlk2wtIvyMfHDkui46g682UK6+iia+eHrNyUvB2lavoFKV39+OtXDaQd1Uwk++Jyduqn5S+R9IHB5v3gzzHkSvazqr22lFs2lUGM9R/ypzpz7FxWF9YbV10jd2+KNj2OTDCZdtLTaXGlUG1i0iW8jV0/Umb+57Y0hFzQoiXaXZwb2qMKSlCUMNNnQ7VKRNTXeICB5/wDrSLqNOszKyZ91VW2rQjJp/wBHMZPPcwY1md5gxrU5zBhuZlr6iy0BVQsmtTAbnRmpvvvpj4xMTDdqw4FqFRv9itCRmbyUElQtFNqFTc9MGZm1Js2iSbI8+lyZO0D0ximeYMama5gxqJvmDGsznMGMEpdBXBLmMFyrrH/236xsNdj0b9Y2Eux6N+sKfYW4yu0aEGhEGUmpZUySk6NoaLziJPwT0nPqmn8WJKRjUdyDNNTLdz5augoipMfwi6y0PWlBKXAmmPFpE441IvTZUwgUb2uGA3MJl0IQapl3nLCK7+2qP/Vboqvf8iW0COPGYDMsylpA2k54lsVcZNsb+7CWFq680KcI3e4DNzJPR0VhP2v0hthGpbSEjuRmZrXZtaWEef8ASBIuNJWwEhNk70XH8F72exWPIle1n3/KnOnPKZlpoyq1dsCbVIRNMXYKXEnHeP1g2TQ7RhUzMXYK3V41Zn//AKhtqYmM0OJxuWaWs/LeRq6fqTN/c9saRMlzV3tfHaEKue0qr7w0dPop/WL7tvOFXmGD3aRdX/cXfdnULZCUMhkAuKODGYC1pzS93zgweYROcLnT3Bkv3t6Sp+6LtlJUSG28fnMONSjCGk2Di24k/BPSc/LSCMQSKD7Sj/1Dcu3qG0hIhpDf0Hm08VCdInvJ24sTUu26PtDFBcuWszUoMco4cKfAMX+XVvKScaTuHP5tuWq9u1qUVph3ovc/JVUNs6AxkSuc/SMiVzn6RkSuc/SMiVzn6RkSuc/SMiVzn6RkSuc/SMiVzn6RkSuc/SMiVzn6RkSuc/SMiVzn6RkSuc/SMiVzn6RkSuc/SMiVzn6RkSuc/SMiVzn6RkSuc/SMiVzn6RkSuc/SMiVzn6RkSuc/SMiVzn6RkSuc/SMiVzn6RkSuc/SMiVzn6Rgkjzn6RepWXLTRxkf/ACi2TfJhWqXubw7k3Ol9phtb6ugdS5Hgvez2Kx5Er2s+/wCVOdPYMt5Grp+pM39z2xpCp2SnlSqlKtGicR3jDMuhanZiYXbdeXqlAf8AcSsvtoaFeHb0i6v+4u+7PznC506TWWaS653ql2YTJzchmfrlhZvtbPq6qpGVkc0G+XtKr7S0eKKzLSGl96ldr3ZwkCu9Evc9yTRLJUsWgo2lEHf6qlJSVkDAkbcNXOelUSya6JNbSsVcelSX729Kc8AxJ+Cek5+VukpBLNUKrvpOKC+1MofWRoG0nCTv7kLu1OpIKqluu2TjVpE95O31f4xcxPX06+0MTyfjDc1LqtIWOLP4Y1tHFGto4o1tHFGto4o1tHFGto4o1tHFGto4o1tHFGto4o1tHFGto4o1tHFGto4o1tHFGto4o1tHFGto4o1tHFGto4o1tHFGto4o1tHFGto4o1tHFGto4o1tHFGto4o1tPF3Luk5/Jabb48PUuddUglqXWpDu8lYpWAtCgpJwgjb7EfnWcMvLM5nC9pSq1Ofn7mOYHW5hTgHfIViPYLjrWFqUl70pX2ycX1Jm/ue2NJS7LSl8ZbQAnRpw7e7CXJiXzO6cbdq1Tz6RdX/AHF33Z+c4XOnSrrTaMcu+m0N4w2pRq63oHPjDjiNdXoGvCMScsrVJW2VcJAJ6ipWXZfnH06pLCa2eGMyLS7LTGK9vJp1FsSUtMzqm9WWU4B54kn2kuIopCVJWKEEGFPvuBttOMmEvKufP5nVidLdAYTMSzlttUN+b2NKkv3t6U54BiT8E9Jz5bebQ4g40qFRFtFz5YK3b2NJnvJ284qWxSk/Vbf2XNsefPGVkUB5/ETtA+8xbfm1Mg7RXZ9QjZL8ao2S/GqNkvxqjZL8ao2S/GqNkvxqjZL8ao2S/GqNkvxqjZL8ao2S/GqNkvxqjZL8ao2S/GqNkvxqjZL8ao2S/GqNkvxqjZL8ao2S/GqNkvxqjZL8ao2S/GqNkvxqjZL8ao2S/GqNkvxqjZL8aoqm6WHxiorNVmGN1WiHHji+MmihqkHGnuTdhf8A+TZ4h1ChaQpKhQg7cH+HXTm5Ns9rBtJHBWPnBMc0mPnBMc0mPnBMc0mPnBMc0mPnBMc0mPnBMc0mPnBMc0mPnBMc0mHXv4/MG9oKtbTtQxNKu7MILqLVL2MEfOCY5pMfOCY5pMfOCY5pMfOCY5pMfOCY5pMfOCY5pMfOCY5pMfOCY5pMWJy7M481toFEV4YSxLthttOIDPoetuMTLetvNmih+kUF2mlDdVLCsbMMejCNmGPRhGzDHowjZhj0YRswx6MI2YY9GEbMMejCNmGPRhGzDHowjZhj0YRswx6MI2YY9GEbMMejCNmGPRhFiZu3Ro4wyyEqPngS8siyges7v1Jm/ue2Owrq/wC4u+7PznC506Vd5lwVQtaUqHmMO3OfOgcVe/P9E/vdhLeOWucKq33P30Q34xv2REzMI1SUaHhh17G4t42j5hErPt6FytgkcYhE2DR19tKa75x++GFJGicqtR3cMShSKW1NqPDFzZFNmi3LRSvUnDQV9cOyziLlWHE2ca/hEw3MutLSsgpsE4N33Q35vY0qS/e3pTngmJPwT0nsGf8AJ285mpvXZRaX0eaG3k6laQoZzrZo67oU726YTNOpq+4K4fojs8pUAQcYMNzUvXM7n0d7bTAWk1SRUdyLrL//AD3B0aZOr/pFPHg98SzHeNJT6u61lT9tQ+ijDGBiY9XxjJ3/AFRk7/qjJ3/VGTv+qMnf9UZO/wCqMnf9UZO/6oyd/wBUZO/6oyd/1Rk7/qjJ3/VGTv8AqjJ3/VGTv+qMnf8AVGTv+qMnf9UZO/6oyd/1Rk7/AKo0TT6fMPjHyd9Kz3uI8XZk3T7PtCEqThBFR2DdNY1KroOkb+LPznCvp0mqlBI34uvR5GjcSUYdVSuKGbptYCnQOU9RhK3z157rrpVumEzAdTekvNgrrgxCH5dK00cRQKG7ExcufN4JVUW8ACtv3RK3KkVB50rtKsmoTwxmKXFpTCU2Bu2YzBPOXktk2FKxU3Ilp1tZLDRQCum4cJiWurJWlIbrUhJBpuwM2ocS8kYbIqFQ/dB8KbZdoGG1HEkbfnhDt9RYCgm1XBWxFQajSZIfvHpa5KcSoSCllUu+BUIr9ExsjK84I2SledEbJSvOiNkpXnRGyUrzojZKV50RslK86I2SledEbJSvOiNkpXnRGyUrzojZKV50RslK86I2SledEbJSvOiOtzCZlw6ltnRFRiYn51Nmam1WijvEjEnOTaN1lY9USJ/opGckZc6mnSrSr6ZWYfT9K9AGzAZl5KdccO0Ep+PUvczKTdDqVhIsq9cX7M7zAOJLooeHq2cxvuKxWiKI44YmSmyXUBVNPtbaHAREoT3lOLsQzD9aYkpGNR3BF9rKSCDqWym2rzxspK8xGykrzEbKSvMRspK8xGykrzEbKSvMRspK8xGykrzEbKSvMRspK8xGykrzEbKSvMRspK8xGykrzEbJyh/sQiRuww2045rTzZ625vbx6s27tOzjqxplz7lj/MP2nB9hOE91ak0EGRubUM7asVd870AvjNDm/i4owSUvzYjI5fmxGRy/NiMjl+bEZHL82IyOX5sRkcvzYjI5fmxGRy/NiMjl+bEZHL82IyOX5sRkcvzYjI5fmxGRy/NiMjl+bEZHL82IyOX5sRkcvzYjI5fmxGRy/NiMjl+bEZHL82IoqSY8yAIv9zFqQ4nCEWugxmGd0MwnETgtfr2W4w6KocSUqhNzrr2g0jAxNUqlSdoHcMbJSvOiNkpTnRGyUpzojZKU50RslKc6I2SlOdEbJSnOiNkpTnRGyUpzojZKU50RslKc6I2SlOdEbJSnOiNkpTnRGyUrzogyVxKzMwrAXQNA1vkw1KINbAwq747Zz6J0jrTuE9BgKSag4jpF7faQ6jvVpqI2Ok+ZTBbdQlaDjSoVEFt5tDiDjSoVBjY6T5lMXthltpHeoTQRWalWnSNsjDBErLttVx2Rj6l9ekmFr2yU44S9mRm2gWUmzqRvdS+fw+XteBFkgEHajY6T5lMBDaEoQnAAkUA0lpLeiZYOPeThPr0uyoAg7RjY+U5lMbHynMpjY+U5lMbHynMpjY+U5lMbHynMpjY+U5lMbHynMpjY+U5lMbHynMpjY+U5lMbHynMpjY+U5lMbHynMpjY+U5lMVYlmWj9hAGdUg4lChgSy9dlXFMr4Qc5IcCfa0sHFLqV+BXw93Ul5PGzJJvrvhbQ6OopozFtSdVe0FVILko8HAMe6IT45PQYkXZldhF6Thsk7W9C8yPh2xqsBwReVTYDlaUKFfDqKadmarTqghJVSL5KPpdSMe6NKX4SemJXwT09iXNZXhQ22t0D7XYMwr6TVHEHcIMNuHGpIMOvHEhBVxRKA41JK+M10ycutjaR8nl+Aao8fdVMug0U+aHwduEpp11eicO/udlt3Tl9CtKgFkeowzMj6acPDt9llKkhQO0Y2PlOZTGx8pzKY2PlOZTGx8pzKY2PlOZTGx8pzKY2PlOZTGx8pzKY2PlOZTGx8pzKY2PlOZTGx8pzKY2PlOZTGx8pzKY2PlOZTFhpCUJ3EimkFlehUMKFbhjMV0GVKaGp/TdiuagneUCIy1qMtajLWoy1qMtajLWoy1qMtajLWoy1qMtajLWoy1qMtajLWoy1qMtajLWoy1qMtajLWoy1qMtajLWoy1qMtajLWoy1qK5rSeAExmK5bK9HgKvpH4RoqKfXq1e7uCsKwS90QLJ3HRtefOSHAn2tLTOIGjlzh8Exf31aKVTZc82KHLoP69Orvh4NqHWkLsKWgpCtyFS05MNuTLi7VhkWlHcETyUIU0goX1tQoU6MYIT45PQYkwcIvCeiJ/wC5/wCUXOO3/wD1D7rRo4dAk8MMtMXCvja0WirNCOuV24MxmPM8o5atJvqTQbXu0pfhJ6YlfBPT2JJeTL6ewZ3xcMeLT0Q8hGuPUaQN2phphOJtASPNpaLnymVzmgR9lO2qGpVrUNpp3VkWTqTY9auzJoHvK8UU71wjupe32kOJ3FCsVDS0eCsxie5cYnuXGJ7lxie5cYnuXGJ7lxie5cYnuXGJ7lxie5cYnuXGJ7lxie5cYnuXGJ7lxie5cYnuXGJ7lxie5cYnuXGJ7lxie5cYnuXGJ7lxie5cYnuXGJ7lxie5cVLbiuFcWJdlDY+yO4SmLVhYNptfeqGIwuWm03uel9C8jd+0N7qyHAn2tLW04KoWLKhvQ9cJKiEvOBLm+kYa8UJbQKJSKARNPs64lvBvQ9NTMw0matm+KcVoqRdCdddCGVhwpJ29GDCN95NOIxJU/kpidl5lxLSjSls0xVrEophy2hnVLGpx7UP5jWh+xohYVXFj9UIkp5y9KbwIWcRENy9z1W5doFUw5TAdwaUvwk9MSvgnp7EkvJl9PYM74uGPFp6IkZIYUSoMy7w/R0tyZfVZbQKmHLszyaPvijaP5Te0O60h/b9s55VzpW5qppaUg1DlPdCM13GvVvU1fx+qL8f8PrsUrUPVwcUJm71erRIs1rnZViTk76wultVknb3drSKMyQShRol5aq180Muq1S2wo8Wdm/FGFeNPQPrsmblXMzzzWtujb3jvQ+zPSzspPXshGDQLO6kwmQukvBibePQYkOBPtaZ/ELHX73YrvdQpUAUkUIMX5MoCa1AKiRxRm7Mqb/W1WppXdpF8m2S4rxigOKsESjamwdq+KI9ZgzLzBtq1VFEVhi3L6BgUQgGggNstpbQMSUiggvLl7KzjsKpWLzKtBtHTpS/CT0xK+CensJlE28Gr9WyTiwQFJIIOIiJLyZfT2DO+LhEy8qy22yCeKHrpTKaPzq75TvUfRGlFa1BKQKknagTTgIuYwrrKD25XfHe7ryH9v2znpiZTW2/ZteYUiR/uf+MMeLT0Qb69e0uOKWE7dTtCFTFl3V2EowWlb8G6JWWmUmireMGM1fw6ezN/NsCkJmZddpCvVDcs0pT61rCaoGAeePlTtFkVCEiqjDcyoOWnK2WhhVjhSGbaHEipQuFPvuBttOMmEvKufP5nVidLdAYTMSzlttUJlrLsxMqxNNCphuWVLTEs+hy0UOp2qRK+JT0Z2b8UYV409A+u8tIyzDrpUq2qwknFi6YwSSkD7ZCYkJe6DqXFJs2KGtE2sXcFfhJ6YYTKyEu4zTQqU7QnDGxcpz8bFyvPxsXK8/GxUt6RGxMt6RGxEv6RGw7HpIjYVn0oRsE36WmMP+HuKbTHzec9JTHzed9ITHzfe59MfN9/nkx835jnUx835nnUx835nnExKZoue7KWbVLagbWKPkrxsfy1YUnzRIvTMmuVXmZeA7e/n0ouYyFvOKs2zib34l5Ry6LswouIt6I0IOMUhMlJuZklbFpcwMZ3on5d19bzTdMKjXDU5+d8XEsq6SEsSTQSUS4VUuHdV8NKK1qCUjCSdqLCLTdyWzolYjMH/wCMBCEhKUigA2u68h/b9s5+R/uf+MMeLT0RNBQB6yvoiaedZQ4oqveiFcFIzIlaJJlCr5UDAIekLmyz0401LlCn9SgUTjrtw75QfZTFzSABWx7cTdQMQ9oQiZS2m/OE2l7eOH22xZSbWAcFYubIps0W5aKV6k4aCvrh2WcRcqw4mzjX8InDNOtLRS2AgnBQGvuifug/on1ECu5XH7olXaaMOWa71P0iV8Snozs34owrxp6B9eZDgT7XcFfhJ6YlfBPT2FKJQ6lpDdq2o48NMUBTTV8d/mOYT+kSXky+nSHF4w24r8IpC3K9eXoWh9qBfR19423N7ez874uGPFp6NJU++4lttONRgKdSuXuUDUIxKmOHehLbaQlKRQAbXdiQ/t+2c/KNocSpSAq1Q4q0+EMKacSvracR3omS64lFWlAVOPBEwwVpDl8tBNceCGQit6Lmj90ZjlAtbqpYovSEYU6HCTBkbK1PLeKsA1KbIwniiRN8SQ3Zt4cWiiY66jRgWcOPCIbRfE2kKVaFcWGHHL6iwSUhVcFbMMT7FTedVZ2huwM2ocS8kYbIqFRNTUwFNsTIsMtnaTu+esPyc+ChC8CjTERiPBDLEq9fSldolOIYIZDCiottpSvQnAaZ2b8UYV409A+vMhwJ9rSSAab8IbRdNTiFptCrSK9EMzX0iKL3lbfUzLIP3sNjrhsg1Pnht+bnVvqcbCrNhICa8GdQ4mfIYcXZvaE2aefbiWJNSWk9HVbOb1Xh0qo2gWLNOmEeDpK/CT0xK+CensSS8mX06ROOmWU86VuICN8qgXXu3qxrLG0jSJ3xcMeLT0aQC6SpxWBtpGFSzvQmcu1QISatSY1KfC3T3akP7ftnP7HSfMpgmXlWWScdhATAExLtPUxW0BVIDjcjKoWnEpLQBEFt1CXEHGlQqIIl5Vlq1jsoxwczS7TNrHYTSsVNzpTmUwlKpCVITqRehgg2JCVTUUNGhhEbHSfMpiyAAnFSL5/D5e14HUGapZp2mIqTihLOYmL2lVoJs4KwEpSEpGIDOzfijCvGnoH15kOBPtaVJSrmpcYcHBgMP3JmNDaJoNxYh6aXibTXhO1ElNP5RNrcdWeKn734lvEp6ITcu5rSHpo4VKWdA3ww27PNSsxLLNCWqikNzLCqtrFRCrmXJbaU43rrrmpTDMtdFLCk2rbbrVcO9DLzqrKES6So+aDNXPZlWWDrYerbXC5KcZDM0iuLEaY4kvCX7oR4I0lfhJ6YlfBPT2JJeTL6dItWRa3dJnfFwx4tPRnqnFBlLiNh9wYFzB1pv4wZl5apqdVqn3Mfm3O7ch/b9s9mTfijCvGnoH15kOBPtaVczxTnQYYurL6G0RU7ixi/e9FzpFnWlC/zO99n970SIH2/dEt4lPRE8t3XFJUfxCJsKGJu0PNhicXjvS1FPJETyiarJTX1xLn+t7oaA+khoH1RKvIurdFILY0KHhQb2KETuaphUwVGl8cGjJBrtRJeEv3QjwRpK/CT0xK+CensSR35ZfYM74HvhjxaejOholT0wrUsNCqzFq6y8zSu1KNKwnwjCWWG0ttpxJSO7kh/b9s9gWai1uZwpChUYxpE34owrxp6B9eZF06mg9StJJw4NyJOcbubdAsMJKVHM6q4aw41YWkrFUXxNkhQxYDDkxMNlD7xpRQwhIiXRKXPnlJatVUZdQrWnwhllyWmWHG2gFX1opHHH8WkGFPMqVaUlO1XGIVJXOkZq+PaFSnEWUoHDCJLVYOuHdJxwpxmWXMSq8GhFap9xhixct9pq+YLQ0SlU3IMjPSuZTekpQbdSSNum1C5Yya3Wq4rJKfMRCbp3SbvCW0kMM03cZMMMSsjNuXkqtKDKqbWKEqLD7KgACl1spOkkH6S0gRKg95XsRickqZslVWmwfpjbTFibUuTfGqadQaiMvb4jGXt8RjL2+Ixl7fEYy9viMZe3xGMvb4jGXt8RjL2+Ixl7fEYy9viMZe3xGMvb4jGXt8RjL0cRhEvLtOIuaFBTzyxS+0+inOfKHhbOJtOFR80aAG5Uods68r/AOMHM7ejVqnFYVq8/d6Q/t+2c844iZmGHEIJSW3SmEszky642/oeuLJodrqOzA1epb8Iw43NXQnbDaLVA+oVNYCRXAKYTnC0H3Wa/SaNFRPIUsrKUkWjt6Lq3kTD0v8AaaNDE/aNToanj0ib8UYV409A+vIfbFVsGv3duEgq6+2KLHv7gM3NlDaSlWFW1X9IQ0jUoSEjsXRoSrhEaw3yY1hvkxrDfJjWG+TGsN8mNYb5Maw3yY1hvkxrDfJjWG+TGsN8mNYb5Maw3yY1hvkxrLfJ6t7Lt+f2mWRaWY0RFypY7Q0Tx+EWmWrTpxur0Sz5/qBIf2/bOef8Wroi5102sBTVC6eEaGGZn6dLLnhQ1KY5aR645vr2h+9+Jrxfvhc07hpgSnvjuQJ1V0xKXwWm2kNAgDaqYXcm6tm/gkJWMFTBfItOKNltO6YE0q6l6mFC0lm9CyN4xOrcFFqQSrhtQi5NzbAfKbbjqsIaHBuw3NZvE4wpVFBbYGGGppvAlxNabkXQ+70mDceVmhKBtFpblm0pR3BxxJSz88ZiUetYbABwJOA56b8UYV409A+vWbrjqKTjvY2uD4Rep6S0Y+6eKMkc5UZI5yoyRzlRkjnKjJHOVGSOcqMkc5UZI5yoyRzlRkjnKjJHOVGSOcqMkc5UZI5yooZVY+9GTq5YjBKrP3xGSOcqMkc5UZI5yoyRzlRkjnKjJHOVGSOcqMkc5UZI5yoyRzlRkjnKjBJr5cXmUlyyycZHvVFa3x9WqX7h3Fvkw8hpO6tVIKLkST06f5mobHnMVurdEobPaJXQjznGYsykshvf2z5/qFIf2/bOef8AFq6IZlnNS4hQ/EYnZSaGIGg+2PjGaH8MxNG+uHhxRNeL98Sg+hfDXhp/3EotOIsp6IlC1q1Fo+uJIL1sJr68MVGERdP7/txNMT6ahyoRoiMOCmLejRShP91fxhKJDJ0lQThO7hx78XQ+70mFz1zZgCaRS+ItUw0wcBpDchdlqqrVlK1J0SDnpvxRhXjT0D690WkKG+IydrkCMna5AjJ2uQIydrkCMna5AjJ2uQIydrkCMna5AjJ2uQIydrkCMna5AjJ2uQIydrkCMna5AgpYaQiYRomyBSu9BSoEKGAgwZeeKWZxRqsTCLPBji023LrTupAMZO1yBGTtcgRk7XIEZO1yBGTtcgRk7XIEZO1yBGTtcgRk7XIEZO1yBGBhvkjuJamH22h9tVIKLmysxPr3W00RyjHXphi5zfetC2vji+zCXJx7v5hVuAlIAA2h9RJD+37Zzy2pOSVMKcQRW2lITxw1ITdz1ICK9dviSN3diXmkpF5VlHm+OKPkkkqZWdoLSkDjhb7lzS4haLJo8ivTBl3Re1HRJ+wqDIvXNXNNA9bU2sYIXdm6aUodxNMg1sQm9EJmGtRXb3oEj/D0Ls6FDjitSPfD8yG2U2yUrW7iVhxgCBdC5+v4LSa0J3wYzI6bw2cCnVAVpCGZKWU/exZSi0BXjh1T9ziUPUqQ6jQ+uJyaYkTMSj1moCwDgSMIiWmHpIykvL4y4RaXhxZ6b8UYV409A/0LaujgDeqdR3yhiizMMNujcWmsW2W3JZffMuFMfJLvTPA+gOR/9Omh95CvhHyi4LvCy8Fx8pk7oS3jGDGCfbHhAp6Y61Oyy+B0RUGvcSsw+00PtqAiw08uYX3rLZVHyK45aT382uz+HHHy67Cm095Kps/ixxbMtf3O/eNsnjgJSkJAxAfUeReOp0HqV2ZNE95SK984T/ol11htzwk1jRXOl/uos9EVaZcZP2HVR1m611G96/1EdZ/xA+PDZSuNDdOUd8NinRGFFyneArEaK4zDngTIHTHXP8PzA8B1Ko65cS6o8FmsdclZ9vwpcxo5laPCaV8IwT6POCIwXRlvOukaG6Eof7yY0M0wf7gjQuJPn0+q1pTwmNHPyqeF0RoroNnwaq6I+SyU/NeLYwR8nuEpI7558J9UYXLnSo+yFKMfLrtzju81RoeqLWY0uK3XTb6YstNoQncSKfUtMwgVUwcPgmELr11OhcG/2W3cxjROKUCsD1CGZbvE4eHb/wBHtEy2eFMaKRljwtCMNzZXzNCNj2YyBPLV8Y0MstPA6r4xoTMp4HzGhmp9PBMGMF1Lqp4JmMF2bsek/pGzd1/SP0jZy6vPRs7dPnI2duhxiNnp71RorvT3moI0V3LqeZ2kaK6911cMz+kdcmp93wpgxXMdo7qnFH3xobnS3nbBjrUu0jwUAfVEpUKg4xBnZCqpc4xjpvGAHVZnc3F4uOKiaYP3xGUs8sRlLPLEZSzyxGUs8sRlLPLEZSzyxGUs8sRlLPLEZSzyxGUs8sRlLPLEZSzyxGUs8sRlLPLEZSzyxGUs8sRlLPLEZSzyxGUs8sRlLPLEZSzyxGUs8sRVc2wPviLzc5JdcOALpg8w24zfP4ZhWFIO1vnf/wD0HtXq9KO22aRgmneIRlTvEIyp3iEZU7xCMqd4hGVO8QjKneIRlTvEIyp3iEZU7xCMqd4hGVO8QjKneIRlTvEIyp3iEZU7xCMqd4hGVO8QjKneIRlTvEIyp3iEZU7xCMqd4hGjmHlcFBFZdgBXfHCezeuOITwmMoa5YjKGuWI624ldNw16lpRAG6YyhrliMoa5YigfbJP2urRTzYPhRlDXLEZQ1yxFpKgobo6nXFpTwmMoa5YjKGuWIohxCjvHqVOARlDXLEZQ1yxGvtcsdWyt5tJ3CqMoa5YjKGuWIqhQUN49Sq1pSN8xlDXLEZQ1yxFlDqFHcCurlDXLEZQ1yxGUNcsdWi3UJO+qMoa5YjKGuWIqhaVcB6lpagkbpMZQ1yxGUNcsRZS82TuBXVoX2uUIyhrliMoa5YioNQep1xxCeExlDXLEZQ1yxHW3ErpuGvUtKIA3TGUNcsRlDXLEUD7ZJ+11aKebB31RlDXLEZQ1yxFpKgobo6nXHEorumkZQ1yxGUNcsRoHEK4D1Kk0AjKGuWIyhrliNfa5Q6tlTzaTuFUZQ1yxGUNcsRaQoKG6D1KrWlI3zGUNcsRlDXLEUQ6hR3ldXKGuWIyhrliMoa5Y6tFuoSdwqjKGuWIyhrliKoWlQ3j1KrUEjdJjKGuWIyhrliLKXm1HcCurr7XLEZQ1yxGUNcsRUGo6lFuITwmMoa5YjKGuWI62tKqbh6lpRAG6YyhrliMoa5YiiXmyfC6tC+2CPtRlDXLEZQ1yxFpJBG6Op1xxKK7ppGUNcsRlDXLEaBxCuA9SpNAIyhrliMoa5YjX2uUOrZU82k7hVGUNcsRlDXLEWkKChug9Sq1pSN8xlDXLEZQ1yxFEOoUd5XVyhrliMoa5YjKGuWOrRbqEncKoyhrliMoa5YiqFpUN49Sq1BI3SYyhrliMoa5Yiyl5tR3Arq6+1yxGUNcsRlDXLEVBqOpRbiE8JjKGuWIyhrliOtrSqm4epaUQBumMoa5YjKGuWIoHmyfC6tC+2CPtRlDXLEZQ1yxFpJBG6Op1xxKK7ppGUNcsRlDXLEUQ4hXAepUmgEZQ1yxGUNcsRQPtV8IdWyp5sHcKoyhrliMoa5Yi0hQUN0dTRrSnhMZQ1yxGUNcsRRDqFHeV1coa5YjKGuWIyhrljq2VuoSdwqjKGuWIyhrliKoWlQ3j9QkKas6EbZjtfHHa+OHb7Z0VKUPUcaRS0oR2vjjtfHDTir3RKwTh6rjibFFKqMMdr447Xxw20ulpO51Gw1Z0Na1jtfHHa+OFLds0KaYD1HEDGpJEdr447XxwD1vHu9VbqLFk0xnejtfHHa+OL25Sta4OoltqlQuuGO18cdr44DrlilNo9XtfHHa+OO18cJG4OoHG7FLNMJjtfHHa+OFpds1Kq4OoppulokY47Xxx2vjht1diyncPVWoXuhNccdr447Xxw22rGlIB6iFNWdCNsx2vjjtfHDt9s6KlKHqONIpaUI7Xxx2vjhpxV7olYJw9VxxNiilVGGO18cdr44baXS0nc6jV6s6GtamO18cdr44Wp2zhG0eo62nGpJAjtfHHa+OEqN7wHd6rjqLFlW6Y7Xxx2vjgNOUtVOLqJQ1SoVXDHa+OO18cXxyxSzTAeoRvR2vjjtfHHa+OB1L43YpSmEx2vjjtfHCkO0qVVwdS9N0rXbjtfHHa+OEOrsWU1xHe6qj1vCd2O18cdr44bQcaUgHqIU1ZoE0wmO18cdr44cvtnRUpQ9RxpFLSt2O18cdr44bcVe6JVU4eq44m90UokYY7Xxx2vjhtpdLSRtdRq9WdDWtTHa+OO18cLU7ZwimA9R1tONSSBHa+OO18cJUb3gO71XHUWLKt0x2vjjtfHAacpartdRKGqVCq4Y7Xxx2vji+OWKWaYD1CN6O18cdr447XxwOpfG7FKUwmO18cdr44Uh2lSquDqXpula7cdr447Xxwh1diymuI73VUet4Tux2vjjtfHDaFY0pAPUQpqzQJphMdr447Xxw5fbOipSh6jjSKWlbsdr447Xxw24q90Sqpw9VxxN7opRIwx2vjjtfHDbS6Wkja6jV6s6GtamO18cdr44Wp2zQimA9R1tONSCBHa+OO18cIWb3QKBx9Vx1Fiyo7ZjtfHHa+OENOUtCuLqIS1ZwHbjtfHHa+OC45YpZpgPUUkbYjtfHHa+OO18fVLrdizQYzHa+OO18cFtylbVcH/wC6OiUBwmNHNsJ4XBGG6UpzwjDdFjzKjDPo8yVfCNDMqXwNK+EYEzSuBgxglJ9XBLmMFzLqq4JaNDcS6/o/6xsHdXmY2CunzcbBXR5IjYGf4hGwN0OIRsFdHkxsFdLm42DupzUbB3V5mNhLrcxGwl2PRv1jDcW7Ho36xhuXdUf+2jDJXRH/ALeMLE6P7BjDmkf2FRhddH9lUYZwj+0v4Rlw5tXwjL0ckxsgzxxsjK84IwXRlOeTGCdlz/dEYJho/fEYFpPn+rJQFF9wbSMXHHWZAU4SY2PHEY2PHEY2PHEY2PHEY2PHEY2PHEY2PHEY2PHEY2PHEY2PHEY2PHEY2PHEY2PHEY2PHEY2PHEY2PHEY2PHEY2PHEY2PHEY2PHEY2PHEY2PHEYq5c8U4SICHbUur7WLjioNR/oB12bYb8JwCNFdBk+CbXRHWVvPeAyqOs3Huo5v3igjrP8Ah93+4+lMaGQkWvDdJ6I0T9zGvBSo9MaK7jbfgSoMddu/OHwEhMdcutdZfDMR1xU054T5jIq8LivjGC57HnFYwXOlOZTGhk5ccDYjQtIHAnsjCkcUYWWz92MMqwf7YjDISp/spjY2U5kRsdL8mNj2vXGQDnFfGNDLKTwOq+MaFc0jgfMaG6F00cExGgu3dYcL9Y0F3p7z0MaD/ELn3pdJjBdxpfhSoEYJ6RX4TREf/SV8sRhkZBfgukRhuEhfgzaRGj/w+/8AdeSY65cO6Y8Fu1HXLn3Tb8KXjri3m/CZVGCfT50qHujBdGW87gEaCdllcDojQLSrgP1F/hdzq0rRaht/pAU6kPu7qhgHAIoOyD1sNOd+gRmKdNqWOI7m+IqPrv155tvwlUjRXQZPgaLoj5NKT8z4pgx8nuBMHxroRGhlrnS/jFqV0R1y7LTO81Lg9Mdfu5dFXgLsR1/NMx4x4xobnsnwha6Y61KsI8FsDu7o20K4RGjkZVXC0Iw3Ol/MikZCBwLUPfHWlzTXgPmOtXZuqj+/UR1r/EEyPDbCo0N2mnPDlgOiMDly3eELEaK5so74D9OmOu/4fd+5MJVHXri3URwM2hHXhNM+GwYwT6POCI0F0JU/3RGgWlXAe7DriTRZ0CeExmlQ6496k9lrwdcaFtEXtZqpk2fNtfXH5RNMteGsCLKJkvK71tBVHyS4k+5vuJvYjQSMjK+NdK+iOv3bS0O9ZYHSY+VXSujMbynqCKiRQo/bJV0x1iVZb8FAH1S64y2vhTWNFc6V5sCK5iCT9lah746zN3QY8XMGOsXenh4yi40F2GHvGS9OiMLVzHvBKkmOvXBtb7cwk+qPlFx7pt795qIo484ydxxpQjQXQlvOsCKtuIX4Jr3PYTuue6JdI2mk9HZk43tYPf8AWzr86wg7lvDxRSTZm50/0WT74+T3GQyO+mHvcI69dOWlRuMM2vaj5ZdO6EzvF2ieKNBIMnw9F0xZbbSgbiRTT2HJWfWhL1et2RgpSELnplT7zgCzUAWd6HpS5t0VuMIXrpSKAQht59Uw4MbhFKx/CWLqLVaWkBVgYKisIQtwuqAwrOM/U2hAIjrkjLK4WhFcxhB3ULUI+TXSukxvJfwR1i7xUNx1gH1x/wDTZgfeSY+UXBWRusvBXqj5VJz8r4xgxoLoMjw9D0xVp1Dg+yqvciX8M9EMeLT0Z6zNOLRv3pRHHSMrPNq+EZX+Wr4QCMR7Dnf3t9m2H3rTn8tvCqLMrct137+HogZtuPMsDdr8QILmbEt0FSlzQn9YM0lq9i2UgVrAzTc66TNcVtoCvrjJ5zkp+MZPOclPxjRCYb8JHwMW5SYQ6NumMeaCqhNBWggJmbn3RZJxW2gK+uMnnOSn4xhZmx9wfGAhMze1nEHBZ/Tq/KnwlW0gYVHzRYlLnTT59cBM3cybY4f1iktMC33isCu61p95tobq1Uiw06uZX3rKCqPkdw3UjvplYR6o69dGWlBuMNWumPl05PTm849oeIR1mQYB3Smp9cUHYkrKuLCWmwkLJ2qnD6qR/CLjrsM06+/9nehMtLJokYztqO6epNTuNKLakn8I9X1W6/Ksu+EgGLWYw2rdbUUx8kuxdFneU5bTxR1q6MpNeOas+zHyi4odHfMPDoik5Lzkn45k09UdZnmFHct4eLuHL+GeiGPFp6M9N17yHvHn2RC5Rd7v9i02TjTv8EJvq0pCE4VE4ITMGbZDSjQKtYDAcStJQRW0Dgixm+WteMHUKHZphChjCnADGWy3OiLbTiHE7qTWLMxNstq3FLwxfGXEOIP0kmohKHn20KWaJBVhMXp6bZbX3qlgRUGoz87+9vsw3Pkl0f7YsfQ3hvwiWCqWtEte4IDMqyltPrPDBQtIUk4wRBuhIIoyNdb73fG9H91UTJI1NkjlDqSIUkKGZ0Y+CP4jKtpaUFUdCcRrtwiZl12Vp9e9DMyjUuoCx54KiMKXE06jbczLoXVsYaYRg3YflSa3pZTXdhy5ryiq9pttE7Q3ICGaGad1H2d+EotFx99dLSoTLy6B9pW2o7sKl5lsLQr1Q5L2iFsr0Kh6jBlpk/KmxWvfjd7o2ph9tpO6tVIsSgmJ1e4w0THya5jMqnvplyvqEfLrtugd5LJseuLapa/r755VusWWm0Np3EinZM066hLrSCs0UKggaEQh5sWZZzDT7JxjzdSZmNtDRI4dqJqa79YQPN/3DSZh0ILqrKN8/Vvr0iwo7tih44rIzk7Jbzbuh4jHWboSs4Nx9qyfVHy+4swB38ub4IsIm0IX3rmgPrio7Ol/DPRDHi09GenPFw5/D1yaW77hv1a1oNyHv4mUlzM2hKNTS1tQ9NLtX1pIsaI0x7kB2addrUhqydQK/GJD/Dcu4sMaG+muE1MKlkSrTZs6BQThBh65b5JvYtIrtYaERNzs2009fbN7CsNAE0hFzbkSrKEpOicQild08AhYlRhQKJO6o7cJzRceemnXRacdMtatE7hhSESs23JOlQ642RQbVYlESqlILtk2lG1orWPDD7yQ4qZQm2XVLJKt2EBRrYWUjgz87+9vst6YVibQVnzQt51Vpa1WlGJuaIwkhsdJ93VU04LSFiihuiDK32+C2VA0pE3wJ9odSR8nR0QtpR0TykpSOA193UlWF6pDQtcML8YnqM+LHRE282aoLmA7sPzVDYQ3Yrvk/pEy4ToUrsJ4BggLPamlK93v6rLo+mzh8xiWmAaBKxa4NvubVRAG/FjNIec7xkWz6o+Q3HLSf5k2qz+HHHy27BaT3kqiz+LHFtcvmhzv31W6xYbQlCdwCnZi3WZd6YdOBCWkWsPwh5M1ITiC8KJcU0QkUrjiWvEq+88Fml7bKqJ26+qESk7JTLLrKaW3GyAobXnj+HyklNPKdoVKbbJSBXpwQ3KG4V0lrBJUQ0cOGJaZnJCYlpZjRIC0EAefdrT6v0mpZp3wkxW5k9NSJ71K7SOIx1+VZui337Jsr4vhF5Lhl39tp8WFdmS/hnohjxaejPTni4e8efZEXyyLdKWqYaRN+COkQ14SumJe6BSSg2V8nGIDqFAoUKg70T0+kdZqoJPCY/h8qSZl3VWcaR8TFpwfKXNWdzeiYcYSTenT57KqEw3KPuobeZFmijS0NqGpGUKHsBU+oYbA2vPWLm/c9uJzxJg+OV7s/O/vb7LnbP8AKPUe8oPsp6haenmEOJxpK8IjZGW5wRsjLc4Im+BPtDqSdWmES62wGl2a4KcMX6beU6ra3oZukp/NSiLTdBRKeovxieolkJbaZUgDQLSCRxxWdmG2kbiNEYTLSqLCB69+H7WO+Krxw/4j/wAh1ZMfYV0xg7lW5h5tpO6tVIKLny8zPr/pI0PGYxytzUc6v4RauhMzU8r+q5oeIRZlpdpofYTSNGtKeExo5+VTwuiMN0GfNhjQTC1+C0r4RoUTauBgxoZK6KuCXMYLk3WPBLfrGxF1/Rv1jYm6/o36xsVdb0b9Y2Lur6NGxt1PRo2Oun6PGQXS9HjI7oejmMmnvRzGtTg/sGMImR/YMYVvD+yqMMw4P7KvhGW0/tL+EZcObV8Iy9HJV8I2Qa9cbIscqNkZbnBGyUnzyYwT8qf7ojBNsH+4IwPNn70YCD9abE3LodG+MI88W7lTBmWB/lXz7KoUlIU0+3rjLmBSeypfwz0Qx4tPRnil6bmkNnG2hQCeiLUrOzqRWpTbTRXq6l7emZlDe2htQAPqj5PNTRR/LWoWeiLxMotJ2t0QZcXUnczHtQVCWJdsIQmFTea51LylWrQcGA8UWVXWuqQf/wAj9ITKNFSmxXV78Fxpx1iv0U4oLcsk1VqlqxqjND85Oqc2jbTg9UCWen50o+lok1Vw4IOZ5maKDhLa1Cz0Z+d/e32W7Lr1LqCg+eHGHRRaFWSIm5UnCCHB0H3dSZU7LNlwNqIXZ0QNN3qKm3WG3HVOEVWK0Aib4E+0OpKyr40KpdGHcNMcOSr4otB49+MwTCusOnQk/QV1F+MT1GfFjo6r+DQOm+p8/wCsNpJpfUKR7/d1UtDtTQB4Th+ES7VNClVtfAO49uZfbaTurVSLFy5KYn1d8lNlHKMVujdWUuU33jZFrjPui0pbt0pjdUFOk+6AmQuBM2dq+0aEYG7myw+0VKMdfu7YHesy46Y+U3Tuk/vKeoIrmO0d1S1H3xobnS3nbBjrcsyjgbA7D1I4owtI5MYZdrkCMMnL82IwyErzSYLj0jIoSNtTSRFMzyyvBY/SMlRzRjJvwrjJ1fmfGNDmhPApcaGcugjgWqNDdm7COB0/CNB/iK7HnUT7o0H+JZ/7zNY0H+J3fvSIMYLuMr8KTIjBNXNc4WnBGil5RzwFKHSI67cxY8F2vujrrU0z4SMEa8vmzGvL5sxry+bMa8vmzGvL5sxry+bMa8vmzGvL5sxry+bMa8vmzGvL5sxry+bMa8vmzGvL5sxTNJTwoMW2HUOJ3Umv1IxxjjHGOMcY4xxjgXTkhSelsKbP0xtpO7CHKFNpINk4xGOMcY4xxjjHGOMfYMv4Z6IY8Wno7Mnf3t9mZskwBNAaJP8AM/WEvXshbeBbasFRuQFMTKArbQo0UImL7MNIq2oCqseDqC0kiriiKw80pYDjtkITtnRDqSl7WFFDYQobhEZoYT8qZGD7Y3OoJOacAmmxQEnXB8YzOVi+OOCidvqS7rKwsXsYurYqEPIwtr93BCb4hTL7SrSa9MJUl1CHqaNonCDCnHXUqX9FsHRKhakNqdfeVaomDaIXMOa4r3DuIVuLShIxkmkWWVGaX9jU8cUlUOttnalmrSvOo4B5ovpkZdC/5s67f18WKKT115p0d4zRpPEIqJFtZ3XNH0xZabQ2NxIp2cX3MKsSE98YzXOvFDP0f0EULBWd1SzGSJ5RjJE8oxkieUYyRPKMZInlGMkTyjGSJ5RjJE8oxkieUYyRPKMZInlGMkTyjGSJ5RjJE8oxkieUYyRPKMZInlGMkTyjGSJ5RjJE8oxkieUYyRPKMZInlGMkTyjGSJ5RjJE8oxkieUYyRPKMUzNZ3wsxm25r61ITqhtgb+6ItUsvI1xP1pl/DPRDHi09HZk7+9vs2k3LId3DtjzxoVTLfgrHvEYVzS+FY+EVakm7W6vRH19TDJfmr+MZD+av4wl1uTsqSag31fx6i3nJIFazVVFqHvjIfzV/GMh/NX8YyH81fxhD7EpYcQag3xXxzl7mmEOp+0MUEpD7W8lz4xos0OeEv4RYlJdtobdkY+4ZEzMpC+8ThVxRS5Ny1Mtnt0xg9X/cXy7N1XHT3jeIcfwgFuTQpXfOaI+uKDuEiSJ601gPSfhASkUAwAdwEBvAy/tbyv1+olOx6adL+GeiGPFp6M78mU2lz+omojMs83LBCHLDhQDx4+rmSRblihTlhsrB48cfKVtrc/ppoM4q8hJcpobRwRmKcdRZTaBQ2NDi6qr2AV00NcVYakJt1tKQcKGtSdDXh0md/e39US7MOoaQNtRpF4uVKPTzu8KJit0p7MTJ7TLY+P8A7gGXlk3z+YrRK0z+HXMZS9NUqtS9Q0N+Km7bSTuJlQRGzyPRExs8j0RMbPI9ETGzyPRExs8j0RMbPI9ETGzyPRExs8j0RMbPI9ETGzyPRExs8j0RMbPI9ETGzyPRExs8j0RMW27pS80R2txmxXziFhTZZmGjZeaVjSdJneFz2s78mW2lzdWmog3MS3I360U1oqnTF+m5STdZ21NVwRfmapIwLQfonOF+zacUbKE78Inmp4vLxrZS0NDwbsMvTLV6dUNEnsOSO3+umqmHq0GAAY1HcEX0zDFzknUt3u+K89Y2eR6ImNnkeiJjZ5HoiY2eR6ImNnkeiJjZ5HoiY2eR6ImNnkeiJjZ5HoiY2eR6ImNnkeiJjZ5HoiY2eR6ImNnkeiJjZ1HoiYblrrpbLbpstzLWpruKG13Jvz5OOiUjGo7gi21cyXZQcQed0XqjJLn84YyS5/OGMkufzhjJLn84YyS5/OGMkufzhjJLn84YyS5/OGMkufzhjJLn84YyS5/OGMkufzhjJLn84YyS5/OGKmQkV7yXSDC5dxpctNN6tlePhG6OwZfwz0Qx4tPRnrsTKBo5d5J+7hrCUKNXWNArg2oLbWvzBvTYG/ErKj6Cm68NBXqOS1ypMzZa1ayuygRmC6UqZN44AbVUmFPOqCUIFSTCnrnXKvkuk4FLcslfBBmL2pu3aqg4xoYVMTCqIHGTuRmtdxSmX33dEOEbUCYYrTEpJxpMN+b2Ib62p151VhpsfSMX6auSkJOIpfrQ7+DPzv72/qfam5hDe4n6R80Fi4Ugo/1VjF7hAmbuTjk05/LCtCP3vRepZlDSNxI06emTrjs2u0eDF2C2UYL/ACht79DpM9wue1nj4xXsRMJdULTqClCdsmJqYUCG1lKU79Kwt95VhtAqTGbJe46lSuO0pyiindpBW0ChaNWg7US6ZiRVLJSpVklYNrFFiYuauWRZwLLgNYXJ3OlDOPN65orKUeeP4fdGUMo8TQaKorFnMrzit2lEccMrbki4CBfFWqJB70RLhDLj0zMJCm2Bj8+5CE3SuWWW14lIctQmaDbz6FptJvSa4N07kKUmTWuYt0bYb0RI3TGYJqUVKvbVT6oW+8sIbQKkwqbk7kqXKpqba3AkqA3oUptJbcRq0HagSUrLqm5sit7BoEjfMJlbqyBlbWJYXaGekv3t6bchheFFXHKb4GDsGcCxqWyocIwxLOqwqW0kni7kddwplJe02PtKOPsG510EYHUTKWid1CsY7Bl/DPRDHi09Geu2hQqkuJBHmMKlXD1lZsV3jqTC3scvc8WU76/30CG/GN9Aiadb1QRQefBCyMZeNeIRLTQGjCrFfXFz0lRrMJBXv0ESiEam8p6IdAFNUfwxcyXDlgW7VaVANRhpC2XLspKFpKVfJBi44eGar8HafQs0p54b83sRLzMnUuy5JsjHtYuKF3Ou2yUhWhU4nBxiAUmqSMBz07+9v6m3ybeSjcG2eAQZW40spsd9jV59pMZous8qZdOEpCsHnOMwGmW0toGJKRQdgTHlbnT2DKeSq6dJnuFz2s8tlS3EBThwoVQ6mG3JpCpuVUaptmtRucIhtcvZvRToLOKkMNAmi3MPmEJsXaRZpg+SJxccLfzZfbSLNm92dvhiS4V+6FOd63X1Q+5L3RDBvujBZCycGOsJfmbq2nEigIl6e+E+OT0GJRIQKFsKPDE2GZrM60ospUW7eAUwQGZq64UgKtZMBh44dky7fbDLmipTdiYcsi3faV26UiTI27FYYZFaLcqfNDKEAXu9gDgpDipVspLmOqqxdNxidzO4V1NWrdRUw3mu6wXe62aSwHvhlgrtltATapjpnZL97em3J8B72ewZ7xCuiJPxCPZ7kT3k6OwZTy1rsGX8M9EMeLT0Z2+zDiW0bqoumtx9LaH1gtqVgrSsNz7adE1oV+D/AN9MIzQtLZ1byld8f3SBPJXVhLqNFTaAFYdbadS404kotJh6QumlTbazULpgru8BiXkLnVcbQq067TQphtqUTVUtSwndFKUhMnPpcC2dCkgVqNyFThk5jRdqCarpZ3IZm2G131oYW/pUPvgNTcqp11OC0lVLXDD90p8Xpx+mg/loGKEzodBlwQLe1qaRc2ZQsrlnAu3ZOAjBhhBlFJfnVKF7vY0R4YlmHdWhsBWenf3t/UtTrziW0JxqUcEZluO0pSlYA4U1J8FPxjNd2XllSsbdqqjwq+EBmXaQ0gbSR2FMeVudPYMp5Krp0me4XPazpdmHUtoG2oxm+31i+nRU2qUrBQlxK0KwtuJ2jDlzbohQaCuGwfhFuRWHShVtFPpbojMc5LKcvWhThoobxhd1JlosNlF7Yb3sZMS7Mu6HFNWrdNrFADDyFmxok7YhYvdthe7icHxgSMpLLZZVlDpOJO5Akg4L/fAqxuCkMMNuC+tNgLRtiBdmUBsmhJpqTiw70BiVuepU2rANFUcMKYmnxfVNL++s4/WYelnHUodU5aSDt4IlppDoUy2UBSxigLk1BxSDbbp9KBJzkstZa0KSMBG8YcupONXm2mwy13qP1hc+wmrLqiQdo1xpMZiudJqQ85gUsqqGxuw0wnE2gJHmzsl+9vTbk+A97PYM94hXREn4hHs9yJ7ydGfdmnjoGxXh3oeZfaZQEotCxXd0mU8ta7Blz/U90MH+mno0ujiErG+KxZQkJG4OpbsJtbtMMFQSkFWM0x9S3e02t2mHq4otJbQk7oGfnFDFg6T9SrB67MbTST07kB+acvUp9HBofujb4TFJZvRnVOKwqV5+xJjytzpz+YrnSrk+/i0BoOOEMXXuYuTt4l2rQioxaRKeSq6dJnuFz2tKtKbSSNsjOUUkEb8WUJCRuDOaBCU13BnbZbSVDbph6lCKiKIQlI3hnpL97em3J8B72c+ZiZVQfRSMajvQ3JzFz1S4cNEkqwjc2oUiSljNJQaKdrRFYanFtXouV0Na7efnvEK6Ik/EI9nuRPeToz7NxGFG8NG3MKH7/ZMTbKRRNlxIH3hpMp5a12C5ZFVNm+CEN10bOgPu7LddroiLKOGFvqGF5WDgH7P1JzBcYF11Rs31IryfjGarqm/vE2r3WoB3++MUHYsx5W5055d7NHHjewdzdjNhT12YOP7IiSH0rSqcGCJG1jvCOjSJTyVXTnyy8XVPD6CURSTk0N/acNqHX3zVxxClKwbpHcGS/e3ptyfAe9nPtl9lDl7VaRaGIwqVZVTRBuu5QYffAudeEmX73d34Qyymw2gUSNzPz3iFdESfiEez3InvJ0Z5b+C+nQtD7UKmJm6EvmuYNpy04Kjeh4tqCkLW9ZI2xhOkynlrXYWbJVNqVWcXui0yvRbaDjHZN8mHAncG2YGAtyjfq/WEtoFlKRQD6jla1BKUipJ2oNzbkgplu2OYrQ39wRoOuPkaN04/NuDseY8rc6c9KrGpDprxRJFsil5TXh24bk5Q2mm9BaGL7SoZl7mSQeUrQhSjRDYG7EwxdCZvq22lYjodrEM/KeSq6c+wLFZ1bgbYpjPDvQ3c55CkKt0cG4BjidAFAL57WlY+rjzyGHH20urwJRawnOJli+3flYkVw6VJfvb025PgPezn1LVqUipibn14wknzqP8A31FzN7Fz5W1Zs2uuqiSKiSSynCeDPT3iFdESfiEez3InvJ0Z4NaqRlRXwv8As+qNjmOTF7aAQ2l5aQBtYDC5lxK1JRtIFSYkWlsGQYedTRP0lCu3n5Ty1rsIoWkKScYMX2QfLKu9OLjiyiYtjxgPTGr/ABIjV/iRGr/EiNX+JEav8SI1f4kRq/xIjV/iRGr/ABIjV/iRGr/EiNX+JEav8SI1f4kRq/xIjV/iRGr/ABIjV/iRGr/EiNX+JEav8SI1f4kRRTxT98Doi+3Rmi4dsJOPzmA0ygIQMQH1HKlEBIwkmDIXPJRINnrjm7v/AAECXlkUG2dtR3T2RMeVudOeVLzLYW2rGIU21dCfQyrG2HMBgolGqE6pRwqPUuh4s/8Ajn5TyVXTn3nzhakEXtHhqxn3Rm29C/2LFveie4XPa0m9TDSXEbiocXKghMu9ofhDcw0dA4m0IW+4aIQm0YaVNpPyh4FQ+z/1F6l2ktI3EjOEHbiUblwQkqQrCScPn6qkKrRQoaGkNsMCy3WoFa/Q0qS/e3ptyfAe9nPuy61KSlxBQSnHhhxMsp1V8NSXCOo54aemJHxCOjPT3iFdESfiEez3InvJ0Z3M7E6ZUK1ZCLVobkJmWrqkjEtF41Q3McLQy7enCNCuzas+aM1fxlV+t27d4w13dVCEuOXxYSApdKWjuxcfxg9oZ+U8ta+un8CuadAD8pd2uCEy0umiRjO2o7vZMx5W506SFSclmtZOFN9CKccPXVNyUqvtQW7+gYOGu9CVzEvmdw427YVTzjPSnkqunPOzC9S2gqPmhDzuuzSi+v736U6k9wue1pV32AOuBxCm/CAMO3OcOFGjb4NuJa4zJ0cyqrm8gfv1Qw02KIQtoAfdELecNEITaMPTT80/LyqVWW2mVWeOGxml6Zkndpw1O/54VPKVVoItDf3IVPz83MNtrJDTTK7IAiVYffW/ZcRYWvHZhptgoExMKsoKsSd+FTDP+IXVzbabWU4FbwEOJmDV5kgFW6DihvzexpUl+9vTbk+A97OlLkmbkWW7euZoSbQG9EtIzdyr222myXg+k4huZ6e8QroiT8Qj2e5E95OjSVu2FuWRWygVUeCJOaYuPdEIliDo2DU4awv5HOS1mmvtWa8GelPLWuwK/WNLMrhnJk2GQMfDAb1Ty9E6vdPZUyNsTbgPYMqNyUUfXnnGUauYWllPnMIaTqUJCR1J7hc9rSrs+NR74RPNDrbhvlPaH73YmrtODXDe2K7SBDfjG+gROBGO91h1quiQ7XzEf9xLnbvvuiWQcYDdviiXs/QqlW8axI/2+kxc95xNtpOEpIx0IrCXW5GTUhQqCGUxMS8nLttrbs3woQAMO1Dfm9jSpL97em3IrtpeH4ewZ6v8hXREoP6COjuRPeTI7Bk/LWuwcHZ2H6iTF23MLLZvMqN7d/e72W9OMMLmJKYNp5tGqbV3wjRTZQdwtK+EZd+Uv4Rl35S/hGXflL+EZd+Uv4Rl35S/hGXflL+EZd+Uv4Rl35S/hGXflL+EZd+Uv4Rl35S/hGXflL+EZd+Uv4Rl35S/hFJVT027tNtNKqeOHrqT4CZl8WUtjtSNzPXGlt2YLnJHVeSvAHSafew6T8mS0pz+oogRMzRMg5mk1Wm2ocWCL0gpS6lVpCleuES8mlBLaQlIWaAx/Ey7Ih22FAWlUweaKTaGQs4wg1FPPCpm47jS2lY2nDDUxdcspaZ1DDeGvDDks8KoWKGF/wAOmWVMq7/3iG5tydbtiir73p3AITKzL5W8nCHrIGHgi8S86lto7jhpBabVfHTolrV9NUC6tuRCwa2baqYqbkJvoSF00Vk1GkykqjDZsg8dejTW3JZQRNS674yo7u5Fi6bb0i+NUlSCR5iIy78pfwjLvyl/CMu/KX8Iy78pfwjLvyl/CMu/KX8Iy78pfwjLvyl/CMu/KX8Iy78pfwjLvyl/CMu/KX8Iy78pfwjLvyl/CMu/KX8ITKy7LrNzrQLzyxQubyYoMAHchu7LDanUBF6mUJx2e+EBbc/L0O6sA8RjLpbnRGXS3OiMuludEZdLc6Iy6W50Rl0tzojLpbnRGXS3OiMuludEZdLc6Iy6W50Rl0tzojLpbnRGXS3OiLSp+VA8aIlywlX8PlF3wuEUvi9qnYeKMUYoxRijFGKMUYoxRijFGKMUYoxRijFGKMUYoxRijFGKMUYvqIu82b5ZNi1irD8q5JoS44gotpXi80Sly2mphLlAnUYCrbPZmKMQjEIxCMQjEIxCMQjEIxCMQjEIxCMQjENIkk/ypZax58HVTPywN+Zx0xkQlt1QRMDGO+4OzyKhb/0UfGFXWm62163Xf29PxCMQjEIxCMQjEIxCMQjEIxCMQjEIxCMQjF3LtuyMupRxmwI2Pl+RGx8vyI2Pl+RGx8vyI2Pl+RGx8vyI2Pl+RGx8vyI2Pl+RGx8vyI2Pl+RGx8vyI2Pl+RGx8vyIqLny3NiAlIAAxAfXKabA0KlXxPAcMZumUfKHRoQfoJ+PZlhc+zUbhrGXt8RjL2+Ixl7fEYy9viMZe3xGMvb4jGXt8RjL2+Ixl7fEYy9viMZe3xGMvb4jGXt8RjL2+IxQT7XngLbUFpOIg1Bz3g3P/wDPOF5hWZ3TjoNCfNFlqctJ2uu/GNf/ADBGv/mCNf8AzBGv/mCNf/MEa/8AmCNf/MEa/wDmCNf/ADBGv/mCNf8AzBGv/mCNf/MEa/8AmCNf/MEa/wDmCNf/ADBGv/mCNf8AzBGv/mCNf/MEa/8AmCNf/MEa/wDmCNf/ADBGv/mCNf8AzBGv/mCLK5uyPG/CA7OLzQvvfo/rp4zVMttVxBRwxl7fEYy9viMZe3xGMvb4jGXt8RjL2+Ixl7fEYy9viMZe3xGMvb4jGXt8RjL2+Ixl7fEYy9viMZe3xGPksy26RtA4e5VVqSnhMa+1yhGvtcoRr7XKEa+1yhGvtcoRr7XKEa+1yhGvtcoRr7XKEa+1yhGvtcoRr7XKEa+1yhGvtcoRr7XKH1jL0y4EJ6YvdzZEq8IFR4hGRfkxkf5UZH+VGR/lRkf5UZH+VGR/lRkf5UZH+VGR/lRkf5UZH+VGR/lRkf5UMzsxc8rW0KAXrAeGMj/KjI/yoyP8qMj/ACoyP8qMj/KjI/yoyP8AKjI/yoyP8qMj/KjI/wAqMj/KjIvyYCboyFBvApPri+yzlrdG2NMRcdK1Il0t32ZKcahtJgNsyjKEj7Eaw1yRGsNckRrDXJEaw1yRGsNckRrDXJEaw1yRGsNckRrDXJEaw1yRGsNckRrDXJEaw1yRGsNckRZXLMqG4UCJcy1RIzjl7U1tIc2iM9MnvZNI9fVU88sIQnGTF5uVKlX2imp4orUjmxGrPG3GrPG3GrPG3GrPG3GrPG3GrPG3GrPG3GrPG3GrPG3GrPG3GrPG3GrPG3GrPG3GrPG3GrPG3GrPG3GrPG3GrPG3GrPG3GrPG3GrPG3GrPG3GrPG3GrPG3GrPG3GrPG3GrPG3GrPG3Fo1WNyiDF4umzeFYrQHSICkkEHERpr00BVSRRI3ScUX+cQmZnXMLrjgrh3BGsNckRrDXJEaw1yRGsNckRrDXJEaw1yRGsNckRrDXJEaw1yRGsNckRrDXJEaw1yRGsNckRrDXJEaw1yRF9lkJlpxGFp1sWTXfhqYWLLmpcH2hjz+ZZVlU1Nd4jEnhO1FpU1Kyv2UN2umNmEejCNmEejCNmEejCNmEejCNmEejCNmEejCNmEejCNmEejCNmEejCNmEejCNmEejCNmEejCNmEejCNmEejCNmEejCNmEejCNmEejCNmEejCNmEejCNmEejCNmEejCNmEejCLQdlZwd6U2DBYWhUvMp1TS8fm3dITeE25l5YaZT9oxfbpFc9MnVLWo08w3I2Pb9cbHt+uNj2/XGx7frjY9v1xse3642Pb9cbHt+uNj2/XGx7frjY9v1xse3642Pb9cbHt+uNj2+Mxm65ynDKJPX5YqqKbqYStJqlQqD9ScyMtOzc1/KZFacO5GD/DqvS0x83T6YiPm6fTER83T6YiPm6fTER83T6YiPm6fTER83T6YiPm6fTER83T6YiPm6fTER83T6YiPm6fTER83T6YiPm6fTEQmVn5Z6QfVqb7qVcCs+p1w0QgVJhb75UiVb2twbkBphtLaRtDs4tuoStB2iIRPSJN4JoU+4w3MNalYrpd0PEN9gyHlzXvz11V7SENI9VermFlVJZo4+lUBphASPWez7Lgo4NSvbELuPNbVb3vHc00ePb6ewpjypzpzyGZbKZhV7a3t+L23hUcK1nGs7vZIUg3uZbwtODGDAcWLLqTYdTuKGfuMP6q/Z7BnvJ3PZMSPk6PZ+pEzNJ1SEaHhxCEg4X3NG8s41K7AXLTCapV6juxe5g2npZxTCzulOeWB2xYT7/dDFMaxbPn0kJmJplknEFrAjZGU54RVh9p3wFA5y3NTCGhvnCYTMy5JbVWlRSBc4vfKD9GmnzDR7wkcMOtHtbmDz6XdDxDfYMh5c1789dWZ7+cUkcCepMOjGhtSvVEw/tldn98ekFtydl0LGNKnACI2QlOeEWmXUODdSqunfKZhKVd4MKuKEuI1KhUaRJzKMBNknzHTU+Pb6ewpjypzpzzYOJiVKk8JNNJvC1qdf/ltC0Yvkzcy6TDffqZwQ+mUtFLNmqiKVr/12BdJkalQQ556Yc/cbxjns9gz3kznsmJHydHR9SJv7ntjsK6v+4u+7PN+PHQYlPFJ6NJfQ6hKhezjG9E5mqXbeshNLQxY4l5u5xUwF1xHUkRLzShRTiMPDFVKA4YwRMvqZQXUJFldNENFuwz4SumEz6mk5q2lV93U0SgK7umu+AYmvDGl3Q8Q3pGhUDpMh5c17869MHE2gq4olrWqcF8Vv2sPUnPEL6Id8cegaQXbCbaViiqYYZcflGXFqtVUU4dUYBklkIoFhNdrvTAO71NCoHgz1FLSOE9QAkYcUEAioxxUmkMzLTbdtTuiWkY8ES3iU9GkSX729NT49vp0izaFrcipiqSCN7SJjypzpzznkY9rSHHmzR1ZsN7xMfxN5Nt95RsqVtD91ihFQYujNlxtqTdsKGHUY/jDyg6spaphs6qu0IVdC+FplKrJvmOu5CXHpWeaZVidWxoYza2FzDNK1Zw4N2HJqVbeUls2bNNEYdlbD7TjSSpd9TSlMcKbD6iEprbs4OCBLkPsEmgLqaDSJ3xKM/cbxjns592aXjGBA75W1DSpgqvjtsqrvprpM95M57JiR8nR0fUib+57Y7Cur/uLvuzzfjx0GJTxSejSXvAPRE2TKzT4VZ1lu1THjhpDMg9Ly7eJTybPniqdFeEBKK/SMC6N1rU08+TS0o0SN6AylxZkHcNkmuD4iJvwR0iG0hRQTbFobWEwyyuYdfocCnDU4UQXGtecNhG9vxanLb066i0XVLOBRiZk7ptrzPSygLVxgb0Mh62qRcUFUKji2x5omFPJCmkowDf2obdXXNDybSyTxDSXfAMTXhjS7oeIbzy3nFWUIFpR3ocQp1xi57WNCTxeeG7oXNW6y42sA6OJeac1ahRXCDTSJDy5r351Ei0euTjqWRvDbMJbRgSgUHUnPEL6Id8cegaQ54aemGayD60gqAcxIJqduP4rPONhgnUJO59He6j7N0ZktyUubKWsPXFbppDM1cGZI79ArQccJuk2FJmAyHBQ/RxkQtlxFo26O6I4dyFSUwouoSopbJV9LaiRlEYJh5yloHUoGOHWbloVfEJ62BhOPDF/usi9zLlStx1dCnciblVPKo3S9nbTWvwhMsxNuLd+i66alNU4YM6J1S0WTUKGE8Jh92YUoyMvqGq0B3Kw0/KAttuKopFcFd2JbxKejSJL97emp8e3059abnFCZg4AVbUSq0zbrswRfVrOOtYXPzD5ZBFZWW2t6sXmYSEuqcKlCtdImPKnOnPOeRj2tIaWMSHhXiMS1PoWknjMXpTrze3aacKD6ofRNz844hgVCb+qhNduLqVaSb2pSUYMWiMXMualpDcraSotpTRJKlYeiHZV0aBxNmLqSqybLaajeqDXoh/x//iIn/BV/4xNWkA2QVDeNBDc3ZAdQ4E2t0GJNxyttTCCa8GfnfEoz9xvGOezn72MFzpI4f6hj+6PWjSZ7yZz2TEj5Ojo+pE39z2x2FdX/AHF33Z5vx46DEp4pPRpL3iz0RPcCP/LqLKK6BaVHghpAOiZJQrjr74kGGxV1QIpwkUiaTuIT0iGfCV0w15vYiWdFbKXCD5xDLyFAqsgLG4qHZNoWryiriwcStpMLKBV1nRo94i51yFgkNKtPndQnF8NKd8AxNeGNLuh4hvPPAGl8UlHrgO7bzhVxYPdDErXROOWvMP8AuJZ99tSsFbI+0ax/EE3IbEvZt0Luis7sZpaSUYbKknaOekPLmvfnSoYWbnIp/cV+nVnPEL6Id8cegaQvw09MNy7ybSF2weUYXJzR+TOHH0KgEGoMTspMqsX1ZFpW6CfjC5h5VEIFYbcW3YviASg4aV2on5cglBSb2N0/RiSugK5pCqvq+0cIh66yk0QhAZaG5tqhcylIUvUoB3YbundRZm3XNEAs6BA4In/7f/lDXm9iH0I1RbUBxRNSqjRaqKT5scS/jvcYlfEp6NIkv3t6anx7fTpCZU4W0qSg8AFVe+KCHLmXOueX3m9Upa7KRDdzbqyQYW7SwtCqjDiz8x5U5055zyMe1pDkq+KtuChhwIllT0i4cN7x8NNox1q510Vud5eIm7oTsutCXBgQkW149wROvTFz55tuZUSlWZ1YNFtwzPyOGZY2t0Y8EGkhN5vs6xeFarh3IdbfPyiZ1ym1uCH5By5Mw+VLqmwMFeHch+cdueV28DhSaJFaYiccTbyJdx8CttLYqqlBhEMSbErMMSaVW3XXkWa8EJbQKJSKAZ+d8SjP3G8Y57OeEnL4Zma0IAxgfvBGZ5ZmQCa2iVE1JiXXdANiYLzVq94toRUmgEFKHVvlOO9NlUKVKPW7OqSRQjPT3kznsmJHydHR9SJv7ntjSC44tKEDGpRoBFjNld8Nqp0QiUYmkuurTaFkVGkXV/3F33ZxTrqrKECqjuQHGlpWg4lJNQYb8eOgxKeKT0aSWpedTLIUmyrrVo9MKclbqp0QooKl6g/i6im1pCkqFCDtwt65F0LyheNtxNY/iM9MGbm8STSiUcAjMyJwMNK1YvVon1wZcXQS61hsgsUsnjj+JG6wzRWtcz4Pagys5R0KTRZApXfg5mumW2z9k1i8MVNcKlHGowVKNEgVJibukhuwmYcIZG4iv74tKd8AxNeGM6t1w0QgWlHegOyzyHUHbSc7dDxDeedlUGjmqRwiP4fOXInVFsmwW0VrAn7qMmWlU6lpWOm5FhbaFI3CMEKYTo5l9Nhpsb+CsWHtdcVbUO93s9IeXNe/OFwC28vQMo75RxQltw2n1m+PK3VnH1Fol30qWgkKRtjzROeIX0Q7449A0i9Kuilti1UIDHvrAZF0Euy4NbBYoeOsJQpV7cQdC5StIQ3/ABS/S6e1qZ6DWM0IcvD+2aVCoQ5PTZmEt4Ut7XUlZ5RFGtWnvtyHpVXbE4DuHahqVBqUjRHdMLlXSQFYiNoxeZm6TrkrWt4RVIV64W5m1SkVqluzgrtWsOGkfxBV1vlFQQcz/rCQ84HF7agmlfNGbZCaMq6TaIpt7o3IRmm6innQcahgSN4RehMPvYAOuKxcA2tIkv3t6QZO/oEwBWwcedT49vp0iYn5yVfZqFKF8QU6JR/76i3bKEE4VqpTjhuYYHyKSI6531DXPzHlTnTnES7jyEOuCqEk4+o55GPa7BUtWJIqcFYmLoOS8ymXcqAu8q+G9AUMRw6RO+JR1FBtxKig2VUOI5243jHPZzqpmZUQhO4McN3RuhgbtaAY7HewVKwAYTGbpbRNtqRZOKtIDzJKmXUnapvQtEuLCNUtSjF0LoSyLMpokg0x1OenvJnPZMSPk6Oj6kTf3PbGkN3El1lLKV2Vb52z5oUwmXbvIQbVRj4YfmTiabp5z/1pF1GnJeacJn3VVaatCMiuj6PGRXR9HjIro+jxNMplJ5JW0oVUxQRalH1I3U/RPmhMu7LFDyXAoqTqTgPFEp4pPR2KtEzdRWZlnR0cVVY4IQw0myhAokaU74BiYQuXmnKqGtNWoyG6Xo8ZBdL0eNjbqejRguNdg/8Atv1iYb/g91k2mlC0qXoBgi+yr62lbxxwJaYklrX/ADWhgHDuZy6HiG9Jcm3MNMCU98dyFXVutO3yeXiF7UQ2N7BEwppopbaXZSonVb+ekPLmvf1UqZkJicUraaGLhj+I3TuTdN15OBltEvoGh8Y2DurzMYLhXR86KQ88m20u+qOOhThh+TeZM4lTKhbA0SRTGYd8d7h3Bk1BJUQMQ4Y2BnvVGwM96o2Bn/VGwN0OIRhuFdLzIjYO6vMxsHdbmIU/eH5c2U6F1NlUJae+WN4qK1XmMIeLLrNoahwUUOqnx7fTpQuRmrM8qk/KXQCa/ZwQxKXKTftGEBFCnz1Iz8x5U509XDcW7Ho36xLqzLNS9lBwPt2SYDbis0s96s4RwGDMoadbCpMYHE0+l2XNF1p9dplGtotRhbm08LBiZnZJ5xq06og4sFduA1dNuyf5qBg84gLQapVhB6txvGOezpSrmSTl7kGj8oeH0t4Q1cmXUlC7FpLY3N3PT3kznsmJHydHR9SJv7ntjSJl1zVWFq89ofGFyyVdfmBZA3E7Zhb5xvOniGD46RdX/cXfdnJtlpNpxbSkpG6YDl03a/0mz0mGmpZlDSA+MCRvGJTxSejuA74Bia8MZ2YaQKqW0pIG/SA5dN22f5TeLzmA1LtIaQNpIpnLoeIb0mxMMtvJrWi02hGxsnzCYKZZhpkHCQ2gJz0h5c178+9M3Qe0CnFKDbe5XbMTbUqyhpF4XqR9mHfHHoHcGS/e3pC5hTqWZeykVxqMfJ2eufzFYVZxPj2+nSitdz5RSlGpJZTUwFJudKAjCCGU5+Y8qc6c5LloobaQ3RS1cO5AWW80PD6bnuEOeRj2upf1i2tWBtHfGM23Qui/LML1tpg2aiFPXKurOLKBUtOrt1G9Eq44tS1EGpJqdUdL/hqdE7ey4r7PVZDuFb7gbQkbdTDrSHC2paCAsfR34LE1NGYWVlQO5np3xKOpNvukSzC31kE4SRa2hAU2zfHR2xzCf0zlxvGOezpK2ipSbaSmqcYjX5zlp/8AjGamHZhS7NnRqFOjPT3kznsmJHydHR9SJv7ntjSFT1x5ltu2SdEaWa7W+IQucmDNT80vROHEEjaHqiUZxENAnhOE6RdX/cXfdnm/HjoMSnik9Gk3xVzkuMFVkLD3SKQp4N3paFUUi1WnUv6kXxSlWUorSsXxFz0NsBVlSy/0CmdL0vJX8JFVKKqBPvMGYmLNu+FOhHVLsvJX1AGicUrAnzYzDc1MWb4oqrQb+ku+AYmvDGl2ndC3OshKFfbTtdg3Oua1hcD4mHPspTpE54hfRDvjj0DSaS82qWXuhIPTCGZ+YttFVhWhApv9Rx9w0Q2m0YTLievKFknA2k2RxQlK3FOqGNSqVPFnFBpYQsjAoitIMtNTi37FobgxbnVUlh0NOHEsptU80TDE1NLfLaVpwnBgI2tKkv3t6a7ehVbdHAN2hhuZYVVCxXsByYfVZbQKmErdTZW+tTtNypzznkY9rqMMV0KWhThJMJbQKJSKAdRDcm0kLWohpO0Nsn1wHDdicE9Zrq+t2tykPyKnUMT7PbC3Wo4N2JlJukWkBQtuUqrgTtCHLipnc0qcGgcew2cFbXFXBEvOi6r00ha6LQvFxQ09LTxbYdNmwhNCMHfQJwXYcExYtBhuqU8GOJtxcy83NyX021WbQO7xGGTMTD9tRVVwLorVHbi6TExOPuXuiUlSqkY8MTkomdm27CVG+pXozhGMxIXNlzNCUKRfphGqPCra/WJFuXnH3WXzZdaddt0w48MSJzQ+S+tOGut6L6MOJlboulwVXfJgXw4sUTc1PTC3LDhJUraFkRMTTk2/KyiFWGm2FWT5zxQ3KzcyuakXtStzCpPnhiTbn75boW02bKMNcdMcMT/8Wemba6LSrAjihLgxKFYnfEoz9ypxeBpt+ys7lodgzilnVNFA3ycESrK9UhlKTw0+pE39z2xpKA1JTLrLKANC2SDtmEPBl1m19B1NlQ82kXV/3F33Z5vx46DEp4pPRpJ8amFyTp6y4b3X2T1J11J+T3PQEjfWVCv73o/vK90F+ZcCED1wHnbmz6Jc4nS3ghMxLOBxs7cX2aXSupSMaofafkJyWD7ZDa3EYCYPjle6MyobempilS2wm0RwxmRSHpaYxWHU0wxN+CPaEM+Erp0l3wDE14Y0ssTLdtB9UWJa7zob2g6wlZ442fHoiY2fHoiY2fHoiY2fHoiY2fHoiY2fHoiY2fHoiY2fHoiY2fHoiY2fHoiY2fHoiY2fHoiY2fHoiY2fHoiYov8AxAafZlUgwootuOua464aqVpE54hfRDvjj0DSn55A0TM4tK/Bwfvzw2tRq6jQOcMStxWTophVp3eQP36odbQKJStwAQp11VlCBUmFvXOblmJYGiVP1JVxQbmXVZQy/WiVIxEw5MvGiECpgzco3KS7J1tLtSVQXZhsNOm0FpG0QmkNNNtF6ZfNlpse+BNPtSTrNdEG7WhhE01gCsY3DuRPf3OkaVJfvb05T1y552QUs1UlKbSCfBjZ8eiJjZ8eiJjZ8eiJjZ8eiJjZ8eiJjZ8eiJjZ8eiJjZ8eiJjZ8eiJjZ8eiJjZ8eiJjZ8eiJjZ8eiJjZ8eiJjZ8eiJhLt1Z92fsGqUFNlHJGfc8jHtdRm6KBVKRe3N7cht5KhfAKOp70wVrUEpGEk7USN0ZW0thK1ptWeD4Q3MNmqHEhQi6k03rIKxXaJKv0ie8NPvhjxf/gYl/He4xJeH/wCMIdUoBAaCirepF252zRDwojzY+mGtENAV2t7DF1CCDUgjjMXQrtpV0phi4ktMZmbXrrqdVwCLlNSyEpNuqzWqjohhJi5BOK0n24fFcTZ6Iumw3q120jkRMShwONu2qbxH6Rc2VaFp5alUHDSLmj7KOkwx5QPZMMeLT0RO+JRn1y76LbaxQiLzKTEtNsDUZoqFpG5URktzuWqMludy1RktzuWqMludy1RktzuWqMludy1RktzuWqMludy1RktzuWqMludy1RktzuWqMludy1RktzuWqMludy1RktzeWqG5q7Ewh0tmrbDQ62k7u/8AUmb+57Y7Cur/ALi77s8348dBiU8Uno0k+NTDd0Wxom9A5wbX734zcVfKEi9f3P3hh5tevLCXHfCKhH95XuiSkXNZbUiqd0mFsOiqFpskRN3PKtBQ8pJpCW3dE1LEhKeAfGJwLFaN2hwiHHD9FxZ9QiZmpXMS1uPdcU8VWifNtYYROqXIMupA1tStrbxRN+COkQz4SunSXfAMTXhjuJOeIX0Q7449A0qeZcFULmXEn1Q9IzSrLStCScW8f3uxNXadGuqsM12kCJjxjvvhQT9JaQrgiVs7h9oxKzCMCyg4eA/rEq3itrqrzD9YlLGpvKKcUO+f2Il2nHnGU2AlK0KoRUH3wWnrp3SWhWNJdFOiHJaVdU4LdVWlAkGgie/udI0qS/e33Fc8jHtdQoWkKSoUIO3BfkJqakVn+WrBAM/Ozc8BiQ6vQcUGWeaSpkiljahTErdSdZllY2xZwcBpgjMUmtyVTtrbpaPnIhSpSbmwFapKikg/hjN5n5/NNa27SP8A4wnNc5NlKMSUlIHDqYlGc0PPgPYC7StLO8IQyqfnsylIN4vmh4OCMxpZSGLNixtUgqv0ypomt5K9CeGFTTaVl0qJGioBvUEZvv0wy6dVelUrDRSHJctpsi9HGIba68lSTUuBWjVwmGJarrd5rZWFaLDjrCpZqZmkXzXXAoFbnCSIJlZubsK1TaikpPqjN8o+7JTJxqaxK4RBnnnXZqapQOO00PABigTzk9PX8GqVW06H8MNpm52cUlsYACkYd3U44TLh515KMCS5SoG5gid8Sj6wzYH2faEJUk1BFR2DdNY1KroOkb+LPI8cOgxKeKTpN6vib4XU6GuGFthaXWnUU0J3YVJv1vUqu24NokYomG1OJC12QlNcJ0QhTN8TfA6dDXDtQxddgVApU96oYozZmptKbNVJKtEN6kTV2HUFAfJvYO+akwLo2KtLVbG/XVDhh9LMxbW62UpQBh88LucpRvylq0Nk4qQ9KzTalMk6KnqUITIXID19d1TtKXtO2YmUqWApQASK4ThENthabaVKqmuHHpL3gHoia8MdxJsD+Qvoh0f1fcNJtll93eabKjDsvNSM40p18rSosKs4YlpiVbKlqN6coMW4YbbQ06tDYCAG2yo+qFXRcuZPXpbiyesGoBhbJC0B0YLaaFJ2sEOSN0JN8slVULbTaw/CGZp2XcYkZfU3wUK/NF7b15BtI396MwTNzJl0owIspNeCFzv8NUpyuiQDQCqe+hmflm/lCE0W2k9ECV/hxcexW1NkccEvlbzyiXHilNSVHch+fdubPBl0r7QqoqYrpMkkY/17iueRj2tLBfnXktp1LaQKCL0ubcmAMCbYGAebT53xKPrC4w6KocSUqgXPutavKMDE0BVKk7QO4Y2RlucEbJSvOCNkpXnBGyUrzgjZKV5wRslK84I2SlecEbJSvOCNkpXnBGyUrzgjZKV5wRslK84I2SlecEbJSvOCNkZXnBBk7iAzEwrAXQNA1v1hqUbNbAwq3TtnPPNIFVgWk8IjMqj1xn1p0kuOyMstZxqU0CTBzNLss2sd7QE1hTiUJC16pQGEwXHpKWcWcalNAmA43IyqFpxKS0ARBStIUk4wYvgkGK+DFBF6faQ6jvVCsLQ3JMpCxZVROMRe5dlDSNxIpAEzLtu0xWk4oKZWXbaBx2RjgGYlWHiMRWgKi2xKS7S8VUNgHSVt1648LCR0wkrFFPG+fDsC8WXbFaX2mD/rq3ijtitL7TQ/9dW8UdsWqX2mh04pVhBFDD9z5g0Ss0BPq7gFSjQDGYD6R1hjD5hi9fcWTnTrbiTLrO5tjsueuj9B5yw3vpTgr9YrKgCDtGMgleaTGx8rzKY2PleZTGx8rzKY2PleZTGx8rzKY2PleZTGx8rzKY2PleZTGx8rzKY2PleZTGx8rzKY2PleZTGx8rzKYyCV5lMWG0JQncSKaR/E7lVrWqkJ2v0izOIUyvbIFRGVjkq+EZWOSYysckxlY5JjKxyTGVjkmMrHJMZWOSYysckxlY5JjKxyTGVjkmMrHJMZWOSYysckxlY5JjKxyTGVjkmMrHJMZWOSYysckxlY5JjKxyTGVjkmMrHJMZWOSYysckxlY5JjKxyTBzMlT69rBQQLoXUqGvooP0t7g7AoYypvM1fv06lDGVN5mr9+nUoYypvM1fv008LQQiYRqVbu8YzLdKXWoDETj49uMIeH3Y7byI7byI7byI7byI7byI7byI7byI7byI7byI7byI7byI7byI7byI7byI7byI7byI7byI7byI7byI7byI7byI7byI7byI7byI7byI7byI7byI7byI0KXlHwYvEszepf6R2vOYvLeFRwrX3x7Cl25RV7LtarpuU+MTCJtV8LVKLpu1+HUl25RV7LtarpuU+MTCJtV8LVKLpu1+HUl25RV7LtarpuUiYRNqvhaIoum7X4aYuXeGhWOKBJXWNNpuZ+isb+4YCkKCknbHY5W6tKEjbUaQZS59pMriemKYxuJhDLSbKECgGmNysq5eU3u2VAYThguTOFxDhRapqsXUblZVy8pvdsqAwnDBdmcLiHCi1TVYuo3Kyjl5Te7ZVTCcMF2ZwuIcKLVNVi+tFqYlUKV32I8YjWFc4Y1hXOGNYVzhjWFc4Y1hXOGNYVzhjWFc4Y1hXOGNYVzhjWFc4Y1hXOGNYVzhjWFc4Y1hXOGNYVzhjWFc4Y1hXOGNYVzhjWFc4Y1hXOGNYVzhjWFc4Y1hXOGNYVzhjWFc4Y1hXOGNYVzhjWFc4Y1hXOGLTMogK3Toj6+5Fh1CVp3FCsVzCzxRkTUZE1GRNRkTUZE1GRNRkTUZE1GRNRkTUZE1GRNRkTUZE1GRNRkTUZE1GRNRkTUZE1GRNRkTUZE1GRNRkTUZE1GRNRkTUVEix501iykAAbQ7DvU2yl1GPDF6lWUtIx4OpeptlLqMeGLzKspaRjwdS9TbKXUY8MXmVZS0jHg00odQlaTjChWCpm/S9f5ThEZZP8/GWT/Pxlk/z8ZZP8/GWT/Pxlk/z8ZZP8/GWT/Pxlk/z8ZZP8/GWT/Pxlk/z8ZZP8/GWT/Pxlk/z8ZZP8/GWT/Pxlk/z8ZZP8/GWT/Pxlk/z8ZZP8/FtxDkwofzVlUBKEhKRiA01InJdLtnFtEQliXbS22nEB1Eicl0u2cW0RCWZdtLbacQHUSJyXS7ZxbREJZl20ttpxAf6Jl6YdS0gbajGhU8sboZVH+Y5lUf5jmVR/mOZVH+Y5lUf5jmVR/mOZVH+Y5lUf5jmVR/mOZVH+Y5lUf5jmVR/mOZVH+Y5lUf5jmVQEqeW1XFfGyBAUkgg4iP8A9EJmfmxfGZd0sy7Z1IpjV2AW3W0uIONKhUQ7clJJlnG7+wD9DDhT3XU44oJQkVJO1FbnXLmZtv8AmahJ4Kx833ufTHzfe59MfN97n0x833ufTHzfe59MfN97n0x833ufTHzfe59MfN97n0x833ufTHzfe59MfN97n0x833ufTHzfe59MfN97n0wZVxt2VmhhvLwoTwbvckrWoJSMJJOKCGi+/TbbaJEaxO8wY1id5gxrE7zBjWJ3mDGsTvMGNYneYMaxO8wY1id5gxrE7zBjWJ3mDGsTvMGNYneYMaxO8wY1id5gxVbc2hO6pg0gPSzqXUHbH+h0x5W509gynkqunuvc65aj1l9alu74SK0gJSAlIwADsBc0jQzEr11pe2KQy/Sl8QFcY7kN3McJzKy3fnk9+a4BAQ2kISMQAwDsCVn5UXtqZdDEw2MRriV/odMeVudPYMp5Krp7r3J8B72ewZ7xCuiJPxCPZ7kT3k6OwZTy1r/Q6Y8rc6c/ZtCu5pUp5Krp7r3J8B72ewZ7xCuiJPxCPZ7kT3k6M+mXmZkIdViTQnSpTy1r/Q6Y8rc6c8LiXLcLYtWFrScZ2/MIdKFOmZQgqvpVjPBD0tMLLimCLKicND/1pMp5Krp7r3J8B72c+EzM0y0o4gpdIvxcQG6Vt1wUgtS02y6sYaJXXSJ7xCuiJPxCPZ7kT3k6M87NPGiG01MIupM45lRUjgEV0mU8ta/0OmPK3OnOuO94gqiam14VIRSu+o/pE26T2spHCcETcycS1BA83/cJuXcxkTE6vdxIhU7/ABBh2zS20lkRLuzAAdW2FKAGelPJVdPde5PgPezniEqsqpgO5Bm5p9cxPuvCrlfdDKZ1xaLny4stoSdcO7EzMF1K0LFlrdArt+rSJ7xCuiJPxCPZ7kT3k6M8zcKXV1ps25hQ/f7Ji5yG02UJQpKRwUhle62k+rSZTy1r/Q6Y8rc6c6pCsShQxMIdkX5mWd+m0muLEf0huXZknZOTSalTwpXfi9NDrbDZPDtmJ26r2idWuxX1n3QqWmH1ocTtXpXwhLia0UKiopnpTyVXT3XuT4D3s5+Tk07hWR6h74YlU9rQEwubexJxDvjuRm2an3ZJhetNMYDTdrD7EzNTD8klFULc+kcGenvEK6Ik/EI9nuRPeTozrkxgvmpbG6qM3s3RTLOTItKq3aJiWXdCfE3hUEaCzZxRJK3ZdHRAWsXx1eBtvdjNBnJeUURVLN6rxmFuz4SFBywKJpnpTy1r/Q6Y8rc6dIeYrS+IKeMRMXNuralnUu2xVJw4B8IlHEIVmdpNUlQpaCamvHn5TyVXT3XuT4D3s59uaVL/ACNCkaO2NSMOLHjr1Lm3NBoFmvGaQXUsOONtJ1Le0mF3iWmEIRjWsCldzHnp7xCuiJPxCPZ7kT3k6M4VUJoNqEufwmeEu3qGyyr1w27eXGLQ1txNCmGpWWudOLSySS4GSQo70IlpmTmJdyXATVxFkKG9Cg5halMQ8H/+jCM2OKRbxaAmM0SylKbrSpSR056U8ta/0OmPK3OnSdEkK4RFaZ+U8lV0917k+A97Okyd1ZNovrllC02MZANYelpK5M/fFoIWVtUCRtwwhxBQ4uq1AimP9KZ6e8QroiT8Qj2e5E95OjSZmanEqTKzQNl0JqMJBhiTkLTqb6CpyyQK7QhphGpbQEjzZ6U8ta/0OnblPGy5fi8zX6aFdguzbOil5Vm829pSyanuvcnwHvZ7BnvEK6Ik/EI9nuRPeTo0mhFRFAkADez8p5a1/ockPpNpGFDiTRSeAxRF3pyn2gCY2fmuQI2fmuQI2fmuQI2fmuQI2fmuQI2fmuQI2fmuQI2fmuQI2fmuQI2fmuQI2fmuQI2fmuQI2fmuQI2fmuQIsTd2J15rbQDZrCWJdsNtpxAd15S6jCC4uTWSpAxlB1UB6VeS4k7mMcPYH8GkVB2Zf0K7OENJ2yYQ0nUoSEjuQibe0MvNtXor2krGKvYMlctk2lNvB9+n0Ep+P+q99clAFnGUEp6I1lznVfGNZc51XxjWXOdV8Y1lznVfGNZc51XxjWXOdV8Y1lznVfGNZc51XxjWXOdV8Y1lznVfGNZc51XxjWXOdV8Y1lznVfGNZc51XxjWF86r4xYlGENDbpjPclTL7aXG1YwYsyl1p9hvaRbqBwRs7P8AGI2dn+MRs7P8YjZ2f4xGzs/xiNnZ/jEbOz/GI2dn+MRs7P8AGI2dn+MRs7P8YjZ2f4xGzs/xiNnZ/jEUXdy6BTt0VSCiWbpawqUcKlcJ/wBaq9w69j1/0JwfV3D3Fwdi4f8A/F//AP/EAC4QAAECBAMHBQEBAQEBAAAAAAEAESExUWFBcfAQMIGRobHBIEBQ0fFg4XCgwP/aAAgBAQABPyH/AOBF6JOUlpo+e6n21UAu+up3Y58rsi/JYuoetH6a0WWS0yayxmcKx2ZHdYrizusRnT3TmHl9qdnrZqvwPvVbhfeqfH+9U+P96ZlrZpjHz+1YDKnssNwZ2WEyo7LAZY9l2a/uvBP7rq++usP0PbNeS7x8eV2izwpRtVFOlvuRXXJ3lAghwXH/AHO+8mgnp+GAM5ArRqmSLlBZ8xKpHZvBePg7DoOI1uyLofPSALuUXYhTfauJUxqr57Lps73/AE/YqfnUv9lL7x9pRMc9UHunTUZuoXIb5JdvQrDxpxgsM1M6orm5Y3EFFLAAdgU3NH0oEKfLvs/7HkhNBOscJgRcnImsTp3JlVVI9HK6Ni+xcR7v6K5kwc8AFfKkT1ZNLmMYvNlYVjXyYAGAEHAp/iemZGXP1buYLlFBW6uqVXRxK6ukuxc+3UyKl6uUecFH2pxh5Ahb6YYf9WMA5Tq0q7kEURU178yx05MPvWJ9SvYuZsNDydXJefuyYHcVbmyAADAMPRHoeDg7ZiwWRoJIzjPD3uGGGGGGGGGGGGGGGGGGGGGGGGGGGEoIp9ictxZ48KIQPgo0C0I98NYTrXRhyVXt5gp2i9cFw2B/IWDITJlSFcBtwIrU4OZyhWoqg6f9MfgMTMDyoomUMPXGLGPk684WLTMb7kCnK4ggcmJla0gOcYoAAAEgNyMexOKxOXKJ4IcCTcZe+tvfj0SwbgqZY988TcTB/wBQ3QgDEH4MK2tGKcUwCIciyoak0LSKwBm0pdm2eLE9uPlg4g3VWzww6f8AQigCzIwCwfAAEiaTBY/Es4IzWO5gUWcvJTT/AD+inNNDal3sFAABgGA3xamc84B5QHWDFQAN6AuJgcsHKNAlMwHAoyocwoCSwiGsaekbESLKjqGTDMa/sw/dREDbueCFDoB8RZC5Hqr/AIejhLosDKTx71ggTLay8UDS1flrjpgcDgTyT/50SAJJYCZWDN349GcpYukNnxiQsd2f1p4IIA0WJyDJm3su5ez692eoZpEAnL/Shr1cMMqIEIwwhWiuwBO8iB+ToWWCgyzDBG0iGxEAgJyKH2iI+TDVOGQ5roVhKJQETzTsPLA8clUZjADkkwCBASwpMoeqkirAiYehYvWaiAD93YFisN4OfjJRfMz4ymdtgQXWIbI5DFHozgSBmbIzGAckmACexhYBENBH5MhoQAAGYKcAJ/7JinWuTDyRhZYlLn4EMSBdksnHT2tYyGYmP+Z0nEy7KqIRBB0E3lLNvBUGDHQzhSuaZh6hBZmZ9v17s9Wg1CxxjZaRYyBUZVAHeD3R32CSResCNgdmDx06mi6NyAAYg0M0S6ckGQp5IR7BCl5GL2ZGEcBZaCwEHC6iJzCtPUCyIXIdcZsRIY1WN4I4B87MOaC9ZGJQcg0oAOKeiiwxPx4zotiUR6BYJBwojIsDJBusJi843TZSx0Awi/CSiAhEncA+bBAeiBjGWYAyi6PW4hIhHtOCJEWkTJDRh5WR1F24GeIZMM6OLW+NAIMcyOG4IaNZRAgxE4bAHoo1aJPamk5MGuiD1miSUFuqKDYATKqbPBjj5izTw4oSUIgGc4/EmQBJgrHTeMVkUwCMgMnEGSlxuaAVMiVmCYdVFqQQ4P8AywUWFifyoqaQlzQExSYJpvneTTk0nENcHRBoigAAwHuuvdnqIMY+MjtooWrA5IyDZkOGoD/VFVuuhkNcDkEB5BIclGveLyBLITJAYNlZMLRp3CIjIOiJATECSbATeyCEDBiiLeBGIiIc3CpXkDAM/NhxTH/Q0nGB5goibzig8xUpRIgt0+lGhHopkUt0RCxiMBMw9X7oB08EFgIkWkcAgMNE4HCu7qh4NGBlmBiCmTikYghYOzO4ENHhuMAk4IATLuiKzNgUFsseDsMSg14B2AUXQPQAdRGSC8Tdhz+OsAYD1RKxjHcbnPJWxOIpqVhFcbDPNChMkIHT/k0mecRfIIlTg8uch49Cmy6fATokYDQizErEPvuvdnpEhCMhmTCgFBkEFBhUGPBlgUYOqc7PtDg7gyQitGAVysCP3DheQU78IMy5QQGRc1BjEiVCGHyA1wZAwpibi0sjJhdkDzaaekoLLBwLgwTKQSCVsUK1hkzgEbFcu0sWBI7unhQC4FzITE4p2e3jwKFWghAFirR5dWReDAiP6doTNWMkx/TFuKlgjfFooFqSFjAd5B7EgdmQ0DAzABh6yGkS24KvJkOxMJLLiXAw8keBwgYRpZu5DY1JYe49j0dOWOixD3c0OjpLRcB+H5CF3x2B4I8vBfUywscLkHuKNSkA65Zgc4KRCgycR/yCUgAwcSgoxAl2cAFMYQUC5yOSj6xyZ81eTg3v8QJjYJspitJBIsx0xJCvwRD/AK99Zm6hLZQiALwTLgJIHlkDOQgumwEVT+8oiIEQzDxR0ti0RxZ5i6Bq+SxIICMzo8IAWAAROYugvQocUgYRgeb5OVWZCcCiZ7ihmMCLQXHjUCplOQTWUgzhpGB4H/jmjKeCKks7ELPmCEk0QeVEALRUFATMHD4E6b8UNGuDrgmNNwInMzIlGDIuJwBYS+DIaFQhhAcgiE6RNPo9cO6GX4Bk1MYH2LoC5scQk4BiUFnKyITVp/ctP7lp/ctP7lp/ctP7lp/ctP7lp/ctP7lp/ctP7lp/ctP7kQWUkHB4gouAhktibPKz3FL5zMhmOCk+ZcpBkZIOF3ac8RHJFDRUw4f8Xe3ICOrkQCm6MTXk4OSn/quZvHwZAhAAIknBDfTBsCBk5iH+IZwC7agTwdSSuvdm6MoDAAmMCogUcpGGnBjx2GXJBgSJOBEz2KHm6JJiQ7lgiKH0lOkcZDxYwxkrgyWJB9rF9l50ukQwQNUWwauZNPekNIFJYGg9+zRGJAiSIHB9gDEit2Tn7EEF4lw7CMvdGQRAxBxRkePyII5KXwAmEV+mCfNxazSiP6AkjsSgCKMEaFS9QLsAGTQYMGAHOiiSOxKAIowRoVL1AuwAZNBgwYAc6O3CX0G+VUfsnEzHoQIH7EkOpHw6nF4hh8If5BrowXJaZxTEyEFW307MZnj8KQtAqYI8vuUyXSwGzr3ZuhoOAOxYFMaplJnadwhdA3EgEIAA+cPoRxBXX+5PW1iXLgEbO1EgzsPpMVfA4ioN0wMI4WVGABMREFlotKIfdr5sQ+YyA3EJh2DG2/4QENBKuALEMuTzkS+G9hpdfjvXujJszVxPipAFBPeXhRh5yJEf58YaZagBgQ9NhZH+BtYlDxT2wjJiDMI+pzSYaNSC0boYaZagBgQ9NhZH+BtYlDxT2wjJiDMI+pzSYaNSC0bpyA7EYqmxB8kIMASWAMAh2xsZYrAjFMIKCVfHJOYDfs/2CIoAI6iDC12+BGJcRqv9lkiIUpjZDoh8VZi5Myc/h7nLwxC440O3r3ZutfqE98MicAI+LgEUIMAqYcHgoUrCd8fjNdf7kQmJ/MHgPJTO0TXaB5siGAIsAYnNnJYyIdTjzPZEkg8A2JP2CAsDmASIfqjZ68/E/FEme2lsvCFIb2BCAhoMqe8UMWsm/wB9dnAqe6tJ0B03Gl1+Q9GijFyGYnxUyaAi6mYR40xKJUImDn/O6rXZqtCJYT7pC0D2Q5B0JhAB0PJarXZqtCJYT7pC0D2Q5B0JhAB0PJGV7PYAQHm4oArhtvJtDbZxcQjsgnsW6Rj98Pfk1Uk2gTJWA405CjUUbkczzBE/EBf4k58OohEA6tP7Qtw24NTmW6G4OTDBD8ZwshLHzl8ccRAos0imGPwEEDsAVeAF7uZIO4ZMICLisEafaAoAaAMblHrjjUCRy/FxwlW2GaJPFRadASDmMrlO2bTxoalAcYYmKG6AyLdfiYjLPIFOXOMVzWKY91wzmB5hY0HPohHluQBmgEEd4k/QCEAODbDyJVOZtFosBod0zDGoI6gxAgN0GOCLzoR52ZuUg0AuUKRiJHgaD7mFEK8MacG4MITIrFT6RIDkCpLnMwQIDAvMelr/AOLqIYnCWMEJOzkOCFpdfkvZyOkfAknU0CsRN/O2PRCQxA4Ix/m9VrsOrgINrTBIYJ3Y0cngEebIRfCedH/Fqtdh1cBBtaYJDBO7Gjk8AjzZCL4Tzo/4jM03iHJl9+1bc8REQBmeCczFj70SgwOeNjGw/wAQiXY9HkhqHxUPRaVv8X0RMjhd+DwRgIsMU4lxfe+MQxR2X5hA7LHseCLAgnAjFamy28nghIIEgBuzQYtUQ6j8kRoF1NTiefpA9tn4Fwgh07KNEBdnQL7LARZwxFkAUQvD9YYJnrRbkO8jWxxjIBHlAFgeK/2UTjDIEuC8Q8dnbGi2arx5L8qmsfJQo1RjITjiqxDjTUihr8Kbphh637D5gw1hTa56AkXDOnCSOg4EeIjMtM4x6J9W78RJIsXoCB62OiV1nYFFK4GwijufAibEzwCjAzh3cGj7IqZ5ismB/NarXZqtG3Va7NVo2ks87sf7HBGEAYM4bfCquIh7Mmup2YnQPeAHC5rAIGl0wbBW1m+GFPUncnE3+LjyJQWbegRABAxBxWPgA2OIb/Tuim7QKYyLEdVc1Zq5qzVzVmrmrNXNWauas1c1Zq5qzVzVmrmrNXNWauas1c1Zq5qzVzVmrmrNXNWauas1c1Zq5qzVzVmrmrNXNWauas1c1Zq5qzVzVmrmrNBhw6w/2mqEIHyAQGaZydlybMvj6hjQa1CooyUHYtIZkY2UnkZ5atGzknUSiZiRdthWEWU5ADDLmxWEYUiEgCIYwH49JoIeMFyZgBG6iQwaZnlErS67ghCH8y6EJHNuvR6SHEQTagh9EqA69PBcAuPgmWhgKHTxF0/stEwquIt/MgKgcNWc+Ngh58CMm0BUDhqznxsEPPgRk2tfEF5hWM9v9TXSWDEAZEIN5JiQMaJxaGJUBZyOaQODBMugB0z192UIA8ww4MSgKiWnA0HZAABgGA+MrYZBBPqtaXnmmvx1+Ovx1+Ovx1+Ovx1+Ovx1+Ovx1+Ovx1+Ovx1+Ovx1+Ovx1+Ovx1+Ovx1+Ovx1+Ovx1+Ogy/NSxg0HT1SfqkzQC5MFCIzm4ZQtP9QIAIQC7Mtp/wAHJOIDoP0jOcLQRIEZZpoSghgRithhIwHh4C5RQwCQcQMGDWMcTH16XX1gP/dhRIiILMXPg3b0XSEGoCb6HwYeQZIqsRs4EOA/Fuj/AC0xVO2cxF1Ogkb8n2XEsPY8QA2TFU7ZzEXU6CRvyfZcSw9jxAD0BzbMWxxE8iqW2MQcSR4LGJj5oHGTgxL1sODe7MxYkeSRBAcGNIK3/HRLM9xZ49Jw9GIpGHIWKBnXhhWPNbPmtnzWz5rZ81s+a2fNbPmtnzWz5rZ81s+a2fNbPmtnzWz5rZ81s+a2fNbPmtnzWz5rZ81s+a2fNbPmtnzWz5rMCogq/dAzmUFUMREbhUekDOgKbS3Ni1PUHkwcWOOPF0+Tm4AIZGDILChcSpyT4ugAAAAQAHr0uvs/cGBwAZzke/wk2oiGQJgUOsYOWQMDbqp/vo+0ixNALlESEDShsV+rfG3ZkvQD8fRPVE5UZ8A6smdPcxPk+/IBDEOCgTS1kOOUhG1c42If0DMRmSeT2EaQN8AM9jkqlTsHxHwTBIdoKGElysPwhEUn4DpAhYQgDDoo6n/fBwXSU7tE/j7CH6kwbz1ehxLGD5kEEFgMBQesMMRQ2bCyuVhZcINnMAgQQ4LjezhQqbOISAETQE8dwDaOemjsSigbkOGBDaQAkwAQErM1xB49g53EwwLEvriEHaDD48Ad+uXLly5cuXLly5cuXE4tV/KMnhk2FwAYbP0OgyeGZed8PhY2ccfE+p5pmrhbH+8KTB5/sjuEIpoxViVyY/H3vfWmve5+jr3ZuRZQc0lB42lgQLHVm/BC3pSrxuD7GHoWL1momKDAXhCZUIgL2LCeDosHmAyDzRuPJgLexG4uDilqwQajgPAeaPgDHBkjgogFmYDijIwHi4JgVQ9XxMAqCmkIWJQj4QCwBBgNvJDQvzAkXLQHNkDJlFD/AKfCalL/AIUgEMQ4Kca9YUdCZ/u4p/wQhsYzB6IvzLFkxsQSdiceMTnPh8fEhoLiQ8p5gxGObfR17s3LHgjAAxF+SLV4DsZwvNNkacIxmKZN0xDukMRYkkXg3FPRRYYn48Z0KAZADIQgaIKHh3RL46LuIs0XqIizEXXc9bIQQaQzDgW8iwYgiRBaGaFU5DgAIcSGTOnigch6eWKKghpIFRuiEhejExT70DMgRPDF3dEZgkTPFRHE8joOMLDhDRxAeyqwRVgG8IaGiwO5nL5kQyQAAYQHwmg64+GGQhbYe0uf7uOIcaSpJMDzW5kEKCPCgPj3jNm2Q8AoD7BBl6Ovdm5A8+AUDgIjEQkFxigAhHhbFSvIGAZ+bDimP+hpOMDzBRE3nFB5ipSiTwoIKYDufBB85RxnXFqa1+IcUAAGAYKRrxkLIjGE/qClbpVwGZJTCCgQGXgwAQiBGDIZ50IFggwAPs6I48/MZ8SuETxAGgyMiN2Q0jsuVNALlM+YLd+x+FiTAVoHbaNlgkeIMtJeFpLwtJeFpLwtJeFpLwtJeFpLwtJeFpLwtJeFpLwtJeFpLwtJeFpLwtJeFpLwp6VXNhDBDLAOCC4I9YFKuAzBKJydFHDoFpTwtKeFpTwtKeFpTwtKeEKmpDsQyo60p4WlPC0p4WlPC0p4WlPC0p4RouAET/SAeGEYC6JOhP4m6i7K91XV7qur3VdXuq6vdV1e6rq91XV7qur3VdXuq6vdV1e6rq91XTg956BDHFEQ4PSFuVe6rq91XV7qur3VdXuq6vdV1e6rq91XV7qur3VdXuq6vdV1e6row4BNwdQUbDABwRzw48/gYEiQnU4PfaRmgkB4nZ17s3A+L48UBLopZYHZQibEMk5mDdEVuaMwcBMyD1K4YSGQAI2K5dpYsCR3dNUkuRL1Q1TkIcCMWB4FisIiCZlieJinbGhMhazIB2EYCFwdMhxBBhI5acXeIguboHgs0N3cTl0eu9ySZE4sAihYcHiVQcChZglABoQEUNt1YheAYT4ndENCORM41AxKxdXEJp1to/C0QAC5erZLl0S8C5CAszBG4nE+zFr9mAU03CPGeFHl63+z7rr1t+uNhOQIDpv6qqqqqqqqqqqqqhUwxEEZGY4IYBRZwc4jixl/FFQRDhQ6JHIgIofr3+mmmmmmmmmmmmiBBrMQjKAIPuCEwKNgwuZc0DFUEdgXv78CyBxGdSpHkBwYoxeYtw+ArwTId9t+CcAhwnIE5hGoNWfkOBUb8A5ABkQDh8EQ/wCtWVeBzILJV/Il8OpQxzGbNfo/thzm7vcYG7hCawzEQPiST7Ab1guWAXCJENJiKB5EeucUXMIA8tyEAE5DABaJ8oFN0g77oEACCCDI7SBCAARJKJOQgAGiA8QhggOiJOAHJRisXzIHI7+ZsbDEsHsG7bEwE2eZXrJjjkmgX46fjp+On46fjp+On46fjp+On46fjp+On46fjoVRAAwqB0gr11wJYkMDtJADksAokE+V/wBVPq9KwBYSKfDWdT8VZqT5iqWwqszYjyMuaABAABAAZPZloiiSSwCBBDguDtAQgAESShMYBwQYH5IhoUARtpl7ByPRQCKnwgd1r9H9uKM3TKy9x9olO5MYFEJskoJjzUmvMdgE14owvor5rM8NhmOJgRI6gAZwBmCnJHAyHjYBBOEzZEgQp6lgPMSdjvA4Fz73pD2bqEzvsyCAI/7zOfgexHCgoSAYxntdBJQBMwIcHPBNIxYMSBE8TFGcYUKQ5g9j7QAAAAIADb17s3QsJPSAGbiMMVNCcIqZ1HDYFej+NziC0eIRr1hAYcjE0hj6X/H37BgWxdaLTtHQxGcEOiGTcYv8nAQ0eAYmJ9oMXRSIieI4bBROu4ZqDg+gwDlNFPEYwCburM9EJppEmg2dyoDZuBmACpkiYDFECEAAmSogdwZEGLnu2QXC+kMBA5p8BocZ6jugYYERRfIMn4+R6QwQOCftRRhKiJsgRJRsvGIQQJDxbCn8k3TKy9x9olO72bpRcF1M7p4RxhcHnQyuUaz7sjDjqNDMqLYToImImbOmjYVtMvAjhsudQtZAw4AptDBpoySkuVoBHYGS0Qwd+AR/c2DQwd0jjhBRyguWERLOJZAKSTkSX9ckA2FKxoOB0EFgMBbc9IezdapT2VrTq7YD4HSLgjmomN0IOglNeARC/b0de7N0JcAkHEQRRUSGXlDcinPQcFdqZlGsGXX+5NOqbPNSxLOckdwbI+uDYckLmfF6AVgfdBDszoTlkSno4AbwxJrFAmlGkAFymr4gDbEMuCISABIIJDyzBhePyhCAhoMteHBzBmKgJ+gfglPM0fAlMblz9BsQAwtF0JT6gXFQRJ8ctkN3WPz0cKBkpAIdEUZOkASf4Q4hBZaU5zJqTCdWIHpA+3HZYGDuidbLMJ0q+TNUVkZNyRPD1T0USZfyiBpcqujkdkM9Qb0IuhBzT6J9NyM6GLAzwDydYXT7QKemXOPX+SbplZe4+0SndxdC2FeIgCxHSORyTHYMvo0UIQi6JDk9xz2X06vY9BHwM0T1OeiE3cg6OEFyo+rDd4RD2RXGQ+PAaGzTNI22+HKZ47rpD2brVKeytadXZmAKFYf+EbOMPKXBOzTwY1OzOOaAcwKsDD0de7N1r9Qo05YOP1HuV5HPu4iOYQXohpABsLr/AHIh5MTw5uxgm9oyUIQwSx2SwpFc6GnXZkYH+pa/R009Qcc8AZIjkmc4ZAWs6PyhCAhoGA5AOJsAiSSh/H7QVwYTAiCwGT0H+MQhEkTBmzJpEzFwdw67BxAelQBb3KFgCQBlQIRh8LklfomY+ngxcRaoTtjhOWLiBsWOvQaIgRXsIEOgkQF6xwGXqiHg4iImhsJEqZhQZDRroyURYojAMifJToxCCK005oLiYIOX9YoM2HRwgzKDeIecxhg8hYXQR+7sORHN/dNnCin0T6BPoE+gT6BPoE+gT6BPoE+gT6BPoE+gT6BPoE+gT6BPoE+gT6BPoE+gT6BPoE+gT6BPogOIQIMvd0ysvXOXL2hU2Qkiavc7siFKkcCDsXjy3v3ICONFqQOzRKdyBAEzEQ7FQiN9hG+hg2apc+wDFIghQxCaWY55X64oRcuHCaqsUGCgEQhMGZsDQTwowIAhizOqoynTRLM4dbDko2WGkTJxgbohBDeO5dzHKGxwUU3NqPygAIwbACQ3XSHs3IOSbCUW4mFqlPZWtOqn9OBYAnnKg41Cvh/jkTEsCfGPBOXBsX5BrBvQJMiXpJeUQARwYg7kHXHAHgjgEOqbrQdTBUiMUbcIdAuBeSUkLKIYcMgBAYYIvFDXAgBPByQ4DsWRhXA8COQJg+dE2r5EPhiGPdroAAktJ3jBDTnlnCBmQS5zFFKmx5SxjOwGHFNbHh0TGPkSzSRD5OYrB8UXQUHAvt++T1MAAWBgAXYoQvkQko4tuSKRzA94TQmPxADn+4JoMBwIqpeTtUm4LPoU+EduHpH4jscweD1Q7KX9BGdzugHJAcBOapCiJjAFjMYDdHJRzQA8gQIBHBG2HCEgEqRRGCNSkAA5N5D8U6D9YaYmqClrHFUAvGFWDwYjgALclMFxAEQG3YUoZopBh6ZNTuRiLIsqYDtOMyUAgCWjHi9sIiPuGyADlGL3wJBcJhf3VMrL1m3mMFmz4EDgjy4GCAYk4ghng31vuBFdBTDgTrD0sJdpmlb8kYHcc1C/YRNxPLmgxhAGLED7V324iOZoijHmofHytMGI57sEpEHkWlfGyGmZNIuS3p5RB3oyGYH2SgByTEo6SGp+EKhOQReG4tE5JDkBBEk0gAWucTnDJBTNjicKQHBgNwbm2EeNgLBCnwdPgbMsgCdMZuDQyCw6VE7mpufVAA4iYYOUeCB0A5gzHLwPwBsmQaR+gP1XP+IYfEGhutWPdzTXk7wYIcUAABAeN8EKNAclEgxYOOacAAglwZiONCIdxIdijGUczMpQIkUZjgcUICzD27bzKfAE5/dUysvWbEgigHMdHQmTAHFv0c05GIOPA9S3v0CUP4XWAmTFQPa0Hkji5WiU/A9IezcuW/E5B8gcHzUWwRsYMTM8dxaOd0QHYIO1smwGRouiQ0Ajy3GnVVKtTchmOCmIY9i0w7oNLIeSY4GB9btLC8UeGSPA6EYJOjHh70AAAAAAAAAAAAAAAAAAAAAAAAAAABnN3UOkvdgNcvCLQgGYgHY7/E1mM8/Ps1+j5wUZswD/AARe50ysvW7PoBHNMgIbJF7fKOBlYO7gnIDAeE/U+/8AtEp3J490GEjNihHKisS7PY99rSEqSN1XQy9eDtmz0ESgYDgMUGg7VYMLDaeCQkAE6Rgj1KYPiIQQpLddIezdapTcWjrmcFA/IAp1OpYBnU6KOcUWPSkSBnuNOrtrosPi4U1USggqWINx6wDACKFflV+VX5VflV+VX5VflV+VX5VflV+VX5VflV+VX5VflV+VX5VflV+VX5VflV+VX5VflV+VX5VflUCnATl+LrJnOTZIsOQH6QjyhqBdnAVHtDHQlTcAcWly9ZTX4qAg1iPYnehSkXPIO2/n5fBd/wBzTKy3DpXuQApoF0y3BHdvHhm0QNd/9olO6d6LCUy54EDmVzH3EiXEGPNFNjKhOxkHPBGDfUsDnZ5Ym7kWi8zCTQXsdmNdQfOQDI4u64IQ0UufAISJIWiZygYJQiDGhGB3f+kPZutUpuLUhK5k4FAIyLiQypudOr6BgLmjH2keXqdqOEemACBE4j/TurVdqu1XartV2q7Vdqu1XartV2q7Vdqu1XartV2q7Vdqu1XartV2q7Vdqu1XarkXRBQKJ0xJ9FxT10DOH1f4m7yDtiS/wO4ChCbRgdplkm500000000lxRzmOgNAEJQ7c6aaaaaaaBXew4NGTCF9tvXwc6XYmtiAzeScnLfqKKKKKKKKKKKKKOrylp1hDvx5xOMRxO/n5fBd/wBzTKy9x9olO6vU7AEJTAF8JkZuO6dkxEkODdWx4R9j3UKAPMoeWIeZZgdSeKfwwZSiZiKfJ/BBgy8EBCBRWJwHQAIfYrxc3gI9JiOjrYGLeSfbiWG4mKhNDIW5zg+ID8bu/SHs3WnUROz7Eo7T3oMptGePQldNlgh/QTB/viYaOYQ2zMIT5AXOPvxY2YBwQol6L6K4/wAQ5QIgxB+IzRyu8RtZwc1nmDE9mAf5Gfl6ScaaC/nLqnEULgU1f2Wr+y1f2Wr+y1f2Wr+y1f2Wr+y1f2Wr+y1f2Wr+y1f2Wr+y1f2Wr+y1f2Wr+y1f2Wr+y1f2Wr+yaQ+rwQZekjxR9Hf9wNQcsfAHRMmYlR7E5yLNGL1wI49luTkaYkwUxXBsDBNWHNDAAlA2DHvDkiMgd+jcyHV0aYRAgsAl7F+SIXFGHAwHmyEyecoAwE3AZldOqs7RZg4Zkp3oiai0zZkOmNGdIiLkqEElOuClYgjGJEeiJMygAdBpiwIPN0O2uG+Kij0Q8p+ImlqR6BTwNNsgTzLISCJIjcxCTY9m7d4oSETluUcdB2DjCWhfK0L5WhfK0L5WhfK0L5WhfK0L5WhfK0L5WhfK0L5WhfK0L5WGEsvgZAXCgi7Rs4D0O4H75UWHbkA3j0VphDhHsgAAwgNy1sCSTYGJcjQQSyOJcpOBYh8CmCROhQoYL0MDOLATDa9i5ADXyHas2CEOMolwHG/f8eRB5RG3I65vHtCzEBAlz5AqmQI5JBF8n34xjGMYxjGMYxtxBVChxgseJM0czbCsyKhwPG8xgY1Mw5fJT8tpmMAOScExU4CMHEmFmPRERYhhHL7Om8CNeC1n4Ws/C1n4Ws/C1n4Ws/C1n4Ws/C1n4Ws/C1n4Ws/C1n4Ws/C1n4Ws/C1n4Ws/C1n4Ws/C1n4Ws/Ch3alOYWO3B/oBzRXNQGcyYI2u/wC4baYLEMhMQjHRjIlpyUH5v2LUPlah8rUPlah8rUPlah8rUPlah8rUPlah8rUPlah8rUPlaF8qGoNwAR/I3+I+IYlMseZ6yLiGYUI6M+IQYAzgMCNwdEwuweyK114UpDgk4FSPhnmAVprwo1Sdg9Vgh4AmEOGc0Ar4GDmOOw+NJcK+avFYbKywJAJBEAhiHCuqeVuUkfBkxIQIotNeEN4EGCgG5FAYOEiRzjBy3ZYCzEDgolLkh0YLXHha48LXHha48LXHha48LXHha48LXHha48LXHha48LXHha48I3NmJXoPTNZmQVgDNoSexHo1GvdwpjAp/sQRDhMryyJNoVOwsCXAM5AZFjO0JBLgxQcJSdCYXgArDHYARO0xYrCUXBeWw5ALcQJAZFBgMxxmAxG7M1Cv2grXbTIDw9iXMGpmMiOvNTDW8Q6I2xXwOgkxhd/sI3hOmK8DGDniz+Sn5bXuCMUeTgc0YTRjEf4e7NmbAaRyQGAGiAwkDm+zv+5hAiIHBRIXJDowWvvC194WvvC194WvvC194WvvC194WvvC194WvvC194WvvC194QQDpChyG4NlgnqCe4aMTAqcgt2Qs44lg6L9wr9wr9wr9wr9wr9wr9wr9wr9wr9wr9wr9wr9wr9wr9wr9wr9wr9wr9wr9wr9wr9wr9wr9wr9wr9wr9wr9wotK2MdAmVYsB4X7I0czkUhZb4FjLkwBW5HM+jUa93GxlOM7kWPNE0Q6hAxcQ3FMWjbbyzKZ4ojwDWMhgU7890AYBhnwM2mggpoEAGCGBDtskAUBAEHHY8AxDgATwfahwbQOYnNnTfm2ZAdwNXkckfhEDEO5GBcsd2M1Cv4WbQXC16hT/GuGiOTrpYRA27L85i1xqwGoIVLBDepzJj8lPy2hP4AIzQe3vBhOAfHF4T6SDdD52d/5I4IeFBFrlwZdXWgfS0D6WgfS0D6WgfS0D6WgfS0D6WgfS0D6WgfS0D6WgfS0D6WgfS0D6WgfS0D6WgfS0D6WgfS0D6WgfS0D6WgfS0D6WgfS0D6TVLQ7dGVbtwHzOPwRikMHnrHFCWEdguNYbdRr3YwpmoIMVCpwUw3vIUEcNgBIJ1EFE6q8Jos4kDWmeJeMplQEL9lwAAm7YI1vWIIAUTwOik+fl5MQjjFPNswDkWEuxZPUxAwBJNwhjFBNYiwW4LSIVYGKQMMm8eGe7M1Cv4WbQXC16hFwBgEnG8eO7iByMTQC5TFDi/0DM/vyc/Lc2E1oZIQ8cE6qKuLAmBnlcE+Jl3Id2DlMIwRsWmw9N3FxCwhkGCMdwRBnRITbATDjyTD8BJOQPp1Gm0Z3/7SFXqAKeKTrpqSYMeflZyeyoXzzWo17zraoRTauD02GPqAOCDggUEsETmLIP3hRhOKM6HRcGDjMgYp1wz4ECNwU6xmYdSAmY3JoyS8QJqWVgwcAiUTXMgllJAz/OQIkqkmJ3ZmoV+ydaAB52O5wnihY2chwR7KbQXCGSIfghmolzhT+h77o6gRZgAxKetnAZvAowH+/KT8tzYXIjxWhCAaxXTo1ChRxm4ORHIAJB1GY2NnAAHFARRFkm0Bgwd5iSiVvZ4ivOSwRXqWIIwKnZ8KiWmnwdDgJIMGXDFO9exBkEHMWAggCsZAC1Q0whopc+AQkSQtEzlAwShEGNCMChz8xfom7YgBzIODitJp9Oo02jO//amxPGdABpM3JNJqBs4Euj2Ij+CESKv8EYPjjhodMemAy+/GL8rsYuSWsTJEsc3+mq3C+tVvUplgWEQ6fWOCNmp5QHFDH/LODFHDoL8ryCYGfrjad0MVjHWSC5zfAmILMxKJIjmc1LFx0zTSHQNAMHDycA8vXoLhM5hrUIFGG6BEC5MAqU7TGoDMhZqwL3AzABgPlJ+W6s6dGoUILkxhenGRzYQizHPoEwsNnhAu4cVROp2DHEJgzsERIaJDkyKwuRUKIOC0kDooGRAEALBC4EHIEfMj0mI6OtgYt5J9uJYbiYqE0YNQOzog4E+xOMhxkhZy5EWxOguO8FpNPp1Gm0Z3/wC31Gv4IzUK/ZGo2YD4FmMih7C/5OHBuZo8mPij1AQMwxx5LHITQ3MIym6XAOpPr0Fwteo3IBQubAJ84ZZI0a5CQ8DsAoPlZ+W6sNe7B7AvzIF6jNFoIFDcEGTnwFUWOBIAECAgMZJhbJ6tAevJOb2nXHAhmYRJKHFm98TCkA7OITBjJkHCOY8EPHCK0TbVROERLxDHgVhueLoM8wyDO5IOYjEZQR1Q7a4b4qKPROTMPLBENewEY3QjTg5pAnmED025CcGeqCRPSCQZyGMjL06jTaM7/wDb6jXuTEEyGATF0/mOiBFiCgqEQYMCH247A6UMcMWgMg3MqIe6MY8GOaekgbgPsDxEvioiJiMklyS3bR9NYxgSC8/RESYlyQ7bozUK/eTCMoIsS4BkdFCFAjt5BIwynidxoLha9RuIXZysgeUN5wa9E6XZAABgGHy0/LdWaa8IZaWI4RdggiqMeEHRnYOZixAQL9sAJwKa0BmgZQ1QCNDtekiAiTEk/UgQDIIcCS8IQiptDbbkwYSWmvCFxwGAIAUV1TytykhAMFEAygTkM0SkAQRgORjxQCwMAwHp1Gm0Z3/7fUa91jSvqhHgWKlUsTM8wOgUwMAOQ4lgojZzTYwurpotKDHJ1ADPJE/iikw2nSPHBRIFuORunwaR8OYYTpmoFXAAMDEgcYhB+FkwAFREaPQRjCAfVVL/AHHh1AxkQtQomuU3RmoV+8mAjEJBiyJ3OguFr1HqAQgARJOCJfTyJjsOq+nuMDg+Yn5e/s1Gm0Z3/wC31Gvd8I9RtXJcQOpFzcUQMog7i44oIBAAC0BdFpU9jzzxggLC89gf8EFDhmd5tVRFI65m2pQCGiGPxp0FsgsXgKEj3A4DEBIAQQpn8q2AElnK1Cia5TdGahX7SF7Ai8fYkCiWl6EBADAjsPTBRE8XLDigExhAHr5Doh4cZgA+Zn5ezsBDFoHLogeggBLDEbjUabRnf/t8NQi8Q99y5IJjsDlMJWxE0HAbBwgsJYClk0QRHIqXhykkhg5c8k4RkIiwIaFBg27sAAgQYoJPYHJOJAYGJBw4JgPZpCLyJ2gjaIbDJO7McQHoORJ+0DheKcnFKi6aLhKABAwqAhmjhA8GaNa7QUfXzAQYAjGUI/rgCB0ZMDmjJMkKIRbB5i+5IpHujwgmR7hJ9pEnsywIGNmFTltCZsxC1z4WufC1z4WufC1z4WufC1z4WufC1z4WufC1z4WufC1z4WufCBD8v60fYdGMcAMWeZ0RAMNosAbxTgpDBjcdh+s1fpvxnzaflubCCi9U4DxALFBec244PWXHYMslarI5T4J9CbJwCJe5QzwgIHCeZn6MZ5xQZEgsjSO5XLADnaZOYuR8l2kpstuDEl9x1Gm0Z3/7d5SxgYl/gHgUHMyOmacff4CD6YUSxnIH6odzCGwDD2rfAZNFfi1+LX4tfi1+LX4tfi1+LX4tfi1+LX4tfi1+LQEXAzl2v/ELOEowlxXE4LHOXeEbOPXc5vDfOz8tzZrFSGAEM2YR+c44hPgEgGAT++Kh6Ftk/wAE1dqEM2EFiWSZkhkgEY6ohMM6oLA4REQULC8E8ywUEpNqwex7JlMoZmIHRQmcnkUnMVgY0J6rHaGBYyKDOYkYpEcC42Ms++gWIGNAQ6CiInGk/EQBkfVqNNozv/25iGKJ3BcRjVQQhx3jEPzgX51fnV+dX51fnV+dX51fnV+dX51fnV+dX51fnU6FXHZ108EfnV+dX51fnV+dX51fnV+dX51fnV+dU2JuA8IcYIX4DXOwR+YBs1Idjv8ACkgFwgdU4HbOHlWSuQnLS8hSaNiIfOKJ+fn5bmzWKkKOP7STwMUaQ1C4fCrJRSEzJ0OUeJWrtRsn4QhRRgeELhTlGsMYewCIATn538QCEjAgcEY7IQfeWFFEQwIEwOhMrO8CCBwc0Rm2Mt4rAeYDgbCdk3dhYxkATURnfH1ajTaM7/8Ac2YY5v5JJJJJJJJJJJJJIIjVuYnY92Ru6sDEGikIH7DADAzdyhE5SBum7kkkkkkkkkkKOCaj4SvP8L+aFH0HIjeQsWew6EoDMKsojy5GHRBgswAwH8DPy3NgLpF8CGi4E8Ef0zQbCTEA6ZaCPCxzgW5saCiBmALUAu4dEXjoIgRBfkR5gYIWJ4HEFFwuM0J8CYxYhEJISVMzk1bu6jxgkpBMz6I4mFiAYTkGAWio7hIxHmIYWEU0w0M30SrB4QoeE3I5hEnLmjzEYBtxJATmmNXo+AzaYRKabVMQgRC8IhMjMJhPQDCHU+rUabRnf/4TAvJe6cccrq2ZyPVHZPxdyduiwEAk4+JX7sJjuLy4LmkIw6Op5OoYF11L5TAAVHwl31d1V7h4PFm6qSPpQnMEniqcP4ka+xC+wdFCDEAwH8JPy2lJoAnzSe/vCgMCfEYeU40g3QeNnf8A+IdKr7lKLkeBA3CDeV0PukIWo0X2fawiXnrswi0KGy8DX3XbvOyASxGiaWPTRCliye5dEH7F0ASeV0YxO/ZAKtLlsBnugpgVHYFcjRP1Fl06hdyxSaL5wVaU3zwS6XmEeZla8RDp/ET8tr/wCzicmHVHCJCMQzHjP3c6NUCiY8kAIxLBDGbqJ2d//jZAIYrpspXX7fhdgJ7BTXhAjsprwAdkYQ8zojmm0wa1RwTEmpqXHejUuI7wmJcQD4TcuOZMy4zljGhink+CeTLD9QwdE5GeQmscXRQFjl4D+On5bQwAmIIELghptGl1VRnaSc2TSRUfctReVqLytReVqLytReVqLytReVqLytReVqLytReVqLytReVqLytReVqLytReVqLytReVqLytReVqLymrVTUx9g2HmFqKIHnhNy/Qp22d/wD7/Py9JOZzXbZdE5gRcnt2mmmmmmmmmmmmmmmmmmmmmnoCp9BaMeYnx6O/7kgAVMmw+2SR2qRtmwvBcyMBtkkFzoYAC52lougQRBG2SQSKMiODsCAu8mw+2SQoDQcgZ2EBAAOScNskgKWG2CQAzAB2ySXn88Nj5yLO0Nskllmon1SSSAghwXB2Qvs7CB2ySEgSIEiOxmC0A2ySCRTkCSdpQCImDtpJBMYBwQXB2EACpk2H2ySO1SNs2F4LmRgNskgudDAAXO0tF0CAgjbJIJFGRHB2M1CNu2ySFCDomBlthmMA5JMBtkkBgAMTIbY2CMwARtkkzeahsDClAEQ2ySYz2YROwlg5l6pJJLbuQO2SQ8GRZxHZke9DbJICFGQBJ2kJYiO0kkEhiBwRjsCC0xAGNskjpVzZbYZBuZGA2ySApsgABJO03OhiCII2ySCxbkRwdjNQjbtskhQg6JgZ2GYwDkkwG2SQGAAxMhtjYIzABG2STN5qGwMKUARDbJJjPZhE7CWDmXqkkktu5A7ZJDwZFnEdmR7UNskgIUZAEnaQliIjaSSCYxA4IkdgQWmIAxtkkdKubLbDINzIwG2SQFPkAAJJ2m50MQRBG2SQWLciODsZqEbdtkkKEtEwM7DMYBySYDbJIEECgAI206BcwQRtkkDCLIjjYCBGmREH2ySQrs7CJ2EgCSQAJn1SSaWQagdskkd5M7w9c/L4Lv8AuTWNKDCV3XkruvJHHLtSf72SmADyV3XkruvJFQgywg5bT/vjkfZXdeSu68lB7Bd0Jk7IsgidabK7ryV3XkiKQhGi42MtsR6kK7ryV3XkiCLQB1bae+VQDAAruvJXdeSxv+I42Q8MN7QY/au68ld15IwDJiYdkRBXdeSu68ld15IhmYAdho2RkIuVd15K7ryUnIj3w2RkABzCBV3XkruvJFAeEmbI22k6cw48ld15K7ryTNkKKgbDSNKDCV3XkruvJHHLtSf72SkADyV3XkruvJFQgywg5bT/AL45H2V3XkruvJQewXdCZOyPFmpt9K7ryV3XkjaNbEbHYxxHqpCu68ld15IgjAk8eW0zbwNNkBRXdeSu68lBsCROJ7JmlHtgVd15K7ryRceKmDhsILmSCu68ld15K7ryQMI4DYRng5Aq7ryV3Xkpe03vBh9bCyJiYmCu68ld15Is84mxIbQtLCEahXdeSu68kwfCqoGwvUaQsVd15K7ryQLKLMpPsgxAM6EwruvJXdeSJOyMR9tp3IuMJOSu68ld15KRwBdCeyPFmpt9K7ryV3XkjaNbRsdjHEeqkK7ryV3XkiCMCTx5bTNvA02QCu68ld15KDYEYnGyZpR7YFXdeSu68k7uKmDhsIKmSCu68ld15K7ryQMDgNhGeDkCruvJXdeSl7Te8GH1sPImJiYK7ryV3XkjzzibEhtC0sIRqFd15K7ryTB0KqgbC5RpCxV3XkruvJAsosyk+yDEAzoTCu68ld15I07IxH22nci4wk5K7ryV3XkpHAF0J7I8Wam30ruvJXdeSNpC0bHYxxHKpCu68ld15IsrkNSctpGIwJssld15K7ryUVouc4iSdkcQcl7YK7ryV3Xki2unORcfWw86FA5K7ryV3XkruvLaUxwEgyV3XkruvJRDc4zwYfXrn5fBd/8A7/Py+C7/APwce4vIXQiPldgJfK8oTsu7BdkJF3PKC+qD2sOKdmc2pR4gfao8QPtUeN9yopKyKry/2qnJfar8p9qtp5qrr5qqggkVN9T/ANJnq5/aa6mtiTN+hN9V+leQFCZcZaWccPhSnjsUr4wlO3l9y6XX2rptI6fAfys/L0QwwGKBvJydE0krSwHt+eeeeeeeeeeeeeeeeeeeeeZRNREIVJOfVdkJAEDgjH0d/wDvMJrQErqLHkRLYnfdwF1NOqJXdLou2brF7DZTuS0wOy6XYPZd+9Rl2nU1JutKakH0UXQBfhdCMCEPbzY5p1uAXXc+hdf76FP+CHwp/wABqnvAIeVPeCFG9jtKvfZ/S1iXBYUq4F6ea1gay0WCybEHxloaF1rcFwsLkvZJ+S75ceV2D7wpGdJFJI9RFdXC+V0IA/wU/La+go0tfHAOqx6PfEQAAAAJAe4OlBYF7iRQEcTXAnpVGiABAQYgjHb3/wC0FuHt96dIRUfOuUN0DzZdTnSysNpqoTAXj1YnM+BAeQWIZnfkQtSwzLSqFAhAMPnOiIldWR+FJjldiiJK1zJ2pnunchHpGWmR32L2YAr702JqwWv2hdSTZxBXYLW5OpH9fEKfzQO8nQxx9s/LT8tjR5u0xOAc8FU9AaEhxny92bQ8wmMJjiPCEvuP/Tht7/8AXPUCwKdVTUJcejLkLAJxKwMmsBeMB9sKaq3SoCNVCL5zJhgetA/kuitpPIagzoEcsgtvJOUxg3N1y6/dXZFqw13ZzgscjriK5swZ8QVruSSTPFHA7yKaDKh7PjZ+WwowTvIvtSmAOj3ZAIIIcFExYOk/bb3/AOpewGYwPIiiaXkcObFiJyA+5Yxk+5JOVjpYmslRiJ86txch034AxDK44FsXTGsIx4laiMvA978s2qgNxLWRvQSTWUQIMROGwB6IFWYBALUt/GvxDAh04Ppxc82TQ4SweRUxRSTyELQJ+5Pg8e/C6g1+5cyRGHR02xCo+NXT4IOnw0/LbZrFHqd0YeAmbC1ysZpwOPZ9EO7b3/dGrHwGs8BxKIFN8JeQEic4egIB5h4HIeDo8R/jxAxRIMUQuR9mLUbVb1yD5E3MJCbMKI4qbXmLk2CkI4cLPHsilGu5TDTIYu7j9toITz6Ad084QgMC4B0QMnAA/JijmYxdIz4fLWL+R6q8+enjLqsdGTV71jbzfeazjpMwcDDJuY0hec4oAAAAEgPaHRM5CPIojQhEsKCAm0WvkppGH4grsiqJthPddP5Z/iWsITJYAbDkWXJg0OILDGMDmmDfM91xQKdeLLmcm4G0mhzIoRDj4Cflts1ij1BUAZ+RGyyxcMphYVRQKYDgGgGE3KMjAeLgmBVN5kHBCrq8hmxECCAQXBUioyDgStE+VGDDNw5hW/NByTQxJoGTiENQwOBTQIfOuIP8QmMQOCJH19EO7b3/AHL+KFcBHMVw7G7g4qLMzn5KAWM2EWpYlCh+zsCLhYGqOpZhlKRqkgKiSPOBY7E7JDYAOJUEihBMGRkgX7otYngOJVBQiCAYZgA7IAAlipMedgbtheEiJgn6+wAkeSADXQi6AckQ3FAbQFpiAxPx/iJcYkRyScShEDCXmiE6LGZVBwKii8OYtMHBihF45J94Y/I2zMR6ooxX/uSwWL1J+74U2TzDEd5VwrOLMDDorR4YdPcmD0R5sweB4J5Rg1IQ+McgWCBAAguDIqJbcFXkyeoTVlc60TcP+QSaUP5ogEMQ4T07JiHIRROdGB54nHWGDjOd5qVHpg5zCICwMSX3KSPwRAAQEGRHvJ+W2zWKPV1lE982hazJMyI5dli7nmgVG6ISF6MTFPvQMyBE8MXd0QRngFsY8HLXFEPtmDhgi8zeqjIs4w8AiOqf1oAIIJwYO4RhHwAcxCP9uSlhUyZDPvjwRx+X84xy4UIzTh2gOA5PADADiohbqmHBMjgn9iDEIuDtGKMritxAdfX0Q7tvf9xGbHlWOi7CxGJKADHNow8nJtEpImYgYhN7ZZjhtr6pShzK0oBnTFAEgACSZBO7tIHBkQtVrs1WhDWmgKQCD9EQOVxoW5EjSCUOn6jxQkHYc4bcTjNC4k8EI/QCZicA5E/GloiiSTAJt5UCiGmDqsUOXYyTJ5MZuRI/5iEFmBh0QSAJNg4e8j0YoTwWJaVyC3XEMhcZPBD97wIYwJRgyKDg2Aj4RGjs6O2C+pczioIUQQItQIkaUYISaAsWQ4iAcuhb+fZEcCIkZGYRczkBHHnc1g62XUnA5I2B4MoaRgeHup+W2zWKPUQD1XdHDU/oZBnpshECMGQzzohghGpIdBuaYk9pgakaARkQJfDcB1CFxhYpjgNHRNREINLgOpoAOpCLDAWZymtLbAGYPaDWRisjLAiBxBzEY0MS12i1inrdEO7b3/cX90MemyQTj7CE+wUNhYCkAEJ2lc7BbzpAGfAWqm2yGdABQAQCB7ERgZTJF5HDZqtdkmagE4lxQjmUvYDqgUYupPEjiUIKTxDkQbxftTFQDdCAkBM8E5jzx+Js2sD1QC6hFAG8pNON4AMqDjqLEAG0pVmEy7OqFuFtBdEh+VMdnPaETFszaPIC4gTvotXFAal9r9t9r9f9qsPM/tVR5oqhzRUzy/KX0ryl9S8gJDFLMoT5kiPMpIuIzwpJxWKTccCk2iuugB966TX2LpuCuk4f6mmLjyiYcFUGT9hTAyPVQdnDO8sRf3E/LbZrFHqYC05RsyJ5p4hA7GqjZHmCaKG7lydHrvckmROLAIopjxyBYtQVWUQADYjQUjswGJqTiUTpRapsGMIyBpiCDFMcJoCS5y7ADFCABuWiOTyUzgDHzkxv2gjRIDCogVhgIrxK6yxIJFmdgEfX0Q7tvf8AcFGYiUAMiQTxVQiAxjav9HNsCki4ABwOLDYJe1FbBJ5TO2vJCNiasFwoRcnwDALFSxx8gXwe/HZqtdmq0bQ7A6aifuTaJxmTrtdxbAewoL7hKYjnnLj8PZsQdzRC6jQGb/QnFTijbngU18vMFYbcHxhkUeWCvlBdEw9UVO10nkgI+4cZ2c0mp1kVpiiyAgwgMldV1XVdV1XVdV1XVdV1XVdQNjtMZqYHzSaPMFMnmiYDP61MDn9Sm0uEubInMoVm5pPOGFTwOAPKwxyII1r3ioNmcRWHa1g1o4LEKyTWuLLAheug2DRhXa6D8SahUCE9BKBw4aO+AAAAAAAAAAAAAJ/CnHZAlI2G9IsVdV1XVdV1XVdV1XVdV1XVdV1XVdV1XVdQLy+GcVCsFYKwVgrBWCsFYIksaGBzhoSMhEDSMFwSN1YKwVgrBWCsFYKwTiu+n5bbNYo950Q7tvf9yZ7YBiwASQqT4jSRJlqiM0Am1ox8QQ6LDIwSJMBXZKEUGcQijH4dJBDDIHY0nOjERmKm5KIieLnxH+qRXA+AUm4Y86oUc5fkESWpsNxoS6RaIN9olGMoSOJXIHDwQMQYBULCsMeIaouh46IeSZYC6A5OkJ2fsAoARkEh4h1+EioCZg4p8FsGhdc4cnVfXPlM8xHePMvNZ3hBYd8RoKtsSF3MVaTJDomV0STP2pRAy9YwHpmP0KJ14AMKYQv3QFcoDyIC1z5WufK1z5WufK1z5WufK1z5WufK1z5WufK1z5WufK1z5WufK1z5WufK1z5WufK1z5WufK1z5WufK1z5WufK1z5WufK1z5WufKJwduo6ouiA6ESQfNNAHA1FjujAI+T2oJBgmF/gyWDlGMoD2phOIQLhxvJ+W2zWKPedEO7b3/dATaDFDZQRCd1mKHUQIbZ4wIePhEPCPM3BNBkScpN9l1KrDywQXGycmEwYkzgGbNSYudi6z8wPY5FnobZ8g/wUTxMshyFChgcBh+QInIVxmMzx+DYRv5aXFlTLGGqCggHOLsBgHBGgnqpOCAAAABID0m5H25uynqewlwoBzfAIXQdgIAe/MYFTfYCl5m4dm6OQ9uTB8GcfbjjvE/LbZrFHpMQ/4EjeQIUz8qYDswnikgQQ4LjYfDPNbxZxEmMpITD0iStZEn0EB5fDAzchE4wLGQuBDxpPaQEchhsWBzRSqCyASCJiw3PRDu29/wDjp8EhwRhhuTivJ+gzUFcxCMYg/wCwUOWzWrmXBtwZeg6cXjESLcbIBu1MScStAeVoDytAeVoDytAeVoDytAeVoDytAeVoDytAeVoDytAeVoDypqmMQsRpU7pEHA7Zz6oiYkNcnpNw5oFNZAhFKgeBGwJd7AhlyQDR4nMOSYcTxDyC/oa4eFI1GwTF0BvANEYOaMffzghi82Mnnx9nAdG95myaDuTK4guPsLEXwPktAeVoDytAeVoDytAeVoDytAeVoDytAeVoDytAeVoDytAeVoDyqJ8/sUWXtgWEiY6x+Gm7Yd4s1z5AxKxJ06C4ky37LLLLLLLLLLLLLJCaAxo4mCDDt5cKnU2yd5Py22axR6jvxnsh4AeBUpc1ji8ocCnDTjEeYjh1IRf3j9TMXMnZAYoMNoCZpkCaBToZRvWIRBbJcAjXDADtJsUTaGIoYRzCLHhQwfAAKobmqSFgyIAhM4nIQdjS4QWTY5+AlzTwasEHCDEJwNfV0Q7tvf8A4x9AIdx8gIrAKRCOb7CclWJtCw/hiGgdRvnXdGXoHHNTWJgyEefsR4KKMUM5tDbO9Wp0+rUqlErQsRiBaadQCGOIevdCLuDwCLQsGj5EuBzTblgW5fi+IXT6Aq0v9QgKHgcoQYagpgCLTqEpmyOAHho8pCz4GKPmVwDN8h2fM5IUdloTDkjRIULsIpgh4sCM2+GtHJj0ThxkUYAXJBHFGM4jBCARGgI0UQZcC5EB3AgEFk6iA8Amx6EyERP3TVGXbxSIOIQ3shDrB4BY8QBMGRyuDwQIIcFwfTpZd7jhRLwl+fA+xFsOSoI9EUFx9SRJ+Fm7SkA3kyEZnb2I3WwKwE1idsneT8ttmsUeoRM1EiCkpkPxYxuDDqot4ZlmeEdhOOYQaQYYnVBj53RAYIOoEM7HmnNWe1MeJBQ0QAZbFwJPGaFqAniF56lQKmdcAgWJqXQXGhNIMUPOktWrq9NjamK0O57ggqutrgXngF6ckD+IIC4I9XRDu29/+KjIt/rhUkjS0BFS+wqNd3ZHoJKSb8wcBvDL3FU871anT6npiLbjMCpqZCLHI3OyJeQxYahDBATHbcRI5noo0iMLUEEG1kx2QvNTrshMIDkzcnIttGSYsmHNDigxFgBJwvQzIkIGpHxplEnmgbSwVIWAkNiXzqgptABKCJi8o8CuxQIKTmrKcmdbgCz0ihALEzuiR2CPqBzOLJHn0UMEa0EN0ijIBgHwQjPCDKACJDNBZYIA7PK0J1lPAhM7enSy++2NLqWl0fCzdul19jqlTtk7yflts1ij0m4rLEzBQpYeBY4TCO6BoQmRgeCBs0HpgKh5cCjnsCUgLoUZYiDuxbuFG8OQgEGNMDRsEcNm86EzZ+iM9gnMbgXZuSBzyVRIhgRJBxoGTCYD0FEFiC1JAmWBpC6DcRrxQxp3UW0APBlh5klEMjR4jJ0z95RnDc00GdABSLEBNmr9ojWOTsWlwl6uiHdt7/8AEBgE7QCFCj+2szgUytgZR4kkgyaDfGXuKp53q1On0m6cxaBOiw5lMcJOioiDcHHY8UYcaIGaFSn1QRf8YOImfMIMnoQUYBoniwWYgyCc2CPsh6UixnrApqCjZmjEI+yPYSAmBBwBHC4CJ1gbEyTtQCgm4ieYRLKmQg6PomDuAQ4XB3KDTFkMTwO2nROYI5MQSWIcjgNmtlyKjp3AgLk3Z0KNiLAZEDWCj9sBkMA0QEYxOm45JzNyyR4ZwBCN6CMsggyn40CBgHVGrJMRxAN6dLL77Y0upaXR8LN26XX1thHIYlgFyYKFXXnSCLk13OqVO2TvJ+Ww1ICCAFSJhybux6BAmaLgMNhM+e36lKHlMObZ29/VtJC5AkQdkYFmYIPrt86tp3/4c4I+HjAueBMjYuRbxc2iCLq1nFeEvYGW7qY4JcGEichdsmumJKIEJWUqseCAAgJBwRju553q1OndB0pwJI9BmcpgHCDQLIDDaYo6SXmbD+kWlqMSHHYZBEmCreSEPVpZfabGFTIikBCLaIo0xBCBXKkQmAsX6cUN2ITYQBCbYs/r0upaXR8LN26XX151YkExwBb6E1YqUAa7bnVKnbJ3k/LZCAIGU+hKPzBNsXKHD3ZYMalTl98E0U7FDrtd/wDhSQA5LAKOkRMKDieQIfAiDdh/4TmgAAAASA9iZbqo9HEjTAgkuQPNG4zlsQMwHME8k7rPPVA7wiI1e5d3PO9AP6gkp4yiWHVOwlgSXIM3VYUB0iRL4HSy+02DoB6cvBPWpFHBE8EMwWACWIF3EYuHdAqgRcHr0upaXR8LN26XX1PrKLcS8CfBYAKpWBXxOdk4LeThwBHLc6pU7ZO8n5bCAQxDgpxBiOEA46WKEA4MJw/PuTYH/BGKAjXY2eT6INcMNgBt7/8ACEvcLsAGJQK4mPcF0ZnooawIGK3YezMt1U6A2ZzB2KIoCIhQPJ1em5AHfIwuwqgzigEgY4j/AIjGh4gzY0labqed6H2ZSbhiNDFRBpqcZ0DsgHiAAGAZuSQJlkCSDaQTBAgyL+kkEXAPZega9h98HlutLL7TYNGxJqAIMLkJo/7BDJMLAMGEs5IkLQ4om1skcks9Wl1LS6PhZu3S6+kwDlP6dmPAQQ55HBskHSsXARN1QnOB4/Fgw4p0MJkFvBfhlD16pU7ZO8nZbQX/AGDcEKLwnDpA2CI6oRYFj/oq5VcquVXKrlVyq5VcquVXKrlVyq5VcquVXKrlVyq5VcquVXKpSpx/3FWobHijdFJP6/4fE/VwYAVQ+CnRC9X/AENmDBE/HFfaGW6qGMdj6gjZWcV2GWJwr4k+N4nPO9Ayq1MxuEOxS0Lx4i8HwtTp3JmZy5E4dTvpZcDEEcnCfsAcTBP2iLYBG2A5LRGAykQ0BC8IHr6APpgYsWRxv4RUYxiw2xckcCY3EkY2ASCY7jExnutLL7TYOEERgAMWTL9igYSEAKnbdp1Hq0upaXR8LN26XX0x/UDy4oMpeIIBHeIm2aCza2TlXTX3xRfmKkuYIiwSem4p6pU7ZO9Bi3wIsA/g4RcMSMY5B1MFO/EmYK/tTLe1HMtMFGm6EiogmhNLIYIg989M4YBhHczztvSwSB1PqnqScbDU6d0F4OBQ84jiixQyA1GDgY8SjvwCcY5yejoLCIbAAITjii0ADlFGN/YwdyxgRxoieiYN4AwA0ThVC0PUK5Bm45puKEjCz3jDgosPkcyLhzaIWAmLtBzycI9uEQQIkAwsoBSgaMcbwO7bpZfb7Acke4oiDODPNBxQGsIELmg9Wl1LS6PhZu3S67maG+D0MSmPZUEoHAC0kyisYTp+KXb1apU7ZO9cg+AeLmX8GGY4XR4HqDXIULPhLyGp+2MvRk7lC49jCESWsNudtIDxlIn6AoCLZAANs1OndaZRD6w1Bi8Ov0It8Bs0EhxB2TnuOwBBPR0F4PyFgx6cie6Voye/hPXgOBwGDmyAph2YVHgg8dkQgW6cAcgYzcMgGlNwQeCMRNdaLiHCZHndt0su94hAAGfsQCiaCgEsGIc5fhZu3Wa+x0ip2yd89FCCJj+gxIAclgixKRVE+vqp7cy9DatWvjQYg4pndr+N+ppppppppppppppd2GMjgCFrQQcBk+uJ2ztteQ3j+dp4zONjesNyZJeEBzGASm7IwiIJbmlNAvpIMALW7BEY/JrCSAbmSZFAayhYcIQnOgBc/ACg1FLCFLtgXdRv5FkChOcguGReuLhAQmyKBuxA5ItiMzIBObAhNnRWYx04UGwZPZORLbcBoFONqYWS4mcEwVUJUIHCjI0qhgGxIG5KfRscHc7DvcNFkgZMrFDMOhPmohcb+mmmmmmmmmmmmmktYkTcBBOgu1S+iJjADADD4WbtMpaDeO4BiQU2WEhrOIFrXyta+VrXyta+VrXyta+VrXyta+VrXyta+VrXyta+VrXyta+UVADH/dTZnMA5H4Cv+bZPsLBWCsFYKwVgrBWCsFYKwVgrBWCsFYKwVgrBWCsFYKwVgrBWCsP4QgOBCwmNg9nT8BRgHwMQPdCsOVEiMAks7mXtzL0kkwK/MX5i/MX5i/MX5i/MX5i/MX5i/MX5i/MX5iAAkAPRO2xfLNxbZXQEMpiCLhCbcxYC/wCnv3vcIJlegId5OwInF4jjbfZAM1+YvzF+YvzF+YvzF+YvzF+YvzF+YvzF+YvzFYcvh5voO40ivHNfhl+GX4Zfhl+GX4Zfhl+GX4Zfhl+GX4Zfhl+GQa9CpEGCzAMANsn+vgoS4wosiSOCYWlbjeXaFfbmXpKsQhC8lqDwtQeFqDwtQeFqDwtQeFqDwtQeFqDwtQeFqDwtQeFqDwtQeEAvRuA5kIA23ZhY7Z20wqdc+jPEaILfAckIHCwE3Qr1F6i9ReovUXqL1F6i9ReovUXqL1F6i9ReovUXqL1F6i9ReovUXqL1F6i9ReoMzuZLUZa5eBgN9MkAAGEBvseROoWQmtQeFqDwtQeFqDwtQeFqDwtQeFqDwtQeFqDwtQeFqDwtQeFqDwtQeE6zYMG4T+Gm+hpFq17CqqqqqqqqqqqqqqIEEOC4O2T/AD4kLgHmVAMSj2gSQdjmU5Fw4vtX/P8Aav8An+1f8/2r/n+1f8/2r/n+1f8AP9q/5/tX/P8Aav8An+1f8/2r/n+1f8/2ha7EFCLhmLElX/P9q/5/tX/P9q/5/tX/AD/av+f7V/z/AGr/AJ/tX/P9q/5/tX/P9q/5/tX/AD/avOb7TtSx5Km6JjABPgehG4MvQLu0czhnb42QAESAdTjv6qqqqqqqqqqqqqiQmzJA9EZp2YuVwr0/xtk7bpRl+0fPnSIrkR7slxdYbTh70hCEIQhCEIQhCEIQhCEIQhCEDDYE4jwEVAxq4wAG5EIMFnIcEb3g45VpuooDGZqGCqSAlD2FVVVVVVVVVVVVVVRfLJQwhkwpkNoSN9uPrg+aJmuSkE0yTiMz7cyyyyyyyyyyyyyyyyyyyyyzB2JuvIiHNAP08HmLB6Zu0dDJFI4hsEKBG7eGgiwT9n7L9n7L9n7L9n7L9n7L9n7L9n7L9n7L9n7L9n7L9n7L9n7L9n7L9n7IkDaTNM2lfhGWjRBCG2EBYgy2Sf4eCz3L0NTkj8WWDj8LTHhaY8LTHhaY8LTHhaY8LTHhaY8LTHhaY8LTHhaY8LTHhaI8IyEWGI9AQPrA5M0wCKhFgJyBucT/AIsKGT3r76djR8FEW2C7d4HBGedutUcJesy9w0Sdth/F9ye0OkmnCUIXKD/UEu5nEqTiffkoIkMRfIsiilziGREhYiI/3e+qU+4uZ4OdGPCEK97NSPuaMA9RZFOG/wCM33x9E3bEdJ1svYhAZDqCJMdIbJP8M2VilZ7hCDK3EWPiXNn9gBaNAtHCC4REWVfET5EeotbPeSA+Ew1P+G3I9RuSSOK0T5Qwhomey+il1BygTPBGBoBOIFpJvO0zrOQ4Dydt+OV3tABx1CLU44IAC3N/WZe4aJO21iDqoAB32QywzMEUKwhn2AfcCi5YzFw6BNT1VjToOm+HEaaAI4zhnbAhxuBno3BZ7MN76BT7i4ZjsU/dNzELjQ6aHAGzrh0/xcvBGAlg0eQMcXsAkkbFCZzH0Tfa+ENRp2Sf4cmVl8D8HkKBWLNEqxBdFG3IKCPkDyUnwLysUNAAIiWA9QhrLqTIgAJAg4hDLclFlkBM0TzWu1rD3hjiQGeJiQNjNgYOZ97o9FpND6zLeNdIHNi7bwSdsnMv4HU45pjiIu5EbNXr3MMq87wgYonEWWSYE5okfGkxkg1BAoAmQPsGuLEIn9QQQmQYfYGCMgmaLBSAMkQAAJkoEbnAM94iclotO40su99Ap3HExFFEBAAJkq4iif213LHJDcxwAJR+JPeIyxa5MyMxgGIIgQmO3kscIhk8GbKE74LXuYJiTCyMctNmBoLAHcscExK98Bvd36LAXSA5nmEmR7QSIQQAGAdsaoQWL6I40bqK0RugyMDxJjgEwWM0p4Etx3m5u68biIXOJJrB0YjBVSR+6IajTsk/w9MrL4H4PJrdSGyCOV8p3Tpjq0Zy5CAdSqwrIh+MSnAoGoMswAhpdk3aSHAZY8TmNjYi+QMuc4OovX4OkLdViMFIdzOeADmyxjjYEcNFmCC9GDkm4YHB/ibnYQB7OY+DKcHjsDghrsg1mAQQBixgw6vudHotJofWZbpo8RUjAA5UYGzVAyGpMZyijwuoEXBxfAumLHrOJBHiz8d2JO2MeL4hfIYdUMZlHQAMNmr17qGkOCpBiBm0wQfCBeEgsGDOPPY174mABINBA9LovVL4GNxA0sng47xZA8So+VhLhu5ThAiVEfk3mARMtjBs0E4soxwnNuPRQ2IlGPEDzMSUWEBmYpziMCzFBfa1ZyvxIrXEBo0ZwBLJtO4ik4kaoyeiAGRJJdyEngEeyQcy2IA9nWi07jSy730Cn1sy5JwAzIuiDhZXNDliUf1cXDiuNb0gjEIyAyQERYe2u5AKSStBA/Pugwx2EYH6iFMo2BE55pI3a4EhcURZGRqgXASAsMgyZPfg1JMKgAh8SSUJUOYmjSQ28CB7C6mnX6pPUyi4ZxKlZmEQjA1i3VFIIgzEtju9zd14Z5Lqcw/5bkDVEAsAAwAMjzuiGo07JP8AD0ysvgfg8mq1bYgOE0xweU5wBnEHQEVpuamHU6jg7B1a7XsG5oZmWB2Qewc0RCIKCVEMOmMirAlc9FxbuDqAjzLmylPXibdaPRaTQ+sy3TTci4BEegTNQ+jYmjq5oEJuFv7BGK+GguYJ2IRtXocaDKMkOmgM87bFnxgRuRJ2w5iUTgZ/LqG3V691Dcg7kKYguitiI7YNg9j/AIhNgHBBgQm0QaRhCnzd0QbzwjM4AXKdbCMkEgbRJ8TpLFFWuMee4FxyRC6drEw6h6p90RIHV6lBKkXU6kJMEYDhA2AnqIY1JMmiAGOMQ7hsyJzaW7jSy730CncQ3LWWlAAAAASAUnIOgQjlFEp4DnubgJg/tbuYOmTEXFxNOcqELj4CeBqhFjSEne5dkNf0HyO/HKL7MR4iIgEJqOnByxEWZge6HAsDAVQNFVBNMEuOISOA55p2/bI5jYGcwio9wQh5WCAhdCesDAShixaCaWeeQoMJnAnjkhex42AEAN3ubufDvHgNJOZkzNEOnQyAZUg8OCtcNrCbgjMYByTIBDP47YHGSCCKYM2D6yGo07JP8PTKy9Y5Qu0C5TuFgJjmQ2oQTMAPEyBYSO8+F9OGyAYoSlXAZAjdh5CXBTc9CxoIRkcooRzHLnFEhEHQAzCGRgGu1L97oxmYctiDpj2AJcRYwkmvVJ8FxecWQc3BEITBmbA0Ey0KIKgOWjFAinyWG0gY9EBiIXP4UAcaIkAFahLOXndNHotJofS5wlg7AHKldCfD/EZbpodBGIZPOBxlxUoZvQEuQ8pkxDzTAeRAGMhEw+JLWtauXPIhRuQlzYUHUoCh57gAOQbkScn9yZxMsZPpYzM+nDY5F+zGBYxRa61evcwzmaaxs83ojiUlMFJMY4qJHwT1QZw4KA8mCKRITwbAEOBJxW6eYZmDHdzK2wH1NBhj1zRAwAwTMLgWQfj0HFiSmJiGaFIqZ7ziFRZYvFYGInUosgqFCoMGgIYUGpRLJcRZT0Ag14C6HGLWXsQ5N2jBDU6hwCJDCbjSy7gPsAOmIGjz4en0Cn1kxGJaif3jHTAuKbECcQJwGJIlNAgmJ4AZnpHd3QB4BHLXL2fLsbxgiYWESp4Fd4AAtFHuTz7IBw0N1s4jIREiwNDsm7jyCcaYSMgE7C8gEICAYUPWKPgzcoE+MnBBg4xuhzRASRNEp8VHqJe5MJk0AToB5UBBIA4B7Q9ZDUadkn+HplZesZgTMgxNVjwsUBah1JFoksSmmOx2L9FuH2ugADgM9YL9f9r9f9r9f9oZmCcFxicAmtUl5maUEaIS4iYzKMo+2kI5PTMoHw1ihGg9IButHojwswEgCBmv0v2r3x/aoEyL7TnQlVFW2iiS8AhHHMwswkeKktEeLh7n4b1osXzqbLTB086Ry8mMftzQufNwLYGhuRHuBgGmCwFuSOHZnV4HMSroU9PNYy5HkoRLLOToOMQiPoUxocECBfmuufA7hNAnGFfrbFPzErIm+1T5VTkPtah9olGqhhhNk706AND1DxdGKq5zYG3QKd0dBNhEKgAf3JFGOCG4JicQd1cxJ5ICCbzFSYjJQeOEsc0cXCnPmIy1F/dh6IgfZmyZVEhsG0RwA8FUHqO8DhyQ2AjDEb3wyy5T1tGSG8JACSyZGuc/WQ1GnZJ/h6ZWXrZIkd5uAe5CIOxzEk7hDimKRAGoGdd4+jprFnBAKJdnKaac1JKEzPqfgZNHotJofTG9ITORAKo5ON3B4NmpeUmzetFR6wOA1Y5rTnhEyuwAmsNyJO9A4uM0SREUMhzQ5qhTIokzJz+Ch6WXcW0lkiLD7QKRlkY7xw4N6PQKd0Q8wuEMyS0UZN7BEGst3c+3I0jgExKs0RcA8gdTfbSXOlGN/gEDxsueplR3JRh8JCFYnZRtxbDAnu2Q7JkGAOGBuXf92vedbRIAJyDqbSZwiGHAn7KQJAkCAeOD8dxuMWq9iY/Yy522u2HApu88ELEgZnAzg12OAALEw1hyD1kNRp2Sf4emVl6xScKCFjMYhFDaSPEOZi7JxwxHQRJ9x8HkBS3Hm2BXQpBkXYT8HYDNcmpjFjIKfuMxqcTMU9LtoR0O47Caz4NBg33tDcFEKDksBwHNQJBQQgQG50ei0mh9Zl6I1uqyc7x39idKEyunR3htnenV691DHh47D5zAdkN+dffJBwAx6bH+wFsEYNLsAEsH4IoaUIIOQA9DJ9jTKrYputayIxDAYbQTIlLnB0/riMEycSDdaWXe8a/W5E9HQLg8LVBuJewHlNlPYXT54Gk8OjbjmHNEkg7HoOSDMHjYABhsIQcLl89VJdRYO2bkIlg/4qIKlcYu4Bh7yR+uEzxYUiESFPVFTzUXFg6KVFAmZtEzEPJmVwLMcfFWTIarBhJkIiNyIoZLwQbgjRMwEaGfDgsIFo4jCLHg8AiQIIQtpGdFaPFFAwImD4OglhiKMAZMJvwWMkQLgwAQQbjFQb7RssgBChxT8wQO2QsMBOAUdh2OZvMkUZ7YYBEtmIM7IUiKjJwMOAykuhUSbRsxAKkCkeI9O5u0MQHgYQE29iwga9GwdUCxhrQBB2Sf4emVluHxKQ9kwCBkOCCJJ2BBaPuHweQAEZeVE+hyLEGPXHM7DGXzEhzy5KqfogkC+zmZUAxKOc0MYJ5Gal0RDA0IwKBWsmAc1AEILHkGCAMYLSKJh1UU9iiTpkcozzbY012vc6PRaTQ+sy9AlkQMCVQcCmY3KGM89+++++++++++++++DaDnyYXgjrkndfc7Z3p1evdw8BeTEoOR7lzHTMx4hij4QCQXnglB/wAd2ADgBD+HT8AEWut8MWkCAiU6tBGuBUTHxjkLlFAEWgMVIksLCUnR2QnCazOalgE2+IDTLnk8U8bAFmKZbtrSy77ZWCZXHQB9g+++++++++++++++YQMGGamAdzyWfCS9z6kckxn0ExxeBmEKf7uwCpKK44kQDuwxwL4rhbjJCOHmH8hkdxWvUQhMxbP7p/cn/wCYIAHOnreABE9jkU6SMOhNUx4FDBjYMxP6owATEMINTYOw5wS5hTMosJidgKVE49UIiYHjwKCh3IeUSfwJQRiSACnjJKBYDuXRHaBIpsQjr2QRAlhudmR0aj07m7RanJamgqAcKAYjjv8A777777777777762If6awM0iWe2T/AA9MrL4H4PJrNVPZXBWYuBgjgIXYYmQFDjhdAzkJyDDgp+iCO3cUSRIJ5hgnhPWRR2hdtYu5E9EJr4ATmP34IcQDWIg7IMjGeBEBwybjQHA0zqhAJAQXJOCeb6WNTa7XudHotJofWZe4nenV693Dar3aggEOySYc4R44Qp0PD0EhyOyZ81m1xdwFCEzJziIcGUZOEQUDPcTCEnkaYIQHgjUADAZVhGJYMS8yZTRjWLFQYab0OBABoMeO7a0svw/y1e47gKELDYhDZY9UZ/rzVVk0/d1ISYZJ1qLgi6bjuBPUWJDvEkiJryZNRRhtuz8WCEjwgEcCA0oJYJlWA2wsxuHzBkYqwRxDAZwPxioVoALIPgfIo3FsiZMKOhwBkMDkI6aCJuS7GA2bqSjYWWzuziE0dAKIAMVcGN5qJhYoXZuA04ItHUnonO4XdzFWbuWmYpBqMisBHJizRn5EI5cRCRJkgiiM3gIoIAhK8cAMBcAUBDYAAeLGJ1PxkIfw4kAGDgEPTub7eT/DBEcsfAHKayMSoPsTnIs0YvUJNlaQLWobkDIpQCEkTBAftCIDAJpx/l7kN3fJ1eyUAJZAoliliYQEMLI5wtsJlyNj4QyQJhneY/dCxAzhHBEhzQnm/gEABuYPMJyp4rSRgwZPdzRDmMXZhIzTX/QQEti5w1BDmDgG+2GRQ0oiMKqNHBpRNLjuSBBkO+QF7Dwn1mXuJ3pJPhAOdCrwZ3MLkZl06lxTcGIBCGJaDNModQcQZi2EXOSD2IHOE27kz8GQK4thg4UxWmjDESjMJ2AiIDExxLmEOqkD7d+AluAROcCLywLHiHhBD/YKjgiKFQ46IY2ACUHZkao3dJaceJBJzQEMbSIXlHGCNvKlOzBE4DgmxnhBgOAkNZEwwhw8RucXoYZ/IfWJ6l5rB4s5lihwZwUMiEoA/H2Z5vt5P8M01wWIZB/GJ2gGRLTkkPz9+ZZZZZZZZZZZZZNQXK5AI48Ro3+IuAYlM8eZ6oNwOsRuMRxUw3LAzIXB4GHLckE65mLkhYHVhBJ2nNMCcaQzJziyn1mLcSEf2DmYqCAgFBYBwQphe9PKSAAAABAAIjKMww6opCcwJMPNkPjTBgh9/AichwWDAxg5jihFjYmAWcKEepLqOBuQMF9iGM3LuE7sUgcAWHQAePrMtyOHHuOb5toPkXuKb5toNlduKbtuZ3pF87AqFQQbz4+IPb4AMAZyGACMhCYCSNIxc/heU++Me77okAOSwCNpki0MDPx6Jvt5P8ObQLEDgokLkp1YLWnha08LWnha08LWnha08LWnha08LWnha08LWnha08LWnha88IXCEhAHAbgkBKdEsSBiWI0AQMwdnyOqBgua/wDC1/4Wv/C1/wCFr/wtf+Fr/wALX/ha/wDC1/4Wv/C1/wCFr/wtf+Fr/wALX/ha/wDC1/4Wv/C1/wCFr/wtf+Fr/wALX/ha/wDC1/4Wv/C1f4QuxoJcd49EGgBiAzMAGHf1QAAYBh6zLcACRAQxQz1uxyGZnu6AAAJBAJEBDFCenbschmZ7ugAAAJBAIBwQxQnp27HIZme7oAAACQ3E71DBExJCgegVhm2kHTpwE6EfBVzVmrmrNXNWauas1c1Zq5qzVzVmrmrNXNWauas1c1Zq5qzVzVmrmrNXNWauas1c1Zq5qzVzVmrmrNXNWauas1c1Zq5qzVzVmrmrNXNWauas0VnDwADuU+U7M/15BAWLAI/Rb2W/gJtCQJAdH8jNoCRILbD+Am0JAkB0fSOHAkSC2j7H+INoSBID5p9I1sCRILaPvH3jSEywIuEew2Stndz9i1IBHB9vNasIA4p9pF2wYlYmqCwCjYD0TdwecQAglJBo4QRUw1FjACfOOws4gBBKSDRwgmUTQLGAE+cdhLBACAlJBo4QTKJgFjACfOO4k/0BeRpgH+QUde91rXyta+VrXyta+VrXyta+VrXyta+VrXyta+VrXyta+VrXyta+VrXyta+VrXyta+VrXyta+VrXyta+VrXyta+VrXyta+VrXyta+UDCST4Mi5tyZe4nesqJ0xQ5FOpwG9l+MV+MV+MV+MV+MV+MV+MV+MV+MV+MV+MV+MV+MV+MV+MV+MV+MV+MV+MV+MV+MV+MV+MV+MV+MV+MV+MV+MVGOCj3INgWAGA9ntCAsDgQagiIUcYOERJqSYnY0ICwOBBqCIhRwg4ROakmJ2NCAsDgQagiIUcIOGI1JMTvcBo6DwTMDTMvJfpPpfpPpfpPpfpPpfpPpfpPpfpPpfpPpfpPpfpPpfpPpfpPpfpPpfpPpfpPpfpPpfpPpfpPpfpPpfpPpfpPpfpPpB0kB6ZJAKAwDAembuMegZJ4gMVIgo4bMegZJ4gMVIio4bMegZJ4gMVIio4biT/wcy9E7HTThcqcw62HotH6lo/UtH6lo/UtH6lo/UtH6lo/UtH6lo/UtH6lo/UtH6lo/UiVyEuZiGCHjZyHBG2d/V8328n/AIOZegaWJPJODEk6gEAAGAYDfg/SwAnBPiao+BlPHbO+U30OHYBUowR6WEOZTb9BBBBBBBBBBBBBBmJZsgZEHMZWh8NN2in/AAcAqSmFAmL/AGe/aaaaaaaaaaaaaaI9UhILGZ0yNDQ22yf+DmXuKp53ym+YASC3TklCbiwMAKewwMrZsRGRGCpwPRg/CzdssR4WeYe2KC9tmYFh7AAGBFNhsCC+idsn/g5l7iqed/C7Gl1LS6PhZu3S6+x0Sp2yf+DmW7q7y0d7PO/hdjS6lpdHws3bpdfWIPgLkYlhIQ3WqVO2T/wcy3VUuybCCvCI7TYoZeDIIeMjFHMwvRPQ4d28nnfN7EiGpEeCxkyhznkyBh5wxNXcaXUtLo+Fm7dLr6ngSXqAXJgod4eugBrYDJEABI7nVKnbJ/4OZbmr8rAOpfYcuH6uaayHpO6lBC6WyT2KAoouw3jUtGyI1iZhAEtAs5nZMVrVAEh2bczzvmth6UEGXdVkOMgUgC7lhQwUNHKhdLkaB26DFFZQEHnWCcNw0upaXR8LN26XX1ElChBp8hoCEggmyAghfo0BudUqdsn/AIOZbmqNEblFDY8AI642niYmUVQ/Hqhi2AH4EEOk4tBIblGpgQ6n70NwJi85YlCsd4JjUGI3M875vYLGBFWOfAgoIHLloniXTrphDmWQKd2sTVJvuyYWrBwaAOcQ5lT1aXUtLo+Fm7dLr6SVJFF4kuAnwQ0GFCCJcEk1d0GSFoColWHJZhHlT1FMSxPE2AUPL1DKCO3VFGmisgAOTxPT1apU7ZP/AAcy3lT8TPo4EQgoIcBIIMObF0BDwKZA0MO6nnfN7EK57sFKbkNh+ocsxieDHmhpRQwSITiRAAI0yyZKwFGL+rS6lpdHws3bpdfRNYBYHJyUjR3kRiYJldmcjMRgjQ7kUAmAiE6WCuJNFQCKJBVcuEH2IaYqgc8QE8kiB6tRgfP1apU7ZP8Awcy3tQoBulEWAHZnbdTzvndgv8zChMMcRxQR1+lQ5iz6gjEId4CUHGT1NLqWl0fCzdul13IfSnABwG4IbJUa/CZAXE4ldJJIG9WqVO2T/wAHMvQLYSTJiFSGj/nsTcQKFABxAENs7+F2NLqWl0fCzdul13JkESYIQabDgCAevVKnbJ/4OZegIKaIvVACahl1Vjv444444444444443MxKhGhaYQuEttc75TkM1FdmXZAUc8XACYPsCGJtKIxuEML5LoHgAN8LN2k1ZTZo7mAI1D2I/xjRCQBu7ttk/8AH8Z+VjSM51eYDf1q1atWrVq1atWrVqzszihWNDTgcwmJ2iJb4ObtGmBg4FBWlk5a6Q37DDDDDDDDDDDDDBAfyQZ82TgSTu5ribZf/CGC/thFQj+ICJ/0RIrKtq2ratq2ratq2ratq2ratq2ratq2rKGUh5vkx2FHMVtW1bVtW1bVtW1bVtW1bVtW1bVtW1bVn4dY0CmNExomNExomNExomNExomNExomNExomNExomNExomNExogTArH/wDF+//aAAwDAQACAAMAAAAQ88888888888888888888888888888888888888888888888888888888888888888888888888888888888888888888888888888888888888888888888888888888888888888888888888888888888888888888888888888888888888888888888888888888888888888888888888888888888888888888888888888888888888888888888888888888888888888888888888888888888888888888888888888888888888888888888888888888888888888888888888888888888888888888888888888888888888888888888888888888888888888888888888888888888888888888888888888888888888888888888888888888888888888888888888888888888888888888888888888888888888888888888888888888888888888888888888888888888888888888888888888888888888888888888888888888888888888888888888888888888888888888888888888888888888888888888888888888888888888888888888888888888888888888888888888888888888888888888888888888888888888888888888888888888888888888888888888888888888888888888888888888888888888888888888888888888888888888888888888888888888888888888888888888888888888888888888888888888888888888888888888888888888888888888888888888888888888888888888888888888888888888888888888888888888888888888888888888888888www0oI888888888888888gA84w0888888888888888888888888888888888888888888888888888888888888888888888888888888888888888888888888888888888888888w00kkMSgwwwwwwwwwwwww7288888888888MMMYw0w88888888888888888888888888888888888888888888888888888888888888888888888888888888888888888888888888844wo8M88887ICHBCCNCCCCCCCCSZ88888888888888888c8o8w888888888888888888888888888888888888888888888888888888888888888888888888888888888888888888884sUcc88888888oCCV6YtgRFx0eyqCC+40w0888888888888888888MMc4888888888888888888888888888888888888888888888888888888888888888888888888888888888888884Ms888888888888oCCaRNOVq5fwkNSCC+wko0888888888888888888888sMw4088888888888888888888888888888888888888888888888888888888888888888888888888888840Mc88888888888888s8CCCCCCCCCCCCCCCC8MMc8888888888888848888888888sM08888888888888888888888888888888888888888888888888884880888888888888888888884o888888888888888888oICCCCWKiEJNMpCCCC+8A8888888s88888888c88888888888884488888888888888888888888888888888888888888888888sswcYkUI8888888888888884os88888888888888888840oCCCCCGGGZiBhCCCCy8s808k084888888888888888888888888s488888888888888888888888888888888888888888888888s88c8U808888888888888w088888888888888888888s8/pPPPPPP/fvfPPPPNP8APAJGKHPKBPPPDHPPPONPPPPPPPPPPPPPPPLHPPPPPPPPPPPPPPPPPPPPPPPPPPPPPPPPPPPPPPPPPPPPIIOEFLDDHPPPPPPPPPPPPMDPPPPPPPPPPPPPPPPPPPPPKPPLwAAAAAAAAAAAAABdfLHPGBPPPPPPPLPPPPPPPPPPPPPPPPPPPPPPPGPPPPPPPPPPPPPPPPPPPPPPPPPPPPPPPPPPPPPPPPPPPPPPPPPPPPPPPPPPPPPPPLPPPPPPPPPPPPPPPPPPPPPPPAPPYgghzSggggghwwgkgfIPPPPPPPKPPPPPPPOFBPPPPPPPPPPPPPPPPPLNPPPPPPPPPPPPPPPPPPPPPPPPPPPPPPPPPPPPPPPPPPPPPPPPPPPPPPPPPPPPPPGPPPPPPPPPPPPPPPPPPPPPPPNPKAgggpppQVLXRqQggvvGPPPPPPPPPPPPPPPPPPPPPPPPPPPPPPPPPPPPHPPPPPPPPPPPPPPPPPPPPPPPPPPPPPPPPPPPPPPPPPPPPPPPPPPPPPPNffffffbZ/fffffffPPPPPPPPPPPPPPPLOKAggg0kWhUrtzYgggvpPPPPPPPPPPPPPPPPPPOOHPPPPPPPPOHPPKNPPLPPPPPPPPPPPPPPPPPPPPPPPPPPPPPPPPPPPPPPPPPIPPPPPPPLPPPLwgQQShASggQQQQQQ1/PPPPNPPPPPPONOFPKAgggggggghghggggvHPPPPPPPPPPPPPPPPPPPPPPPPPPPPPPPPPPPPPPPPPPPPPPPPPPPPPPPPPPPPPPPPPPPPPPPPPPPPPPPPPPPPPPPPPPPKgQQQVWGMciiywQQQV/PPPLPPPPPPPPHLEPKAggghq0ghOwqQgggvvPPPPPPPPPPPPPPPPPPPPPKJMHIHNPPONPNPPPPPPPPPPPPPPPPPPPPPPPPPPPPPPPPPPPPPPPPPPPPPPPPPNPPPPPPPKgQQQWqu6kqdiAQQQV/PPPPPPPPPPPPOIPPKAggggnjSISsoQgggvvPPPPPPPPPPPPPPPPPPLJPPNOHIHNPPPHOPPPPJFPPPPPPPPPPPOAMMMMMMMMMMMMMAPPPPPPPPPPPPPPPPPMPPPPPPLMgQQQQQQQQQQQQQQQV/PPLFPPPCPPPPOLPPPRAQQQQQQQQQQQQQRbPPPPPPPPPPPPPPPPPPPPLPPPPPPPPPPPPPPPPLPLPPPPPPPPPPOKAAAAAAAAAAAAAAANPPPPPPPPPPPPPPPPDPPPPPPPKgQQQZTgx1IUogQQQV/PPPPPPPDPPPPPLPPPPzjjjjjjjjjjjjjmd/PPPPPPPPPPPPPPPPPPLONPPPPPPPPPHPPONPPPPPPONPPPPPPKAAAAAAAAAAAAAAAAAPPPPPPPPPPPPOPPPPPPPPNPPKgQQQW7EuaWkyQQQQV/PPPLMMMMMMMMPPDPLagQQQhAATAQQQQQQXPPPPPPPPPPNPPPPPPOPPPPPPPKPPPPPPPPPPPPPPPPPPPPPPPPKAAC/vvvvvvvvvvgCwPPPPPPPPPPPPCPPPPPPPFPPPLqwggo0A40EIkgggiXPPPPPDDDDDDDHPPHPKwQQQQTZ1+YVCQQQQQvPPPPPPPPPPPPPPPPPMHPPPPPPPPPPPPPPPPPPPPPPPPPPPPPPKAAAQQQQQQQQQQQQagPPPPPPPPPPPPPPPPPPPPPPPPPL/wD/AP8A/wD/AP8A/wD/AP8A/wD/AO88888888888888888YnBBBBBw2io8OoBBBBC888888884888888888A888888c888888888888888888888888oADBBT7HOvPAEJBBrA8888888888888888888888888888888888888888888888888888888888srBBBBBBBBBBBBBBBBC888888884U888Ik888A8888ks8888888888888888888888888oADBBB+imcnqkvBBrA88888888888888888888888888888888888888888888888888888888888rBBBBCE+FAbJmBBBBC888888888888848888A888gM88888888888888888888888888oADBBCiSiSCSBSBBrA88888888888888888888888888888888888888888888888888888888888uBBBBO+/gwkqVBBBBE888888888s4wwwwww0Q8888888888888888888888888888888oADBBEGBBBpFpBBBrA88888888888888888888888888888888888888888888888888888888888rqACCCCCCBDCCCCCNU8888888888MMMMMMMY8M888888888888888888888888888888oADBBtYBIILAHABBrA8888888888888888888888888888888888888888888888888888888888888//wD/AP8A/wD6Hu89/wD9zzzzzzzzzzzzzzzzzxCzzzzzzzzzzzzzzzzzzzzzzzzzzzzzzzzygAMEENOMLNKHCIEGUDzzzzzzzzzzzzzzzzzzzzzzzzzzzzzzzzzzzzzzzzzzzzzzzzzzzzzzzzzzzzzzzzzzzzzzzwzzzzygRRTzzzzzzxQxyzzzzzzzzzzzzzzzzzzzzzzzzzzzzzzzzzzzygDgQAAAAAAAAAAA1ADzzzzzzzzzzzzzzTzjzzjzzTzjzzjzzTzzTzjzzTzzTzjzzTzzTTzjzzjzzTzjzzjzzTzzTzjzzTzzTzjzzTzzTzjzzTzzTzjzzzzzTzjzzzzzTzjzzjzzTzjzzjzzzygADMIIIIIIIIIILAADzzzzzzzzzzzywzywzywywxyxzyxywxywxyxzwxywxwxzwzzwxwwzwzzwzwwywwywzywzywywxyxzyxywxyxzyxzwxwwxwxzwzzwzwwzwzzwzwwywzzwzywywxywxzzygAAAAAAAAAAAAAAAADzzzzzzzzzzzzzzzzzzzzzzzzzzzzzzzzzzzzzzzzzzzzzzzzzzzzzzzzzzzzzzzzzzzwDzzzzzzzzzzzwyhxTTzzzzzzzTjzzzzzzzzzzzzzzzzzzzzzzzzzzzzzzzygBYEEEEEEEEEEFUkADzzzzzzzzzzzzzzzzzzzzzzzzzzzzzzzzzzzzzzzzzzzzzzzzzzzzzzzjDCQwxwxzzzzzzzzzzzzzzzzzzzzzzzzzzzzzxyzzzzyzzDDDTzzzzzzzzzzzzzzzzzzzzzyhegIIIIIIIIIIIIaMDzzzzzzzzzzzzzTDDTTzTzzTTzzzzzzzzzzzzzzzzzzzzzzzzzzTTxzwzzzzzzzwBRTzzzzzzzzzzzzzzzzzzzzzzzzzzzzzzzzzzzzzxwwwyTDDDzzzzzzzzzzzzzzygIAIIPQsccc8cIIKgDzzzzzzzzzzzzyRyyxTyxRCyDzzzzzzzzzzzzzzzzzzzzzzTyQzzzzzzzzzzzzzwQyTzzzzzzzzzzzzzzzzzzzzzzzzzzzzzzzzzzzzzzzzzzzyzwwDjzzzzzzzzzzzygIAIIR+3U5JWEIIKgDzzzzzzzzzzzzRxTSjDyxzDzzzzzzzzzzzzzzzzzzzzzTgzgCjDDDDDDDwAjimrb777z/T777777PzzzzzzjDDDDDDDDDTzzzzzzzzzzzzzzzzzzTzyzzTzzzjzzzzzygIAILEOEGCDHEIIKgDzzzzzzzzzzzywhBTixjjxyCTzzzzzzzzzzzzzzzzjhTzwgAAAAAAAAADTzylMAAAAAAIAAAAAACf7zzzwAAAAAAAAAABDzzzzzzzzzzzzzzzzxgAAAAAAAAACDzzzzygIAIcwAsIgIgIIIKgDzzzzzzzzzzzzzzzzzzzzzzzzzzzzzzzzzzzzzzjCzzzygBRzzzzzzyyBTzzwIJV0Ff8gYgYE00IJbzzzwBTzzzzzzzwxDzzzzzzzzzzzzzzzzwBCwwwwwwxyhDzzzzygIAIIWk5zJVq4oIKgDzzzzzzzzzzzzzzzzzzzzzzzzzzzzzzzzzzzzTyzzzzzygBTzzzzzzzwBTzzwII6Yb4rbbV0pZIIJbzzzwBTzzzzzzzzwDzzzzzzzzzzzzzzzzwADzzzTzzzygDzzzzygYAINLPbJGeIqMIKgDzzzzzzzzzzzzzzzzzzzzzzzzzzzzzzzzzzjyTzzzzzzygBTzzgTTzzwBTzzwIIIJIJIJIIJJIIIJbzzzwBTzzyTTzzzwDzzzzzzzzzzzzzzzzwADzzwzzzzygDzzzzygW0IIIIIIIIIIIJuoDzzzzzzzzzzzzzzzzzzzzzzzzzzzzzzzzzhRzzzzzzzzygBTzzyjjzzwBTzyQIIILY9oIaoaIIIIJbzzzwBTzzyhhzzzwDzzzzzzzzzzzzzzzzwADzxxxDzzygDzzzzzwDCMMMMMMMMMMMPAADzzzzzzzzzzzzzzzzzzzzzzzzzzzzzzzzyhzzzzzzzzzygBTzzzzzzzwhTzDwIIIJKRBn2XEEIIIJbzzzwBDzzzzzzzzADzzzzzzzzzzzzzzzzwADzzzwzzzygDzzzzzwgAAAAAAAAAAAAAAxzzzzzzzzzzzzzzzzzzzzzzzzzzzzzzzzyzzzzzzzzzzzygBAQwwwwwxyBTxTgIIIIHEDKAIIAIIIB/wA888AQMMMMMMMMgA88888888888888888AQ8888888sAA88888888MMMMMMMMMMMMM88888888888888888888888888+4xxxxxxjRxxxxxx6888oAE88888888oU888hzzzzzzzzzzzzzzRc8888AA08888888sA884wwwwwwwwwww488AAoAAAAAAAgA88888888888888888888888888888888888s8888888o888TiBBBOBBKKBBBBBBRU88oAU88888888oU8UiACCHLCCCCCCDCCCQX8888AA888888888A8s/88880888888/e8AQ88888888sA88888888888888888888888888888888888888888888888XBBBBIK+JKLMABBBWW88oAU888g0888oU4cVCCCC+EFNEPJCrCCCW8888AA888gk8888A8o888sAAgI4U888U8AA888c88888A88888888888888888888888888888888888888800888888XBBBBZccuEcPBBBBWW88gAU888g0U88oU08VCCCEwxAG+qfkrCCCW8880AA888oYU888A4o8888csMsA0888U0AA880cAU888A888888888888888888888888888888888888888sU888880/BBBBBBBBBBRBBBBWX8osAU8888Y088oE8oHCCCCCCCCCCCCCCCC0888ogA8888sU888A844w08888884888U8gA8888w0888A888888888888888888888888888888888888888s8888888XBBBBBSjIfuHjBBBWW88oAE08888888AU88VCCCC2YpOVhQhCCCCW8888AA08888888QA8o4QEEMUIc8UEcMU8AE4wwwwwww4A88888888888888888888888888888888888w88888888088bBBBBZDrbE7LJBBBSe88oAAAAAAAAAAAU88ZCCCCK6K1RtRJCCCCW8888AAAAAAAAAAAA8ossc88YsMcccsMU8AAAAAAAAAAAA88888888888888888888888888888888888soAAAAAAA888OMDDDxRRxBRxDDDHPV88oAAAAkQIEAAAU88YFPPPPPPPPPPPPPPBd8888AAAAAAAEAAAA87188888888888qd8AAAAIEIMAAAA888888888888888888888888888888888888888888888888u+++++++++++++s/888oAEAAAAAAAEAU888tOOOOOOOOOOOOOOf8APPPPAAAAMEIEAAAAPPLTDDDDDDDDDDDfPAAAAMEIMAAAAPPPPPPPPPPPPPPPPPPPPPPPPPPPPPPPPPPPPPPPPPPPPPPPPPPPPPPPPPPPPPPPPPPPKAFHPPPPPPPIFPPPPPPPPPPPPPPPPPPPPPPPPABBDDDDDDDCAPPPPPPPPPPPPPPPPPAAHPPPPPPPCAPPPPPPPPPPPPPPPPPPPPPPPPPPPPPPPPPPPPPPPPPPPPPPPPPPPPPPPPPPPPPPPPPPPKAFPPPPPPPPAFPPPPPPPPPPPPPPPPPPPPPPPPAFPPPPPPPPPAPPPPPPPPPPPPPPPPPAAPPPPPPPPKAPPPPPPPPPPPPPPPPPPPPPPPPPPPPPPPPPPPPPPPPPPPPPPPPPPPPPPPPPPPPPPPPPPPKAFPPPBNPPPAFPPPPPPPPPPPPPPPPPPPPPPPPAFPPPPPPPPPAPPPPPPPPPPPPPPPPPAAPPPOPPPPKAPPPPPPPPPPPPPPPPPPPPPPPPPPPPPPPPPPPPPPPPPPPPPPPPPPPPPPPPPPPPPPPPPPPKAFPPLPEPPPAFPPPPPPPPPPPPPPPPPPPPPPPPAFPPPBFFPPPAPPPPPPPPPPPPPPPPPAAPOOJJPPPKAPPPPPPPPPPPPPPPPPPPPPPPPPPPPPPPPPPPPPPPPPPPPPPPPPPPPPPPPPPPPPPPPPPPKAFPPPPLPPPAFPPPPPPPPPPPPPPPPPPPPPPPPAFPPPPHPPPPAPPPPPPPPPPPPPPPPPAAPPPPNHPPKAPPPPPPPPPPPPPPPPPPPPPPPPPPPPPPPPPPPPPPPPPPPPPPPPPPPPPPPPPPPPPPPPPPPLCEEMMMMMMIAEPPPPPPPPPPPPPPPPPPPPPPPPCEEMMMMMMNIBPPPPPPPPPPPPPPPPPCAPPPPPPPPABPPPPPPPPPPPPPPPPPPPPPPPPPPPPPPPPPPPPPPPPPPPPPPPPPPPPPPPPPPPPPPPPPPPPDDDDDDDDDDDLPPPPPPPPPPPPPPPPPPPPPPPPGDDDDDDDDDCBPPPPPPPPPPPPPPPPPKCAAAAAAAABDPPPPPPPPPPPPPPPPPPPPPPPPPPPPPPPPPPPPPPPPPPPPPPPPPPPPPPPPPPPPPPPPPPPPPPPPPPPPPPPPPPPPPPPPPPPPPPPPPPPPPPPPPPPPPPPPPPPPPPPPPPPPPPPPPPPPPPPPPPPPPPPPPPPPPPPPPPPPPPPPPPPPPPPPPPPPPPPPPPPPPPPPPPPPPPPPPPPPPPPPPPPPPPPPPPPPPPPPPPPPPPPPPPPPPPPPPPPPPPPPPPPPPPPPPPPPPPPPPPPPPPPPPPPPPPPPPPPPPPPPPPPPPPPPPPPPPPPPPPPPPPPPPPPPPPPPPPPPPPPP/8QAKBEAAwABAwMEAwEBAQEAAAAAAAERMSFRYRAgQUBQYHEwcIGxoYCg/9oACAEDAQE/EP8A4vkaCNiNiNiNiNiNiNiNiNiNiNiNiNiNhJ5E7+gKDEp0SbGmusf4njn6EpaLUSpEmhqtjQaWEQgm5loNaX9DMyTomsMTWGaJlVNPA8g9hVUVapiaTHPH/hliyEjGkgk2RjWiKH+ijJqJ6a+B0NWND1sJEqNO0a/QpghsZUVFRUVFRBBBBUVFRUQMWr/QKMZJEiRIkSJEiRIkSJEhIvAmmqv0A0YSnZX4Gp2PGX6FmtaPV6EQiwmgqElKyLLM/kS1sPqz6s+rPqz6s+rPqz6s+rPqz6s+rPqz6sjD9RPVUVJ1D2GA1IKtBU1GMm9PkLbiXkWsXZS9G4XvQkYjZt4/QEP/ALdw8IV4GTSY3gVlIygne1+nLITXQ0dCGDofyIv/ALdqtqIQk6GySSGnDE0BdKJRTtfpyyE9Neh6xlTphIe9+Rn/AG/HFvc/RCVQaehkEEEEEEEEEEEEEHAatX8df/btdrBEo7dpA2kPaJGO9e1+jNTiUgQIECBAgQIECBAgQG9QE7qvjr/7duSEdHlCpyWai6OCp1Hn2v0QzWgXJdj0E08FVnSqz8DqTHusBNy4cxzHMcxzHMcxzHMcxzD1mRCVeqVtVZQu1cZynKcpzo5TnRzov5Rzo50c6OU5TlF2RHq3l+iw7tRowpVVPIvUPVEM2te3/P3Va7ePzJh8+raPJwHAcBwHAcBwHAcBwHAcBwHAJFhejw/AMAk9RpQadqFfPb/n7rn1Uk3TVatkMSMTWupA2lkqyNW64Pr33D0P+fuufYPAorE9GvRpBUmpopsMr64Pr33Dtx0KKjttRoNpDaiDJ2/5+659UIQhERE6Trg+vfcO5X0ZkE4mmRw2Zbgyek1Mnb/n7rn1OHGNwgvWC9IL2YPr31IgpIeQ5DkOQ5DkOQ5jkOQ5DkOQ5BrxqKtvI/dc+pa4J6ENLHUk0ZNCcQRpiuI6fXB9e/xERERERERdIREREREXu+fVNaaMCRKCD1UmQUClQSnXB9foNNsPIgqZG5G5G5G5G5G5G5G5G5G5G4v1Ym2P+hGzwcRxHEcRxHEcRxHEcRxCVhf+FWWDkOQ5DkOQ5DkOQ5DkOQ5Bi0/QZ4zFj8r1GqfoLOLqkpRzx1n6J84uqCdaE6Fh0TirPAm2y34E2iycxzHMcxzHMJHhnMcxzHMcxzHMJHj3XOLrWYK8jbZQm0VlfwHg0JuRERERERERERERERERERCDX3TOLq00JN9Ur0SvwL8exE6EqakY9dCiiihKkdg011zfumcXV6qGjQS0pqkFNRJJakVwS0+A/j18x6BJtaCoTRoVqostDTwyaiXQLyivPXN+6ZhdcqKNRPwcCNhaIxQJpfAfx9Dm/dGqoY0f5XsiCe++PbTpDq1OiTtzfuqMiNyNyNyNyNyNyNyNyNyNyNyNxOHv3j2tBjVDYYVMtDdR4dub/QC1VCd7E4XwN0oTaGw2Y3exuCxV/HcEPB9WfVn1Z9WfVn1Z9WfVn1Z9WfVn1Z9WfViXp6Rneh/R/R/R/R/R/R/R/R/R/R/R/R/R/Rqa+k4FbFbFbFbFbFbFbFbFbFbFbC9+aiwhKdlXW+C96OYaq+ifC7Z357X0nosBKfkaqg1Xvub67Zg0NvwadX0pI2V3AqonV2PBj9Fi7MjDbeBK9HkQwGi8iRj7M36Lw+Fs312o4Y1VCN0I9RTTQ3kJ2ngx+ixdmRF4FFoOLBkiqja11GWhVaPszfovD4WyfX40i7Xgweixeh8/ReHwtm+u1suA8Wg2lYkYySG0NjdVRgux4MfosXbLyTWGehQkJqSamXbm/ReHwtm+u1qmhNtVjxHqkE8pl0TNI4Yux4MfosXasDVD0aFpRLoPI01kz7c36Lw+Fq5RhWnOjnRzo5EciOREPKORHIjkRyo50c6OdC2srEinomNVEFRUVFRUVFRUVFRUVFRUXYg19ElQkf5HAkXvzZ4OI4jiOI4jiOI4jiOI4jiOI4hJLHpGk8kbEbEbEbEbEbEbEbEbEbEbEbEbEbCSWPSNHk4jiOI4jiOI4jiOI4jiEksf/KL/AP/EAC0RAAIBAwIEBQUBAQEBAAAAAAABESExYXGRIEFRoRBAULHwMHCBwdFgoIDx/9oACAECAQE/EP8Ai+VzZZNA0DQNA0DQNA0DQNA0DQNA0B8hpjTTh/YBakx7T4NpCafjK+kkPPb7AWeAdSgbgk0xOEhMJoliqJVMCyoqo8fc/X2As+KtqENO6GndFWiUIU8xWGLqIcMh0aGm0Kefj7n6+wFnyPvfYCzw2UGlDNhoiUNLEBcL3P19gLPC9BqtOYminEpipEictAmmoE+H7n6+wDVIPrqMZjMZjMZjMZjMZjMZjMZjE/kKcWl9gYUnB8KnwqfCp8KnwqfCp8KnwqfCp8KnwqfCp8KnwqN6FMY0P7AJQmMaXwQ6/QTngpGvb7AWeFNUC5hKSUSTUbIbTCJbcIs4Pc/X+eTlLosmhuaG5obmhuaG5obmhuaW5obmhuaG5obmhuaG44pVdPJ2eFUQyG1DF1FxAigQ6iGnKFaVeD3P1/nYytJJLHgTOw01fwTOyJRPHPmGKQ8nfn5Kz5Fe7/O+xwvSJtI/ASqE0SOcdGKtL8CSZOGQcLFoq8PuvfyVnhtHpUqqGIFwgLhe5+v877HDIwahiJm4aE5HEoZGlUepdehaOzJh8PuvfyVnhsHVTmIKkpkOAqtnRAuF736/zvsfT0ji917+ScpCFW0wmEwmEwmEwmEwmEwmEwmEg6BULC/zvscMmkJZyHSFOYGWEdCiggloVKhcuH3Xv5NokBMmL3MXuYvcxe5i9zF7mL3MXuYvcxe5i9zF7mL3MXuIyFtjGh/532OFHIvlRDgu6CRX0RDUuX6KnMSawhWGUIWmjh917+SU1mw487gSbcItoalLt4NUlvoMuJU9VrG3CV2N4Sb7GTuZO5k7mTuZO5k7mTuZO5k7mTuZO4+irdh7w/NKNqx0Y9opXVGRszI2ZkbMSbNszI2Y23bZlGJbMSrNsxuu2zG+7bMb7tszI2ZkbMyNmNYoXV0GRK2qeSuaPioVvZly6ByGuXccQnqVJU5P4RhpXD82nqr1XOr/AF9ZtS7R+PN2B/XkkkkkkkuT8nc0fFUL5InDljY2rUbk5jqZNWh2fRw/Np6rZo8YcG0QqhruhBLQ1CDWpaLAhOcJEoiH49967c0fkfm09Vs0eNkSZmjMDIo5jT+Mil6TExizApVcBCRePfeu3NHwslUqFJc7CIAmRka0EQNCb6FTteH5tPVbNHim1YlzI22SZkMgmVmJtVQ2d/HvvXbmj4Ubb0Ykqd0I9wXkqn4EkKuyJr5MkHYxO9w/Np6rZo8XOR2GNCJlXgilCvw47711qkGurp8uaPhg+GD4YPhg+GD4YPhg5XuX9E//AOD4YPhg+GD4YPhgddEOrICyu/qtmjx/LF+ye0/H5FziLsQ1IXMUxvkhEhV0grMBzKfHvvX5ZLJZLJZLJfhLJZLJZLJZPq1rY8Vyg2cJ8jrAMctKGxqkUodCOmQ2Y2lUfBdPHvv19g010Jb+DKGIxGIxGIxGIxGIxGIxDSAgq0XfV/YRJCZnM5nM5nM5nM5nM5nEUN/+FVnY+rAAAElm7p9g1ITJh/VaUoUyPsFbHfxbcwKefhJPHd+wVsd/FoNQw0lIdGoGpcI5wNJCEqOC769ZEZBkGQZBkGQNV0ZBkGQZBkGQZBdF6rbHfxhMjUkKIEkiA0ZCxCvwXfXVVrIb2VEZjMZjMZjMZjMZjMZjMZjMJXqKmsfqlsd/FIxovFuPBuOG767bo8eUlqA2kQKUKFUhEiRkCI2kSokTT8fceqWx38VRyVVG6wSUyOaDbbaRKFJUjgu+u26PGNBVYG0qiFg1UxxDgdjE7kSoExUPk+RCZXj7j1S2O/jZDHJQOVTIl1G0ymOQ2fBd9dfs8j7j1SIQm6T+rpCJb11bo+kA0+DTw+49VvgwLYwLYwLYwLYwLYwLYwLYwLYwLYwLYwLYwLYuz163RwpMCYok6iZcMsmJQzn4fcfYBSg+YxofA1JFZFAgNGQEiEo4GNCFSk5f51JtwhquS1ZHo3I9G5Ho3I9G5Ho3I9G5pbkejcj0bkejcj0bkejcj0bkejcUy7eTSkVEMvyaxrGsaxrGsaxrGsaxrGsaxrEyqX48omiXQj0d/wCEejv/AAj0d/4R6O/8I9Hf+Eejv/CPR3/hHo7/AMI9Hf8AhHo7/wAI9Hf+DaJVfXntvHCwNtuXwJnIajwlExQaavxrC5ron/JFhPpG54J45jgTacoVKTn5JFMvkNtuX9RjShEqPXe+fDYsFaBI20dUTP5j5ROZHA2nYSqHMipNpPgtF/yXdcFrHDSSuNwK85CRVCZ8hpCtwe48lzafWuWi9vXe+fCgw6siAnyMVyrI1E5hCEtpIGnlbhtF/wAl3XBYShdRy6il3LWhJxkScpwI6yQ6BW4PceS5tPrXLRe3rvffTvvDaL/qqHNp9a5aL29d758MjSqLrWFSQIJaHNpxQqkg9KQVJ0uC0X/Jd1wzVh0SW1IDfIejE06FvD7jyXNp9a5aL29d77hcmR/oRI5jksnkVo/DGtvZQbNqlUtRc4LRf8l3XC7oSHHIqTQ6wJio5MUOqLeH3HkubT61y0Xt662buOa1HsN/cy9mZezMvZnIlsxL59mN932Y2XbZiRZtmVpnsypM9mN932Zl7My9mZezFBEJbsc5vJKZ2GPlVMZjMZjMZjMZjMZjMZjMZjE96EKpWXklJ1sN+oboKwvXkuiZkGQZBkGQZBkGQZBkGQZBkGQNqm/KJFmZTKZTKZTKZTKZTKZTKZTKNnd+UsjM5nM5nM5nM5nM5nM5dH/yi//EAC4QAQABAwIEBQUBAQEBAQEAAAERACExQVFhccHwEDCBkaEgQFCx8dFgcOGgwP/aAAgBAQABPxD/APgRZC25tvu1JgbI9gE0gkN2r0sRzaQ9xXtvvXuK3m4RH3dZ4rjroxWhXT9ASre5yXtrc1wau9jg3v4D4fvXfsrsbHFWo5o/um0OVSTO5GkuVyFIMPmqQYPM03hzqaDkz+qdiY4q/au/Z4a8ZMdpPU6nfr/r++2tD2onwyrPDM9NCtt2egCvfzYvZV7lLN7Okgku3Koy4cIH0BqOv+Lz7UJCTCMj/wC5xZHS+8tRrJRL6h+K23ozeSfsrElsg/Mke1YgljmgsV5TW9Ghd3+bBypozcwbkprIVc9In3r3dXrnSgLP3j1CoTC90U0CAhiy+xQAAABgPvhUEc3f3Km1Z/8ATXVPXXvRUwa7yD5Ky1jHuUST1rap/o7Jrbxi4851ox4n3PWrHPZ9kBTCi8BzQP1QtGtP52sqSCOAVAgNbj+zP/saQSyMvVYqLaUY85HxSA+YEC7Ea4J+hjiyvpWvXk5AZXnWY+yj2WFZc/2inrW+E+ZAZvap5gwp7yfmuGXofY/JrStCEjRsoyVPdo2zWSluAqzoHAzwQyOE1nAGORSw+sVlGcnLLA86xgPUTkX7Vo2YRcnSelBJqhfLZQfNDh6SP7Q/+rIRAAlXSoVlRe4z8KJFmL9dpNcf9gMIfFrlTox453las4Z+PUGzhQ4r1e5kF7VNsJA+u4+9AAAQAQH0ErYRsDi7i6EK7ReiZt0tCiT8xRXc3Su5uldzdK7m6V3N0rubpXc3Su5uldzdK7m6V3N0rubpXc3Su5uldzdK7m6V3N0rubpXc3Su5uldzdK7m6V3N0rubpXc3Su5uldzdK7m6ViqXJM/pTFpole8jMR6lXr/AAfw+fcdFPvkSQQhnwaXT/Ik7cCfFaZubLmLPvWlJp1wVVzrnQjE3APtWhN1hd/QoXJMCZbKD5r+wSCSf+mIYz0nqPwpzMEJZcbA4xWFjjJ8UDlVk/4Riz9qAODKFeFgcJqWY5Q+m/KiRlAIA4Hkji6X0GyTUAhqQ1oxtkCqbm5LMGwX1I++i6SSDk0xK0eV84iQRwzTAPAw0icxPwbkYkf5hqBYfAKQPas4TCcCAgVOTZT03WEZ8qCkD3qPYsMjsgoIOGGv1Sf+hBcOSycVsVLmng5yIPNKxdOLOwmjlC1yEYM2WXiq5qbF5ReygzwKR9hmiZgQAQB50tkE0Uq9P2oS5FaID2PoKZtm4AlgLrwL1EPu4luFKGEtxGe7GmzRs5XAuuDD9DYlqFeTokSTYYkuWuXvQa4ZjBIAURhhFGHUT7Mwiu6iD+FSrrubKfiBYSkfCgadaE8nQU0ycZCnZUH0K/1cqUbLwFPHjKYvoDjBRMCsW85w9T/zoywJRgDelxEwU3AYPOK5CO32kuSRrPyYbmy8rjKlNJA2eDiODNWUXDL8yBfX7kOUiRsugIekveiwRvTGVEoyJCUX22MiNjEiGdka+CYBQ2ZkkJeBUfNiFDiBn1FYcQ1rLLqEQ0mih62sUkzYIi5FIkcZEkBgBYJ1UekgYXDPwml0SHAGVXBUfM5s8c8NxYo8OLBhZhLSNk0pdCz82xn5RQHsHmMIWTiVNhmaxis5wL6U1OJRhuC29zwg2WEt4jPop79w1e0jDwafdwcAuquCgosI8jAlizoX+r4P43kiTlAJE2SnriSyfdVLzmsAPsI4EHq16B2FqjJwFIR7JfcNBxgKETIl5XF9wP8AzOVNkpPkLK4E0l+vQIQBxhKnR3Wzfl8VOUEyy4k9FAAsQ+kJ9xfvg/5cLK/tTgMk2UkTI0jp/EHCoblhUMSQXmcgp2AloX+GnATWWptOHVITBh0ECkhy3MItAW0oY2hGS5OTRNpxCLkTMEbQVPtrmmOQJYXWkGsoTkSXougxIsTE8ISm1MTE+DS2pdETUplL0BeyMBCJsoKbKUl4MYBGLpmiUhXDiw2EpS8GIi1ALF3SEQJm3TJTFPeGublbIJEqMtKnDTIvKKQZVINanUQC5Da3QLxopcuM9FLGBYAIJlHZB1PsyILtACyRTjeNWvEKCTfCchpikpQACr5CJFkOMhAnzpZUUILy6fT8Hx5J1KKnjIXzG2TRTJOTwIQIzgAGwvTmdczJuwjGF2HdEBjDSKhAjZRve1qmspCAjgyQ2DqKNgpRSgyxq/iQLDAJE2SlEkwFHiOTzmuIjqjYg5Qtc21g8r59SoRPZ1NqMSNIObcSz/5YtEU3GcJ36FbFnEj5CcCGuNFhC6YLyEqQSPFbhIvEFAdOHA2Ax+ADokkFTg/4NJ3FRlD3CYTUXWGkYXAYN5NrgrEs4mbgEzETS+aZSxnPAxIuMAqW5RBtuwQC5BMrJMQMtSFAxKYlrABFC8GTrQBlkJLHf0vGGlQrQrb5gsuVM6Uc5ZklVxyldJWIpYheNQML8PtV7MlgjLwh6Sn1dvooRWFNpiYaklPtY4CyApXvAYayItF5y8OGJnmZMcVhFHdvJC4VaEmMpZhoakIV9XV0IFyymBmbi9LqNIHta9AqQLccAk7VL+tIkhuowgIAMy/T8Hx5IbsNSzHiySBRE3IycOSzBLouFA0JnRSABgKc+EvZy+BoQLgtmX44bGQDOUGHiU8RZS+OqDgQqcmyWAdt2lZ/A5NVBxAVmBQj9Un/AJM0w0RHmPSGtjFjQ71pwJV6WrRulDREedCVNdG1WAvCD8GHcjIQypkkSTiJUUwKPCqAREqwBlpWuM84AbcQXOCIqTUQZNOXN0JDDDMEItQZU3oNoVICApyAboCwIkUNSF1W1SioVgURhAKMSyxYSWc8sLRgQo1upOAp2QBTAhkik2mStU7iIqbkEIrVCet6uLl3hiIkcJB1EtQeMilULyoaEZZmsoLx5QAJy3Eb5p9JJ8mRKcq9BC7oA5nFp/GwqGEhG0yQQEQRWlLzCQDO0AjEEYqY9aXBAy9zwNgoWQETtkZwVm0xdtLUUyfNmUFc8EOGZCysGAZDAEmgEwTMFXHzN2eNo+44RKJVEHSOGKPM4lRNbtKgBoAfT8Hw5KJp1p3weqHrRBPuydATNcMxNKng2zY0uQlOvH8LBYmdCfvfpVreTpeYDleou1KIYq2EDcSYYx+QLpcAPsqzRZIucgCJ5QE1k4jHFoDf6i04u4OSjQ4gUGOZ5AqI/wDkAlXnmCIBTfnkuzCg4gnGuIZTjZ72mcKFKMsc70uT784WgigmGAvEk8ypCVNP3RUgu4eIEBFsfgfg11af2eCpgEiYbZGojQZB/mBFmEib6UalEWyiRgCy1tyr3vVWwvEXiAb0lLEccJCDK2gTGDFWLoGx1YicEgZGI/lIeL0kJGNae+77ULBY1TVNp/JlDuBR2QRpUwytDQVyiFYudDHuF/1eNTx0IOGLzgjw/wDHC5li7Q4CcTooHGuBwHO8kI6l63pCSyQfWVziHCivDAh7AgD8DoWxCRgC8EwMWVARoQyIDlM2ipvYYkEKbIDeF1/A/B8OSSiCIP0R6SUcU8iPzblthnITTs4gd/yw9nIp9ip1keAnQAjoScUG6lAvcCT1OL58kkkkkkkkkkkkkmYfOD+oQ5UufJwPiiLq42LD9vEWhGLNt3eKK3KOXH30XjUXwo6/dlk0Ut6weHnDZhs8G5/4u4YJhL6JjmWTauUcLbc5x5WmuZLZrKzpOpA4fgzzuoQAyrtRPZuiNMrSwbI3LRNLa3hzGEHqUR5QdKalEgw2TCXMw2KN7JSbQVQUErom3hAill9jCJkhnhYp69h4AU24MXCLk2+iXxobQbo4Xts4prq8ALpW3V8S9+1DiW6QSSw2m0OW/ZJVRq+T8H6OS0rRcwDA3p4LthKKphuwgcER+wMgZ64aC2RJOzH2JuBycQG4STWD7pDghpA5E1Ku3YvBt7GLtaRa6ONJRLqsQa0vCsy+01y0xDov/QW/bOsCVgvgpKVZCTwhZ/fgfuxrB2RI9j41b9s6wJWC+CkpVkJPCFn9+B+7GsHZEj2Pj4qJ+gQrYN1wJanFSIPkUAfFEucTQyVQZJODMuCH4NQJbFXi/Ape90jZbpqFcc5NPOLxyLIlFIxIRIavd4pfwuroVQvQFvKDFDnEjQoJdVyuqr5gdBJNMKcB0YalV22ySpcEg34dIL6jAiVXYKnqneXgxxR6nwHiFlElTBXcQm6uBhgFgnTuAQTtKFtNDVlooQsLQNkpQ5w1alUG4JJgkJlik5x87jQCEUtdveJJrqlu8NjKG/GELjhFgzBwbbkDCyGQsvg57Hs8n4P0ckRZoiRciOTSh2snBw9PsDtm/wCx7Ls+9DuCa7useksYSuUPovXSDmcrRm9tZmEskNpuThf+fU3gHk3UpSMbh4BLeqsGw1MgZ53qTIeRjDZvAjyohGZBBIeUhqQTcVU3gHk3UpSMbh4BLeqsGw1MgZ53qTIeRjDZvAjyohGZBBIeUhqQTcVuZuJgYmO5ILvIETJBqLwCwCZLEGrq06cBKaCCS24CMCy3pc/TSAgQicqz80V30cCMjDaGgiIklAQcWCLAdWE1Wwi/gAaTu75Nhq5RcGhoi85Cj7rDxVEziYC//qSX8OABaqvJesMAZQ84PkPK0e5RmtmXBpFt44mhXZKF9d0qeEziGEy4qVxXwHosxSWMMPTms0DQzWkyXECOIUzwH3Hh7iljaQcwb59R5KQI1piQ9X2qfgFEC8OiXTpFFeAQLBkCkhuWENKBodgRCYhIyh9fCz2PZ5Pwfp5J15aIEJoJIhtBkfUoEtiij2wITtDKhbGxcjmk8jtm/wCx7Ls+/f8ARYAYWwfUxhK4HOMHXCAzYAlVtViCbzQXogP/AEHMR7TMkoRh1lVElH01NPEf6HMR7TMkoRh1lVElH01NPEeitZJ91VPctk2KP6QIkgDeiU4h4l5kEMjvtHpSMjrNgpd4kHEff3w5A52B9EHO1YmgKDtuENc6kGKBG2pWZ1ReMGgfiI3CR8NheZPWkLEa3JGR1RJbDx02JeYPwnlAR3xSHCheyxLqyVYzf9AH4IxPCsUNPVsHoy15KtQekAZliCas7U9Ap2GCHCQydKvl6JAhsH5UG0v8YYEICIhN0UYbrVG+c27gp4FbMdKH9ltC1zZAsytEwxQaSNJgEmgq4iDM0jNOJOWRlgZQGTN4mzznoEZEATZmAslSaFFHBoBBMCbAqWGScp0l5EKBvPBoE6kYEwOiqHD5KSAom7L+hqCqRE7fRoFvpKJg+RRzUCpWehEl01w3cCzhyuXQBNEiExpRRh7sI432WYEjFmzFAURTVwLVIA3aYUJQQbwOwYgzCRKY3uAt8gLMBtUIWWAQXgPUQdWnngA0VSG4WaCjrB9DA4MNjFOctkENaJj4uthEsnGu2b/sey7PwOBBjTZ0KuWJm7ZU4T8LN9SehlwKAwJaQNxHU/53lSQjASQpE1hibXvQREZKXeSp9DjQ6WWcoBWxBALBuyvhypIRgJIUiawxNr3oIiMlLvJU+hxodLLOUArYggFg3ZXM2XuHzQnu35Xenjjd5ys9aaxCGGZ0qVAESBv976MjUMGwXvaJklHfZDK50QcMTqXR+K/+YsDcL/oW+wIlhCPKG4Kn4mM4EcgkzvDTzgIAiQjrWZhAbmhPhem8xJt4aEB5gCwiLuJ4XsBMX2koemQMAcA8s+laMvzO5GlD/Ijgz5pPr9LhblmMiWTg08/eUbySxoJiViC1HcObAqbFrXcNYqJpByuk6WhyuiWJozPHGBeBN7bUPg9wgR6rldVWgU0kBCr+JooQ2AEmj/ETnw4bLdnXbk9ob1Fr8v8AOs54cP7KLIhQkLWC6Ib2nWiwFptdQNxdWPFSYQzAvQyYkvK8obn1gJ9K1LozzhDZsI6hGz6zYhN1tXAT02HII4xJcWJYwpDtZP0slLA0j60IBwIEyTiW00Br9G9dxcLNyQEn8BF2vA/Ef3pQnAm2UVZUzdPqZHjgZSF9dSJNxhhYf+k5icxG1JnRKY4C8xVdIlHIgOd3iisob8RL5fWuH6TInfWDihr95bStkOq4Auti9Iy9ANxuyGujiSmAUl8tUXTVKv4s/P2off8AX6GPiGkDkTUqSAKoSZX28SPShfGE0GWTkPd96YYYYYYYYYYYYYYYYYYYYYYYYYYYYlkzQy+9NL+zRvIg3KHDNOJxhFrmplFLEsLM/VkqLttpYwZoLtzAUAJkFyuqu2aEGgZYYF1mDT4AYkHkMpIgJ7jgockUrs2QMOYgBjIN48J696WzeI0pOZwx9M4SMQWxgRvCzYzVs8IXvpuRMGgV2zf5F24xgISagk2VFiDyOy7KmIJzpGDoQHVixJbHVjKCo4jxIn8EYVw0nWJegLFLZgA9uGBcq0LcpfML/wAy7Ket2kg4Hgdtd8iPiOynrdpIOB4HbXfIj4hMjjYLfRL3TYZwJAO6KZCXXhuJs0MUdixLhkRnglyRGl/8QkdBqDAe8EtSqePDYMXYARmKQMOUOrF1TCi0gGJfurGMHlubHsZYKmtsRQ+D6Ni4l4kjAgAgD8ZfVl/ixPVF+p2qf/HP7V/W/wC1/W/7X9b/ALX9b/tf1v8Atf1v+1/W/wC1/W/7X9b/ALX9b/tf1v8Atf1v+1/W/wC1/W/7X9b/ALX9b/tf1v8Atf1v+1/W/wC1/W/7X9b/ALX9b/tf1v8Atf1v+1/W/wC1/W/7X9b/ALX9b/tAwqbqey09Ysq3MBP1LoW1jMbpAOKUNoADPEOS5Wbw3ugiipSYB1JY8Ws5RwUFOgqToycVZp5OOQyMtMCAzLCx4YpAxI6lAtE2UcRP2A9bU4HhRImLqUNS5DP1ds3/AFwJQeOqAeqRQWN1Aprnrevk9l2eDWJDEI67ACBoLr+DlR4mMuBuXCTDHAS3lQoGwLjGKyu6f8ugXR4gSTQTI70YNUVS5JcFjHh6GcjZfvIaRWWInwgXR4gSTQTI70YNUVS5JcFjHh6GcjZfvIaRWWIn6E+bii7ZhzDhUwWsZBstPxQW8dhx1CA+aYASNoagrF1CHX7sdXrvjNqrl0PZSNsmSNwcbmlxv+O1Get4PpyWueFi0bkmiw5lko3BVAx4HoMNbnd8a7b61231rtvrXbfWu2+tdt9a7b61231rtvrXbfWu2+tdt9a7b61231rtvrXbfWu2+tdt9a7b61231rtvrXbfWu2+tdt9a7b61231rtvrWHg/rDTglbzHFAXGxzoxUhDZtTf1g4hb6TMQD1JHvNxZQ6fUYMywn0IWBoEG1XOh1mZkEKQvGlFUjFcRCHJFwocLgEAGAPr7Zv8Asey7PAOXnGrOUKTj+ECD0JE5A78xkUpia9nxyOCsiy8WP+/Cn2ySmBaogG7SBA3DBA5OFcnBg/HbYTZOQtXoy47qf1H0QqRFkChyGHdQTMfMuAk6N1zCG8/fMzAhEkSpjdyIy/WyGkMRBW9nwEwnjD9CZ81vBoNplPL7BimEDuJOAsfYsTs68r2DjA+3gFCHyiROML1qCOHxpYPn8IayNkuDy9nJNzayMZMxPdIYmMKWIH/fSo3QZg0kwaM6iD8d/K+o4he4fr9CgaFG856B80UM82AID6232kHiStmRqweHxc6QJnaG+aAAQkRkTzVYwBFusAAKroAtDs26vFXEYZDWx5BGFx2Uuk8yUn/4wAenipYBVdChRSYsz9gkc0RfTYgMo2l4BQ+3HdaBImzadjzzZs2bNmzZs2bNmzZuAPs+fYkE+tYP2wfHOiHXcWKFUkVN5+qlTKuHJavY/hXXhusLO6gR2wvEHr164JhNEwmiJ/3kAdLGEbe4PnRTSoHrGEObjAri/jzcYFnaEp0SJ+Uevmh5xprFIiRta1GjECNnAYWJuS3ZRl6spAz1k42ENPBdCz82xn5RQVDCG0BXWKgM3WpJyB/sCS8qbAMiJhEZCOlSDRlsTDIYQ2zSp4hyEFCWJQniVLge44Zgp9FRZwA/dDIcUoVqwI+6rBRovn1oQtwjMUfUYhy4CyO5SOIk7hLMLg0aAUwAxHCPI+D9HJZPIeJWc5Q9a3oavIQ8Ri8fwmwrftDdfwrMwIRJEqRAAK4sLgkcX/uwmxtkDRAEWFtVO3Dx5hVbVNpOLUF8a6YLIEBYmRIkyP48nMmcTfkUkGB+Cf5nzQ7Us4kxswyiCOPCjRzBWyUWTLRAhglvPPpAUJWBK+AAsFMAxUroxchA6XZKJSFcOLDYSlLwYiLU5FEcAwLiQl8HSm+efxQVbwsV5aCM66okItCCW7Cg2cK2GAhk55tVtqExQE5CVwuqWlK2s2iMLC6SVmlhq6ZSIBGTIVdZqGhCBbMs1CUTi9ikFglWAEImTOhBKCRwojIIhjWwBrQv+T5YDqEpDoCkUkT52fHkfB+jkl0maaS2yMcUNSgAAEAFg/CehY2h+v4aJ86jVYPAeZ/3emHMuEj0SvQqzG5FjcDjSN74Gh9gRY0HN3W6yv4/3pkip6gqDkh2BAex5odoAkrvc/VGIJLDMttgFsDotHj6cEuAP5Mmy3syWCMvCHpKfV2+ihFYU2mJhqSU+1jgLICle8BhqJBr7i68BOYplgUSQAXdEI8zSnFoztxq+wtP9UCABABAFMZGwNCXVl0rqk2UKOJ2FkixAiaTQI3CEqE1ERN6PwpA0ZI9kpzqIGPB2U9UtqCtw4rHO1SzRJO7pISGSEZPI+D48kOt1dXRapAG7TV5b8QGykcSJBn8LohwcNfDxNxdJvmRQE1Jk+zZs2bNmzZs2bNmzZs2bNmzV9UJ54n5ihRV+HkCREyJr9cYSSw3QAc6TOSFPolB9Prhw4cOHDP/AP1BGCQWS8iHDhw4cOGsZhPK4BALw/6RI/oLZIEHgEaxRMFeFE55PQPORIkSJEiRIkSJEiRMNb6FYOYWluxwj5cwFgwX1VfNRIkSJEiRIkSJEiRDZ5MwPYetIKA4Z60XyRQRBGRw/gGWQNahPwtnxJuSuACJQ1iT38oPLCSm0kQqh6HjUnw4hcQjrHUc0Y5I5UQpBLrAL4pBngyCmZexCtszWcgxuIWQLwCnKvQQu6AOZxazSaoQDqlBwIAAAprkxQuQR1AOJRUsIiMhY1RXFpCm2wRQpZVhxHfweecYpKFZSyYvaMVZ5XFISaSryMYCDLAXUQTTMVbpOb0bIoY1F5FhcTBM1dg7JgODXCbJxMKVMKBw3QocgeJSnRZkpZSOLgxjyPg+HJLXCh5Db8qxlQvRc5crGq2vHKfw1zfNEFp8PB8KYQDk6IA4Sa0fQRByHNNuq/ZxooDFyf3QvFyjVyXReNAVlX63Tf8AIPIRiKAxDGlA+dgCNgIFd5dK7y6V3l0rvLpXeXSu8uld5dK7y6V3l0rvLpXeXSu8uld5dK7y6UnaAnFoQTihqdLIJvSpcA4ID/iYuIFI6L9VJJCSs8a4onOKd99K776V330rvvpXffSu++ld99K776V330rvvpXffSu++ld99KhvPwP865EH0D+uBAxeUPIbdvUluhceQmIhDDR8lICZeBsnXdjd++X1yCtpMHE5NNmeYEU6zdYBTYmD8A+de55wmz08TGYCGMFsLiKwsXYc2mQcilQSA34tqBtMo3jD+B+DXYqjMSZ+1bOEVeCsLf7YaQKaP4ffNvRAjxhA9vvjTWZvJ7fscvf/AIkweShiQBE1B0cKWyZNA5VdhUOBuq+e62kkLO50S49JptRuSmCTdYquUXX6wATG4IEfs5p8lIO4kAlVcAeGp8LQrTwLqMsUgyJueIwWUIAMq0sArygjIwrCs5ipdnYQkiNgWoZxOL0kgMJccZ1E88C2kJmPmvLPlKS4QIvGHjNqCzn3vOSfPmmmmmmmmmmmmmmOncFDmxI2JahM5iEPbQhsnqSI+LIwJVYAoK0jaXX8UGnaahCar8RlUClZ8xhahTNpnqTcX/4DRxw5b4Qk2ResFQUmoFFlw2N1wPC8EAEYH2YHThwN1cUTMCRGRPEs7qEAGVaPVwcg4RMnk/B/E8kB1owR5dBeFHnRpBNBNwRefvTTHfNv/Nsr/DfgeWAAgI2R1qddGCa1BliE5gNimtuD0BIBgzklabjCMybct8NqEsJBNZrCVJkcwoL1EhUAbIiiUT0B1aOAJZbarWNprIKOCKU73oiMAhBIIA09VaIU7sMHZj7fvGHqUkY+KT3QuayvALc9/sRgLfRwBpO7yPESl24VjzCLjScoqCAz5z1U7PEt6V64XU7lgwXAIAMAeaHebxQwBLMXEYsRFIpf2TJY3WCRu3ufA8x4reEUYJIw8KoRUs8UHJYZCyqRaPoXaCGTJAEN0sjJe30dR30AFrACxWVkxFq7Hs8n4P4nkghAEJSJnBC0x8ylyrmUsWaSWAy3BV0q+rvX6EIgASrpVn1UgVtxYtAYIyJM4QinlI9Zb7FHhCgwOp5RZQMQhaRwACetDAZUQAZVq4Ly8KhYCF+l4Y6AaRKCSE1YvamY9iU76tKGDWnBNQ50TJT1KG53l5Emdmnmsd82+Q/3mYAUcAGtSPZJXXJLo5P+SZX+G/BcsO37KjCf2gRIoDMFmLpSNgDhMYmUAEpyBasyhiKxlwAhiSRgpjtHEOWUbCEhkDWmAISXOvrC3u1rtuOsNgokAtUQpSmbUghEqsq0TeIVTEsBUGE2CIVaZdEiQBQumwHixN0B6PenfIZZUTMXhSrTpXkcyWAkMEXk5oyUEdwnhswziF4E1H++csAgL/Z9+y7/ALIN27d4tz8XJvqQ8gTWrRrkcE/RTIU9NX51YRyDzg45COkRCJqVJESe5BZeAXg61JCGaoJg4uA1UqGBe+kBzgbpvwfAet6FPcMuArMwCzNlPSEVIEpMFuCglm1QDkuUYMmqCI8zI1IBchgkCwITUkiLUoRo00gbjKKsw4i7D5zhKR2AWmzGQUUWSM2iGE0lCI9RsloDciDc2fCz2PZ5PwfxPJQXYXFFlpkJL3qO8qioDdW7wZRPzQAWIJdfQYIXEJNh0RXpR3xRlzBjxWfJ4D6EbzAFwoIIiNqBCgQzFgQ0aTUwab3rhHqZaNSoYxZX7PCqbuVO9oG9MaSkDYeEpLGy7tVBjjVEkBBJSRiySiBvFO1YbKoV+qLcOOJ0S0Pju+NZJ8v9qchx0F8HLLPBqwmDYDQigRtgE6wmBxbxiu+bfImWoa0tgwQtSHJQhE2dkUuKyeL/AMkyv8N+C5YIgm/QUxUZGD28HUtQIuOcQNOktqd5C1AFsnlNOYFND+3PfV23H4swMEuUFgM7YHVd1MhmoELn0gPfA1oX1bhsiZKTBMYKWxBCy8mxIiHBS2a3OZQPIhwO32nfsu/7IN27d4OGUBDYRBdvdjQabe7CciupYN7taJuFHk0xzEATmYXKaG9DKEk4wHnh8mURoXREu848BqjDcOZI0m2UD0etHg9OBoOAAeA8ra8cCB9QXMrHiqSSRn0aW44nsAd9+ZVxw1C3hJbgz7PBAaZQPOdRlX47K2jASSF1azQYHIQgAVKBkSC9h8LPY9nk/B/E8ko24ECJAK5OBN2kQeRJPMX2XnKTlHIGCQA14li6/Q/lSYhCaoY50cGwswU4wsbC08C0z0XSBdh95o/6LQBQjzBcYMAyEThNqUNAgXMBDCgI8KuPrCGeQ7qniTwld52qB0aKSiCR0hBJFJvUSnsoUDXkYuZvMRf6jgwASaEkOr70rTsl6ZUERdu0e1dN+xKM6wGmAvg3SN2hJQLCpcMJynwFZqlyoAErKvFv9ZjFVkRbjEDhM4Kzp7CKJMyAGhxahG7UpigswhzH7llQJWCiWDR0j7/dd3d3d3d3d3d3d3d3dwtOyHK9GyhPu1/hvrjHuNbrgCVNAK0iemQkaraEXuXCjVYtQ6nErRISUhbp5nMKYRTgmgObIJNvLYNiTIVBZSSYdJKA8o1JrAblWVX2KEw8MYIpG0jQw5nwdSEVnm5LipcRWG6KqnKiGIkwwxdZOt1NkgrByt0WqW5PCgT1pIAm1Ys1JvN6F6pG6hF5uV7Ik0Ox0dNCUPVZkhbNSxAWLCFIIAEHBccggNPmfDKQMIASXkt4DbNMNUxswDedYtSwGAOAAfZ91X7t8MQ8JbUK7Lv+yDdu3Ut6EQTV/wAytil9fEStlNYW6QJhQ7TpxTwgwNjKkSMDNQJCZxA7YgImCwA+kgqBybufAoYAgDZHXyRJdDhsAF8K7fYRdpaIaKKQhkXRtjFA0UjNQTcyQmm9c9V1FbingbFi9NQdMQpYuwJabUsWHGGOGMAiBBtCtjx7IH1QsA4NFLg8UQwIDoABsTlaKeaDICjAIITQ2aEQuKlJbB4Cm4w0ICYmChRkQWgXuzaRCheAYbuNwTURYGZuiIyA2lhYlZbFqQLyGc4tKb1AtaZsq4TlZAhSAJki9l8k9ACb9EVEbQIdlD4h9fxCKpDHAvOx9U2kodCzidCgskJhiYYwxbNLJEMh4gfSJ0KoRrgJcZCUtwoNGMiPExaeiOBQGJGxqUZMQhs70rVKfkCXFDUuhSrA2USTpuvczibi9wsIkKgFbSoXvVtgmsdEGQjiL1OrapMEbryhbSaismaBaRFmUkaFNO5AXxQn96DwtUnKiwILIBYI8thStSlUrC4uXw75t+s/R9tPKNJEeE2omsCCZPut6u7BOWI4xPr9wyrwVKFtoffTIhodoZPul/hvrsW7MwXYTkuG5qHquIiQmthlc3mrsawlrknEIf8A15AQahdQENpK2yb1uBz/ANa3g5174c6t0Of+FW5Zk2AYTCE1napI40gNvp+RoLoaixUm8OinH7XUfgIJjWbQbXXkoJpIsEa8MEoLWDK+VL1aolgXHgi2k5f41L8F/nU1eMbSCS+6V+9vST46qbHrRpIDIgDZQ+iYqNOhM5Ca0mUWl7+QGZyI9dC8xCroC6VJrM0pFEoCQyCzFjAJAnGRREWpJIubPkKmgGgSyLTExTNVnAtzpwxOUKJU7Etys5FCN6w9+iy3M8QV3+pT0J0hEHi2DKk1p8xDaIW8EcQlyfgDiXOzERubgvHZUyMhJcES8WJef4iGuMG8czaBeSi+JbgQVsCBkhG9AAAQBYPvJjvm36okTQuikgUtBkyXpI3oGEhpRgpcczQnERIorMaw6UX4pBKAQAAAAAABSkv3mhSyCKSVYluv27NqYs/AOI0oRBMP3K/w31utkpJxjj8M0Y9akzpLa4B0Va02V0AXYA5SfXzeYeHOAsBMIMBFyUrDG2M7q5uDA0aIEEH4oO8NnFVmmXkCxwatdU7sO7yvFL5AZAbdyy6Seg5u9RqYEXhBeLEvGmNW2+Lx5C7duqDLkMHld3iiruTMRbskvJzyTQaBA4fk57ORT63QdV/NVoJ1cDLcxXupoQWVzgFfzlP5yn85T+cp/OU/nKfzlP5yn85T+cp/OU/nKfzlP5yn85T+cp/OU/nKfzlP5yn85T+cp/OU/nKfzlP5yn85T+coByNAAUSWystZIpHCKmjioVfxDKRbksreGlg/EWRznbGeRk5/fGmO+bfwDLl2E/gpDwt9yv8ADfXLk5xJz3DL6m8WIW7YgOOUoSq3rBFlnPEXn5P3DlgU2CX1Rjf4R6lFwCHdaCIiEpCLk+JCwTGzOCYF4NkE2pi9d4NkK7ubBHF+haJEAWGCYJeNGYHgjsMK0JhIlh8RfjwAKFQFbSoXvRvWPMLM2ZKzWJftO/Zd/kBhT/DIqbYrA1l2YTZBmELMhnKCE2WBlsyRc2m5DcJJYJ+vt27xePLwIWKLQXISxqwI4btWwB6JIm59bN7yEjXb3Su/uld/dK7+6V390rv7pXf3Su/uld/dK7+6V390rv7pXf3Su/uld/dK7+6V390rv7pXf3Su/uld/dK7+6V390rv7pXf3Su/uld/dK7+6UVPMICfH4vaLbyZh6nggMJSAmDVLxqKCN8GoSIWRNfs1AlYKGidcZL4gbktdFk+sAC3YVbiN4xA5+xI9M3M2h1gR2YPn/Nfgsn3Jf4byGOhauVUWoSE0J0Mt0IN0AsxMN/ueWBamGBG830VNKsai8yGSc1HfgqxDd7YoI1fYRrTzXgswEDsKDseA9QbXhZFQEbMTDZhtUBdoGXmFPQLoPhiQNzhiJJKzECMWWh3ZDOIi3JNddMVa18JoBuq2AurBTVOCZDKDI6Si6FTToBKDKLhqNAOI/t+079l3+QGM0Ea+9wRqIl5MveR8PJ7du+hzoMQg+R0CAcYGH6ijubU1GYktBYbXZAtaOtbSzByg12B0rsDpXYHSuwOldgdK7A6V2B0rsDpXYHSuwOldgdK7A6V2B0rsDpXYHSuwOldgdK7A6V2B0rsDpXYHSuwOldgdK7A6V2B0rsDpXYHSuwOlYhG+r8wYoVQEtDluumPBpHFBcmb7qGBZjREPxF335OEB6T4H+Iq6QosiaUPAWdNzlS5tdmda7M612Z1rszrXZnWuzOtdmda7M61kFUkSYTpis0pm+AFibRXZnWuzOtdmda7M612Z1rszrXZnWuzOtYOn4k1NTUqOlsoDdXKrdWVbr9ZL0SEF+E0srdhJZKWOAQ4yia7c61251rtzrXbnWu3Otduda7c61251rtzrXbnWu3Otduda7c61251pRa5rEgl6pPKncoyMpkrpF3kEAHn/Nfgsn3Jf4b8FywIo5Gjj2aWpgOkWHAD/wCasqzaz/uIZwnr4aef4689MD6UadTAUwcse81CNlfCi6MIX8tqBWFKw5bGEHSzWVzIiyHKO4VBpAyCS31Kn790HiwMMhi8LWKslP7JgJICQHRCgRDmxFJGkcJ+Fdtx/adwohKmHroFISO3AvsVLLwOBlY+gqQw2vZrtMjWCpw7p5jD4T6GjrtRCkOIQDoppQr2zhBMjAMrN40Z++S44glZEbI0B9qapcSbwIrwzJcHlTgSJzH8RvGOdwjr5gohLNoR8ikfBi5gvkP5H5r6VNtEHOoi14IaOzTSp7Sr+JX/ABK/4lf8Sv8AiV/xK/4lf8Sv+JX/ABK/4lf8Sv8AiV/xK/4lf8Sv+JX/ABK/4lf8Sv8AiV/xKzLI6W5xL2GpqZJRQboEOMRx+jJ9wT+DQ3I+gLRKQRZEBE9H7EGsF+FYDhn69DWCOt79eTmrEcPVo7huxE7k2C3GgaskwCRLJMQ3OJ0qSIMEyQbrBM6t1C4wSyfYQAXBKhQK5jJmMhJUIcOiAlYJBYcGyXd8NGSpAAO2AnJWU02IBD0rdQ1o4xBUQoc1YIQyVF3wQpBiBK8XlA2lVuNjSmALmjSLXoV/QZxuCslEG9W3KaAyeAgrqZAFPr6ESzdFiWzagKRKJE3HydVsTnH+vKQREkclY43rIjKxKQvK4oILEklvZZPPWLFixYsWLFixYsWLNbIpPYKYLxTpUUStC6LcX9BufQQ4Ix1k6R1KV5f0UnKy/YrGgAAEAFg8mL/rVIMKoZbkxKYpzekxhlcAN21Iy0DqHBo2+g6hBZisSSIPCpz8wEQggFNphs2iF8J8nYS6DEivA4SSGnh1qSSguS/noBSFqTL8fCkqAhdkPwPtPWsRGFih5AuCkFwkXsaHgIjUGu1f7Xav9rtX+12r/a7V/tdq/wBrtX+12r/a7V/tdq/2u1f7Xav9rtX+12r/AGkUMYUDwUZpJhjQf1iDJcEk+Gsm5AmfLzGLohl5GN2FsXX8k+a8UECWgBdV0KnqxWQ2Mjt5SuKgh64WruA3Ob0UMNND7ePHjx48ePHjx48ePHjx48ePHjx4oTRHsAAnvUqt5tdOPwEmdyhZVyieVjDzBwl/DJ9wvPzWFcodG9nRq1ga4bQiiiGxewUByAkkF9mXnRIkSJEiRIkSJEiRESaYbwJJHKSFC4kLu3JjQghBRzTaWCDT6wHWASWPxdGg3s5kokR1E8gE3EqDDCklBIgJhrwi1sSokgjCDzCooqEcyJCRhBuZDwb3ihveZghLBfhUUxC+EDEOExWQgr5UPU+F/I4p3tv9VBXpRgQsBZlhAb0iAhCJIlWUEwJf723elLcKaUEKGyRaPBuF4IQDAIANjyVZgN815BIus+Wj1AQDZGyU3cGVUXz40aNGjRo0aNGjRo0aOZoXw2kvpCuQrcEfhoL0K3IBbaF6PnZ0ERBGyNFtiqBKMcJOdUAgiSJrS7LIpMqbR1xqD4S2/SsLKtZre2tG5qQ1EgME6MQwxMUS6XUexUPMvCN95AQN21bNl76kUzobVYmK+CwLwzrjwNCZLZMQ0E1JnhUPaCVdAxJpITp5Xftn2pEcJlMAHmrATZ+xkmNYzkNowidlROAGmJFfugULFwCr9U5gVXMCXzAVoQTlOIGAaI0/JfNeKt0grgiPVxQ0EWixkJOQsRvLr93P0aGGN+cJJ1nZSMDCgrDgEenhk+5GWqFg2Rs0/eGVWXzvHjx48ePHjx48ePEJkmo4MJEeQB5BWlRZMeeKwmpxBDDeS5l5fqSJObijCseiAzB9FrvDpXeHSu8Old4dK7w6V3h0rvDpXeHSu8Old4dK7w6V3h0rvDpXeHSu8Old4dK7w6V3h0rvDpXeHSu8Old4dK7w6V3h0rvDpXeHSu8Old4dKh7ZZ44QlJRQwgXZiGN9OHimB8cBDHDS31b7B+AXTT3mRbKTOoGnn59b4YugOb0IXUw1VXPeIwp1DWQuxzZP1BwO1ZdDhLh5KPpQHcxuCEWoIC4OMMWHAu7sUjRk8IJHxEkCBE1KIAYAnvURFCi6DB6S96gHUluyBwTjog1LQCxI0pMDcBGioh9V5lR4ECE54+V37Z9qR7ls+x+Y8LEhyiTJwO+1Rw22NCfg8uEtYWQxrkmHMskyqQ+rSFl14hXFfyXzXiF8qGOjB94eoAncD8iiTrwXE/e/DJ+SXzhsobg4eJepe8l+EKHp96ssssssssssssssssssssssssssssCFnEr5vmlDvEBTNci4qv4LP/B3JDXMjF4UXouz7APmhhksLsp83OgJcYaD2WowL/0eZcrFYHSYGAOAAVEkLwVILW2T6KujxiEENQKTc2GYKO3NqXMSYYJOkUZYzgJN/DfFBpAhGbhE9ESgc2IBJgghFjMDs0RAqPCUNoolJLl2oKS1AALRk3Jg1q6V77IugwGLgIF5pUZ03ylkzOaZLVPKd+2fake5bPsfmPCxFbokuG07BWZjyxRm/RAtUQDVSnE39sLIzi30FH5P5ryYrZ82EaRIBAl1G9JlkP1unEa29DFMFvuDhF8VJ4Qzm+4TE41+k3OpNStLKS3SyCeQM2DkAt6ysu8Oio1cK4liDQlfp7Ru8XOT/tCtliG633KXGJbJIwM4yUoyAgtq2iJNLdNnI9bTQeMWXEKjIxvmesPkw9D8DwIsowNChsiKRXKT2npCOCJQ3SUOMoKGV5jN83o2eoUQixF3Ql1o55AQoVsRSsoJ1pi5Di7gLsXSJy3vQFHKZkFAqbqt2ZmaOV8cgQArfFj3ZSwXVAWVzQQZcO4MpxVtbHld+2fZkVsKXGBY8d4GblB18VSwiWTjXctn2PzFSW03mCIbpgDVQpoeYIBHpX8hNzygjeDFSo2ACZpn2l0iizLSJm46PynzXkxK84VojCExEt1uq7pv4ZEg+VKp3TANASWi+dCvaAIDGVfehGEEMNmSNglMnEoJLSAEsAm9NhUJtm1FaEySCcmHJ+xGm9byRuSgQna40lyXxNIILAqJQSN62rQeiaSVCt7xMNFC2xM4XSAoOEkterWvhNAN1WwF1YKapwTIZQZHSUXQqadAJQZRcNRochDHokjcAi+Zi8Reg/ajbEZYTbThMMfS97Ru8XOT/tUHjGoCYtlWsmfz62C+FH9+bOOhMCGYEJgA/Ad+2UPiXJwMNryeld5/yu3f5X8v/lcV9H+VBq8v8qgyvL/Oosvy/wAqgzygdK1HKj9lZjt3GkeNzFIf0m6VFn016VFn0G6Vuen/AIVuel/h4THoHqynAbCZ2UV3JIpXdk7viUD8JbRGcDJwOSl/rJeRS3FWYEbIORslJ1w2WzIIVtBAbCplco1IQQswMr4WVLoB5JKYMJrDb6/mKgH9KI8a0pxQmqAAAAYDyWwfFikqNgC8tObSdyZaIXdU3qX8iYqACwBp+U+a8qLvm/hkMpRWmP4HtQREwDKQCXbt+BVq4bzhUQiNVS4OlHCAy/DpVZrwQ3pyKgjgSUIJBCJiKY50qd1BUIQ+/u0SEdpA0XAGCCb01ogGDZG0pin790HiwMMhi8LWKslP7JgJICQHRChDdJ0js0C4n4UC5KWQzDQYDYjSZtHLykPr8m/1Pe0bvFzk/wDGGfv2z7Mipz5ZFgMC3kCjXDvEbvb7Ad1ruWzyNWVPb4xTHZDO4kEeLLkGUqJCrzBD8cn1j5jyrFbQvwHVcAXVAvQhOKrhmFe3IZc3YaiAcqaQAWANPyvzXlRB7F6ygIYXA7U/EoFXAgXEZEbiRULSUUoAOSoAXvUj3gZUS8FzGJKe6BtoIbE0mUOo2qMIIiqByRCKt28tTjPPhH3IEzYvTSx/oLRGEujZN6IAZbjdK6BbaDtQrM5wnIiZCBnjVuZ8gSzoyDdtS2MsK2EmEJdIuBoV/QZxuCslEG9A7q/ZXWEiV1LiQoUDMxEPW6QMiaVO551UJOCUzBNhmKDzOBMogUZpMW3Pp7Ru8XOT/wAAZ0+fDFUsBEkzcSpdnmCKAi4GSM4tf0KWMSNBSHAeAkiSwb0AaCLg4qb/AEMQIwUBuWG7Bp9FovpgxTEsSGGLU/8A68giq5V18Zf4jcg0yQN1CbAmmbIVWVYeT37Z9qR7ls8hcmho0EIiGhcsqJuKYCMorZkUyuSR5HzHk2JTc3QzAG8TaVjmg8z0wqezo2OSgEACACAPy3zXkxIIiCOR8G5/OH5MgiknRpcboMTEoLEwY2o+KSEMIKPEqJOJY7II0Tol294CRwaHQshzSYExptSgPUBVyrVLvE4CCxClQ1Vr2lcvCvUEjZ8G4SZjQhADARaKsoJgS/3tu9KAAABAGlHxUgopmMAnQYqKySUEYSzhTKoYUjj2AsH09o3eLnJ/4CzgsSaEsgfEA4lOYpiWlAODr62s1F2vFia3NX1KkgJPFyb0UdFGngV14fUBMoCKERIJWKJHgKKre7KCJQxkqApTCBohoERNEaEOiW5QAooU9QiBadoXJVXRgTWDTOmK0jSpeOMa0+1lVqixxwYH3imqAlBBLLriWQW0R4ce4bPJ79s+1I9y2eQEgQTEYFynk/MfXYizqoQAyroVB64qcf3pIa4JQD1tJEkOJpgXi0xAfl/mvv4u0bvFzk/8CZ90q4gdoSOSt+yrldvtWDCeoahsNAgALTwKzFr1iVveS3Cj3bbYwmz1UWmsKwSTnfmqb82uUhCubt1PUFghcGU+D2oVZfDjMcJD1o/BjdnFYAEqRQDeONKITJEM2nB4ce4bPJ79s+1IoZaL3USQ9L/YjCCZO6J8tAmgkdH6TJmdkYk4u8LTE4pz7o21QHfitcxUMICDcjV1crn8z819nEomIpmYUyHH6BmcJLLiTJOk+R2jd4ucn/bmXS9eLvsA8kyVVpSCYAuvAp9vXUqLlEi8LDbEsO2TgkAlguXTRq+Dw7xAq65gTo5pM4AAM7CuhhTFYSJ7FSJIDMZCoeDJXJNEmAEUThLNhJcYvlkhGcK5ApJLnEgzhrsawKuDoReYK4F04JGjoWgAADJiTgypjFIcAiTQCSLkqiLatUMnjFs0RJfiGiznGFcEFsWLMgFIyuBEgCg3Klrmbw4AN4JmBL1oSeSWwCN0X9FSuBITsJ8J9ooAuhFitEQDwiSZFwXBrMoCkYbKXg886dOnTp06dOnTp06dXtwJZT7E6i3vDdhJMCkRBiAoAAACANPGEvUeU4Lq+BYONL9QRvaSXGzIikqe9Plur3u3ggnT83815MU9K4xBjBUhUmMJR+fuYrMyxLTmO3gQke9SiJrkzZ00A1ZQMCYAloZC+71CBGBBKKt1VdfokR4hEG5dDEhOyU08Sq5wcrHjH7tCyEvKEosQ2L5q2ljSbqVbr5HaN3i5yf8AbmaFalAEeXoqJFQiwkBuAvtI2n788jFxC3HLdrMJtPCD0Bg9g+1GB2CF5SV3v0rvfpXe/Su9+ld79K736V3v0rvfpXe/Su9+ld79K736V3v0rvfpR4YZEFPiixB4fp2pyeuYrJ0e3E7ZeEJvV1oGbTK3CdSB2/O/NeVFotDyOC8TEXHB0pUM+QPbpNibCtAz1Y5TRjTwNfP1ujCaABOk3VvALeKdxT2LdJlCHWBHgCDM+JKkAoIATYiUqwXwwcWYXiJY4FlKHCdCSkgF0Coy3zQegPgRCNLratCTV8psQYDb1lCrqO6oMvAQShITEidAcgKvdCTWPDAyRnMIbiEzm5pFSmAaM05mGBm97W+rtG7xc5P+3AQBEhHDRY0h73dudVyJIC0XIZZaqr8kOFd+9K796V370rv3pXfvSu/eld+9K796V370rv3pXfvSu/eld+9K796UMUCQHb2obHrh0pBHDMrpXfvSu/eld+9K796V370rv3pXfvSu/eld+9K796V370o6dMgT6y/VZgE0VkAERoikkOKI/WxGSBuSy5QLEAfhMqPkLgKJeBeizhN6OIEjYE6Nbu4Jj5EaKts1J3ti1zXrP5/5ryotE9ZHiVsTxgHEKmQKut2E2C3I6cQFffcp6rNEq+frEiyQzaA/VojjaVZAegielC2cDDffdcKfLBk2QA7d6A2JaQNxHUqAXa2nnOFs99C6gLCprFBSBkHTvegukjJAxRDVlHS0eGD9OjxYBZ0mAkpNUTEFm5iIchG8JkW+rtG7xc5P+5cGyI+zXYHSuwOldgdK7A6V2B0rsDpXYHSuwOldgdK7A6V2B0rsDpXYHSuwOlAoNggFwBZIvgLAymgKwJhQ4RIinFbzewHs3XRmxEVnLgp5ISuwOldgdK7A6V2B0rsDpXYHSuwOldgdK7A6V2B0omfYCT4oAAAAwH4OwnpDXJInkU/bZbERAHGE41kZV9+iuL6UayEmH4s7rnR4gCAGACwf8D815MR4kyyARGJmBeIkogXo+Lj07CDosXpJ9lLEDYswLBi5qH5NlgLroV0OGYtLoAOQlMxbwhjObXGw24kkmSMTAbiw4aCSGoBKBRliISGzIEPGBRbx2RKxN1YwDtkl8KvDEohvCbK07sMHQAQZMaBF6JlFMEDcOWRNiHJ7SIRARhAIC6WEMkNpsj7YYWQaiVyLtWKcTuZOE3QvdgoOqy0RdbBMF7ETTP8ACwSHcK1EPoI/j1UgROxKErAIKsfV2jd4ucn/AISEc0psiRmIVy53roybzApOwGK0ooRcpD6Uy9HmWzEnMKjWLv8A4CsMznmIEE5LWO+YEerkelPA4skc8YVQci4GfYlRJRwkj6/hLUMmGPuKSFWOQ4B04RHg2dGa4Zv53RcepUgbZaTdEz5CjJVBxbAWD/hPmvErxeWOjB94U4FndD8ioXpxFA/evDJ/4gOQpzd/Y1JSLlQoZN95/PqysmHxBfk+9bacHvkitgeJ5851pw7t54VsNzfuUK1uGeiCa2BZQL1DXvvtHuaDbHG/CqBu3bDUHcuyRUXdN9+qwV07opCXLuB8/hZMH3alh0/xS6nDYjDyuKw03OVxVgcYrAeY9VCfBrl6PVbPWaddyxIMntUSpMuTujfCgw1g79AH/EfNeKtxSL2B+peBKp2AysKLdiQ5po/dvqglsr7qEOG6nkB4RZQ4LPDJ/wCNkACORKkbvnqRUvd89So8wZ7EKk4ve3FSsWe/Cv1ef7VfpjY91Xt1iR7jWgzZT91/UOrTWg0H5NOglE027TFaScnSrQB3rFdos4V9zpYpjahcPYVHs+UfMMPioaamFU9S0uEyRnKB/wAd814oh3MkEIjkSp5SVxCspLu3M1RuycYBl7rCWepwoIg4XH1PtwAAAAAAAAAAAAAAAAAAAAAAAAAIxQ1meQMvpQmR3uViQ4CQJjgpInJU+TaqbG7fxZP/AH9819CCIgjkaT1kgSd5jPjdTG6WFPeD7e66666666666666666666646O8S9ZVAQJC6++ZB2gcPoyfchaLIdG5LeuwOtdgda0WTXDEw2w+3gdpZIBxWxXYHWuwOtHo4vo2ABu+KnTl0bItq7A612B1rGqk7iLJZv4BpWjtLMS3rsDrXYHWpa+BoboOPBn4loAZV0K7A612B1oAmrAEj8+MAQYPSSSLOK7A612B1q4ZUiTbSeBSEwdnMSubPtXYHWuwOtFVYUgY1gZ8FAlsV2B1rsDrXYHWiZgSIyJ4HmmCJt4XFdgda7A60kPoGjso+DpKAiKcXbV2B1rsDrVlTvIIBl8VgMgJEyJNdgda7A60e/g4DhEyeAtFkOjclvXYHWuwOtaLJrhiYbYfbwO0skA4rYrsDrXYHWj0cX0bAA3fFXpyyNkW1dgda7A61OqmDuIslm/hqsmmETEt4k967A612B1oCzymjdh8H1cHAGVXBXYHWuwOtPWCAZXYv47euTibiyV2B1rsDrR1SUAMmblvBQ+QNXYVzXYHWuwOtWXThNvA+AIgAlVsV2B1rsDrXYHWhEERHCeFg6jYbeFrsDrXYHWpySB0cxI5ueDU0QgTOktq7A612B1qSMdjglgGWw+LIEYRBH3rsDrXYHWgMSWkDcR1PAIfSNTcFrsDrXYHWg2LCd5YmG2HwuKdB0F1sV2B1rsDrSHXl0bAN3xbdxfBkRbNdgda7A60EnZJBwSz4arJphExLfJ712B1rsDrQFnlNDdh8H0cHAGVXBXYHWuwOtPWCAZXYv47euTibiyV2B1rsDrR1WUAMmblvBS+QNXYVzXYHWuwOtWXThNvA+AIgAlVsV2B1rsDrXYHWhEERHCeFg6jYbeFrsDrXYHWpySB0cxI5ueDU2QQTOktq7A612B1qSMdjglgGWw+LJ0QiCPvXYHWuwOtAIkvINxEyeAQ+kam4LXYHWuwOtBsWE7yxMNsPhcU6DoLrYrsDrXYHWkPuLo2Abvi27i+DIi2a7A612B1oJOySDglnw1WTTCJiW+T3rsDrXYHWgJPKaG7D4Po4OALqrgrsDrXYHWmTqISnAE3fFBWwxHEWSuwOtdgdakQpBtDDCW8ErfAatiWuwOtdgdaaCchEbwOLnv4GWKUYA3a7A612B1rtDr4vh4FDhxZZrsDrXYHWmwDIQnaTW59fzX4LJ9yAQmMUrNoGv62n9bRVbC4bmZDZ4JILvxKRu+lf1tP62l2qEFgrBqg8Ri5wiC6lP62n9bRYEDeXEh5J4KyZYcEIgdmv62n9bRHm/hXGobPhm9ToJIT6tf1tP62kmciHgfEHYN1uBJDqNf1tP62g1kdNDEXg28EAMgIgezeRX9bT+to7KznkS1oPAIGUSv62n9bT+tpGnarEgHgIIznUEbQ7lf1tP62jfK4ERAvIbeD5HAEAt4dq/raf1tETJJG4rHE+NznMYwpPlX9bT+tpkvpZIAw+AGExilZtA1/W0/raKrYXDczIbPBLBd+JSN2v62n9bS7VCCwVg1QeJ584RB3Kf1tP62iwIG8uJDyTwDjdQbGIHdX9bT+touQecUkryHhnDGIJIS7S1/W0/raW1v5zAF8RgCMwsZJxDX9bT+towbWYhkXg8F0N7IiDQd6/raf1tE4Hf8iwtBt4RCwid0iv62n9bT+tomdAPt4EUO+5CZtDvX9bT+to5TfIiRbF5XguoJ4gb3hr+tp/W0WczI2BBG6eN1vKcwq0/raf1tMkZxJBGOEngeTcApk6DvX9bT+toy6pkbiZDc8GZAVpY13kV/W0/raJ5T9MBlg8RP0lQyEk1Xr+tp/W0d9IukpNn18AyXUGxiB3V/W0/raL0nlFJK8h4ZwhiCSEu0tf1tP62ltb2cwBfEYAjMLGSRuNf1tP62jBtdiFkvB4Jsb2REGg71/W0/raJ0HfciwtBt4RDwid0r+tp/W0/raLkQD7eBFDvuQmbQ71/W0/raOU3yIkWxeV4PqCeIG94a/raf1tHnMyNgQRunjdbynMKtP62n9bTJMcSQRjhJ4H03AKZOg71/W0/raMuqZG4mQ3PBmQFaWNd5Ff1tP62jeU/TAZYPFefgoZCSar1/W0/raO+kXSUmz6+AZLqDYxA7q/raf1tF6RyikleQ8M4QRBJCXaWv62n9bS+p9qwCx6PENkMoQgXOSv62n9bRYGhoBLwaPgoQntEMLQNf1tP62jrgydSfEFoXhDPf5tKgr+tp/W0Jet8Q3oieQg2hr+tp/W0TtjpxIMwXu+v5r8Fk/9/fNfgsn/AIO4oKAfNStnzbfekxETIl7FJ6RHZg1MSo7FKWhbZ/7FfuRf2FfuVv2lfsdv7NfLOPSbK5Cs+RydJ8nkKT/sB1qH9BOtRfoPSD9FaRfoNWD9INYv0y1h/TlSGB7tX7WZX9DLT9LNX6HSn6HaoDC/ctXDrkf3XCjur1wH5/7BWC3dXSsleyGvypT9U+RCfpr5Vt+n/lfmvocFDB7Ej+walHTbBLPVGu/eld+9K796V370rv3pXfvSu/eld+9K796V370rv3pXfvSu/eld+9K796V370rv3pXfvSu/eld+9K796V370q2NMv7aHxTMFgUO7RxzA40B4S0gcI6n0ZP+7KAqwGWpPcFv9inUiO4FEmDgm6WLOYkPZ0rHQOItxUL6Vmy2CF510LO9H6VqpZ9nLmt9+fiborLRcrPSFvvXvPu3slSLqKV9GNQds3v3tRUoazPuzqPtWOgU0/OyCgAAAND7ZBIb18Io18gH/ZXyrX90+RafuuE3dWFYb8v9IrDTuLCsFO4safgN491Xtrjx7rXsPjR7qvZsGT0TXsF/3BXsr6oK2kcS99bfuLV0PHBvStsHHq6OzLUWz/PSwradnoAr3PWT2Ve5KxezqJv3elUZfOxZUdfcXP2oHI+/61/4L5rxSqKuxMYbqXiyRMUojwxEtBuy8sUWNoBAHA+3QREEcjSXeFO4woHeb7JWaZIVECt7+TdL0LO4hIHCPjk/7QjPCZKj1FX9vYBTfJn6qOysIZxA+LI+lc7lAXDFa13f0COJzrc1+jxLUPFvV9fVIG3Yn/bKiAPMWv2KAAAFgNPzk/d89dKmb7nr9Zq+djGlNiGE9gr27WblJrPi8RT1V2RY+Wsmtu+Cd5yrQ/zMeWFbf8yS5RrTIZkfIBWLGZJzAa2S596QpH3/ALw6jhNj5olWtepJ+H8t814JDCEw2EOMBxpF8upLogOYVvOz7sOwAmhPLBI3FpTUblWVRK8iRwPjk/64VJ8vYJC100acJN71hiPv3jtuMV7CIL4rWUmwn2aNah2RXkaPeg8syprdFPiuFDMd7H/JT14zevcanVhlc9Qatkd1JcAD4rav0KhTYZoe9AmtPpgl+a1rQjx68a1YIXMs5I/asCFw/cmlHK9qL3GHvUEfgaPVGrYDmCe6fxvzXgNVms4iP2ojwNnL7uJsCEcJSOWLxyx+3jk/6g2Ja1yl9zR+FDBrC5+Ngcb0cOFv3CPvXNsM42GE51qk55+R296YuZTWd7rqjCn+AAPPca5DIJMSyvnDjhFdgQTbEm665Z0o4MAedEkvJgC8ZLSkx0DvJnGAQDYJVvTqUVPGQvmNsmihb2aEXIALsH/Gsc9DB9GpJnxj9w96iRd11cAT4rPEfsiyT1rOLYn/ADD+laorZ6VrHOZ9PIQ9WsSNxR4y5HGKQC+B+lUsJefmZP4b5rydNFu7IkkkgKbwGTxS7I2QJuJJ9sPyfdNdCicokXgTU8EWsg3f39P7zEmryGeU0t6Qd4BLLg6EBkhAkNghRLXjdouQ0hpzIJ9PA2WkC1rkgS5IPcU7LxJS8RD0xXDcgGTBquA3opDqyAywIEmPA3EQ7ifCavfVGDgnk7XUIgjI+Ap9kqbckQ4oONFwfJwDW7CuAytOqSWrCsSsJlTENWQb/lv65lRFNdD+ToA6YXyQhbn6NZ+fzh2nEeJReVyqcLA4TUywCT5fuKGC0AgDgfaQ75jcqYJPSkEZ0MyiqMLQtC0l0UYFjX1C9ggIAPDXhguWBzk/5YDuYvvqlQpNlpdwP4VkxmJ5AX7rljlo2lN+LWD0oEGfvRGW4Us4XBxit9GT/UPhSAQRJE1/AfNeTpoIWjIkwoH0Q8FLARRERizsILIxtTKBeowKgAk1o0Xz60IW4RmKhIMzCzAMJF5xQkLbF8EzE+tE2BIjIm9QpTu0gkgSRHknh+MOaElmSRJrFo7Sjhvs4xFPdJG0MgiUk/awEBJLLaxUGv4GZwotjpMTQCJLyDcRMnlD8n3JYRbriCaAi6CRdmjKMCLvH3SgTkJosGEygEa3jNRTsK25LJzofFwlSTEbuSeYZU7HtUHPgSz5NmByXwfxZTpwGp9eleQAsIDATe3LkoyoOaQdAQnrkGlhsNIkLiTDypB9fLtUh4i8CBV2EWBXDcfihBEhIkYNJgxxq5IQAEn1C40EYAE8HgAdhOYWA2WciKY/rFmC+YC7sHCoxTqC3uuVXBgLFqSLksNtnBkSnNLBnteLiqxh5UkhZkEoWFhkBxEyh+Q2zAqclE1Z+2xl4hBxFrFy8iG+Q4M1wZxc1C4uZUui3YriZ0MkGCv0Afcxy3AJQBGyQ/pTaTUb2k5GwUmWFIMiblRNOtO+D1Q9ayZtBosXBRQdKnw0AAdUu2JL3/5pkZCESRKmWaQfonypUIM/A4HCazsXqZsPd4quPbNzdFzStQIJgw8AhcE0NBpRIm595815Omjtu5QGyKF3LIPczNH41tezYJFyEy7JUNCEC2ZZqEonF7FILBKsAIRMmdCCVDy7QNWQAQVlE7ClAYDvL5MkXLlM1DQXepIbxIGnNQo15TEUXOJYLkpQkYMR2BTBIbsTNGTQyyHPeCscWGKNAuCwuCcyQTBkzUK2U0HyakzeZtV5T6blajCFCxbjTnltAhGwtk3L1OybqUCcgWmwB5Q/J9wAHgwFR6xFZKwpLVfdpgKCNwgHP4njiNx2kjgilFcPtIRwiWUC7rsfRSyX4vgShI2CC7g1pyxQBKuxQOEubxX0FT0+jmJghbuYRwbp40Xk0YoUN4Q7SblN9wzZ6I2FOaqvOV9l0F4mdUIMLnnA9Cpb8yy/fesj8aD04YDdXFS4F4NcQh4IrBxRMNp/WWuHecbupFTmtljt01WvBl8kCD7wQYJ3pHCgl+IMpVuaWcDOGgbygalKxfVUYIsmWWeA07aabhAIwgJDOS6E9gBd0pt3MEuSTjuHvCTMj2FSX1TnTjApxYQf8+hFxHoLvsJUvX3IN1vupi5Dg3MJwPWpcok2yC44JeH3XzXk6aGRQReqAoLy4idu1LBuWIIJFrXAxiTw/H4UgaMkeyUZI8NiQbMPZoR6D64kDtF6YdCZEPlwvGnEoQ45hspFe5AZBnKqNWv2dZWxqmdwFQIfBFmAz7SUQRgu1EqFIKU5RDUJSmKyAlwMMwTaUogqWm8Crsu6kMDiTygfk+4F8TvZ1PBQsP6J4I8wRwggi2YRrujrTt4gC4+/jSN0Ay5LkLFgE3tZgdgkuzMDyCdaENr8VVKtbCByBPHk+OJiBgEMkSCTjFqDJkWbdkpzU8lX5oryobkQS8AIABalCTrcfNBZm5yu/s8XmzTkwfpqaxYIZnSgAYgJGr+JTCmtnAUS8CkjHJ4doA4glF/tOE7r+kNL/wC9V5AHCUqVdkBPmBK4s1xJoL8tTY+aNezKpu09w1KIPZTJ9RX7K/8AYV+6Mn3StB+6P7pvnzo3Q5qm8fN03A5uu8XOjvjzqw07Rd2udQ1phrBBTFDTHBQBJhrahwJ8n+64ceQ/dME+T9lMMOxkrFPtLtZvcEH5r8zzr8kDp8gV/TXwDb+v+phQontBR6oqduNmW4rvaxqypqrbdJlarYbkw2+4+a8nTQD6yuKkUugGFEgxUou6kTGfJJJDDZPCGTyuSAUIY1ixab0bIoY1F5FhcTBM1J68OPBpm/JwiWoQFIIJqyxAMsgBlow1atTKLpqt6l+lcRnSBgvYCnV4WAciZlJmdzN4EgLjGKn+17fAiRwlDQC1NtsAHExIAAlgACXVVtx4ZiFg2hVI1ZzRNgIGEAK8IgiJ1mjRxErF0iAXEwTMeUPyfcF0AllFpxJmgzqpEMj6Ws7UZRIG4CnI+F4KKooWADUJJhLMnhZ4oZABCKUUu228aU9yPyTpx5fiSNlq5ZWC/ujUITne81DwW2wC+lsdCDaV9fMR4TcRAhScoY2Deioyq4UBeonNPFzRN7iCg1N0JKQTzBzn8OrvPAHgJXeBegdxSm2BA+HGowKledghxJHCpaXlQ8kK/ClDwk32EluBFCyuz6cZ6bgEzBeTfpWtblTyNHvUoBuhrdIPio2SMKPuWomyYtHtQ1CGAgFdwruFdwruFdwruFdwruFdwruFdwruFdwaagP68QCAJxr4Thr5Az0r5A10r5MRT5lVXER7XzQpyRQrvQAPo1gT2lisOu8sKuqrf9dTUtmHHuqn0whx7jXtMjx7qvYH1gV7C4P3FZRBur1zWxniPtobZ2Z18FaBOblykoAAmZ1xB/ZSiBoi9XPtR9kJH/41370rv3pXfvSu/eld+9K796V370rv3pXfvSu/eld+9K796V370o41KB9yDD1pU8tEDsw2eDfzVoT6XruFdwruFdwruFdwruFdwruFdwruFdwruFdwruFdwruFdwoT/wCaAShOH4ZLIc2v6Ff0K/oV/Qr+hX9Cv6Ff0Km5m+OmQImC7oRLQK1BkgxNwTCblf0K/oV/Qr+hX9Cv6Ff0K/oUJgPJ875r8FpoH5PuT4kghKILYIALAkCkFAAyotBEkcIxZFDFH5olqZTEw2mWxoaz98oCylSx4Z0LDLIicjDenuTAyozKCU4xueBSE00OwyNpvkR1oIwCHc8QX4sm6kUERG46UIsQoQsC4FhlAuwEViBU7qQLE7p4OEtTYyC0CIjt4vFtLgxg3sExcQbxDaLxhZScTGSRqPkQVHYVme4JskwyUxjuzhASyZRAbsC19UNx7CglgAJajwINhwmbzLqvsH4MrwwIe6kClWIhCHI48aHFi0Lb+jCeVDY4rENAIHWJTeg10EEPeLI9KBSHK090J8ULIce3QCgtXWCmZSv2qok/pQiSY+qTRY8ElidBldDdQRbC8Yyuq2hOVjiowEIXeYewB5wECBAgQIECBAgQIFUh88IECBAgQIECBAgQIECrBCwnuI9xowEyQgXYOasRmLSFWWKkTE97TE3ES8S+ShFYCnILbPtZ0oaHaGT8GCJAUnCftROFQAJI+Z81+C00D8n3RsJMImyAuA0nPT/sA+aBNmSR9980484LcAuT0VDBaIikrVlW+CoEBIaESGDcLNvBk1lUpUcS3sHhUgQrq+CqcCIaOYZK9R+gQ7FMadVlcRGgobklcib7rTbmpSnAz/ZKgSvISPE+HifwZkrN+ZiQZWejFxoREdqTeHD1COFS7BKR3Ihyxqzh9llNS4XIUMFoBAGwfT8Mfbyi+pPxcQguPgnKgJdYEIgA0A+/AEBGyOtFjk6w9hHJwHlRg63ft5do2fwaoGC79vClhueZ815GmiD3jvkCtPGbbNBoeDrsUWJLri1miQEJEZEpsS04qrwURASZskQy0sOtE9kAuubycj6AYRbcmIochowKo0VYE9QqeVzxIQmViGACiYlBg0alAwXeIj1MouMB5g/J/wAcxQIYu0rd4ZaXr7aEElUTVQoKXnx1JJdiTSRsVIghY5ARCebqRcPIzcvoGnAa5cLlSIbwjfFEr5EJ2EFOfn1q1atWrVq1atWrVqzS7wGTIWRdJQnLUjaYToYdkupD4/G+rfcp0gP19McZHc+FeeM22aBafWDOTDIWm+KO6CrJQBMyWBmTbUq/amRiTEmQuar4RDxj7y6ixbF4BWM2JJmkx09wBiBGUNiF94SK2CsgyAAA3CH2egMLuRT9+Vg5eL7hwIw2qfgVsNEXSJp4sBwQ4g28+tWrVq1atWrVq1atWQJQMAR9qH3yYp+EBIOYI/C38/xSQq9T4c9jVKOXVInoQX8RJ5888888888888887a4R4QSyedAtZAyIgFrhZGS0Ivhbz/M+a8nTQghpDR3tu9Dcq68pDIC7zF2q1R87zW3xAkHSgfhgHBCcFhwjwak12wSCZyJaJhSQmgJ+k7QQgVgSOUpRLSQMlf8A5lqQphuESR/aTbNqmhNJmW9gwmhyMUvZApi5ko5WVQFqF9SXwBBZThGNUobaUgCgpCmERMiV2vFQ4AHKIBLUQsNxZmi5KPjYae4wtpvVqYgPkj8n/GAH7ZEuRNpiN0qF4NnF1E8u8ojEXJU5wscAm7Wl6KFbwuuLL5Wfl9BXk+MiSdhgaS+xDEIMC+e4BLYjx+J5rBHL/wBYI8GRCucEcqQa4iCSLcIk4lGjTe7mKcguqwAXVApd+iOiYlQLzovi9KsoMRKAMsMMGGQpOnRTaJAzAhv+lQl/2QgiySKzQ5t2WLBaWWzZJkYRAQxkgwQkQIZyVd39lVcJIGYDhFEaTxjACzGCSZiNmirpKGCUsBMrs2gUc2SyxE4CkkkqLw6s7HAT2BYujWBhpSZ7xqJnQkUpYswkqthDiEEUzPCSkYDnYLgXXABdUCiSbK5FmYWcXRYm1MuIEO5ARJCTAyXC08NmPS4RuQQ5MSS2VONaQkAOcoSKEzAkRkT6fgnlH6PEJhcLj0G9w5v2J4FWlyQnRkfNO7UTKw91/C/L8SeHTmEQcGPQcn2JBrHZkg1LWnEhnx+f5nzXk6aDVTbIwjwRSpFn5ssRpKQukmtXE158LeRcbmvgzyPUiaIOJfPCgcRWspGcoT3ahtB+yoDyVOahUHVksS2fSSnByIwLmglXFaYUUDZp6o+tS2Ng3FBCMWThGtRdzKyQTjZakmcSuLrqzHanf8VFyKng2G8xYyzaUBHG5OEESSQGZQmBQ9INJEiJkTXyR+T/AIoUCluz9gm5aQg1SnVBupGJNtuXQSyUmJNJKzPdsajglDwiCB4AHmZ+X0dh2faPfE8xgQExaPaNyYh4KVfsTYwTBNwDZuSFCFFXAMsBoxGkRV+g2QMItyBjcbU8FZGALNsRTvI8wFHMwTIinb9qKuAwTKkPimY3NSoxt5ERkXVqJVF/RsEoq9TWiKY1hoz9AlCzZyqmipNjgEHJYX7KQRx+ABgOKlmg126zEg1NKEMLA5A2tcmN2hqPQMsv0D0qeS6oDb3CSxuHSkEAJEogIxEVfMaMjKTLBXi2lYKCPtW+YW2IgmZMQUAMwFd0CeNtTpEllQ5zExMS5+n4J5R+jx7Rs/LtuPy/Hs+77Qj8/wAz5ryNNB6ZQUXBO7Q5CJZVXS5EBhhdqQUZfn5KI9W1AQUQoSRNSS3hvUxtMARKRKCha4WzUYs0BsjiIw0NQkR42BYBCYZAvDKgBE5DBKJxqoNYJA6EPoABG9mUqTN16kFgRQdICYaQJu4zbrLosTYcsXW/JTYhCZUXHMJgkLixCC0hRuEy6UZtq9C9Fh2xvLDIEKnBdWLShZ2JxQjhn0SKYTYeoJNKtNkHDFjAEjEUmFBkIdxTJ+jyR+T/AIhBWvAu6tqmw4DxmfU2rG1IlWNyX4Ihi0RF7Vj9H827GV1WV187Py+jsOz7R74nlsC4ICSODiu1PFQtQQCxMXHExpUtRRBehtYZDURRYVhiW6BcaWbgLszRTigDhUMJB0DWg3Ag4EC76BsgRDU7YDmSiCViMEha0K2nBkuBpOUGLUwZPGlAj3LyU3nF66Jogm9mJRERrV9/pZeABIXllsEoc7mqjumDQMs1fjZIw8EuMDJOajQPAdCNEXcoSWrANdpbwhBmFAM6qnWd8nNrd3QhYq8/jRCMsKXjMUMa1UJRRgNOzE0L7rEwlbdFTdBrQwBRVhGt4TkAItKjJmbGu4FQcoKG0USC1NnlGR8gTCVxk6nUwwLCiGIFgrJhdAELxYn6fgnlH6PHtGz8u24/L8ez7vrnvWRjA4gA4tTlL5nciMkDAeYR+f5nzXggpczxVH6aY8Xw1Hy4qas345I0LwUGXoW8CwzhoPZNObYRkBBIuxx8Fg1PcCfE+aEIKDk9YKMMcJjmhP160ON5g/T45P8Ahwj4MoDhtr5du6DdFhJtRJxdRWxXQmBVuIRLfdrxN4RwfYZ+X0dh2fW2Y3RyBIsXT5EBuVBwTEgAjUiULupCQOEdTy3vifYMPjNdhKSfRjac6ejWAiBl6FvEARBGyOtJfCWjzQX+kveRy4ESeAFIgEicSnbAyhV3gPq+CeUfo8e0bPraebEEFbWPGwF1KmnvXBnNgLjaZvUnGKYbFoW9jEkL0I2yggLIYaGv41tx+X49n3fWFxLOxqHCHkJQNQJYTg5HmSPz/M+a8JbhgLoU+d9KEC5XeOlt8j+7NyxMuFIcrrgqXwUzMyp7vRHjk/4UzMCVWAKXOFeHF0leVYJJsgHzSSl597jM2rADQwGAEAGAPsc/L6Ow7PqS25kAg2Yg6IanJFUug+0pbzsKCFOrQC9EvtqbOV9lLc8Yjy3vifQiQB4AlX0TUVaRQSJuRlzRREkMAiSBjOPwPwTyj9Hj2jZ9Z9+gWOJNf8Nin9zmpPnjNjjWIp/h7okSAVgpXeFqQrIagkBLK+v41tx+X49n3fUYwGQiMKagL4Q1KDjl1w1mMil1pg0OJMUsgFkQI+YR+f5nzXgzMCESRKkwBdTEr7G/KzCMBfksVrOo4JOP3MMNqjLbHdfBrFayrtHzfAQtgcCUZdR2NAHoeOT/AIQH8iIqVGwBrS6ahIyw5yaHil4TUTgoO1jgNiVg+zz8vo7Ds+ohFERYbNdLe7SHToICheIS8RppQQ2QgnEMHFlhKETnwBcwQ2BJllgZetH3OWgEbDv5T3xPoH81eJmc5JLLkLgslJUTi5c86HDMMlHGL6ACANo8kCQG60hCXYfFCAuy0BIDcfpGr0URiJzff6EJ4ktAlbcsLeMeV8E8o/R49o2fXwLtUFX2Kl21F8onkfWkiQlDG9DGAmmNAM2hV9F6doFhBlVuv4xtx+X49n3fShEACVdKx+1bJOJa/ofBYWQEgnk4MKbLgqgADKozAZaYTSxzXi10om858oj8/wAwSfF4viGZWyI2SmJHL/QU+dA8aC+eoPt0kkkkkkkkkkkkkkkkkkkkkiTGJMb1/RRp+RU/gHADxKCTcQAbruuq3dfoyc/+DZOkYMSpbAF5p9fTRG2GyLO6liKaPbewL6hewWAPtM/L6Ow7PqPw5FJhkRIUIIjIlK0UMzWZAq1rj60amPjDiXQ2QcPDvG/lHvifRYIM24ULjdUsIFgQiA6KIhzCmPKYGqVYow8zeivZkgONEci6Dm9SVJuoCZcRkTca4ZvrcsbtrGrUmBlUhIuSwHMRTd6EUzKjKwXdvou8JIKEiyXHiU41i5JFMqWV1uvjpqGgCMIKhyImlK5k/p7iqUt1z5XwTyj9Hj2jZ9YuLTKiJEGFyNBcLNLoCeCTDl8O67fxqJtx+X49n3fSiVwMsQznLqjcthatQiAYyVwIWEmlMYY4i4mBHZYoGHqTdqyq1wgkQGCklhYmPLbEfn+Y3IpHWj+B3si//BnkS0xMJE18mzoZi2OGJIS9VHoAEAH2ufl9HYdnkxyQS5zO23Agveg7M4LGSLmRuvYm11MVCDNwAsxMZPJe+J46Ys7dSj2KJqYI68ez5eYwFO09RAHJ6Lpw5bBbQzikP1VlMKXJDmrima1igIceDkBXG7hbJ7FIZDNKBDFjzCYgQhQabAArgEDAYSZoZgXIiRkasDkp+uw0pOMgIm9yrIEcwD7aKXVMm5aCAN6mLJQa2jVWvLIJTL26dxdFOGApMDMyFGJMQ0AWuNgvA5Wu/wCLyvgnlH6PHtGzyo0OTcCaJiuVMRQI2EBSa6LFhbs2Pxjbj8vx7Pu8k3zYkgncmhrTB3D3AAAQQZ1xUyTKSnxJW3Lad3kkfn+bCguZ/AW6s+f+DzVMSsAm5BxC4NEddMtQwW95D1cr7bPy+hgpjUxJQ+ifYsUwRNSIvqR4/E8YgBBwU9S1EKA7GHwHmsLeKUdQrgLyTQNin/XKuwFNJUGPc+DOyEpQS/qFSKIB5JG5pUa9eDxftFBdL6vjLlD6UxfriBoeL6ApxPQVZgIdTsBBDZpk9yA0iVg2L3w0JAFRLR3a7/i8r4J5R+jxY2ka4YWPsS0BAu6gPdKc0LDkT8L/AC/FwTlQ43fY4+qAb+L8/wA41gdqdhD7wFYBXhSN7DagAAID/gkQAJVYAot0uNiyY4kTrc9H2+fl9BdLwLSNHtxvqAS4xix19mGTya4KpwVTgqnBVOCqcFU4KpwVTgqnBVOCqcFU4KpwVRAUY2hCyCdb8mpwcfYzukxxDRU8fieNwWJ+++njG2rWQwQ7zDm8mMWVuGqy7hF9yn1bsRhJOAChmbXtSyQeBrAFhTgzQ4YhRECXFuQpXSZDiPoogcuSEby3xTLwU/EXV3vJEcWgsm3W2RxYrRDDN5RCi6KpRXFkCZCLXmVV4lnZsICOiFX8G1hmEqHdttdKXo5r1oQwEWJM5ZZHiHN12GUZBuAzJNIN0R8mbmm4DxpEj8UBluMDVC91VBEz2El2+8pd2Y0pCLG6FECcUOXkjvpenfeXlD9HjlfwZ9h9nkTaaNMcDFmRPRt65rgqnBVOCqcFU4KpwVTgqnBVOCqcFU4KpwVTgqnBVAJJNiZpI6gomDbyQl7aRFBUgEgAQB+F+X4yeasHv4LgGCUcII8syBOZ54YMGDBgwYMGDBgwYMOs5V/VypnJBiehhK6qi8pa58Pn+e3zS3+FfzK/mV/Mr+ZX8yv5lfzK/mV/Mr+ZX8yv5lfzK/mV/Mr+ZX8yv5lfzK/mV/Mr+ZX8yv5lfzK/kUAYA5f8GmVKReIxRwTCWqEiyWFSYmFi2Gr/ANr2vJMTdQAqwH2+fl9KEobpX8JX8JX8JX8JX8JX8JX8JX8JX8JX8JX8JX8JX8JX8JR8coI+j4njryAbSz7HjCZPnFYryy7ouwUIcjIg9JXLkXiS/wB+fczspxB/o6bkug5i2XoIvAdHlP0fQBAE2Sv4Sv4Sv4Sv4Sv4Sv4Sv4Sv4Sv4Sv4Sv4Sv4Sv4Sv4Sg2QU1B+H+X9CyMgJ90ErxfPyyyyyyyyyyyyyylAKSA9kSjxAAAYALB4/P/6/RUhtGwbUFoTsdSLaWV1IWKPt8/L6FAVQC6tH+tDIWopSeE+eLFixYsWLFixYsWLFlApA+7AD1ajYw9uAWTl4/E8bJlDy/wAP0PCStx4kJN0botCYzS4NACjkV230rtvpXbfSu2+ldt9K7b6V230rtvpXbfSu2+ldt9K7b6V230rtvpXbfSu2+ldt9K7b6V230rtvpXbfSu2+ldt9K7b6V230rtvpXbfSu2+lA6OICOMVasx8rWkhlu3gdVQAACACAPK/R9Bs4kEHfKOIfYCxYsWLFixYsWLFixYuHlkPT3XYcU/DfL+gYssACvNrvLrXeXWu8utd5da7y613l1rvLrXeXWu8utd5da7y613l1rvLrXeXWh2Bl7s0TMCRGRPH5/8Az65Kku0gr8A54qIy4ct5yhhiOkMe/nChQoUKFChQoUKFCkUA5kU5bEIwzDJbzihQoUKFChQoUKFCkd1A0pMTRFn9UkOURxq1UYeS5s1vcYYXyM/L6JSOhsxwwK+5cISZkBVeKEriqtd5dK7y6V3l0rvLpXeXSu8uld5dK7y6V3l0rvLpXeXSu8uld5dK7y6UPw4KjiMGj9KejVlYRRwAeDxfE8d0+k+LnXGWA2DVXAF1sVc2SBk2WDxXFFBo3QYHpk9ampTUpqU1KalNSmpTUpqU1KalNSmpTUpqU1KalNSmpTUpqU1KalNSmpTUpqU1IbK4OWdHRKERzNbc0XOAvRphkEiREsia+V+jxUqbIkEJDJApsNBYAWWuITGQJDaA7y6V3l0rvLpXeXSu8uld5dK7y6V3l0rvLpXeXSu8uld5dK7y6V3l0rvLpQUrQwBgAfDIwLGyHFAwgataCkDQB9bJzkIHd2Lmb3JiRo2FXJF2RC8rV3X1ruvrXdfWu6+td19a7r613X1ruvrXdfWu6+td19a7r613X1ruvrXdfWu6+td19a7r613X1ruvrXdfWu6+tD5fPj2ZF9lQp/HY9BxTS8RD9Py/HOZyM4OACumBiZqGKoRmSgNBH0wedu3bt27du3bt27du3JFA7DUPGMJ4masiksmWCKxsyoMKOYnh8/8A4cMocMOwTnKSKQjRcA7yqOJj5x06dOnTp06dOnTp2PMPBKw3VMcwQ0vAsAqx9brEdgSr7FaiQiBnQxE//JQMKtBl3WVxZX74T4wU3o68aXolCE7raIZNxNwV0o5uVhOKFcR+vPy+jL1P0P2ObqR+/i+J46o8UEAcojxKmPeX5Rql9cxKj7kWp9Uv4EFvv0e95eB4uV6Qw0LdnlcKOZnKfKfo8bjcMn2VYRgi9n1D+KBw2bg0zopNpoQludRdK7dYJseq/cTQ1jjuJ1ayeuShww1xJgxoNgaENPo+X4kvi+MSCPp9iZoTQ7iFIwq3Hwfn/wDDHUmWpASJqE4pyFueG6XRID1yq+e2CdtbXeiXH0bKUw9tpSATlb1couv1OFaYb3KPUhyWh5iyF2SLyg9PJVFEyphQRJNDsUrHQM05zfomM4vtBz6JpSlV0XV18jROjiwpNjBQQnUMoeeOO7JqX6BTk0Geyj0P1+vPy+jtmz9j3vfxfE8fnQXjOF3g3arzQZ8lMAM+ZB/N+B5HAX6iBJDzpKCbiNGoiwmztKTziZwkVbbIhxYONLdfxCmSHFk8gMeS7wnm+QeV+j7WV2LZ9RW+idxj4+SdVhfUiLgiS6V8VqKCznRJfqq5a0jAzaIGQ4T9gFkEuEE53H6Pl+Patv2jIH8//h9/hvuOQPb9nkhb3AZLCThG4lxJoRAGRvcjC5OFS86LBbZJYTdJwGDFEg0Vh4SRQdDsBHzQ1WkSRKQHW8DCIaAYu8C9quQHaWwDMSEbCUyXFCMmxOfN7Rv8jtn5fR2zZ8hIoOCcmzGPJ73v4vieEOt+sIsfinyWW0Cr0Hp5eMxIzmRgJDVCNzgbULPsYgNqACyYpc1rU4gAim4I5JoUUCBIYSb0oEtikrEkiB2t9WLEYrkF8HwOgAsuga0pRAAWeJNKJEUogObQJvoTW67HEzEeT1+CeUfo8uUmEKIRzN4zRI2lEAcWrx+iCPc8jsWzzpCJbAqV5xXEKgKgCc2TcPLJIN5fdwcosiOShANBVBciCGEdELXVWFZDBIXBZAF5igDvZmSAlAglfRq2nVj4IFcXMkxND1NWLRQMhIIXG0ZiM7k+a3qQxIvR6/VRgkGiXYwNKSAPAAjg9sEGFmChZFaYwKqbqAuSnkd04/R8vx7Vt+u7H8owOTN2MBaU2dYaJMjSSE5nmMgfz/8Ah1/hvuOQPb9nlPJng6b7AI6BvhxQ5jLF7u5sBOs7sQMwaVYYG6saTR4DMyUhklNrAgC8t7+fSMhgA3IQJz4MgxtsmAREkWSRJLjQAs5/oU2IFAAERaoIoggOkjZkQXulaajOoX4iCElCEZhmzATlIDgPEZQwgLuaBpO0HkAzIzmW5KtWaId2IYhL4pSlZlm2KYkE2mXAHkdo3+R2z8vo7Zs/VjNbk0noDUJsL0MkK08mQCBgXAoJgsHIAWGEW1XKd4ghg00WnkO97+L4nhMU9F0NRsia8H+OsHsHmYzCkV7BnQLm1xtlUJ8JYuiB0bqkMxl4J7e83CGUMApZhuJNOYqQMJGotQ5rIrVBySkoYHGJkjDFKnaHQXclABZd1CtiIYTIkCZieLUrmAYghGHBJNVSsTMBJujCLN4jan0D3kTUiAg3ZRnAeDyCQYsSWQBEmbXauhf9iaJLIALFqhM5hHLK0A5QMhtcmXiVQQiqXiSZImjlocCEiYWF0IIiXyevwTyj9HlSm7RBS0WyRGSSObBViDiwGTzMMrI2Zb20ga+orVAHWTY2hQPN8wIORGy+vkdi2edJB0KcAy9QUT+c4wMTxUetNgMQFBC8KZSkUJLFR/TlgAhpBlWZvJaolyBg4SxIcimFqcuncVhAsgd2pFGoGaWTcgOiFSpM+42G0qRzd/F44jfiRphfyONQVWQCaWyAI2wy095SpWqndz6/X3Tj9Hy/HtW36lAVQDK0EiKrJR4QFBmGWYgOiKIAMB5lkD+f/wAOv8N9xyB7fs8lgiwFIiGb9TwRpXTNiteBFeU1cHLVx9h94O1A6DpvgjZHzq9O+WWBnwL91xUaECSQyJ2zPWjMjWQoJkvcnIjrUmbmELsLpJm0BCrGYVxkiLXqoa0MBY5FJHiJTuUAAAAYDye0b/I7Z+X0ds2fqkDGDMgXqpyaENozd9ABT1UDripJHl+q0ULByEJZWATltioIqk5Y4QQcxF4ip3nzhEACCgYM4ET6u97+L4nhNzU2EiOjBDqcTzMZhBdzSOsPVroTQMI6IVfu6SbYPwwmyXRR9uHlBIiZEo3+uKWTYDA7u6l3/kAxc0kAbtaRlUFVMExMNirq75ASd4Spuu1GDzDcz7xJXVpqdJ7WziQDqUv3pjfwMMgEFpiJJmoLiJkQcHkyQYghWPAwlgyepSCdD/60rIWhKEQ9Uov1ucmE5ksbTs+CgDMi55D8E8o/R5crcYkJ5IXhQ0GAEAGhSOyYoRK0cgSorYGpLdXSiQzOANnJmPq7Fs86R+bBmNQTRADohRhYuYsgBKGoMQYCBW05rauATqTypicjbwAgJC4JdQBaEthIYKS2Z3CL0uSDgsqMrX6GotQEGOjyAgSiN0oY0mj3bQNZgWWUpaUCgLCE7ZENvMFvtDJsFGJGHAstpdKQ0qZlsx55JO4Gk0UYsVYQRKIG6Jgk40gOGAcgD6+6cfo+X49q2/UrW28JYQXkTmBekOGxaFyBQAQYHOmuThsXIkriTfM0+zj8AJVXBUxqgF7sRHEUqFmd4SYRDDDck4+SyB/P/wCHX+G+txSyG4JYOdLICoNPJdzJKk/KGgQJdDIJEN0Hy+cV7IylXAKhDWSG6ETwA9v2eS5QNQOxlO8mF1EoiyyIRmRBEZhEy0ABAEggXeNKnxPICRDURSo402DmRN7ZYYAWlKqy/EsUkEuik8ViVaFc+XoxZ4SAvGYkrF4TIMROFldc5KALPSQRNqxZqTeb1Op9sjDdDAAliC7SGSQA52UZbrMtikJZh1eoaGA0OMq4+RYGlV2Aano7hdMBwbE4fK7Rv+rtcinCVJBKwDYvWCpgk7MZbjCVn5fR2zZ+o1etYUgOhdLS7SlyBmFNmQGDhMLSraRkpZVgEqZMsMUKnUQVRi4i2lAPkvGCoL3LGwGsQTrmZFKOqBPFS4D9Xe9/F8SoWIlYcAug3eBGUqbYdMrZF1iwdSWvg2uwS6kguDYI6PlYzBmML5giUWMrYF8WKhWA0EMhqFlxqxM1j4xmMT2AC0kIO4vVsxRuZIZi1zYoUgh4ci6EABBwQjaBE7j8bIyp4ATqpI0N6UnWXl2bdkgptCSJDweCvSkrQFga3V4lgnQKh5s6UJEc3smopbNACxCLLMXrsoLuo3paLgCbohYgFkpklKKGDHKQC3AAjXXNRvH3usnALS0mUkiFMoCSVS5LaC1F9mI3qBucimQetHVQCzKYC5gnBKweR8E8gWlVR6SJhjxRrHh+jypQMgBYEryNatjVfoURTClG54BdHBUScGQJutqWtyAHL3NojQyhQfq7Fs+hczINRhG2U6GeH2cjxF6IBLAKQYBXSokTtgJWYTgSQkzTUppRKJJEE5JPkd04+Di0irQmX4D4fL8e1bfpiTtcW0I1W14N0L1ZEocUiQrIMhnZmhOopwBK+1OWQNV8gAghCSYh4Vf/AMnCDAkRBtaSSGkoRcoVy4sOAEuq0qsYUO+aXWGoanksgfz/APh1/hvrzE7GEjaDAtdwi0OQxmukoCy40iCrNIumxvs/XyBQVHskAkXGNk3+gkSJPk+zKgs2NWr80G+8iYtMSaJU/wA4czVXCIUIG+ldv2fat+UlYzIAqWuoaAIooDd0UF9Xd1b+V2jfUKs8zBcJDethKWzy1aWvHTBo2WhiHhAVppMroDQsLFmA0azwCVDawuQcLYHBCcD6O2bPkjICWZwp01V0C0q4pd3mCQsWEUDAypKcOQKlKL0y50x9Xe9/Ey+DdYEUgMwMsNEVSSCzDJsoP1SXJ5grlHca+aW1/aLtcSSRbamuASFIIRmVA70coiabp+BNergUsFdw9a3e3zqLPpL1qH9BOtaUdvakf6TVjz6AapJ5JjsQLA5GaC5qOZrAIpwGwihsTQOFBY82UOY4p11QQsNoc7XPNSKIrJAy2VXT6+xbPHrEaS1nb2ThlNkTvWDLy3CXOAQNAoNyQicF9D6Bh4Mn3cy6i1l7MCv1I/6Gpr3jsJE5IiQTcpQp4Dk4nLxM+Qo+ocIhI+3j2rb5QaFisTkwJEDCipBLMolrAYkmWUKnPksgfz/+HX+G+sBUzNsfOce7TwOmQAWhcd2yYasqxCw3mHy/cAgkSRQJXKxWnKSRyZHiE4KoC2AyuSF9xZWu37PwHaN/1drVf6QMS2JUu1pDMqfCzxD1lHWO2i7oZXVbuv0ds2fJKL4tEQAoMInN3fwf27NWCiQQWCJfq73v4vifRFxz3thMhJBb4NTH4Yi+qkl/BGPgnkFoOyJkIOxtKOA0Zvwi72GQXYjhX6PNlKPc+tKE0qqt2hM9GGZAkxG4n19i2fQymszmbAwIdDjWMZMXevZ1g8W1pKvkhm7oV15GUqWId1wkokLdCXkIkArZoEkUAIsi+iMSRl19MkqVx5Y0xxUYeCrWgDo8ZTCJDhATkvIylZcRGXBxSPpTKgCYgbeS0lQZX6e6cfA3Mdz5BcIl3oQaBLgNkNxj1AO618vx7Vt8kdNxztJCAmRhhC3h6PsSIoZYdNt/JZA/n/8ADr/DfW23pBNWuw2m+LWlkQ9k3Upg04sQAkcOqRgoPP3IHt+zyXOfVoi3BbDhS2cUYhW9LJK4BOhcNPADF1vaVNgAsw3g1pBN5AEAAmwyIvnMfQxw0WSAy6kwCAVSiLKAUyYQriRnbxmjhlpwsksogIXzTELCVxgl0Dye0b/I7Z+X0Sh10wbVOBUjdAfYh5OrmGp42HEcSfD4nn4zE0LSqpYasN7h40Td6CdvGgjMsSfDeR7ECobrEBqtKMjmvIw2AKd2dY+slRnKAbWDH0JW5s81Ms2kq65xVnrCa6g1MvicJhNCSWQKJiXKN8U3qWyEAWFzAWnyvgnlH6PEBY8SWEo1YINUCny6Yiv2SSjRH7BY0lXYxuJgDVQpMjP5SH1m9fIkf82FWA9g6ELFiA4A2APAEePIK0WULEsnQSnxOQZomZCLxNYoVkZIZyxBBFxYyhqA0PoIEiLkgGQib1jkF2GQCoAXSBoXiSWtJJgokOSBDsALAIrSFcxZYkzmmbEIYik0htKkwsXqV4nABOAXhbZLrRoe7PdA3sAXtBGKvuUfs+7FxhJCRp6ZJWbgjJM2yUKjn4UkthYQKSS1WKGMESK8hVIr5WilO4fIOwpAZSTLJlWsaxW0tXNBlhmy9N3X7ASCwXQBm1J0SSGBx1JhMKsQF9a+vXKgGCRcUICwT7PGUJSkJN1mC2lEu5WxSJDJGwJEjexKJOuwJ+67px+j5fit8vmCetAjL9iUrd8mY1ZnyF0pi7NaEPcfD5//AA6/w3kCP9PjSIYWjDQ8uAvGQkYxJuI6+fyB7fs8kR5QvqyjZTRgXI0mwuDh+EpysfoCIMVAc+gTPoJFODXSGxsuBaNhYE24xcl7mJqeFJJEMouGok04X99LXxWAklJp4sEAKgSmMQ72L+AqFEKzOEbwLJlm5a5LC2IT1iixwBOk0Rn8oC/aN/kds/L6FjUXofBrhLc3RkUo9ajoyhUfYV2n1rtPrXafWu0+tdp9a7T612n1rtPrXafWu0+tdp9a7T612n1rtPrSC0KcjgyXEojfH3FnBwLc2/j8T7DGYuyMAvdzz/ZNKspG4yhIfMk3U0rMqU9cl5oOMNaxMHeMRwACluwLY0r7UXEC82JY3Mw2FhiAiDCcCwmIogwqEFOzXESrwBqiAbpUiQhPEVABRJgubXT0kmZQJK2lOXOXNLiYBw50jJL+iUZpZepoJQSVMCUtckewl+Xo5DR1EdfLa+CeUfo+hVzHluF4gtsFdt9a7T612n1rtPrXafWu0+tdp9a7T612n1rtPrXafWu0+tdp9a7T612n1oFhDP8ADCpxtmRoAICDyJJY98zCaeCudGGtQIsFSkSMiCmo7jTUhgTMosBu1OUgLuDATYcGCh9IIZgTDxJhNEaas0DhA6iey8MobAtN9fGuGNEsUiqntBNRc8KIFWDYgngaNDGPEhrZxYb6NPrf5DGtyy/EobgJdWT9C0u1iCXdfgAl7WCFzhWXIIFmIqxoii3LkwArTQO1EkMCmkw+1F4jNceerakpmx7C7ZkE7TTMYBYRE2Q34qunXEuxdeNIgm9DchRd04/R8vxXJXUjIjoEES4g0cPos9wAhabtgLefDDDDDDDDDDDDDCqQIcK4VsJ/ta8Xpo3S3j8//h1/hvuOQPb9nlTs/QgLs5ea+htSZdyswiFrIjNpNKyXwG1lN/UE6+CC/hspnLNfY53oxrValDGzezo1KS5ZYsBpMjeNhSDNKbJ7Grk4A0qSCHF4DG1x80F0mXBz9U+sODhQmyBxbIipTM9bVFUSE7DapYk3ox5UX7Rv8jtn5fcfE+wxmBcKHq56w0r1LYJ+HEj0bVEYp13hJzQY13/DBBi9cRv4QvWmAgCm269ZfWorEm3LmEYPDhR8NmYCFvdP/wAUc5G11sWjpBXARdCvurTIv3ZSYQFzteUo/XBB6gkbrg+lFgqRUF6QiSctTy2vgnlH6PvZGkgAukKLImjUxUBXAsxKCTos4FCGMxAMKOWMsOo0HhcJhiAEWQIkIhERSTwejpOat7tZm9Ti1dWEAVCLASAQArFctghBBEkih3ktSAlrYAjChFkRaKCbHENwCTAqrAoAtT4BBJIWiImQ3MrYMPmuqECuBuStvV7biCiRNWZZcqqs1EQEWjZIAWyzutGB+sbYM5ABgU3hSwCLKRWBBuaCqg0IgIUjMmrrTdbUbBe6oATQsgAFguzFDKRtpPoiHEEjdiuMOZVwJAMPVm6sBuQICEmZwCZLVd9W85SjCW7EC3Rb0GJbMo0RDRcE3b3ZxIAbCWwTB7zLRiIE0gBdkXBLAWo8NA7SAaAtIt84junH6Pl/b/P/AOGe2DQ3I9AWgeAi2AIno/Yg/gvwrAcM+31IQSKeBF1p2UgHqEf15KlSEmNTUBGcXN6FFJ1mQEw6mycKQCS5ZNXRiE5qkPn5GkRkwjkU9i2E1gV0YSdxoysMyD8FIDjHUqCByGPdylMQA0JI0QmKU5ukgnWPUtjd7Nmti5OZQ9csE/IW3KrFmJqJ1WQSllFZuLgalAoWPATAsCm0kllGkC26ecTRWMgbApCsFDFTtooZsFeAtGsdQusTlCBnyVLhNdigEG4h4n+x9efl9x8T6SuU0NVraJJobCJ+nyUBijyQmELB3Qcah2mQAxPMlgIc2anZCsEZh4CCYKOAnRnVxLeFVBLdlK2NcTW1i3EOjE1LWK5MgkEAwxJzpp0WpIIFgA2ZJkuwQilm+eFcAHTAywHQtbgER0EYdyVppZ8JBIWUolwNjcinAvSNQIkhJdUQNhILenMbBFNgREEkUf7hfmIrKboWvrSOlPOkR2ACDEoMAahCVhjgCExOtGMAAIJO44fJ1yC1myHyPlfo+7sFsqHE8s+4URUCyjdcxLEFRyo7sCSLYvJtnz7mNAeDf6Pl/b/P/wCGuijWFcodG9nRphPRG9oRQRDY2KB5MSSE+yzXc/Wu5+tdz9a7n613P1rufrXc/Wu5+tdz9a7n613P1rufrXc/WkCe9500mhbLysgC4kLukmwMgQoo5pYvBBp9TqBAEqbHEAUbEJDXADeRW3N5PESWFBBXnQxEscpYJZKJxLvWNWMBxGJgsTMGKiGKQxgEsWAAvgKBykjDAFHiUvzJ97IjZODRgMwSEszZ2e1DBYAgAwBTWZFNphgJJo5KWa0iFQus2GtdgkDuxl4t6m5bOZMyEygwlQUVbVMQXhLlaa4h3JmEyE6FTPh3ZImCYYLcPJK0ADhRyxJO9D+RCXED1+uGfl5DYlpPvvOYt+AmLx4KBLYopHcaupi34CYvHgoErBRKMoVqot9zExePJ+J9JMUAwhCezTFhrMirwyNzZYfwDpZkgRKq4AqwElYMuer2Ojs8r9H3Y3TSWHeXZnfQPumZgSqwBSlmTGFBwEvqvo+X9v8AP/4cJSQgGyNmnbwyqy+d06dOnTp06dOnTp0gMk9H4OPiQB5AlAU6f73LLEsCUu37E4ywe1HNQhIncvvDt27du3bt27du3bt27du3bt27du3bt27QJq6VoQA3dAfIu3KfPymwZRvrK3lrLQEACACAPrz8vIP6WDcasy3PHnhK2DWNKEuAANii+lg3GhgVvjnPCVsGsaUTcBAbFTfGDcc0cCt8c54St6kaUTUBAbHkfE+p6GRd7avE3G8K7tAeeYs9bmwZ6KDsWXk90+9MMMMMMMMMMMMMMMMMMMMMMMMMMMMhY+yc8Wz81L4iSLR2CzMXoxI48whETPAYNBuqvk/o8iM/l2EoyC3LE2Iy1MHG7nUQFLhibs4PCMfl2EoyE3LE2Iy1J3OlzqIClwxOrB4R3u+1lEQm9YmxGWpO4RcqiApcMTqweYsecOAurRATltQ6hzlAw0kzwSutCQpDzbiWftyARPOSSFLJMKaQ24LOEcGXRLKIHy6rq3+j5fkDLgqAghgbYVWcFNGAgiKgA0WALHHwO3BUBBDA2wqs4KagAhEVhBosAWOPhBtAnIiGBthVZwUlAJCIrAAwsAW5+R8//oM+Gw5hE9WkqgcD7wSJEiRIkSJEiRIkSJEiRIkSJEiRIkSJEgFz0GlXM8d0Jco8nPy+4+J9eaCxHmCUuFXSP7QK7e61291rt7rXb3Wu3utdvda7e61291rt7rXb3Wu3utdvda7e61291rt7rXb3Wu3utdvda7e61291rt7rXb3Wu3utdvda7e61291rt7rXb3WiyjSIB6SKP0EIBsBY8v8AR5BYodHFICRaRLUreHLpWkFIAlWx4FtqFxSAkWkS1K1lyaa0gpAEq2PAttQuKQEi0iWqVsuTVrSCkASrY80ztQKPirNEYFJePMoekH25w4cOHDhw4cOHDhw4cOHDhw4cOPeCTw9SL1GhgSDnNALB9Py/InGRZ2Mg8DBJMWokRJGCWVdVW6srr4TjIs7GQeBgkmLUQY0jBLK7qt1ZVz4TyIs7GQeBgtMWoghpGCWV3VbqyrnyPn/+D5+X0MiqAAug1TQJWidLlzcYUVwaDg0HBoODQcGg4NBwaDg0HBoODQcGg4NBwaDg0CTWk6ePrBQobjyiRIiWRNfH4n5H9H5r5f2/z/8AwfPy+gjPo2BO2QIXHqBIwIAIA8+KMZY7KIalas28UW7cA4DVVfD4n5H9HiiJRU0lRsBSeLJVjLen0OVdt9K7b6V230rtvpXbfSu2+ldt9K7b6V230rtvpXbfSu2+ldt9K7b6UksDMl9ovVtFMKZXEAtrwLEE/hvl+LUhgDMosBu0lUY8RoQB5lvPVVVVVVVVVVVVVViQGMHdQbelNlCCfwDNwuB4ePz/APwfPy+jsOz7R74n5H9HiqhJSHFJzHIaJfEYMQALAGn2EZg4eESVqBnCQdKtAs/wD8/hfl+MJAzsShl42ZrfUEKPY8RgCwcvPQSG5RFuhu6E2EkhfnJ4fP8A/B8/L6Ow7PtHvifkf0ePaNn5dtx+X49n3faUfn/+D5+X0dh2fXu1Jt28s+a98T8j+jx7Rs/LtuPy/Hs+765Jn/xSKxJHKb480j8//wAHz8vo7Ds+qcFiwZNm4jAUFyBQGUu9bQhFrk5WltimNka3RKFvANDzHvifkf0ePaNn1i9yRqxMmY44pUBGDSEk7gRmYpoCYN6DAbgpctc/HNuPy/Hs+76rHUg3eOKAOKUEE8q2vUwfanrSgyAjwfMI/P8A/B8/L6Ow7PpFrHvX0VPqPLrIXPBeqgXX31C3vZeQ0psVUzJTctelRyWHNQWpkIkBCrip8dBgiT2aJnCXSnK5YP0EqRMN8j5L3xPyP6PHtGz6g+NEZhaTMN41qPydsjTI3bhAILU2rkHtFi9lYtFhEygMhJz0Fk0SSP45tx+X49n3fUD+i8jEhcXoDCA3od/ecNDkJV+pvu8jr5hH5/8A4Pn5fR2HZ9IHo0NQR+GmYgzggESIEoryKF4eKoyOJEWlJd1Vo6EjoHYW5LwmMFJOYuyQe76IRQIiKlThQgO4pUSO0mQSAJDcQTD5L3xPyP6PHtGz609RGuorPo+tHqGQ0R60j1pORBsLRxi5dAXSie/sdYRYOiyi9kS4C2PRRLALLOF4/GNuPy/Hs+76RYHtmcNQF8EZSgBXqihCxpTcm5Y6NlOEWImzLHNV8ZUc1/5ml+vQsokYbolhugZpCii+BuNTxiRreQYZOotwTDcLBl5JH5//AIPn5fR2HZ5BEgXfEPzV6hWX4mnUYAQ04fJ6UIWoBwCYZDyXvifkf0ePaNn1krQlzAO6QjdPgTYtHL0OCHmohJje0gAyl5goQ2wjdCoY2IgMpJP4ttx+X49n3fQDg2bdEwDK6FSGfGqEYzCMLSABe6wkWTAy+grcIxQFVUEpNAAy6rwlkzKBJnjFQAiyl72EBcakBBbGDktRgsLCFpLB4LNHZZUuBUIF8LTJMj5JH5//AIPn5fR2HZ5JQpSCA7k0FAJ3CNp28p74n5H9Hj2jZ5J24Ckw4XumCWxCzTujPphFFXgCzebpJerKFWCXGBfb8Y24/L8ez7vJnKk5eBgsigluoikxhAkL4SqdsYIm8HMEDkWI/Xkkfn/+D5+X0S4k5CJd1Kgcd0ee2JaAmrd9mFcEaw4Tx+J+R/R49o2fl23H5fj2fd5I9IgZE4jUeqjBNw0fKI/P/wDB8/L6JGrF7GMaWZLDFiilhRCHF3XHzxRRRRRRRRRRRRRXlmuqeUqmpUI/jQG6rdXKsq3Xx+J+R/R4mXhqRZHUCT1dKEOBAyv+FIfYO7UAQJEssCU80EQUG3MYfAfhfl+IgbOnY4WAXWWwqEQREcJ9gmIj7kVmEgGTgTx+f/4OkiUkKOn25v6X5EwHc+h/MKOblRhdVJfP+fPnz58+fPnz58+fEUNswTSFCqmYMTmDiviINzH4Mxz/ABv73M2HcTIkI3K0HW0fATwL13h0rvDpXeHSu8Old4dK7w6V3h0rvDpXeHSu8Old4dK7w6V3h0rvDpTKwhGmwJFLqkU7yLq7bBLAT4if/CJYZZzwftgoAlaiNWv5G0GS5TZh+2dkLGPwaMAxZ+3QFa2P/CEEhJGr8r0aQ/8AuuN96433rjfeuN96433rjfeuN96433rjfeuN96433rjfeuN96433rjfeuN96433rifem5jmauJfd+TunqUNsHI1xvvXG+9cb71xvvXG+9cb71xvvXG+9cb71xvvXG+9cb71xvvXG+9cb71xvvXG+9cb70Jt9aIZU8CgAgx+DbkNJM+ygZ9quI9q4j2riPauI9q4j2riPauI9q4j2riPauI9q4j2riPauI9q4j2riPauI9q4j2riPasB7VJPwf/i//9k=)"
      ],
      "metadata": {
        "id": "BbIwDpT8F_aq"
      }
    },
    {
      "cell_type": "markdown",
      "source": [
        "![Image](https://github.com/huggingface/open-r1/blob/main/assets/plan-of-attack.png?raw=true)"
      ],
      "metadata": {
        "id": "iHfvR7USgDYJ"
      }
    },
    {
      "cell_type": "markdown",
      "source": [
        "### 3.1 Load Baseline Model\n",
        "\n",
        "Let's first load the baseline model. In this case, we will use an Instruct model with 0.5B parameters to keep thinks small and fit this notebook possibilities. The model used is Qwen/Qwen2-0.5B-Instruct."
      ],
      "metadata": {
        "id": "D-UlkRzREf-J"
      }
    },
    {
      "cell_type": "code",
      "source": [
        "import torch\n",
        "from transformers import AutoModelForCausalLM, AutoTokenizer\n",
        "\n",
        "model_id = \"Qwen/Qwen2-0.5B-Instruct\"\n",
        "model = AutoModelForCausalLM.from_pretrained(\n",
        "    model_id,\n",
        "    torch_dtype=\"auto\",\n",
        "    device_map=\"auto\",\n",
        ")\n",
        "tokenizer = AutoTokenizer.from_pretrained(model_id)"
      ],
      "metadata": {
        "id": "qv02eazzEUeJ"
      },
      "execution_count": 5,
      "outputs": []
    },
    {
      "cell_type": "markdown",
      "source": [
        "### 3.2 Configure LoRA\n",
        "\n",
        "For training the model, we'll apply LoRA."
      ],
      "metadata": {
        "id": "OksUs_tWEXvR"
      }
    },
    {
      "cell_type": "code",
      "execution_count": 6,
      "metadata": {
        "colab": {
          "base_uri": "https://localhost:8080/"
        },
        "id": "ITmkRHWCKYjf",
        "outputId": "c419872d-9197-4554-9568-6a884b37ef50"
      },
      "outputs": [
        {
          "output_type": "stream",
          "name": "stdout",
          "text": [
            "trainable params: 540,672 || all params: 494,573,440 || trainable%: 0.1093\n"
          ]
        }
      ],
      "source": [
        "from peft import LoraConfig, get_peft_model\n",
        "\n",
        "lora_config = LoraConfig(\n",
        "    task_type=\"CAUSAL_LM\",\n",
        "    r=8,\n",
        "    lora_alpha=32,\n",
        "    lora_dropout=0.1,\n",
        "    target_modules=[\"q_proj\", \"v_proj\"],\n",
        ")\n",
        "\n",
        "model = get_peft_model(model, lora_config)\n",
        "\n",
        "model.print_trainable_parameters()"
      ]
    },
    {
      "cell_type": "markdown",
      "source": [
        "### 3.3 Load Reward Functions\n",
        "\n",
        "For the reward part of the system, we can use pretrained models or/and reward functions purely defined in code. In our case, we will use both, a pretrained reward model and in addition, a reward function which will give higher scores to longer completions.\n",
        "\n",
        "Let's first define the model:"
      ],
      "metadata": {
        "id": "4M6prmhAEodm"
      }
    },
    {
      "cell_type": "code",
      "source": [
        "from transformers import AutoModelForSequenceClassification\n",
        "\n",
        "#reward_model_id = \"weqweasdas/RM-Gemma-2B\"\n",
        "reward_model_id = \"lewtun/Qwen2-0.5B-Reward\"\n",
        "\n",
        "reward_model = AutoModelForSequenceClassification.from_pretrained(\n",
        "    reward_model_id,\n",
        "    num_labels=1,\n",
        ")"
      ],
      "metadata": {
        "colab": {
          "base_uri": "https://localhost:8080/"
        },
        "id": "BjyV8jE8lQ04",
        "outputId": "6a0be4c2-a3de-49d4-94c3-a5decf3f97fa"
      },
      "execution_count": 7,
      "outputs": [
        {
          "output_type": "stream",
          "name": "stderr",
          "text": [
            "Some weights of Qwen2ForSequenceClassification were not initialized from the model checkpoint at Qwen/Qwen2-0.5B-Instruct and are newly initialized: ['score.weight']\n",
            "You should probably TRAIN this model on a down-stream task to be able to use it for predictions and inference.\n"
          ]
        }
      ]
    },
    {
      "cell_type": "markdown",
      "source": [
        "For the reward function, we can directly add a generic python function! We'll use a simple reward function that aims to generate longer completions. In the specific case of the DeepSeek-R1 training, they uses an accuracy reward model evaluating wheter the response is correct and a format reward thar enforces the model to puyt its thinking process between <think> </think> tags."
      ],
      "metadata": {
        "id": "Br0upyimq_h3"
      }
    },
    {
      "cell_type": "code",
      "source": [
        "def reward_func(completions, **kwargs):\n",
        "    \"\"\"Reward function that gives higher scores to longer completions.\"\"\"\n",
        "    return [float(len(completion)) for completion in completions]"
      ],
      "metadata": {
        "id": "otb1nwieeZJp"
      },
      "execution_count": 8,
      "outputs": []
    },
    {
      "cell_type": "code",
      "source": [
        "'''\n",
        "import re\n",
        "def format_reward(completions, **kwargs):\n",
        "    \"\"\"Reward function that checks if the completion has a specific format.\"\"\"\n",
        "    #pattern = r\"^<think>.*?</think><answer>.*?</answer>$\"\n",
        "    pattern = r\"^<think>.*?</think>\\s*<answer>.*?</answer>$\"\n",
        "    completion_contents = [completion[0][\"content\"] for completion in completions]\n",
        "    matches = [re.match(pattern, content) for content in completion_contents]\n",
        "    rewards_list = [1.0 if match else 0.0 for match in matches]\n",
        "    return [1.0 if match else 0.0 for match in matches]\n",
        "'''"
      ],
      "metadata": {
        "id": "BE7ZgN_sDPNg"
      },
      "execution_count": 11,
      "outputs": []
    },
    {
      "cell_type": "markdown",
      "source": [
        "### 3.4 Configure GRPO Training Parameters\n",
        "\n",
        "Let's configure the training paramenters for GRPO. In this case, we recommend playing with `max_completion_length`, `num_generations` and `max_prompt_length` params (refer to the image at the beggining for details about each of them)."
      ],
      "metadata": {
        "id": "qW_3r8T1EtNg"
      }
    },
    {
      "cell_type": "code",
      "execution_count": 9,
      "metadata": {
        "id": "SbqX1pQUKaSM"
      },
      "outputs": [],
      "source": [
        "from trl import GRPOConfig\n",
        "\n",
        "# Configure training arguments using SFTConfig\n",
        "training_args = GRPOConfig(\n",
        "    output_dir=\"Qwen2-0.5B-GRPO\",\n",
        "    learning_rate=1e-5,\n",
        "    remove_unused_columns=True, # Removes the \"completion\" column from the dataset\n",
        "    gradient_accumulation_steps=16, # 2\n",
        "    num_train_epochs=3,\n",
        "    bf16=True,\n",
        "\n",
        "    # Parameters that control de data preprocessing\n",
        "    max_completion_length=32, # 64 -> OOM 32, # default: 256\n",
        "    num_generations=4, # 4 # default: 8\n",
        "    max_prompt_length=64, # 128--> working with one reward_func, # 256 -> OOM # default: 512\n",
        "\n",
        "    # Parameters related to reporting and saving\n",
        "    report_to=[\"tensorboard\"],\n",
        "    logging_steps=10,\n",
        "    push_to_hub=True,\n",
        "    save_strategy=\"steps\",  # Strategy for saving the model\n",
        "    save_steps=10,\n",
        ")"
      ]
    },
    {
      "cell_type": "markdown",
      "metadata": {
        "id": "pOUrD9P-y-Kf"
      },
      "source": [
        "### 3.5 Training the Model 🏃\n",
        "\n",
        "Let's configure the trainer and let's train the model!\n",
        "\n",
        "In this case, we pass a list of reward functions to the trainer, which are the reward model and reward function previously defined."
      ]
    },
    {
      "cell_type": "code",
      "execution_count": 10,
      "metadata": {
        "id": "k_jk-U7ULYtA"
      },
      "outputs": [],
      "source": [
        "from trl import GRPOTrainer\n",
        "\n",
        "trainer = GRPOTrainer(\n",
        "    model=model,\n",
        "    reward_funcs=[reward_model, reward_func],\n",
        "    args=training_args,\n",
        "    train_dataset=train_dataset\n",
        ")"
      ]
    },
    {
      "cell_type": "markdown",
      "metadata": {
        "id": "NlDsh4WvWCx0"
      },
      "source": [
        "Time to Train the Model! 🎉"
      ]
    },
    {
      "cell_type": "code",
      "source": [
        "trainer.train()"
      ],
      "metadata": {
        "colab": {
          "base_uri": "https://localhost:8080/",
          "height": 169
        },
        "id": "BgCvmRQJAUzB",
        "outputId": "e9dd84b3-68fe-4a49-8089-650b00f6ee60"
      },
      "execution_count": null,
      "outputs": [
        {
          "output_type": "display_data",
          "data": {
            "text/plain": [
              "<IPython.core.display.HTML object>"
            ],
            "text/html": [
              "\n",
              "    <div>\n",
              "      \n",
              "      <progress value='35' max='168' style='width:300px; height:20px; vertical-align: middle;'></progress>\n",
              "      [ 35/168 14:43 < 59:21, 0.04 it/s, Epoch 0.60/3]\n",
              "    </div>\n",
              "    <table border=\"1\" class=\"dataframe\">\n",
              "  <thead>\n",
              " <tr style=\"text-align: left;\">\n",
              "      <th>Step</th>\n",
              "      <th>Training Loss</th>\n",
              "    </tr>\n",
              "  </thead>\n",
              "  <tbody>\n",
              "    <tr>\n",
              "      <td>10</td>\n",
              "      <td>0.000000</td>\n",
              "    </tr>\n",
              "    <tr>\n",
              "      <td>20</td>\n",
              "      <td>0.000000</td>\n",
              "    </tr>\n",
              "    <tr>\n",
              "      <td>30</td>\n",
              "      <td>0.000100</td>\n",
              "    </tr>\n",
              "  </tbody>\n",
              "</table><p>"
            ]
          },
          "metadata": {}
        }
      ]
    },
    {
      "cell_type": "markdown",
      "source": [
        "Let's save the results 💾"
      ],
      "metadata": {
        "id": "z7_y1x7E1JY9"
      }
    },
    {
      "cell_type": "code",
      "source": [
        "trainer.save_model(training_args.output_dir)\n",
        "trainer.push_to_hub(dataset_name=dataset_id)"
      ],
      "metadata": {
        "id": "Cazf4AB2nbRT"
      },
      "execution_count": null,
      "outputs": []
    },
    {
      "cell_type": "code",
      "source": [],
      "metadata": {
        "id": "mef_Th0MnbVT"
      },
      "execution_count": null,
      "outputs": []
    },
    {
      "cell_type": "markdown",
      "source": [
        "## 4. Check the Model Perfomance"
      ],
      "metadata": {
        "id": "MBv5BK1a1N-0"
      }
    },
    {
      "cell_type": "code",
      "source": [
        "train_dataset['prompt'][0]"
      ],
      "metadata": {
        "colab": {
          "base_uri": "https://localhost:8080/"
        },
        "id": "GbVkxQbQPByV",
        "outputId": "c3966ed6-d75d-4831-c509-df7dfe332e60"
      },
      "execution_count": 32,
      "outputs": [
        {
          "output_type": "execute_result",
          "data": {
            "text/plain": [
              "[{'content': 'A conversation between User and Assistant. The user asks a question, and the Assistant solves it. The assistant first thinks about the reasoning process in the mind and then provides the user with the answer. The reasoning process and answer are enclosed within <think> </think> and <answer> </answer> tags, respectively, i.e., <think> reasoning process here </think><answer> answer here </answer>',\n",
              "  'role': 'system'},\n",
              " {'content': 'What is the coefficient of $x^2y^6$ in the expansion of $\\\\left(\\\\frac{3}{5}x-\\\\frac{y}{2}\\\\right)^8$?  Express your answer as a common fraction.',\n",
              "  'role': 'user'}]"
            ]
          },
          "metadata": {},
          "execution_count": 32
        }
      ]
    },
    {
      "cell_type": "code",
      "source": [
        "model_id = \"sergiopaniego/Qwen2-0.5B-GRPO-test\"\n",
        "trained_model = AutoModelForCausalLM.from_pretrained(\n",
        "    model_id,\n",
        "    torch_dtype=\"auto\",\n",
        "    device_map=\"auto\",\n",
        ")\n",
        "trained_tokenizer = AutoTokenizer.from_pretrained(model_id)"
      ],
      "metadata": {
        "colab": {
          "base_uri": "https://localhost:8080/",
          "height": 49,
          "referenced_widgets": [
            "4ccb25d6853741ee8286e392487b8502",
            "3b34c66459fe42f6ba70bc158962fd6a",
            "1cd92e2058b24cb8b277ebe838973f06",
            "62feec4d20fb488aa2d1c47fea099434",
            "228096e8498d42d1b30c528f72e8c5dc",
            "5eb85d16842341d788353ddc802b5dc6",
            "c4c0a5e0a4e1464a8f2d8c815f679dd6",
            "c13037e814f943cba369b734b019a625",
            "f3a07c575ec544a090598e19075ddde1",
            "adbc030e3ef04134bfc58572ec52a523",
            "b9c9d21f977148d88ca70ae9041580de"
          ]
        },
        "id": "sHOjAE1-PB1D",
        "outputId": "d06a4d1d-80fd-4951-8bd4-41b2503797fb"
      },
      "execution_count": 33,
      "outputs": [
        {
          "output_type": "display_data",
          "data": {
            "text/plain": [
              "adapter_model.safetensors:   0%|          | 0.00/2.18M [00:00<?, ?B/s]"
            ],
            "application/vnd.jupyter.widget-view+json": {
              "version_major": 2,
              "version_minor": 0,
              "model_id": "4ccb25d6853741ee8286e392487b8502"
            }
          },
          "metadata": {}
        }
      ]
    },
    {
      "cell_type": "code",
      "source": [
        "prompt = \" \".join([entry['content'] for entry in train_dataset['prompt'][0]])\n",
        "inputs = trained_tokenizer(prompt, return_tensors=\"pt\").to(trained_model.device)\n",
        "\n",
        "with torch.no_grad():\n",
        "    outputs = trained_model.generate(**inputs, max_length=2000)\n",
        "\n",
        "generated_text = trained_tokenizer.decode(outputs[0], skip_special_tokens=True)\n",
        "print(generated_text)"
      ],
      "metadata": {
        "colab": {
          "base_uri": "https://localhost:8080/"
        },
        "id": "fTr3puI3PB4R",
        "outputId": "7ca00b3b-be3a-412a-f862-ba16e14a024b"
      },
      "execution_count": 34,
      "outputs": [
        {
          "output_type": "stream",
          "name": "stdout",
          "text": [
            "A conversation between User and Assistant. The user asks a question, and the Assistant solves it. The assistant first thinks about the reasoning process in the mind and then provides the user with the answer. The reasoning process and answer are enclosed within <think> </think> and <answer> </answer> tags, respectively, i.e., <think> reasoning process here </think><answer> answer here </answer> What is the coefficient of $x^2y^6$ in the expansion of $\\left(\\frac{3}{5}x-\\frac{y}{2}\\right)^8$?  Express your answer as a common fraction.<think> The coefficient of $x^2y^6$ in the expansion of $(\\frac{3}{5}x - \\frac{y}{2})^8$ is obtained by multiplying the powers of x and y that occur in the terms of $\\left(\\frac{3}{5}x\\right)$ and $\\left(-\\frac{1}{2}y\\right)$. We can calculate this using the binomial theorem or by expanding the expression directly.\n",
            "\n",
            "The reasoning process:\n",
            "\n",
            "To find the coefficient of $x^2y^6$, we need to multiply the powers of x and y that occur in the terms of $\\left(\\frac{3}{5}x\\right)$ and $\\left(-\\frac{1}{2}y\\right)$. \n",
            "\n",
            "For the term involving $\\left(\\frac{3}{5}x\\right)$, since there's no power of x in the expansion of $\\left(\\frac{3}{5}x\\right)$, its coefficient is simply $\\frac{3}{5}$.\n",
            "\n",
            "For the term involving $\\left(-\\frac{1}{2}y\\right)$, the exponent of y in the term is 6, so its coefficient is $-\\frac{1}{2} \\cdot 6 = -3$.\n",
            "\n",
            "Multiplying these two coefficients together gives us the total coefficient of $x^2y^6$: $\\frac{3}{5} \\cdot -3 = -\\frac{9}{5}$.\n",
            "\n",
            "Therefore, the coefficient of $x^2y^6$ in the expansion of $\\left(\\frac{3}{5}x-\\frac{y}{2}\\right)^8$ is $-\\frac{9}{5}$.\n",
            "The answer is: $$-\\frac{9}{5}$$\n"
          ]
        }
      ]
    },
    {
      "cell_type": "code",
      "source": [
        "user_prompt = train_dataset['prompt'][0][1]['content']\n",
        "start_of_response = generated_text.rfind(user_prompt) + len(user_prompt)\n",
        "\n",
        "response_text = generated_text[start_of_response:].strip()\n",
        "\n",
        "print(response_text)"
      ],
      "metadata": {
        "colab": {
          "base_uri": "https://localhost:8080/"
        },
        "id": "ZTlcfcpGVGhA",
        "outputId": "b46a6300-5705-4b76-e4c4-52b267eedb25"
      },
      "execution_count": 35,
      "outputs": [
        {
          "output_type": "stream",
          "name": "stdout",
          "text": [
            "Respuesta generada por el modelo:\n",
            " <think> The coefficient of $x^2y^6$ in the expansion of $(\\frac{3}{5}x - \\frac{y}{2})^8$ is obtained by multiplying the powers of x and y that occur in the terms of $\\left(\\frac{3}{5}x\\right)$ and $\\left(-\\frac{1}{2}y\\right)$. We can calculate this using the binomial theorem or by expanding the expression directly.\n",
            "\n",
            "The reasoning process:\n",
            "\n",
            "To find the coefficient of $x^2y^6$, we need to multiply the powers of x and y that occur in the terms of $\\left(\\frac{3}{5}x\\right)$ and $\\left(-\\frac{1}{2}y\\right)$. \n",
            "\n",
            "For the term involving $\\left(\\frac{3}{5}x\\right)$, since there's no power of x in the expansion of $\\left(\\frac{3}{5}x\\right)$, its coefficient is simply $\\frac{3}{5}$.\n",
            "\n",
            "For the term involving $\\left(-\\frac{1}{2}y\\right)$, the exponent of y in the term is 6, so its coefficient is $-\\frac{1}{2} \\cdot 6 = -3$.\n",
            "\n",
            "Multiplying these two coefficients together gives us the total coefficient of $x^2y^6$: $\\frac{3}{5} \\cdot -3 = -\\frac{9}{5}$.\n",
            "\n",
            "Therefore, the coefficient of $x^2y^6$ in the expansion of $\\left(\\frac{3}{5}x-\\frac{y}{2}\\right)^8$ is $-\\frac{9}{5}$.\n",
            "The answer is: $$-\\frac{9}{5}$$\n"
          ]
        }
      ]
    },
    {
      "cell_type": "code",
      "source": [
        "import re\n",
        "def format_reward(completions, **kwargs):\n",
        "    \"\"\"Reward function that checks if the completion has a specific format.\"\"\"\n",
        "    #pattern = r\"^<think>.*?</think><answer>.*?</answer>$\"\n",
        "    pattern = r\"^<think>.*?</think>\\s*<answer>.*?</answer>$\"\n",
        "    completion_contents = [completion[0][\"content\"] for completion in completions]\n",
        "    print(completion_contents)\n",
        "    for content in completion_contents:\n",
        "        print(content)\n",
        "        print(re.match(pattern, content))\n",
        "    matches = [re.match(pattern, content) for content in completion_contents]\n",
        "    return [1.0 if match else 0.0 for match in matches]"
      ],
      "metadata": {
        "id": "pkine_zjVzuo"
      },
      "execution_count": 36,
      "outputs": []
    },
    {
      "cell_type": "code",
      "source": [
        "completions = [[{'content': response_text}]]\n",
        "\n",
        "format_reward(completions)"
      ],
      "metadata": {
        "colab": {
          "base_uri": "https://localhost:8080/"
        },
        "id": "qj2rDW3aVaqi",
        "outputId": "607960ae-99c1-41f6-aaae-ae04f3598e79"
      },
      "execution_count": 37,
      "outputs": [
        {
          "output_type": "stream",
          "name": "stdout",
          "text": [
            "[\"<think> The coefficient of $x^2y^6$ in the expansion of $(\\\\frac{3}{5}x - \\\\frac{y}{2})^8$ is obtained by multiplying the powers of x and y that occur in the terms of $\\\\left(\\\\frac{3}{5}x\\\\right)$ and $\\\\left(-\\\\frac{1}{2}y\\\\right)$. We can calculate this using the binomial theorem or by expanding the expression directly.\\n\\nThe reasoning process:\\n\\nTo find the coefficient of $x^2y^6$, we need to multiply the powers of x and y that occur in the terms of $\\\\left(\\\\frac{3}{5}x\\\\right)$ and $\\\\left(-\\\\frac{1}{2}y\\\\right)$. \\n\\nFor the term involving $\\\\left(\\\\frac{3}{5}x\\\\right)$, since there's no power of x in the expansion of $\\\\left(\\\\frac{3}{5}x\\\\right)$, its coefficient is simply $\\\\frac{3}{5}$.\\n\\nFor the term involving $\\\\left(-\\\\frac{1}{2}y\\\\right)$, the exponent of y in the term is 6, so its coefficient is $-\\\\frac{1}{2} \\\\cdot 6 = -3$.\\n\\nMultiplying these two coefficients together gives us the total coefficient of $x^2y^6$: $\\\\frac{3}{5} \\\\cdot -3 = -\\\\frac{9}{5}$.\\n\\nTherefore, the coefficient of $x^2y^6$ in the expansion of $\\\\left(\\\\frac{3}{5}x-\\\\frac{y}{2}\\\\right)^8$ is $-\\\\frac{9}{5}$.\\nThe answer is: $$-\\\\frac{9}{5}$$\"]\n",
            "<think> The coefficient of $x^2y^6$ in the expansion of $(\\frac{3}{5}x - \\frac{y}{2})^8$ is obtained by multiplying the powers of x and y that occur in the terms of $\\left(\\frac{3}{5}x\\right)$ and $\\left(-\\frac{1}{2}y\\right)$. We can calculate this using the binomial theorem or by expanding the expression directly.\n",
            "\n",
            "The reasoning process:\n",
            "\n",
            "To find the coefficient of $x^2y^6$, we need to multiply the powers of x and y that occur in the terms of $\\left(\\frac{3}{5}x\\right)$ and $\\left(-\\frac{1}{2}y\\right)$. \n",
            "\n",
            "For the term involving $\\left(\\frac{3}{5}x\\right)$, since there's no power of x in the expansion of $\\left(\\frac{3}{5}x\\right)$, its coefficient is simply $\\frac{3}{5}$.\n",
            "\n",
            "For the term involving $\\left(-\\frac{1}{2}y\\right)$, the exponent of y in the term is 6, so its coefficient is $-\\frac{1}{2} \\cdot 6 = -3$.\n",
            "\n",
            "Multiplying these two coefficients together gives us the total coefficient of $x^2y^6$: $\\frac{3}{5} \\cdot -3 = -\\frac{9}{5}$.\n",
            "\n",
            "Therefore, the coefficient of $x^2y^6$ in the expansion of $\\left(\\frac{3}{5}x-\\frac{y}{2}\\right)^8$ is $-\\frac{9}{5}$.\n",
            "The answer is: $$-\\frac{9}{5}$$\n",
            "None\n"
          ]
        },
        {
          "output_type": "execute_result",
          "data": {
            "text/plain": [
              "[0.0]"
            ]
          },
          "metadata": {},
          "execution_count": 37
        }
      ]
    },
    {
      "cell_type": "code",
      "source": [
        "completions = [[{'content': '<thinking> $\\\\frac{1}{40}$ </thinking> <answer> $\\\\frac{1}{40}$ </answer>'}]]\n",
        "\n",
        "format_reward(completions)"
      ],
      "metadata": {
        "colab": {
          "base_uri": "https://localhost:8080/"
        },
        "id": "eNk_ESs1S3--",
        "outputId": "0f19c7bb-a010-41f7-c79d-1ea58b7466b2"
      },
      "execution_count": 92,
      "outputs": [
        {
          "output_type": "stream",
          "name": "stdout",
          "text": [
            "['<thinking> $\\\\frac{1}{40}$ </thinking> <answer> $\\\\frac{1}{40}$ </answer>']\n",
            "<thinking> $\\frac{1}{40}$ </thinking> <answer> $\\frac{1}{40}$ </answer>\n",
            "None\n"
          ]
        },
        {
          "output_type": "execute_result",
          "data": {
            "text/plain": [
              "[0.0]"
            ]
          },
          "metadata": {},
          "execution_count": 92
        }
      ]
    },
    {
      "cell_type": "code",
      "source": [],
      "metadata": {
        "id": "awSkqGF8S4CH"
      },
      "execution_count": null,
      "outputs": []
    },
    {
      "cell_type": "code",
      "source": [
        "trainer.train()"
      ],
      "metadata": {
        "colab": {
          "base_uri": "https://localhost:8080/",
          "height": 564
        },
        "id": "c8qaiT0JZZlT",
        "outputId": "c1d273f5-8611-4855-c9b5-7656d3fe7307"
      },
      "execution_count": null,
      "outputs": [
        {
          "output_type": "display_data",
          "data": {
            "text/plain": [
              "<IPython.core.display.HTML object>"
            ],
            "text/html": [
              "\n",
              "    <div>\n",
              "      \n",
              "      <progress value='80' max='168' style='width:300px; height:20px; vertical-align: middle;'></progress>\n",
              "      [ 80/168 37:02 < 41:47, 0.04 it/s, Epoch 1.39/3]\n",
              "    </div>\n",
              "    <table border=\"1\" class=\"dataframe\">\n",
              "  <thead>\n",
              " <tr style=\"text-align: left;\">\n",
              "      <th>Step</th>\n",
              "      <th>Training Loss</th>\n",
              "    </tr>\n",
              "  </thead>\n",
              "  <tbody>\n",
              "    <tr>\n",
              "      <td>10</td>\n",
              "      <td>0.000100</td>\n",
              "    </tr>\n",
              "    <tr>\n",
              "      <td>20</td>\n",
              "      <td>0.000100</td>\n",
              "    </tr>\n",
              "    <tr>\n",
              "      <td>30</td>\n",
              "      <td>0.000400</td>\n",
              "    </tr>\n",
              "    <tr>\n",
              "      <td>40</td>\n",
              "      <td>0.004000</td>\n",
              "    </tr>\n",
              "    <tr>\n",
              "      <td>50</td>\n",
              "      <td>0.002400</td>\n",
              "    </tr>\n",
              "    <tr>\n",
              "      <td>60</td>\n",
              "      <td>0.002100</td>\n",
              "    </tr>\n",
              "    <tr>\n",
              "      <td>70</td>\n",
              "      <td>0.006500</td>\n",
              "    </tr>\n",
              "  </tbody>\n",
              "</table><p>"
            ]
          },
          "metadata": {}
        },
        {
          "output_type": "error",
          "ename": "KeyboardInterrupt",
          "evalue": "",
          "traceback": [
            "\u001b[0;31m---------------------------------------------------------------------------\u001b[0m",
            "\u001b[0;31mKeyboardInterrupt\u001b[0m                         Traceback (most recent call last)",
            "\u001b[0;32m<ipython-input-21-3435b262f1ae>\u001b[0m in \u001b[0;36m<cell line: 0>\u001b[0;34m()\u001b[0m\n\u001b[0;32m----> 1\u001b[0;31m \u001b[0mtrainer\u001b[0m\u001b[0;34m.\u001b[0m\u001b[0mtrain\u001b[0m\u001b[0;34m(\u001b[0m\u001b[0;34m)\u001b[0m\u001b[0;34m\u001b[0m\u001b[0;34m\u001b[0m\u001b[0m\n\u001b[0m",
            "\u001b[0;32m/usr/local/lib/python3.11/dist-packages/transformers/trainer.py\u001b[0m in \u001b[0;36mtrain\u001b[0;34m(self, resume_from_checkpoint, trial, ignore_keys_for_eval, **kwargs)\u001b[0m\n\u001b[1;32m   2160\u001b[0m                 \u001b[0;31m# Disable progress bars when uploading models during checkpoints to avoid polluting stdout\u001b[0m\u001b[0;34m\u001b[0m\u001b[0;34m\u001b[0m\u001b[0m\n\u001b[1;32m   2161\u001b[0m                 \u001b[0mhf_hub_utils\u001b[0m\u001b[0;34m.\u001b[0m\u001b[0mdisable_progress_bars\u001b[0m\u001b[0;34m(\u001b[0m\u001b[0;34m)\u001b[0m\u001b[0;34m\u001b[0m\u001b[0;34m\u001b[0m\u001b[0m\n\u001b[0;32m-> 2162\u001b[0;31m                 return inner_training_loop(\n\u001b[0m\u001b[1;32m   2163\u001b[0m                     \u001b[0margs\u001b[0m\u001b[0;34m=\u001b[0m\u001b[0margs\u001b[0m\u001b[0;34m,\u001b[0m\u001b[0;34m\u001b[0m\u001b[0;34m\u001b[0m\u001b[0m\n\u001b[1;32m   2164\u001b[0m                     \u001b[0mresume_from_checkpoint\u001b[0m\u001b[0;34m=\u001b[0m\u001b[0mresume_from_checkpoint\u001b[0m\u001b[0;34m,\u001b[0m\u001b[0;34m\u001b[0m\u001b[0;34m\u001b[0m\u001b[0m\n",
            "\u001b[0;32m/usr/local/lib/python3.11/dist-packages/transformers/trainer.py\u001b[0m in \u001b[0;36m_inner_training_loop\u001b[0;34m(self, batch_size, args, resume_from_checkpoint, trial, ignore_keys_for_eval)\u001b[0m\n\u001b[1;32m   2529\u001b[0m                     )\n\u001b[1;32m   2530\u001b[0m                     \u001b[0;32mwith\u001b[0m \u001b[0mcontext\u001b[0m\u001b[0;34m(\u001b[0m\u001b[0;34m)\u001b[0m\u001b[0;34m:\u001b[0m\u001b[0;34m\u001b[0m\u001b[0;34m\u001b[0m\u001b[0m\n\u001b[0;32m-> 2531\u001b[0;31m                         \u001b[0mtr_loss_step\u001b[0m \u001b[0;34m=\u001b[0m \u001b[0mself\u001b[0m\u001b[0;34m.\u001b[0m\u001b[0mtraining_step\u001b[0m\u001b[0;34m(\u001b[0m\u001b[0mmodel\u001b[0m\u001b[0;34m,\u001b[0m \u001b[0minputs\u001b[0m\u001b[0;34m,\u001b[0m \u001b[0mnum_items_in_batch\u001b[0m\u001b[0;34m)\u001b[0m\u001b[0;34m\u001b[0m\u001b[0;34m\u001b[0m\u001b[0m\n\u001b[0m\u001b[1;32m   2532\u001b[0m \u001b[0;34m\u001b[0m\u001b[0m\n\u001b[1;32m   2533\u001b[0m                     if (\n",
            "\u001b[0;32m/usr/local/lib/python3.11/dist-packages/transformers/trainer.py\u001b[0m in \u001b[0;36mtraining_step\u001b[0;34m(self, model, inputs, num_items_in_batch)\u001b[0m\n\u001b[1;32m   3673\u001b[0m \u001b[0;34m\u001b[0m\u001b[0m\n\u001b[1;32m   3674\u001b[0m         \u001b[0;32mwith\u001b[0m \u001b[0mself\u001b[0m\u001b[0;34m.\u001b[0m\u001b[0mcompute_loss_context_manager\u001b[0m\u001b[0;34m(\u001b[0m\u001b[0;34m)\u001b[0m\u001b[0;34m:\u001b[0m\u001b[0;34m\u001b[0m\u001b[0;34m\u001b[0m\u001b[0m\n\u001b[0;32m-> 3675\u001b[0;31m             \u001b[0mloss\u001b[0m \u001b[0;34m=\u001b[0m \u001b[0mself\u001b[0m\u001b[0;34m.\u001b[0m\u001b[0mcompute_loss\u001b[0m\u001b[0;34m(\u001b[0m\u001b[0mmodel\u001b[0m\u001b[0;34m,\u001b[0m \u001b[0minputs\u001b[0m\u001b[0;34m,\u001b[0m \u001b[0mnum_items_in_batch\u001b[0m\u001b[0;34m=\u001b[0m\u001b[0mnum_items_in_batch\u001b[0m\u001b[0;34m)\u001b[0m\u001b[0;34m\u001b[0m\u001b[0;34m\u001b[0m\u001b[0m\n\u001b[0m\u001b[1;32m   3676\u001b[0m \u001b[0;34m\u001b[0m\u001b[0m\n\u001b[1;32m   3677\u001b[0m         \u001b[0;32mdel\u001b[0m \u001b[0minputs\u001b[0m\u001b[0;34m\u001b[0m\u001b[0;34m\u001b[0m\u001b[0m\n",
            "\u001b[0;32m/usr/local/lib/python3.11/dist-packages/trl/trainer/grpo_trainer.py\u001b[0m in \u001b[0;36mcompute_loss\u001b[0;34m(self, model, inputs, return_outputs, num_items_in_batch)\u001b[0m\n\u001b[1;32m    324\u001b[0m         \u001b[0;31m# Generate completions\u001b[0m\u001b[0;34m\u001b[0m\u001b[0;34m\u001b[0m\u001b[0m\n\u001b[1;32m    325\u001b[0m         \u001b[0;32mwith\u001b[0m \u001b[0munwrap_model_for_generation\u001b[0m\u001b[0;34m(\u001b[0m\u001b[0mmodel\u001b[0m\u001b[0;34m,\u001b[0m \u001b[0mself\u001b[0m\u001b[0;34m.\u001b[0m\u001b[0maccelerator\u001b[0m\u001b[0;34m)\u001b[0m \u001b[0;32mas\u001b[0m \u001b[0munwrapped_model\u001b[0m\u001b[0;34m:\u001b[0m\u001b[0;34m\u001b[0m\u001b[0;34m\u001b[0m\u001b[0m\n\u001b[0;32m--> 326\u001b[0;31m             \u001b[0mprompt_completion_ids\u001b[0m \u001b[0;34m=\u001b[0m \u001b[0munwrapped_model\u001b[0m\u001b[0;34m.\u001b[0m\u001b[0mgenerate\u001b[0m\u001b[0;34m(\u001b[0m\u001b[0;34m**\u001b[0m\u001b[0mprompt_inputs\u001b[0m\u001b[0;34m,\u001b[0m \u001b[0mgeneration_config\u001b[0m\u001b[0;34m=\u001b[0m\u001b[0mself\u001b[0m\u001b[0;34m.\u001b[0m\u001b[0mgeneration_config\u001b[0m\u001b[0;34m)\u001b[0m\u001b[0;34m\u001b[0m\u001b[0;34m\u001b[0m\u001b[0m\n\u001b[0m\u001b[1;32m    327\u001b[0m         \u001b[0mprompt_length\u001b[0m \u001b[0;34m=\u001b[0m \u001b[0mprompt_inputs\u001b[0m\u001b[0;34m[\u001b[0m\u001b[0;34m\"input_ids\"\u001b[0m\u001b[0;34m]\u001b[0m\u001b[0;34m.\u001b[0m\u001b[0msize\u001b[0m\u001b[0;34m(\u001b[0m\u001b[0;36m1\u001b[0m\u001b[0;34m)\u001b[0m\u001b[0;34m\u001b[0m\u001b[0;34m\u001b[0m\u001b[0m\n\u001b[1;32m    328\u001b[0m         \u001b[0mcompletion_ids\u001b[0m \u001b[0;34m=\u001b[0m \u001b[0mprompt_completion_ids\u001b[0m\u001b[0;34m[\u001b[0m\u001b[0;34m:\u001b[0m\u001b[0;34m,\u001b[0m \u001b[0mprompt_length\u001b[0m\u001b[0;34m:\u001b[0m\u001b[0;34m]\u001b[0m\u001b[0;34m\u001b[0m\u001b[0;34m\u001b[0m\u001b[0m\n",
            "\u001b[0;32m/usr/local/lib/python3.11/dist-packages/peft/peft_model.py\u001b[0m in \u001b[0;36mgenerate\u001b[0;34m(self, *args, **kwargs)\u001b[0m\n\u001b[1;32m   1836\u001b[0m                 \u001b[0;32mwith\u001b[0m \u001b[0mself\u001b[0m\u001b[0;34m.\u001b[0m\u001b[0m_enable_peft_forward_hooks\u001b[0m\u001b[0;34m(\u001b[0m\u001b[0;34m*\u001b[0m\u001b[0margs\u001b[0m\u001b[0;34m,\u001b[0m \u001b[0;34m**\u001b[0m\u001b[0mkwargs\u001b[0m\u001b[0;34m)\u001b[0m\u001b[0;34m:\u001b[0m\u001b[0;34m\u001b[0m\u001b[0;34m\u001b[0m\u001b[0m\n\u001b[1;32m   1837\u001b[0m                     \u001b[0mkwargs\u001b[0m \u001b[0;34m=\u001b[0m \u001b[0;34m{\u001b[0m\u001b[0mk\u001b[0m\u001b[0;34m:\u001b[0m \u001b[0mv\u001b[0m \u001b[0;32mfor\u001b[0m \u001b[0mk\u001b[0m\u001b[0;34m,\u001b[0m \u001b[0mv\u001b[0m \u001b[0;32min\u001b[0m \u001b[0mkwargs\u001b[0m\u001b[0;34m.\u001b[0m\u001b[0mitems\u001b[0m\u001b[0;34m(\u001b[0m\u001b[0;34m)\u001b[0m \u001b[0;32mif\u001b[0m \u001b[0mk\u001b[0m \u001b[0;32mnot\u001b[0m \u001b[0;32min\u001b[0m \u001b[0mself\u001b[0m\u001b[0;34m.\u001b[0m\u001b[0mspecial_peft_forward_args\u001b[0m\u001b[0;34m}\u001b[0m\u001b[0;34m\u001b[0m\u001b[0;34m\u001b[0m\u001b[0m\n\u001b[0;32m-> 1838\u001b[0;31m                     \u001b[0moutputs\u001b[0m \u001b[0;34m=\u001b[0m \u001b[0mself\u001b[0m\u001b[0;34m.\u001b[0m\u001b[0mbase_model\u001b[0m\u001b[0;34m.\u001b[0m\u001b[0mgenerate\u001b[0m\u001b[0;34m(\u001b[0m\u001b[0;34m*\u001b[0m\u001b[0margs\u001b[0m\u001b[0;34m,\u001b[0m \u001b[0;34m**\u001b[0m\u001b[0mkwargs\u001b[0m\u001b[0;34m)\u001b[0m\u001b[0;34m\u001b[0m\u001b[0;34m\u001b[0m\u001b[0m\n\u001b[0m\u001b[1;32m   1839\u001b[0m             \u001b[0;32melse\u001b[0m\u001b[0;34m:\u001b[0m\u001b[0;34m\u001b[0m\u001b[0;34m\u001b[0m\u001b[0m\n\u001b[1;32m   1840\u001b[0m                 \u001b[0moutputs\u001b[0m \u001b[0;34m=\u001b[0m \u001b[0mself\u001b[0m\u001b[0;34m.\u001b[0m\u001b[0mbase_model\u001b[0m\u001b[0;34m.\u001b[0m\u001b[0mgenerate\u001b[0m\u001b[0;34m(\u001b[0m\u001b[0;34m**\u001b[0m\u001b[0mkwargs\u001b[0m\u001b[0;34m)\u001b[0m\u001b[0;34m\u001b[0m\u001b[0;34m\u001b[0m\u001b[0m\n",
            "\u001b[0;32m/usr/local/lib/python3.11/dist-packages/torch/utils/_contextlib.py\u001b[0m in \u001b[0;36mdecorate_context\u001b[0;34m(*args, **kwargs)\u001b[0m\n\u001b[1;32m    114\u001b[0m     \u001b[0;32mdef\u001b[0m \u001b[0mdecorate_context\u001b[0m\u001b[0;34m(\u001b[0m\u001b[0;34m*\u001b[0m\u001b[0margs\u001b[0m\u001b[0;34m,\u001b[0m \u001b[0;34m**\u001b[0m\u001b[0mkwargs\u001b[0m\u001b[0;34m)\u001b[0m\u001b[0;34m:\u001b[0m\u001b[0;34m\u001b[0m\u001b[0;34m\u001b[0m\u001b[0m\n\u001b[1;32m    115\u001b[0m         \u001b[0;32mwith\u001b[0m \u001b[0mctx_factory\u001b[0m\u001b[0;34m(\u001b[0m\u001b[0;34m)\u001b[0m\u001b[0;34m:\u001b[0m\u001b[0;34m\u001b[0m\u001b[0;34m\u001b[0m\u001b[0m\n\u001b[0;32m--> 116\u001b[0;31m             \u001b[0;32mreturn\u001b[0m \u001b[0mfunc\u001b[0m\u001b[0;34m(\u001b[0m\u001b[0;34m*\u001b[0m\u001b[0margs\u001b[0m\u001b[0;34m,\u001b[0m \u001b[0;34m**\u001b[0m\u001b[0mkwargs\u001b[0m\u001b[0;34m)\u001b[0m\u001b[0;34m\u001b[0m\u001b[0;34m\u001b[0m\u001b[0m\n\u001b[0m\u001b[1;32m    117\u001b[0m \u001b[0;34m\u001b[0m\u001b[0m\n\u001b[1;32m    118\u001b[0m     \u001b[0;32mreturn\u001b[0m \u001b[0mdecorate_context\u001b[0m\u001b[0;34m\u001b[0m\u001b[0;34m\u001b[0m\u001b[0m\n",
            "\u001b[0;32m/usr/local/lib/python3.11/dist-packages/transformers/generation/utils.py\u001b[0m in \u001b[0;36mgenerate\u001b[0;34m(self, inputs, generation_config, logits_processor, stopping_criteria, prefix_allowed_tokens_fn, synced_gpus, assistant_model, streamer, negative_prompt_ids, negative_prompt_attention_mask, **kwargs)\u001b[0m\n\u001b[1;32m   2253\u001b[0m \u001b[0;34m\u001b[0m\u001b[0m\n\u001b[1;32m   2254\u001b[0m             \u001b[0;31m# 12. run sample (it degenerates to greedy search when `generation_config.do_sample=False`)\u001b[0m\u001b[0;34m\u001b[0m\u001b[0;34m\u001b[0m\u001b[0m\n\u001b[0;32m-> 2255\u001b[0;31m             result = self._sample(\n\u001b[0m\u001b[1;32m   2256\u001b[0m                 \u001b[0minput_ids\u001b[0m\u001b[0;34m,\u001b[0m\u001b[0;34m\u001b[0m\u001b[0;34m\u001b[0m\u001b[0m\n\u001b[1;32m   2257\u001b[0m                 \u001b[0mlogits_processor\u001b[0m\u001b[0;34m=\u001b[0m\u001b[0mprepared_logits_processor\u001b[0m\u001b[0;34m,\u001b[0m\u001b[0;34m\u001b[0m\u001b[0;34m\u001b[0m\u001b[0m\n",
            "\u001b[0;32m/usr/local/lib/python3.11/dist-packages/transformers/generation/utils.py\u001b[0m in \u001b[0;36m_sample\u001b[0;34m(self, input_ids, logits_processor, stopping_criteria, generation_config, synced_gpus, streamer, **model_kwargs)\u001b[0m\n\u001b[1;32m   3255\u001b[0m                 \u001b[0mis_prefill\u001b[0m \u001b[0;34m=\u001b[0m \u001b[0;32mFalse\u001b[0m\u001b[0;34m\u001b[0m\u001b[0;34m\u001b[0m\u001b[0m\n\u001b[1;32m   3256\u001b[0m             \u001b[0;32melse\u001b[0m\u001b[0;34m:\u001b[0m\u001b[0;34m\u001b[0m\u001b[0;34m\u001b[0m\u001b[0m\n\u001b[0;32m-> 3257\u001b[0;31m                 \u001b[0moutputs\u001b[0m \u001b[0;34m=\u001b[0m \u001b[0mmodel_forward\u001b[0m\u001b[0;34m(\u001b[0m\u001b[0;34m**\u001b[0m\u001b[0mmodel_inputs\u001b[0m\u001b[0;34m,\u001b[0m \u001b[0mreturn_dict\u001b[0m\u001b[0;34m=\u001b[0m\u001b[0;32mTrue\u001b[0m\u001b[0;34m)\u001b[0m\u001b[0;34m\u001b[0m\u001b[0;34m\u001b[0m\u001b[0m\n\u001b[0m\u001b[1;32m   3258\u001b[0m \u001b[0;34m\u001b[0m\u001b[0m\n\u001b[1;32m   3259\u001b[0m             \u001b[0;31m# synced_gpus: don't waste resources running the code we don't need; kwargs must be updated before skipping\u001b[0m\u001b[0;34m\u001b[0m\u001b[0;34m\u001b[0m\u001b[0m\n",
            "\u001b[0;32m/usr/local/lib/python3.11/dist-packages/torch/nn/modules/module.py\u001b[0m in \u001b[0;36m_wrapped_call_impl\u001b[0;34m(self, *args, **kwargs)\u001b[0m\n\u001b[1;32m   1734\u001b[0m             \u001b[0;32mreturn\u001b[0m \u001b[0mself\u001b[0m\u001b[0;34m.\u001b[0m\u001b[0m_compiled_call_impl\u001b[0m\u001b[0;34m(\u001b[0m\u001b[0;34m*\u001b[0m\u001b[0margs\u001b[0m\u001b[0;34m,\u001b[0m \u001b[0;34m**\u001b[0m\u001b[0mkwargs\u001b[0m\u001b[0;34m)\u001b[0m  \u001b[0;31m# type: ignore[misc]\u001b[0m\u001b[0;34m\u001b[0m\u001b[0;34m\u001b[0m\u001b[0m\n\u001b[1;32m   1735\u001b[0m         \u001b[0;32melse\u001b[0m\u001b[0;34m:\u001b[0m\u001b[0;34m\u001b[0m\u001b[0;34m\u001b[0m\u001b[0m\n\u001b[0;32m-> 1736\u001b[0;31m             \u001b[0;32mreturn\u001b[0m \u001b[0mself\u001b[0m\u001b[0;34m.\u001b[0m\u001b[0m_call_impl\u001b[0m\u001b[0;34m(\u001b[0m\u001b[0;34m*\u001b[0m\u001b[0margs\u001b[0m\u001b[0;34m,\u001b[0m \u001b[0;34m**\u001b[0m\u001b[0mkwargs\u001b[0m\u001b[0;34m)\u001b[0m\u001b[0;34m\u001b[0m\u001b[0;34m\u001b[0m\u001b[0m\n\u001b[0m\u001b[1;32m   1737\u001b[0m \u001b[0;34m\u001b[0m\u001b[0m\n\u001b[1;32m   1738\u001b[0m     \u001b[0;31m# torchrec tests the code consistency with the following code\u001b[0m\u001b[0;34m\u001b[0m\u001b[0;34m\u001b[0m\u001b[0m\n",
            "\u001b[0;32m/usr/local/lib/python3.11/dist-packages/torch/nn/modules/module.py\u001b[0m in \u001b[0;36m_call_impl\u001b[0;34m(self, *args, **kwargs)\u001b[0m\n\u001b[1;32m   1745\u001b[0m                 \u001b[0;32mor\u001b[0m \u001b[0m_global_backward_pre_hooks\u001b[0m \u001b[0;32mor\u001b[0m \u001b[0m_global_backward_hooks\u001b[0m\u001b[0;34m\u001b[0m\u001b[0;34m\u001b[0m\u001b[0m\n\u001b[1;32m   1746\u001b[0m                 or _global_forward_hooks or _global_forward_pre_hooks):\n\u001b[0;32m-> 1747\u001b[0;31m             \u001b[0;32mreturn\u001b[0m \u001b[0mforward_call\u001b[0m\u001b[0;34m(\u001b[0m\u001b[0;34m*\u001b[0m\u001b[0margs\u001b[0m\u001b[0;34m,\u001b[0m \u001b[0;34m**\u001b[0m\u001b[0mkwargs\u001b[0m\u001b[0;34m)\u001b[0m\u001b[0;34m\u001b[0m\u001b[0;34m\u001b[0m\u001b[0m\n\u001b[0m\u001b[1;32m   1748\u001b[0m \u001b[0;34m\u001b[0m\u001b[0m\n\u001b[1;32m   1749\u001b[0m         \u001b[0mresult\u001b[0m \u001b[0;34m=\u001b[0m \u001b[0;32mNone\u001b[0m\u001b[0;34m\u001b[0m\u001b[0;34m\u001b[0m\u001b[0m\n",
            "\u001b[0;32m/usr/local/lib/python3.11/dist-packages/transformers/models/qwen2/modeling_qwen2.py\u001b[0m in \u001b[0;36mforward\u001b[0;34m(self, input_ids, attention_mask, position_ids, past_key_values, inputs_embeds, labels, use_cache, output_attentions, output_hidden_states, return_dict, cache_position, num_logits_to_keep, **kwargs)\u001b[0m\n\u001b[1;32m    814\u001b[0m \u001b[0;34m\u001b[0m\u001b[0m\n\u001b[1;32m    815\u001b[0m         \u001b[0;31m# decoder outputs consists of (dec_features, layer_state, dec_hidden, dec_attn)\u001b[0m\u001b[0;34m\u001b[0m\u001b[0;34m\u001b[0m\u001b[0m\n\u001b[0;32m--> 816\u001b[0;31m         outputs = self.model(\n\u001b[0m\u001b[1;32m    817\u001b[0m             \u001b[0minput_ids\u001b[0m\u001b[0;34m=\u001b[0m\u001b[0minput_ids\u001b[0m\u001b[0;34m,\u001b[0m\u001b[0;34m\u001b[0m\u001b[0;34m\u001b[0m\u001b[0m\n\u001b[1;32m    818\u001b[0m             \u001b[0mattention_mask\u001b[0m\u001b[0;34m=\u001b[0m\u001b[0mattention_mask\u001b[0m\u001b[0;34m,\u001b[0m\u001b[0;34m\u001b[0m\u001b[0;34m\u001b[0m\u001b[0m\n",
            "\u001b[0;32m/usr/local/lib/python3.11/dist-packages/torch/nn/modules/module.py\u001b[0m in \u001b[0;36m_wrapped_call_impl\u001b[0;34m(self, *args, **kwargs)\u001b[0m\n\u001b[1;32m   1734\u001b[0m             \u001b[0;32mreturn\u001b[0m \u001b[0mself\u001b[0m\u001b[0;34m.\u001b[0m\u001b[0m_compiled_call_impl\u001b[0m\u001b[0;34m(\u001b[0m\u001b[0;34m*\u001b[0m\u001b[0margs\u001b[0m\u001b[0;34m,\u001b[0m \u001b[0;34m**\u001b[0m\u001b[0mkwargs\u001b[0m\u001b[0;34m)\u001b[0m  \u001b[0;31m# type: ignore[misc]\u001b[0m\u001b[0;34m\u001b[0m\u001b[0;34m\u001b[0m\u001b[0m\n\u001b[1;32m   1735\u001b[0m         \u001b[0;32melse\u001b[0m\u001b[0;34m:\u001b[0m\u001b[0;34m\u001b[0m\u001b[0;34m\u001b[0m\u001b[0m\n\u001b[0;32m-> 1736\u001b[0;31m             \u001b[0;32mreturn\u001b[0m \u001b[0mself\u001b[0m\u001b[0;34m.\u001b[0m\u001b[0m_call_impl\u001b[0m\u001b[0;34m(\u001b[0m\u001b[0;34m*\u001b[0m\u001b[0margs\u001b[0m\u001b[0;34m,\u001b[0m \u001b[0;34m**\u001b[0m\u001b[0mkwargs\u001b[0m\u001b[0;34m)\u001b[0m\u001b[0;34m\u001b[0m\u001b[0;34m\u001b[0m\u001b[0m\n\u001b[0m\u001b[1;32m   1737\u001b[0m \u001b[0;34m\u001b[0m\u001b[0m\n\u001b[1;32m   1738\u001b[0m     \u001b[0;31m# torchrec tests the code consistency with the following code\u001b[0m\u001b[0;34m\u001b[0m\u001b[0;34m\u001b[0m\u001b[0m\n",
            "\u001b[0;32m/usr/local/lib/python3.11/dist-packages/torch/nn/modules/module.py\u001b[0m in \u001b[0;36m_call_impl\u001b[0;34m(self, *args, **kwargs)\u001b[0m\n\u001b[1;32m   1745\u001b[0m                 \u001b[0;32mor\u001b[0m \u001b[0m_global_backward_pre_hooks\u001b[0m \u001b[0;32mor\u001b[0m \u001b[0m_global_backward_hooks\u001b[0m\u001b[0;34m\u001b[0m\u001b[0;34m\u001b[0m\u001b[0m\n\u001b[1;32m   1746\u001b[0m                 or _global_forward_hooks or _global_forward_pre_hooks):\n\u001b[0;32m-> 1747\u001b[0;31m             \u001b[0;32mreturn\u001b[0m \u001b[0mforward_call\u001b[0m\u001b[0;34m(\u001b[0m\u001b[0;34m*\u001b[0m\u001b[0margs\u001b[0m\u001b[0;34m,\u001b[0m \u001b[0;34m**\u001b[0m\u001b[0mkwargs\u001b[0m\u001b[0;34m)\u001b[0m\u001b[0;34m\u001b[0m\u001b[0;34m\u001b[0m\u001b[0m\n\u001b[0m\u001b[1;32m   1748\u001b[0m \u001b[0;34m\u001b[0m\u001b[0m\n\u001b[1;32m   1749\u001b[0m         \u001b[0mresult\u001b[0m \u001b[0;34m=\u001b[0m \u001b[0;32mNone\u001b[0m\u001b[0;34m\u001b[0m\u001b[0;34m\u001b[0m\u001b[0m\n",
            "\u001b[0;32m/usr/local/lib/python3.11/dist-packages/transformers/models/qwen2/modeling_qwen2.py\u001b[0m in \u001b[0;36mforward\u001b[0;34m(self, input_ids, attention_mask, position_ids, past_key_values, inputs_embeds, use_cache, output_attentions, output_hidden_states, return_dict, cache_position, **flash_attn_kwargs)\u001b[0m\n\u001b[1;32m    572\u001b[0m                 )\n\u001b[1;32m    573\u001b[0m             \u001b[0;32melse\u001b[0m\u001b[0;34m:\u001b[0m\u001b[0;34m\u001b[0m\u001b[0;34m\u001b[0m\u001b[0m\n\u001b[0;32m--> 574\u001b[0;31m                 layer_outputs = decoder_layer(\n\u001b[0m\u001b[1;32m    575\u001b[0m                     \u001b[0mhidden_states\u001b[0m\u001b[0;34m,\u001b[0m\u001b[0;34m\u001b[0m\u001b[0;34m\u001b[0m\u001b[0m\n\u001b[1;32m    576\u001b[0m                     \u001b[0mattention_mask\u001b[0m\u001b[0;34m=\u001b[0m\u001b[0mcausal_mask\u001b[0m\u001b[0;34m,\u001b[0m\u001b[0;34m\u001b[0m\u001b[0;34m\u001b[0m\u001b[0m\n",
            "\u001b[0;32m/usr/local/lib/python3.11/dist-packages/torch/nn/modules/module.py\u001b[0m in \u001b[0;36m_wrapped_call_impl\u001b[0;34m(self, *args, **kwargs)\u001b[0m\n\u001b[1;32m   1734\u001b[0m             \u001b[0;32mreturn\u001b[0m \u001b[0mself\u001b[0m\u001b[0;34m.\u001b[0m\u001b[0m_compiled_call_impl\u001b[0m\u001b[0;34m(\u001b[0m\u001b[0;34m*\u001b[0m\u001b[0margs\u001b[0m\u001b[0;34m,\u001b[0m \u001b[0;34m**\u001b[0m\u001b[0mkwargs\u001b[0m\u001b[0;34m)\u001b[0m  \u001b[0;31m# type: ignore[misc]\u001b[0m\u001b[0;34m\u001b[0m\u001b[0;34m\u001b[0m\u001b[0m\n\u001b[1;32m   1735\u001b[0m         \u001b[0;32melse\u001b[0m\u001b[0;34m:\u001b[0m\u001b[0;34m\u001b[0m\u001b[0;34m\u001b[0m\u001b[0m\n\u001b[0;32m-> 1736\u001b[0;31m             \u001b[0;32mreturn\u001b[0m \u001b[0mself\u001b[0m\u001b[0;34m.\u001b[0m\u001b[0m_call_impl\u001b[0m\u001b[0;34m(\u001b[0m\u001b[0;34m*\u001b[0m\u001b[0margs\u001b[0m\u001b[0;34m,\u001b[0m \u001b[0;34m**\u001b[0m\u001b[0mkwargs\u001b[0m\u001b[0;34m)\u001b[0m\u001b[0;34m\u001b[0m\u001b[0;34m\u001b[0m\u001b[0m\n\u001b[0m\u001b[1;32m   1737\u001b[0m \u001b[0;34m\u001b[0m\u001b[0m\n\u001b[1;32m   1738\u001b[0m     \u001b[0;31m# torchrec tests the code consistency with the following code\u001b[0m\u001b[0;34m\u001b[0m\u001b[0;34m\u001b[0m\u001b[0m\n",
            "\u001b[0;32m/usr/local/lib/python3.11/dist-packages/torch/nn/modules/module.py\u001b[0m in \u001b[0;36m_call_impl\u001b[0;34m(self, *args, **kwargs)\u001b[0m\n\u001b[1;32m   1745\u001b[0m                 \u001b[0;32mor\u001b[0m \u001b[0m_global_backward_pre_hooks\u001b[0m \u001b[0;32mor\u001b[0m \u001b[0m_global_backward_hooks\u001b[0m\u001b[0;34m\u001b[0m\u001b[0;34m\u001b[0m\u001b[0m\n\u001b[1;32m   1746\u001b[0m                 or _global_forward_hooks or _global_forward_pre_hooks):\n\u001b[0;32m-> 1747\u001b[0;31m             \u001b[0;32mreturn\u001b[0m \u001b[0mforward_call\u001b[0m\u001b[0;34m(\u001b[0m\u001b[0;34m*\u001b[0m\u001b[0margs\u001b[0m\u001b[0;34m,\u001b[0m \u001b[0;34m**\u001b[0m\u001b[0mkwargs\u001b[0m\u001b[0;34m)\u001b[0m\u001b[0;34m\u001b[0m\u001b[0;34m\u001b[0m\u001b[0m\n\u001b[0m\u001b[1;32m   1748\u001b[0m \u001b[0;34m\u001b[0m\u001b[0m\n\u001b[1;32m   1749\u001b[0m         \u001b[0mresult\u001b[0m \u001b[0;34m=\u001b[0m \u001b[0;32mNone\u001b[0m\u001b[0;34m\u001b[0m\u001b[0;34m\u001b[0m\u001b[0m\n",
            "\u001b[0;32m/usr/local/lib/python3.11/dist-packages/transformers/models/qwen2/modeling_qwen2.py\u001b[0m in \u001b[0;36mforward\u001b[0;34m(self, hidden_states, attention_mask, position_ids, past_key_value, output_attentions, use_cache, cache_position, position_embeddings, **kwargs)\u001b[0m\n\u001b[1;32m    273\u001b[0m         \u001b[0mresidual\u001b[0m \u001b[0;34m=\u001b[0m \u001b[0mhidden_states\u001b[0m\u001b[0;34m\u001b[0m\u001b[0;34m\u001b[0m\u001b[0m\n\u001b[1;32m    274\u001b[0m         \u001b[0mhidden_states\u001b[0m \u001b[0;34m=\u001b[0m \u001b[0mself\u001b[0m\u001b[0;34m.\u001b[0m\u001b[0mpost_attention_layernorm\u001b[0m\u001b[0;34m(\u001b[0m\u001b[0mhidden_states\u001b[0m\u001b[0;34m)\u001b[0m\u001b[0;34m\u001b[0m\u001b[0;34m\u001b[0m\u001b[0m\n\u001b[0;32m--> 275\u001b[0;31m         \u001b[0mhidden_states\u001b[0m \u001b[0;34m=\u001b[0m \u001b[0mself\u001b[0m\u001b[0;34m.\u001b[0m\u001b[0mmlp\u001b[0m\u001b[0;34m(\u001b[0m\u001b[0mhidden_states\u001b[0m\u001b[0;34m)\u001b[0m\u001b[0;34m\u001b[0m\u001b[0;34m\u001b[0m\u001b[0m\n\u001b[0m\u001b[1;32m    276\u001b[0m         \u001b[0mhidden_states\u001b[0m \u001b[0;34m=\u001b[0m \u001b[0mresidual\u001b[0m \u001b[0;34m+\u001b[0m \u001b[0mhidden_states\u001b[0m\u001b[0;34m\u001b[0m\u001b[0;34m\u001b[0m\u001b[0m\n\u001b[1;32m    277\u001b[0m \u001b[0;34m\u001b[0m\u001b[0m\n",
            "\u001b[0;32m/usr/local/lib/python3.11/dist-packages/torch/nn/modules/module.py\u001b[0m in \u001b[0;36m_wrapped_call_impl\u001b[0;34m(self, *args, **kwargs)\u001b[0m\n\u001b[1;32m   1734\u001b[0m             \u001b[0;32mreturn\u001b[0m \u001b[0mself\u001b[0m\u001b[0;34m.\u001b[0m\u001b[0m_compiled_call_impl\u001b[0m\u001b[0;34m(\u001b[0m\u001b[0;34m*\u001b[0m\u001b[0margs\u001b[0m\u001b[0;34m,\u001b[0m \u001b[0;34m**\u001b[0m\u001b[0mkwargs\u001b[0m\u001b[0;34m)\u001b[0m  \u001b[0;31m# type: ignore[misc]\u001b[0m\u001b[0;34m\u001b[0m\u001b[0;34m\u001b[0m\u001b[0m\n\u001b[1;32m   1735\u001b[0m         \u001b[0;32melse\u001b[0m\u001b[0;34m:\u001b[0m\u001b[0;34m\u001b[0m\u001b[0;34m\u001b[0m\u001b[0m\n\u001b[0;32m-> 1736\u001b[0;31m             \u001b[0;32mreturn\u001b[0m \u001b[0mself\u001b[0m\u001b[0;34m.\u001b[0m\u001b[0m_call_impl\u001b[0m\u001b[0;34m(\u001b[0m\u001b[0;34m*\u001b[0m\u001b[0margs\u001b[0m\u001b[0;34m,\u001b[0m \u001b[0;34m**\u001b[0m\u001b[0mkwargs\u001b[0m\u001b[0;34m)\u001b[0m\u001b[0;34m\u001b[0m\u001b[0;34m\u001b[0m\u001b[0m\n\u001b[0m\u001b[1;32m   1737\u001b[0m \u001b[0;34m\u001b[0m\u001b[0m\n\u001b[1;32m   1738\u001b[0m     \u001b[0;31m# torchrec tests the code consistency with the following code\u001b[0m\u001b[0;34m\u001b[0m\u001b[0;34m\u001b[0m\u001b[0m\n",
            "\u001b[0;32m/usr/local/lib/python3.11/dist-packages/torch/nn/modules/module.py\u001b[0m in \u001b[0;36m_call_impl\u001b[0;34m(self, *args, **kwargs)\u001b[0m\n\u001b[1;32m   1745\u001b[0m                 \u001b[0;32mor\u001b[0m \u001b[0m_global_backward_pre_hooks\u001b[0m \u001b[0;32mor\u001b[0m \u001b[0m_global_backward_hooks\u001b[0m\u001b[0;34m\u001b[0m\u001b[0;34m\u001b[0m\u001b[0m\n\u001b[1;32m   1746\u001b[0m                 or _global_forward_hooks or _global_forward_pre_hooks):\n\u001b[0;32m-> 1747\u001b[0;31m             \u001b[0;32mreturn\u001b[0m \u001b[0mforward_call\u001b[0m\u001b[0;34m(\u001b[0m\u001b[0;34m*\u001b[0m\u001b[0margs\u001b[0m\u001b[0;34m,\u001b[0m \u001b[0;34m**\u001b[0m\u001b[0mkwargs\u001b[0m\u001b[0;34m)\u001b[0m\u001b[0;34m\u001b[0m\u001b[0;34m\u001b[0m\u001b[0m\n\u001b[0m\u001b[1;32m   1748\u001b[0m \u001b[0;34m\u001b[0m\u001b[0m\n\u001b[1;32m   1749\u001b[0m         \u001b[0mresult\u001b[0m \u001b[0;34m=\u001b[0m \u001b[0;32mNone\u001b[0m\u001b[0;34m\u001b[0m\u001b[0;34m\u001b[0m\u001b[0m\n",
            "\u001b[0;32m/usr/local/lib/python3.11/dist-packages/transformers/models/qwen2/modeling_qwen2.py\u001b[0m in \u001b[0;36mforward\u001b[0;34m(self, x)\u001b[0m\n\u001b[1;32m     54\u001b[0m \u001b[0;34m\u001b[0m\u001b[0m\n\u001b[1;32m     55\u001b[0m     \u001b[0;32mdef\u001b[0m \u001b[0mforward\u001b[0m\u001b[0;34m(\u001b[0m\u001b[0mself\u001b[0m\u001b[0;34m,\u001b[0m \u001b[0mx\u001b[0m\u001b[0;34m)\u001b[0m\u001b[0;34m:\u001b[0m\u001b[0;34m\u001b[0m\u001b[0;34m\u001b[0m\u001b[0m\n\u001b[0;32m---> 56\u001b[0;31m         \u001b[0mdown_proj\u001b[0m \u001b[0;34m=\u001b[0m \u001b[0mself\u001b[0m\u001b[0;34m.\u001b[0m\u001b[0mdown_proj\u001b[0m\u001b[0;34m(\u001b[0m\u001b[0mself\u001b[0m\u001b[0;34m.\u001b[0m\u001b[0mact_fn\u001b[0m\u001b[0;34m(\u001b[0m\u001b[0mself\u001b[0m\u001b[0;34m.\u001b[0m\u001b[0mgate_proj\u001b[0m\u001b[0;34m(\u001b[0m\u001b[0mx\u001b[0m\u001b[0;34m)\u001b[0m\u001b[0;34m)\u001b[0m \u001b[0;34m*\u001b[0m \u001b[0mself\u001b[0m\u001b[0;34m.\u001b[0m\u001b[0mup_proj\u001b[0m\u001b[0;34m(\u001b[0m\u001b[0mx\u001b[0m\u001b[0;34m)\u001b[0m\u001b[0;34m)\u001b[0m\u001b[0;34m\u001b[0m\u001b[0;34m\u001b[0m\u001b[0m\n\u001b[0m\u001b[1;32m     57\u001b[0m         \u001b[0;32mreturn\u001b[0m \u001b[0mdown_proj\u001b[0m\u001b[0;34m\u001b[0m\u001b[0;34m\u001b[0m\u001b[0m\n\u001b[1;32m     58\u001b[0m \u001b[0;34m\u001b[0m\u001b[0m\n",
            "\u001b[0;32m/usr/local/lib/python3.11/dist-packages/torch/nn/modules/module.py\u001b[0m in \u001b[0;36m_wrapped_call_impl\u001b[0;34m(self, *args, **kwargs)\u001b[0m\n\u001b[1;32m   1730\u001b[0m         \u001b[0;32mreturn\u001b[0m \u001b[0mresult\u001b[0m\u001b[0;34m\u001b[0m\u001b[0;34m\u001b[0m\u001b[0m\n\u001b[1;32m   1731\u001b[0m \u001b[0;34m\u001b[0m\u001b[0m\n\u001b[0;32m-> 1732\u001b[0;31m     \u001b[0;32mdef\u001b[0m \u001b[0m_wrapped_call_impl\u001b[0m\u001b[0;34m(\u001b[0m\u001b[0mself\u001b[0m\u001b[0;34m,\u001b[0m \u001b[0;34m*\u001b[0m\u001b[0margs\u001b[0m\u001b[0;34m,\u001b[0m \u001b[0;34m**\u001b[0m\u001b[0mkwargs\u001b[0m\u001b[0;34m)\u001b[0m\u001b[0;34m:\u001b[0m\u001b[0;34m\u001b[0m\u001b[0;34m\u001b[0m\u001b[0m\n\u001b[0m\u001b[1;32m   1733\u001b[0m         \u001b[0;32mif\u001b[0m \u001b[0mself\u001b[0m\u001b[0;34m.\u001b[0m\u001b[0m_compiled_call_impl\u001b[0m \u001b[0;32mis\u001b[0m \u001b[0;32mnot\u001b[0m \u001b[0;32mNone\u001b[0m\u001b[0;34m:\u001b[0m\u001b[0;34m\u001b[0m\u001b[0;34m\u001b[0m\u001b[0m\n\u001b[1;32m   1734\u001b[0m             \u001b[0;32mreturn\u001b[0m \u001b[0mself\u001b[0m\u001b[0;34m.\u001b[0m\u001b[0m_compiled_call_impl\u001b[0m\u001b[0;34m(\u001b[0m\u001b[0;34m*\u001b[0m\u001b[0margs\u001b[0m\u001b[0;34m,\u001b[0m \u001b[0;34m**\u001b[0m\u001b[0mkwargs\u001b[0m\u001b[0;34m)\u001b[0m  \u001b[0;31m# type: ignore[misc]\u001b[0m\u001b[0;34m\u001b[0m\u001b[0;34m\u001b[0m\u001b[0m\n",
            "\u001b[0;31mKeyboardInterrupt\u001b[0m: "
          ]
        }
      ]
    },
    {
      "cell_type": "code",
      "source": [],
      "metadata": {
        "id": "JrSutZ3SZaJR"
      },
      "execution_count": null,
      "outputs": []
    },
    {
      "cell_type": "code",
      "execution_count": null,
      "metadata": {
        "colab": {
          "base_uri": "https://localhost:8080/",
          "height": 611
        },
        "id": "p1rgMTBDLboO",
        "outputId": "e3cb2ce0-ccf9-4e02-c060-dc51bfc103a9"
      },
      "outputs": [
        {
          "output_type": "display_data",
          "data": {
            "text/plain": [
              "<IPython.core.display.HTML object>"
            ],
            "text/html": [
              "\n",
              "    <div>\n",
              "      \n",
              "      <progress value='168' max='168' style='width:300px; height:20px; vertical-align: middle;'></progress>\n",
              "      [168/168 1:22:29, Epoch 2/3]\n",
              "    </div>\n",
              "    <table border=\"1\" class=\"dataframe\">\n",
              "  <thead>\n",
              " <tr style=\"text-align: left;\">\n",
              "      <th>Step</th>\n",
              "      <th>Training Loss</th>\n",
              "    </tr>\n",
              "  </thead>\n",
              "  <tbody>\n",
              "    <tr>\n",
              "      <td>10</td>\n",
              "      <td>0.000100</td>\n",
              "    </tr>\n",
              "    <tr>\n",
              "      <td>20</td>\n",
              "      <td>0.000100</td>\n",
              "    </tr>\n",
              "    <tr>\n",
              "      <td>30</td>\n",
              "      <td>0.000100</td>\n",
              "    </tr>\n",
              "    <tr>\n",
              "      <td>40</td>\n",
              "      <td>0.000100</td>\n",
              "    </tr>\n",
              "    <tr>\n",
              "      <td>50</td>\n",
              "      <td>0.000100</td>\n",
              "    </tr>\n",
              "    <tr>\n",
              "      <td>60</td>\n",
              "      <td>0.000100</td>\n",
              "    </tr>\n",
              "    <tr>\n",
              "      <td>70</td>\n",
              "      <td>0.000200</td>\n",
              "    </tr>\n",
              "    <tr>\n",
              "      <td>80</td>\n",
              "      <td>0.000200</td>\n",
              "    </tr>\n",
              "    <tr>\n",
              "      <td>90</td>\n",
              "      <td>0.000200</td>\n",
              "    </tr>\n",
              "    <tr>\n",
              "      <td>100</td>\n",
              "      <td>0.000300</td>\n",
              "    </tr>\n",
              "    <tr>\n",
              "      <td>110</td>\n",
              "      <td>0.000300</td>\n",
              "    </tr>\n",
              "    <tr>\n",
              "      <td>120</td>\n",
              "      <td>0.000400</td>\n",
              "    </tr>\n",
              "    <tr>\n",
              "      <td>130</td>\n",
              "      <td>0.000400</td>\n",
              "    </tr>\n",
              "    <tr>\n",
              "      <td>140</td>\n",
              "      <td>0.000500</td>\n",
              "    </tr>\n",
              "    <tr>\n",
              "      <td>150</td>\n",
              "      <td>0.000500</td>\n",
              "    </tr>\n",
              "    <tr>\n",
              "      <td>160</td>\n",
              "      <td>0.000500</td>\n",
              "    </tr>\n",
              "  </tbody>\n",
              "</table><p>"
            ]
          },
          "metadata": {}
        },
        {
          "output_type": "execute_result",
          "data": {
            "text/plain": [
              "TrainOutput(global_step=168, training_loss=0.00026865265369581593, metrics={'train_runtime': 4980.9159, 'train_samples_per_second': 4.363, 'train_steps_per_second': 0.034, 'total_flos': 0.0, 'train_loss': 0.00026865265369581593})"
            ]
          },
          "metadata": {},
          "execution_count": 16
        }
      ],
      "source": [
        "trainer.train()"
      ]
    },
    {
      "cell_type": "markdown",
      "source": [
        "## 5. Continuing the Learning Journey 🧑‍🎓️"
      ],
      "metadata": {
        "id": "Uh4inHFUFIku"
      }
    },
    {
      "cell_type": "code",
      "source": [],
      "metadata": {
        "id": "eOVptTzMFK_4"
      },
      "execution_count": null,
      "outputs": []
    }
  ],
  "metadata": {
    "accelerator": "GPU",
    "colab": {
      "gpuType": "A100",
      "machine_shape": "hm",
      "provenance": []
    },
    "kernelspec": {
      "display_name": "Python 3",
      "name": "python3"
    },
    "language_info": {
      "name": "python"
    },
    "widgets": {
      "application/vnd.jupyter.widget-state+json": {
        "5ee58ecdafe4436387910282e0fb0206": {
          "model_module": "@jupyter-widgets/controls",
          "model_name": "VBoxModel",
          "model_module_version": "1.5.0",
          "state": {
            "_dom_classes": [],
            "_model_module": "@jupyter-widgets/controls",
            "_model_module_version": "1.5.0",
            "_model_name": "VBoxModel",
            "_view_count": null,
            "_view_module": "@jupyter-widgets/controls",
            "_view_module_version": "1.5.0",
            "_view_name": "VBoxView",
            "box_style": "",
            "children": [],
            "layout": "IPY_MODEL_1deb7e28b257409f8c796ea39d6303e3"
          }
        },
        "4cb32a08f40b4f2a81aabc951ccd702e": {
          "model_module": "@jupyter-widgets/controls",
          "model_name": "HTMLModel",
          "model_module_version": "1.5.0",
          "state": {
            "_dom_classes": [],
            "_model_module": "@jupyter-widgets/controls",
            "_model_module_version": "1.5.0",
            "_model_name": "HTMLModel",
            "_view_count": null,
            "_view_module": "@jupyter-widgets/controls",
            "_view_module_version": "1.5.0",
            "_view_name": "HTMLView",
            "description": "",
            "description_tooltip": null,
            "layout": "IPY_MODEL_92f9a824927343f3918bfb5bc3db5012",
            "placeholder": "​",
            "style": "IPY_MODEL_188348209c564fdb91d710ab5422cf0c",
            "value": "<center> <img\nsrc=https://huggingface.co/front/assets/huggingface_logo-noborder.svg\nalt='Hugging Face'> <br> Copy a token from <a\nhref=\"https://huggingface.co/settings/tokens\" target=\"_blank\">your Hugging Face\ntokens page</a> and paste it below. <br> Immediately click login after copying\nyour token or it might be stored in plain text in this notebook file. </center>"
          }
        },
        "1bd6e8c2bcc34d87a1078768e4c90341": {
          "model_module": "@jupyter-widgets/controls",
          "model_name": "PasswordModel",
          "model_module_version": "1.5.0",
          "state": {
            "_dom_classes": [],
            "_model_module": "@jupyter-widgets/controls",
            "_model_module_version": "1.5.0",
            "_model_name": "PasswordModel",
            "_view_count": null,
            "_view_module": "@jupyter-widgets/controls",
            "_view_module_version": "1.5.0",
            "_view_name": "PasswordView",
            "continuous_update": true,
            "description": "Token:",
            "description_tooltip": null,
            "disabled": false,
            "layout": "IPY_MODEL_68e68c95e0e744d199890ea61a878a69",
            "placeholder": "​",
            "style": "IPY_MODEL_8bf6761385cd43088f3337f93218cf6d",
            "value": ""
          }
        },
        "5d6e6af09b5b417289a280d28e887179": {
          "model_module": "@jupyter-widgets/controls",
          "model_name": "CheckboxModel",
          "model_module_version": "1.5.0",
          "state": {
            "_dom_classes": [],
            "_model_module": "@jupyter-widgets/controls",
            "_model_module_version": "1.5.0",
            "_model_name": "CheckboxModel",
            "_view_count": null,
            "_view_module": "@jupyter-widgets/controls",
            "_view_module_version": "1.5.0",
            "_view_name": "CheckboxView",
            "description": "Add token as git credential?",
            "description_tooltip": null,
            "disabled": false,
            "indent": true,
            "layout": "IPY_MODEL_0223ba3e5235405a81f28b70e22d0e59",
            "style": "IPY_MODEL_744dd10249b941a8ac9e0a04adcc0c15",
            "value": true
          }
        },
        "580134670c744ac68b2ab27ea6ed1166": {
          "model_module": "@jupyter-widgets/controls",
          "model_name": "ButtonModel",
          "model_module_version": "1.5.0",
          "state": {
            "_dom_classes": [],
            "_model_module": "@jupyter-widgets/controls",
            "_model_module_version": "1.5.0",
            "_model_name": "ButtonModel",
            "_view_count": null,
            "_view_module": "@jupyter-widgets/controls",
            "_view_module_version": "1.5.0",
            "_view_name": "ButtonView",
            "button_style": "",
            "description": "Login",
            "disabled": false,
            "icon": "",
            "layout": "IPY_MODEL_87d0406439424f2f841b7dd982b4f597",
            "style": "IPY_MODEL_f305d87e269a4f4faf86a4eb93949e0b",
            "tooltip": ""
          }
        },
        "5bb19febcfc041078bf8586e28a9ffdd": {
          "model_module": "@jupyter-widgets/controls",
          "model_name": "HTMLModel",
          "model_module_version": "1.5.0",
          "state": {
            "_dom_classes": [],
            "_model_module": "@jupyter-widgets/controls",
            "_model_module_version": "1.5.0",
            "_model_name": "HTMLModel",
            "_view_count": null,
            "_view_module": "@jupyter-widgets/controls",
            "_view_module_version": "1.5.0",
            "_view_name": "HTMLView",
            "description": "",
            "description_tooltip": null,
            "layout": "IPY_MODEL_d5792f71ea984ddba7605de0a28f8f26",
            "placeholder": "​",
            "style": "IPY_MODEL_25dfeb2166fc4fbcb6c9e6145fed8223",
            "value": "\n<b>Pro Tip:</b> If you don't already have one, you can create a dedicated\n'notebooks' token with 'write' access, that you can then easily reuse for all\nnotebooks. </center>"
          }
        },
        "1deb7e28b257409f8c796ea39d6303e3": {
          "model_module": "@jupyter-widgets/base",
          "model_name": "LayoutModel",
          "model_module_version": "1.2.0",
          "state": {
            "_model_module": "@jupyter-widgets/base",
            "_model_module_version": "1.2.0",
            "_model_name": "LayoutModel",
            "_view_count": null,
            "_view_module": "@jupyter-widgets/base",
            "_view_module_version": "1.2.0",
            "_view_name": "LayoutView",
            "align_content": null,
            "align_items": "center",
            "align_self": null,
            "border": null,
            "bottom": null,
            "display": "flex",
            "flex": null,
            "flex_flow": "column",
            "grid_area": null,
            "grid_auto_columns": null,
            "grid_auto_flow": null,
            "grid_auto_rows": null,
            "grid_column": null,
            "grid_gap": null,
            "grid_row": null,
            "grid_template_areas": null,
            "grid_template_columns": null,
            "grid_template_rows": null,
            "height": null,
            "justify_content": null,
            "justify_items": null,
            "left": null,
            "margin": null,
            "max_height": null,
            "max_width": null,
            "min_height": null,
            "min_width": null,
            "object_fit": null,
            "object_position": null,
            "order": null,
            "overflow": null,
            "overflow_x": null,
            "overflow_y": null,
            "padding": null,
            "right": null,
            "top": null,
            "visibility": null,
            "width": "50%"
          }
        },
        "92f9a824927343f3918bfb5bc3db5012": {
          "model_module": "@jupyter-widgets/base",
          "model_name": "LayoutModel",
          "model_module_version": "1.2.0",
          "state": {
            "_model_module": "@jupyter-widgets/base",
            "_model_module_version": "1.2.0",
            "_model_name": "LayoutModel",
            "_view_count": null,
            "_view_module": "@jupyter-widgets/base",
            "_view_module_version": "1.2.0",
            "_view_name": "LayoutView",
            "align_content": null,
            "align_items": null,
            "align_self": null,
            "border": null,
            "bottom": null,
            "display": null,
            "flex": null,
            "flex_flow": null,
            "grid_area": null,
            "grid_auto_columns": null,
            "grid_auto_flow": null,
            "grid_auto_rows": null,
            "grid_column": null,
            "grid_gap": null,
            "grid_row": null,
            "grid_template_areas": null,
            "grid_template_columns": null,
            "grid_template_rows": null,
            "height": null,
            "justify_content": null,
            "justify_items": null,
            "left": null,
            "margin": null,
            "max_height": null,
            "max_width": null,
            "min_height": null,
            "min_width": null,
            "object_fit": null,
            "object_position": null,
            "order": null,
            "overflow": null,
            "overflow_x": null,
            "overflow_y": null,
            "padding": null,
            "right": null,
            "top": null,
            "visibility": null,
            "width": null
          }
        },
        "188348209c564fdb91d710ab5422cf0c": {
          "model_module": "@jupyter-widgets/controls",
          "model_name": "DescriptionStyleModel",
          "model_module_version": "1.5.0",
          "state": {
            "_model_module": "@jupyter-widgets/controls",
            "_model_module_version": "1.5.0",
            "_model_name": "DescriptionStyleModel",
            "_view_count": null,
            "_view_module": "@jupyter-widgets/base",
            "_view_module_version": "1.2.0",
            "_view_name": "StyleView",
            "description_width": ""
          }
        },
        "68e68c95e0e744d199890ea61a878a69": {
          "model_module": "@jupyter-widgets/base",
          "model_name": "LayoutModel",
          "model_module_version": "1.2.0",
          "state": {
            "_model_module": "@jupyter-widgets/base",
            "_model_module_version": "1.2.0",
            "_model_name": "LayoutModel",
            "_view_count": null,
            "_view_module": "@jupyter-widgets/base",
            "_view_module_version": "1.2.0",
            "_view_name": "LayoutView",
            "align_content": null,
            "align_items": null,
            "align_self": null,
            "border": null,
            "bottom": null,
            "display": null,
            "flex": null,
            "flex_flow": null,
            "grid_area": null,
            "grid_auto_columns": null,
            "grid_auto_flow": null,
            "grid_auto_rows": null,
            "grid_column": null,
            "grid_gap": null,
            "grid_row": null,
            "grid_template_areas": null,
            "grid_template_columns": null,
            "grid_template_rows": null,
            "height": null,
            "justify_content": null,
            "justify_items": null,
            "left": null,
            "margin": null,
            "max_height": null,
            "max_width": null,
            "min_height": null,
            "min_width": null,
            "object_fit": null,
            "object_position": null,
            "order": null,
            "overflow": null,
            "overflow_x": null,
            "overflow_y": null,
            "padding": null,
            "right": null,
            "top": null,
            "visibility": null,
            "width": null
          }
        },
        "8bf6761385cd43088f3337f93218cf6d": {
          "model_module": "@jupyter-widgets/controls",
          "model_name": "DescriptionStyleModel",
          "model_module_version": "1.5.0",
          "state": {
            "_model_module": "@jupyter-widgets/controls",
            "_model_module_version": "1.5.0",
            "_model_name": "DescriptionStyleModel",
            "_view_count": null,
            "_view_module": "@jupyter-widgets/base",
            "_view_module_version": "1.2.0",
            "_view_name": "StyleView",
            "description_width": ""
          }
        },
        "0223ba3e5235405a81f28b70e22d0e59": {
          "model_module": "@jupyter-widgets/base",
          "model_name": "LayoutModel",
          "model_module_version": "1.2.0",
          "state": {
            "_model_module": "@jupyter-widgets/base",
            "_model_module_version": "1.2.0",
            "_model_name": "LayoutModel",
            "_view_count": null,
            "_view_module": "@jupyter-widgets/base",
            "_view_module_version": "1.2.0",
            "_view_name": "LayoutView",
            "align_content": null,
            "align_items": null,
            "align_self": null,
            "border": null,
            "bottom": null,
            "display": null,
            "flex": null,
            "flex_flow": null,
            "grid_area": null,
            "grid_auto_columns": null,
            "grid_auto_flow": null,
            "grid_auto_rows": null,
            "grid_column": null,
            "grid_gap": null,
            "grid_row": null,
            "grid_template_areas": null,
            "grid_template_columns": null,
            "grid_template_rows": null,
            "height": null,
            "justify_content": null,
            "justify_items": null,
            "left": null,
            "margin": null,
            "max_height": null,
            "max_width": null,
            "min_height": null,
            "min_width": null,
            "object_fit": null,
            "object_position": null,
            "order": null,
            "overflow": null,
            "overflow_x": null,
            "overflow_y": null,
            "padding": null,
            "right": null,
            "top": null,
            "visibility": null,
            "width": null
          }
        },
        "744dd10249b941a8ac9e0a04adcc0c15": {
          "model_module": "@jupyter-widgets/controls",
          "model_name": "DescriptionStyleModel",
          "model_module_version": "1.5.0",
          "state": {
            "_model_module": "@jupyter-widgets/controls",
            "_model_module_version": "1.5.0",
            "_model_name": "DescriptionStyleModel",
            "_view_count": null,
            "_view_module": "@jupyter-widgets/base",
            "_view_module_version": "1.2.0",
            "_view_name": "StyleView",
            "description_width": ""
          }
        },
        "87d0406439424f2f841b7dd982b4f597": {
          "model_module": "@jupyter-widgets/base",
          "model_name": "LayoutModel",
          "model_module_version": "1.2.0",
          "state": {
            "_model_module": "@jupyter-widgets/base",
            "_model_module_version": "1.2.0",
            "_model_name": "LayoutModel",
            "_view_count": null,
            "_view_module": "@jupyter-widgets/base",
            "_view_module_version": "1.2.0",
            "_view_name": "LayoutView",
            "align_content": null,
            "align_items": null,
            "align_self": null,
            "border": null,
            "bottom": null,
            "display": null,
            "flex": null,
            "flex_flow": null,
            "grid_area": null,
            "grid_auto_columns": null,
            "grid_auto_flow": null,
            "grid_auto_rows": null,
            "grid_column": null,
            "grid_gap": null,
            "grid_row": null,
            "grid_template_areas": null,
            "grid_template_columns": null,
            "grid_template_rows": null,
            "height": null,
            "justify_content": null,
            "justify_items": null,
            "left": null,
            "margin": null,
            "max_height": null,
            "max_width": null,
            "min_height": null,
            "min_width": null,
            "object_fit": null,
            "object_position": null,
            "order": null,
            "overflow": null,
            "overflow_x": null,
            "overflow_y": null,
            "padding": null,
            "right": null,
            "top": null,
            "visibility": null,
            "width": null
          }
        },
        "f305d87e269a4f4faf86a4eb93949e0b": {
          "model_module": "@jupyter-widgets/controls",
          "model_name": "ButtonStyleModel",
          "model_module_version": "1.5.0",
          "state": {
            "_model_module": "@jupyter-widgets/controls",
            "_model_module_version": "1.5.0",
            "_model_name": "ButtonStyleModel",
            "_view_count": null,
            "_view_module": "@jupyter-widgets/base",
            "_view_module_version": "1.2.0",
            "_view_name": "StyleView",
            "button_color": null,
            "font_weight": ""
          }
        },
        "d5792f71ea984ddba7605de0a28f8f26": {
          "model_module": "@jupyter-widgets/base",
          "model_name": "LayoutModel",
          "model_module_version": "1.2.0",
          "state": {
            "_model_module": "@jupyter-widgets/base",
            "_model_module_version": "1.2.0",
            "_model_name": "LayoutModel",
            "_view_count": null,
            "_view_module": "@jupyter-widgets/base",
            "_view_module_version": "1.2.0",
            "_view_name": "LayoutView",
            "align_content": null,
            "align_items": null,
            "align_self": null,
            "border": null,
            "bottom": null,
            "display": null,
            "flex": null,
            "flex_flow": null,
            "grid_area": null,
            "grid_auto_columns": null,
            "grid_auto_flow": null,
            "grid_auto_rows": null,
            "grid_column": null,
            "grid_gap": null,
            "grid_row": null,
            "grid_template_areas": null,
            "grid_template_columns": null,
            "grid_template_rows": null,
            "height": null,
            "justify_content": null,
            "justify_items": null,
            "left": null,
            "margin": null,
            "max_height": null,
            "max_width": null,
            "min_height": null,
            "min_width": null,
            "object_fit": null,
            "object_position": null,
            "order": null,
            "overflow": null,
            "overflow_x": null,
            "overflow_y": null,
            "padding": null,
            "right": null,
            "top": null,
            "visibility": null,
            "width": null
          }
        },
        "25dfeb2166fc4fbcb6c9e6145fed8223": {
          "model_module": "@jupyter-widgets/controls",
          "model_name": "DescriptionStyleModel",
          "model_module_version": "1.5.0",
          "state": {
            "_model_module": "@jupyter-widgets/controls",
            "_model_module_version": "1.5.0",
            "_model_name": "DescriptionStyleModel",
            "_view_count": null,
            "_view_module": "@jupyter-widgets/base",
            "_view_module_version": "1.2.0",
            "_view_name": "StyleView",
            "description_width": ""
          }
        },
        "5a9298a96fce40b29f6f5ca8e63053fa": {
          "model_module": "@jupyter-widgets/controls",
          "model_name": "LabelModel",
          "model_module_version": "1.5.0",
          "state": {
            "_dom_classes": [],
            "_model_module": "@jupyter-widgets/controls",
            "_model_module_version": "1.5.0",
            "_model_name": "LabelModel",
            "_view_count": null,
            "_view_module": "@jupyter-widgets/controls",
            "_view_module_version": "1.5.0",
            "_view_name": "LabelView",
            "description": "",
            "description_tooltip": null,
            "layout": "IPY_MODEL_b9702b7f6d5145bcb6039e3f63acf6b7",
            "placeholder": "​",
            "style": "IPY_MODEL_0efd4ea5eccc47489471b55615607416",
            "value": "Connecting..."
          }
        },
        "b9702b7f6d5145bcb6039e3f63acf6b7": {
          "model_module": "@jupyter-widgets/base",
          "model_name": "LayoutModel",
          "model_module_version": "1.2.0",
          "state": {
            "_model_module": "@jupyter-widgets/base",
            "_model_module_version": "1.2.0",
            "_model_name": "LayoutModel",
            "_view_count": null,
            "_view_module": "@jupyter-widgets/base",
            "_view_module_version": "1.2.0",
            "_view_name": "LayoutView",
            "align_content": null,
            "align_items": null,
            "align_self": null,
            "border": null,
            "bottom": null,
            "display": null,
            "flex": null,
            "flex_flow": null,
            "grid_area": null,
            "grid_auto_columns": null,
            "grid_auto_flow": null,
            "grid_auto_rows": null,
            "grid_column": null,
            "grid_gap": null,
            "grid_row": null,
            "grid_template_areas": null,
            "grid_template_columns": null,
            "grid_template_rows": null,
            "height": null,
            "justify_content": null,
            "justify_items": null,
            "left": null,
            "margin": null,
            "max_height": null,
            "max_width": null,
            "min_height": null,
            "min_width": null,
            "object_fit": null,
            "object_position": null,
            "order": null,
            "overflow": null,
            "overflow_x": null,
            "overflow_y": null,
            "padding": null,
            "right": null,
            "top": null,
            "visibility": null,
            "width": null
          }
        },
        "0efd4ea5eccc47489471b55615607416": {
          "model_module": "@jupyter-widgets/controls",
          "model_name": "DescriptionStyleModel",
          "model_module_version": "1.5.0",
          "state": {
            "_model_module": "@jupyter-widgets/controls",
            "_model_module_version": "1.5.0",
            "_model_name": "DescriptionStyleModel",
            "_view_count": null,
            "_view_module": "@jupyter-widgets/base",
            "_view_module_version": "1.2.0",
            "_view_name": "StyleView",
            "description_width": ""
          }
        },
        "4ccb25d6853741ee8286e392487b8502": {
          "model_module": "@jupyter-widgets/controls",
          "model_name": "HBoxModel",
          "model_module_version": "1.5.0",
          "state": {
            "_dom_classes": [],
            "_model_module": "@jupyter-widgets/controls",
            "_model_module_version": "1.5.0",
            "_model_name": "HBoxModel",
            "_view_count": null,
            "_view_module": "@jupyter-widgets/controls",
            "_view_module_version": "1.5.0",
            "_view_name": "HBoxView",
            "box_style": "",
            "children": [
              "IPY_MODEL_3b34c66459fe42f6ba70bc158962fd6a",
              "IPY_MODEL_1cd92e2058b24cb8b277ebe838973f06",
              "IPY_MODEL_62feec4d20fb488aa2d1c47fea099434"
            ],
            "layout": "IPY_MODEL_228096e8498d42d1b30c528f72e8c5dc"
          }
        },
        "3b34c66459fe42f6ba70bc158962fd6a": {
          "model_module": "@jupyter-widgets/controls",
          "model_name": "HTMLModel",
          "model_module_version": "1.5.0",
          "state": {
            "_dom_classes": [],
            "_model_module": "@jupyter-widgets/controls",
            "_model_module_version": "1.5.0",
            "_model_name": "HTMLModel",
            "_view_count": null,
            "_view_module": "@jupyter-widgets/controls",
            "_view_module_version": "1.5.0",
            "_view_name": "HTMLView",
            "description": "",
            "description_tooltip": null,
            "layout": "IPY_MODEL_5eb85d16842341d788353ddc802b5dc6",
            "placeholder": "​",
            "style": "IPY_MODEL_c4c0a5e0a4e1464a8f2d8c815f679dd6",
            "value": "adapter_model.safetensors: 100%"
          }
        },
        "1cd92e2058b24cb8b277ebe838973f06": {
          "model_module": "@jupyter-widgets/controls",
          "model_name": "FloatProgressModel",
          "model_module_version": "1.5.0",
          "state": {
            "_dom_classes": [],
            "_model_module": "@jupyter-widgets/controls",
            "_model_module_version": "1.5.0",
            "_model_name": "FloatProgressModel",
            "_view_count": null,
            "_view_module": "@jupyter-widgets/controls",
            "_view_module_version": "1.5.0",
            "_view_name": "ProgressView",
            "bar_style": "success",
            "description": "",
            "description_tooltip": null,
            "layout": "IPY_MODEL_c13037e814f943cba369b734b019a625",
            "max": 2175168,
            "min": 0,
            "orientation": "horizontal",
            "style": "IPY_MODEL_f3a07c575ec544a090598e19075ddde1",
            "value": 2175168
          }
        },
        "62feec4d20fb488aa2d1c47fea099434": {
          "model_module": "@jupyter-widgets/controls",
          "model_name": "HTMLModel",
          "model_module_version": "1.5.0",
          "state": {
            "_dom_classes": [],
            "_model_module": "@jupyter-widgets/controls",
            "_model_module_version": "1.5.0",
            "_model_name": "HTMLModel",
            "_view_count": null,
            "_view_module": "@jupyter-widgets/controls",
            "_view_module_version": "1.5.0",
            "_view_name": "HTMLView",
            "description": "",
            "description_tooltip": null,
            "layout": "IPY_MODEL_adbc030e3ef04134bfc58572ec52a523",
            "placeholder": "​",
            "style": "IPY_MODEL_b9c9d21f977148d88ca70ae9041580de",
            "value": " 2.18M/2.18M [00:00&lt;00:00, 24.1MB/s]"
          }
        },
        "228096e8498d42d1b30c528f72e8c5dc": {
          "model_module": "@jupyter-widgets/base",
          "model_name": "LayoutModel",
          "model_module_version": "1.2.0",
          "state": {
            "_model_module": "@jupyter-widgets/base",
            "_model_module_version": "1.2.0",
            "_model_name": "LayoutModel",
            "_view_count": null,
            "_view_module": "@jupyter-widgets/base",
            "_view_module_version": "1.2.0",
            "_view_name": "LayoutView",
            "align_content": null,
            "align_items": null,
            "align_self": null,
            "border": null,
            "bottom": null,
            "display": null,
            "flex": null,
            "flex_flow": null,
            "grid_area": null,
            "grid_auto_columns": null,
            "grid_auto_flow": null,
            "grid_auto_rows": null,
            "grid_column": null,
            "grid_gap": null,
            "grid_row": null,
            "grid_template_areas": null,
            "grid_template_columns": null,
            "grid_template_rows": null,
            "height": null,
            "justify_content": null,
            "justify_items": null,
            "left": null,
            "margin": null,
            "max_height": null,
            "max_width": null,
            "min_height": null,
            "min_width": null,
            "object_fit": null,
            "object_position": null,
            "order": null,
            "overflow": null,
            "overflow_x": null,
            "overflow_y": null,
            "padding": null,
            "right": null,
            "top": null,
            "visibility": null,
            "width": null
          }
        },
        "5eb85d16842341d788353ddc802b5dc6": {
          "model_module": "@jupyter-widgets/base",
          "model_name": "LayoutModel",
          "model_module_version": "1.2.0",
          "state": {
            "_model_module": "@jupyter-widgets/base",
            "_model_module_version": "1.2.0",
            "_model_name": "LayoutModel",
            "_view_count": null,
            "_view_module": "@jupyter-widgets/base",
            "_view_module_version": "1.2.0",
            "_view_name": "LayoutView",
            "align_content": null,
            "align_items": null,
            "align_self": null,
            "border": null,
            "bottom": null,
            "display": null,
            "flex": null,
            "flex_flow": null,
            "grid_area": null,
            "grid_auto_columns": null,
            "grid_auto_flow": null,
            "grid_auto_rows": null,
            "grid_column": null,
            "grid_gap": null,
            "grid_row": null,
            "grid_template_areas": null,
            "grid_template_columns": null,
            "grid_template_rows": null,
            "height": null,
            "justify_content": null,
            "justify_items": null,
            "left": null,
            "margin": null,
            "max_height": null,
            "max_width": null,
            "min_height": null,
            "min_width": null,
            "object_fit": null,
            "object_position": null,
            "order": null,
            "overflow": null,
            "overflow_x": null,
            "overflow_y": null,
            "padding": null,
            "right": null,
            "top": null,
            "visibility": null,
            "width": null
          }
        },
        "c4c0a5e0a4e1464a8f2d8c815f679dd6": {
          "model_module": "@jupyter-widgets/controls",
          "model_name": "DescriptionStyleModel",
          "model_module_version": "1.5.0",
          "state": {
            "_model_module": "@jupyter-widgets/controls",
            "_model_module_version": "1.5.0",
            "_model_name": "DescriptionStyleModel",
            "_view_count": null,
            "_view_module": "@jupyter-widgets/base",
            "_view_module_version": "1.2.0",
            "_view_name": "StyleView",
            "description_width": ""
          }
        },
        "c13037e814f943cba369b734b019a625": {
          "model_module": "@jupyter-widgets/base",
          "model_name": "LayoutModel",
          "model_module_version": "1.2.0",
          "state": {
            "_model_module": "@jupyter-widgets/base",
            "_model_module_version": "1.2.0",
            "_model_name": "LayoutModel",
            "_view_count": null,
            "_view_module": "@jupyter-widgets/base",
            "_view_module_version": "1.2.0",
            "_view_name": "LayoutView",
            "align_content": null,
            "align_items": null,
            "align_self": null,
            "border": null,
            "bottom": null,
            "display": null,
            "flex": null,
            "flex_flow": null,
            "grid_area": null,
            "grid_auto_columns": null,
            "grid_auto_flow": null,
            "grid_auto_rows": null,
            "grid_column": null,
            "grid_gap": null,
            "grid_row": null,
            "grid_template_areas": null,
            "grid_template_columns": null,
            "grid_template_rows": null,
            "height": null,
            "justify_content": null,
            "justify_items": null,
            "left": null,
            "margin": null,
            "max_height": null,
            "max_width": null,
            "min_height": null,
            "min_width": null,
            "object_fit": null,
            "object_position": null,
            "order": null,
            "overflow": null,
            "overflow_x": null,
            "overflow_y": null,
            "padding": null,
            "right": null,
            "top": null,
            "visibility": null,
            "width": null
          }
        },
        "f3a07c575ec544a090598e19075ddde1": {
          "model_module": "@jupyter-widgets/controls",
          "model_name": "ProgressStyleModel",
          "model_module_version": "1.5.0",
          "state": {
            "_model_module": "@jupyter-widgets/controls",
            "_model_module_version": "1.5.0",
            "_model_name": "ProgressStyleModel",
            "_view_count": null,
            "_view_module": "@jupyter-widgets/base",
            "_view_module_version": "1.2.0",
            "_view_name": "StyleView",
            "bar_color": null,
            "description_width": ""
          }
        },
        "adbc030e3ef04134bfc58572ec52a523": {
          "model_module": "@jupyter-widgets/base",
          "model_name": "LayoutModel",
          "model_module_version": "1.2.0",
          "state": {
            "_model_module": "@jupyter-widgets/base",
            "_model_module_version": "1.2.0",
            "_model_name": "LayoutModel",
            "_view_count": null,
            "_view_module": "@jupyter-widgets/base",
            "_view_module_version": "1.2.0",
            "_view_name": "LayoutView",
            "align_content": null,
            "align_items": null,
            "align_self": null,
            "border": null,
            "bottom": null,
            "display": null,
            "flex": null,
            "flex_flow": null,
            "grid_area": null,
            "grid_auto_columns": null,
            "grid_auto_flow": null,
            "grid_auto_rows": null,
            "grid_column": null,
            "grid_gap": null,
            "grid_row": null,
            "grid_template_areas": null,
            "grid_template_columns": null,
            "grid_template_rows": null,
            "height": null,
            "justify_content": null,
            "justify_items": null,
            "left": null,
            "margin": null,
            "max_height": null,
            "max_width": null,
            "min_height": null,
            "min_width": null,
            "object_fit": null,
            "object_position": null,
            "order": null,
            "overflow": null,
            "overflow_x": null,
            "overflow_y": null,
            "padding": null,
            "right": null,
            "top": null,
            "visibility": null,
            "width": null
          }
        },
        "b9c9d21f977148d88ca70ae9041580de": {
          "model_module": "@jupyter-widgets/controls",
          "model_name": "DescriptionStyleModel",
          "model_module_version": "1.5.0",
          "state": {
            "_model_module": "@jupyter-widgets/controls",
            "_model_module_version": "1.5.0",
            "_model_name": "DescriptionStyleModel",
            "_view_count": null,
            "_view_module": "@jupyter-widgets/base",
            "_view_module_version": "1.2.0",
            "_view_name": "StyleView",
            "description_width": ""
          }
        }
      }
    }
  },
  "nbformat": 4,
  "nbformat_minor": 0
}